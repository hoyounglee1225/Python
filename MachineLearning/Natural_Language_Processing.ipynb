{
 "cells": [
  {
   "cell_type": "markdown",
   "metadata": {},
   "source": [
    "# 자연어 처리"
   ]
  },
  {
   "cell_type": "markdown",
   "metadata": {},
   "source": [
    "## 공통 코드"
   ]
  },
  {
   "cell_type": "code",
   "execution_count": 1,
   "metadata": {},
   "outputs": [],
   "source": [
    "import sys\n",
    "\n",
    "# 사이킷런 ≥0.20 필수\n",
    "import sklearn\n",
    "\n",
    "# 공통 모듈 임포트\n",
    "import numpy as np\n",
    "import pandas as pd\n",
    "import os\n",
    "\n",
    "# 노트북 실행 결과를 동일하게 유지하기 위해\n",
    "np.random.seed(42)\n",
    "\n",
    "# 깔끔한 그래프 출력을 위해\n",
    "%matplotlib inline\n",
    "import matplotlib as mpl\n",
    "import matplotlib.pyplot as plt\n",
    "mpl.rc('axes', labelsize=14)\n",
    "mpl.rc('xtick', labelsize=12)\n",
    "mpl.rc('ytick', labelsize=12)\n",
    "\n",
    "import platform\n",
    "from matplotlib import font_manager, rc\n",
    "\n",
    "#매킨토시의 경우\n",
    "if platform.system() == 'Darwin':\n",
    "    rc('font', family='AppleGothic')\n",
    "#윈도우의 경우\n",
    "elif platform.system() == 'Windows':\n",
    "    font_name = font_manager.FontProperties(fname=\"c:/Windows/Fonts/malgun.ttf\").get_name()\n",
    "    rc('font', family=font_name)\n",
    "\n",
    "mpl.rcParams['axes.unicode_minus'] = False\n",
    "\n",
    "# 그림을 저장할 위치\n",
    "PROJECT_ROOT_DIR = \".\"\n",
    "CHAPTER_ID = \"natural_language_processing\"\n",
    "IMAGES_PATH = os.path.join(PROJECT_ROOT_DIR, \"images\", CHAPTER_ID)\n",
    "os.makedirs(IMAGES_PATH, exist_ok=True)\n",
    "\n",
    "def save_fig(fig_id, tight_layout=True, fig_extension=\"png\", resolution=300):\n",
    "    path = os.path.join(IMAGES_PATH, fig_id + \".\" + fig_extension)\n",
    "    print(\"그림 저장:\", fig_id)\n",
    "    if tight_layout:\n",
    "        plt.tight_layout()\n",
    "    plt.savefig(path, format=fig_extension, dpi=resolution)\n",
    "    \n",
    "        \n",
    "import warnings\n",
    "warnings.filterwarnings(action='ignore')"
   ]
  },
  {
   "cell_type": "markdown",
   "metadata": {},
   "source": [
    "## 텍스트 전처리"
   ]
  },
  {
   "cell_type": "markdown",
   "metadata": {},
   "source": [
    "### 문장 토큰화"
   ]
  },
  {
   "cell_type": "code",
   "execution_count": 2,
   "metadata": {},
   "outputs": [
    {
     "name": "stdout",
     "output_type": "stream",
     "text": [
      "<class 'list'> 3\n",
      "['The Matrix is everywhere its all around us, here even in this room.', 'You can see it out your window or on your television.', 'You feel it when you go to work, or go to church or pay your taxes.']\n"
     ]
    }
   ],
   "source": [
    "from nltk import sent_tokenize\n",
    "#import nltk\n",
    "#nltk.download('punkt')\n",
    "\n",
    "text_sample = 'The Matrix is everywhere its all around us, here even in this room. \\\n",
    "               You can see it out your window or on your television. \\\n",
    "               You feel it when you go to work, or go to church or pay your taxes.'\n",
    "sentences = sent_tokenize(text=text_sample)\n",
    "print(type(sentences),len(sentences))\n",
    "print(sentences)"
   ]
  },
  {
   "cell_type": "markdown",
   "metadata": {},
   "source": [
    "### 단어 토큰화"
   ]
  },
  {
   "cell_type": "code",
   "execution_count": 3,
   "metadata": {},
   "outputs": [
    {
     "name": "stdout",
     "output_type": "stream",
     "text": [
      "<class 'list'> 15\n",
      "['The', 'Matrix', 'is', 'everywhere', 'its', 'all', 'around', 'us', ',', 'here', 'even', 'in', 'this', 'room', '.']\n"
     ]
    }
   ],
   "source": [
    "from nltk import word_tokenize\n",
    "\n",
    "sentence = \"The Matrix is everywhere its all around us, here even in this room.\"\n",
    "words = word_tokenize(sentence)\n",
    "print(type(words), len(words))\n",
    "print(words)"
   ]
  },
  {
   "cell_type": "markdown",
   "metadata": {},
   "source": [
    "### 문장 및 단어 토큰화"
   ]
  },
  {
   "cell_type": "code",
   "execution_count": 4,
   "metadata": {},
   "outputs": [
    {
     "name": "stdout",
     "output_type": "stream",
     "text": [
      "<class 'list'> 3\n",
      "[['The', 'Matrix', 'is', 'everywhere', 'its', 'all', 'around', 'us', ',', 'here', 'even', 'in', 'this', 'room', '.'], ['You', 'can', 'see', 'it', 'out', 'your', 'window', 'or', 'on', 'your', 'television', '.'], ['You', 'feel', 'it', 'when', 'you', 'go', 'to', 'work', ',', 'or', 'go', 'to', 'church', 'or', 'pay', 'your', 'taxes', '.']]\n"
     ]
    }
   ],
   "source": [
    "from nltk import word_tokenize, sent_tokenize\n",
    "\n",
    "#여러개의 문장으로 된 입력 데이터를 문장별로 단어 토큰화 만드는 함수 생성\n",
    "def tokenize_text(text):\n",
    "    \n",
    "    # 문장별로 분리 토큰\n",
    "    sentences = sent_tokenize(text)\n",
    "    # 분리된 문장별 단어 토큰화\n",
    "    word_tokens = [word_tokenize(sentence) for sentence in sentences]\n",
    "    return word_tokens\n",
    "\n",
    "#여러 문장들에 대해 문장별 단어 토큰화 수행. \n",
    "word_tokens = tokenize_text(text_sample)\n",
    "print(type(word_tokens),len(word_tokens))\n",
    "print(word_tokens)"
   ]
  },
  {
   "cell_type": "markdown",
   "metadata": {},
   "source": [
    "### 불용어 확인"
   ]
  },
  {
   "cell_type": "code",
   "execution_count": 5,
   "metadata": {},
   "outputs": [
    {
     "name": "stdout",
     "output_type": "stream",
     "text": [
      "영어 stop words 갯수: 179\n",
      "['i', 'me', 'my', 'myself', 'we', 'our', 'ours', 'ourselves', 'you', \"you're\", \"you've\", \"you'll\", \"you'd\", 'your', 'yours', 'yourself', 'yourselves', 'he', 'him', 'his']\n"
     ]
    }
   ],
   "source": [
    "import nltk\n",
    "#nltk.download('stopwords')\n",
    "\n",
    "print('영어 stop words 갯수:',len(nltk.corpus.stopwords.words('english')))\n",
    "print(nltk.corpus.stopwords.words('english')[:20])"
   ]
  },
  {
   "cell_type": "markdown",
   "metadata": {},
   "source": [
    "### 불용어 제거"
   ]
  },
  {
   "cell_type": "code",
   "execution_count": 6,
   "metadata": {},
   "outputs": [
    {
     "name": "stdout",
     "output_type": "stream",
     "text": [
      "[['matrix', 'everywhere', 'around', 'us', ',', 'even', 'room', '.'], ['see', 'window', 'television', '.'], ['feel', 'go', 'work', ',', 'go', 'church', 'pay', 'taxes', '.']]\n"
     ]
    }
   ],
   "source": [
    "import nltk\n",
    "\n",
    "stopwords = nltk.corpus.stopwords.words('english')\n",
    "all_tokens = []\n",
    "# 위 예제의 3개의 문장별로 얻은 word_tokens list 에 대해 stop word 제거 Loop\n",
    "for sentence in word_tokens:\n",
    "    filtered_words=[]\n",
    "    # 개별 문장별로 tokenize된 sentence list에 대해 stop word 제거 Loop\n",
    "    for word in sentence:\n",
    "        #소문자로 모두 변환합니다. \n",
    "        word = word.lower()\n",
    "        # tokenize 된 개별 word가 stop words 들의 단어에 포함되지 않으면 word_tokens에 추가\n",
    "        if word not in stopwords:\n",
    "            filtered_words.append(word)\n",
    "    all_tokens.append(filtered_words)\n",
    "    \n",
    "print(all_tokens)"
   ]
  },
  {
   "cell_type": "markdown",
   "metadata": {},
   "source": [
    "### Stemming"
   ]
  },
  {
   "cell_type": "code",
   "execution_count": 7,
   "metadata": {},
   "outputs": [
    {
     "name": "stdout",
     "output_type": "stream",
     "text": [
      "work work work\n",
      "amus amus amus\n",
      "happy happiest\n",
      "fant fanciest\n"
     ]
    }
   ],
   "source": [
    "from nltk.stem import LancasterStemmer\n",
    "stemmer = LancasterStemmer()\n",
    "\n",
    "print(stemmer.stem('working'),stemmer.stem('works'),stemmer.stem('worked'))\n",
    "print(stemmer.stem('amusing'),stemmer.stem('amuses'),stemmer.stem('amused'))\n",
    "print(stemmer.stem('happier'),stemmer.stem('happiest'))\n",
    "print(stemmer.stem('fancier'),stemmer.stem('fanciest'))"
   ]
  },
  {
   "cell_type": "markdown",
   "metadata": {},
   "source": [
    "### Lemmatization"
   ]
  },
  {
   "cell_type": "code",
   "execution_count": 8,
   "metadata": {},
   "outputs": [
    {
     "name": "stderr",
     "output_type": "stream",
     "text": [
      "[nltk_data] Downloading package wordnet to /Users/adam/nltk_data...\n",
      "[nltk_data]   Package wordnet is already up-to-date!\n"
     ]
    },
    {
     "name": "stdout",
     "output_type": "stream",
     "text": [
      "amuse amuse amuse\n",
      "happy happy\n",
      "fancy fancy\n"
     ]
    }
   ],
   "source": [
    "from nltk.stem import WordNetLemmatizer\n",
    "import nltk\n",
    "nltk.download('wordnet')\n",
    "\n",
    "lemma = WordNetLemmatizer()\n",
    "print(lemma.lemmatize('amusing','v'),lemma.lemmatize('amuses','v'),lemma.lemmatize('amused','v'))\n",
    "print(lemma.lemmatize('happier','a'),lemma.lemmatize('happiest','a'))\n",
    "print(lemma.lemmatize('fancier','a'),lemma.lemmatize('fanciest','a'))"
   ]
  },
  {
   "cell_type": "markdown",
   "metadata": {},
   "source": [
    "### 배열 생성"
   ]
  },
  {
   "cell_type": "code",
   "execution_count": 9,
   "metadata": {},
   "outputs": [],
   "source": [
    "import numpy as np\n",
    "\n",
    "dense = np.array( [ [ 3, 0, 1 ], [0, 2, 0 ] ] )"
   ]
  },
  {
   "cell_type": "markdown",
   "metadata": {},
   "source": [
    "### COO 방식"
   ]
  },
  {
   "cell_type": "code",
   "execution_count": 10,
   "metadata": {},
   "outputs": [
    {
     "name": "stdout",
     "output_type": "stream",
     "text": [
      "  (0, 0)\t3\n",
      "  (0, 2)\t1\n",
      "  (1, 1)\t2\n",
      "[[3 0 1]\n",
      " [0 2 0]]\n"
     ]
    }
   ],
   "source": [
    "from scipy import sparse\n",
    "\n",
    "# 0 이 아닌 데이터 추출\n",
    "data = np.array([3,1,2])\n",
    "\n",
    "# 행 위치와 열 위치를 각각 array로 생성 \n",
    "row_pos = np.array([0,0,1])\n",
    "col_pos = np.array([0,2,1])\n",
    "\n",
    "# sparse 패키지의 coo_matrix를 이용하여 COO 형식으로 희소 행렬 생성\n",
    "sparse_coo = sparse.coo_matrix((data, (row_pos,col_pos)))\n",
    "print(sparse_coo)\n",
    "\n",
    "# 희소행렬로 변환\n",
    "print(sparse_coo.toarray())"
   ]
  },
  {
   "cell_type": "markdown",
   "metadata": {},
   "source": [
    "### CSR 방식"
   ]
  },
  {
   "cell_type": "code",
   "execution_count": 11,
   "metadata": {},
   "outputs": [
    {
     "name": "stdout",
     "output_type": "stream",
     "text": [
      "COO 변환된 데이터가 제대로 되었는지 다시 Dense로 출력 확인\n",
      "[[0 0 1 0 0 5]\n",
      " [1 4 0 3 2 5]\n",
      " [0 6 0 3 0 0]\n",
      " [2 0 0 0 0 0]\n",
      " [0 0 0 7 0 8]\n",
      " [1 0 0 0 0 0]]\n",
      "CSR 변환된 데이터가 제대로 되었는지 다시 Dense로 출력 확인\n",
      "[[0 0 1 0 0 5]\n",
      " [1 4 0 3 2 5]\n",
      " [0 6 0 3 0 0]\n",
      " [2 0 0 0 0 0]\n",
      " [0 0 0 7 0 8]\n",
      " [1 0 0 0 0 0]]\n"
     ]
    }
   ],
   "source": [
    "from scipy import sparse\n",
    "\n",
    "dense2 = np.array([[0,0,1,0,0,5],\n",
    "             [1,4,0,3,2,5],\n",
    "             [0,6,0,3,0,0],\n",
    "             [2,0,0,0,0,0],\n",
    "             [0,0,0,7,0,8],\n",
    "             [1,0,0,0,0,0]])\n",
    "\n",
    "# 0 이 아닌 데이터 추출\n",
    "data2 = np.array([1, 5, 1, 4, 3, 2, 5, 6, 3, 2, 7, 8, 1])\n",
    "\n",
    "# 행 위치와 열 위치를 각각 array로 생성 \n",
    "row_pos = np.array([0, 0, 1, 1, 1, 1, 1, 2, 2, 3, 4, 4, 5])\n",
    "col_pos = np.array([2, 5, 0, 1, 3, 4, 5, 1, 3, 0, 3, 5, 0])\n",
    "\n",
    "# COO 형식으로 변환 \n",
    "sparse_coo = sparse.coo_matrix((data2, (row_pos,col_pos)))\n",
    "\n",
    "# 행 위치 배열의 고유한 값들의 시작 위치 인덱스를 배열로 생성\n",
    "row_pos_ind = np.array([0, 2, 7, 9, 10, 12, 13])\n",
    "# CSR 형식으로 변환 \n",
    "sparse_csr = sparse.csr_matrix((data2, col_pos, row_pos_ind))\n",
    "\n",
    "print('COO 변환된 데이터가 제대로 되었는지 다시 Dense로 출력 확인')\n",
    "print(sparse_coo.toarray())\n",
    "print('CSR 변환된 데이터가 제대로 되었는지 다시 Dense로 출력 확인')\n",
    "print(sparse_csr.toarray())"
   ]
  },
  {
   "cell_type": "markdown",
   "metadata": {},
   "source": [
    "## 워드 클라우드"
   ]
  },
  {
   "cell_type": "markdown",
   "metadata": {},
   "source": [
    "### 한글 워드 클라우드"
   ]
  },
  {
   "cell_type": "code",
   "execution_count": 12,
   "metadata": {},
   "outputs": [
    {
     "name": "stdout",
     "output_type": "stream",
     "text": [
      "pygame 2.0.1 (SDL 2.0.14, Python 3.8.5)\n",
      "Hello from the pygame community. https://www.pygame.org/contribute.html\n",
      "[{'color': (103, 116, 171), 'size': 106, 'tag': '불고기'}, {'color': (62, 138, 42), 'size': 95, 'tag': '비빔밥'}, {'color': (70, 156, 57), 'size': 95, 'tag': '김치찌개'}, {'color': (175, 67, 208), 'size': 84, 'tag': '돈까스'}, {'color': (191, 13, 113), 'size': 84, 'tag': '순두부백반'}, {'color': (186, 160, 152), 'size': 84, 'tag': '짬뽕'}, {'color': (58, 153, 192), 'size': 84, 'tag': '짜장면'}, {'color': (170, 125, 195), 'size': 73, 'tag': '삼겹살'}, {'color': (219, 66, 195), 'size': 73, 'tag': '초밥'}, {'color': (190, 57, 30), 'size': 73, 'tag': '우동'}]\n"
     ]
    }
   ],
   "source": [
    "import pytagcloud\n",
    "import collections\n",
    "\n",
    "#데이터 생성\n",
    "nouns = list()\n",
    "nouns.extend(['불고기' for t in range(8)])\n",
    "nouns.extend(['비빔밥' for t in range(7)])\n",
    "nouns.extend(['김치찌개' for t in range(7)])\n",
    "nouns.extend(['돈까스' for t in range(6)])\n",
    "nouns.extend(['순두부백반' for t in range(6)])\n",
    "nouns.extend(['짬뽕' for t in range(6)])\n",
    "nouns.extend(['짜장면' for t in range(6)])\n",
    "nouns.extend(['삼겹살' for t in range(5)])\n",
    "nouns.extend(['초밥' for t in range(5)])\n",
    "nouns.extend(['우동' for t in range(5)])\n",
    "\n",
    "#데이터 개수 세기\n",
    "count = collections.Counter(nouns)\n",
    "tag2 = count.most_common(100)\n",
    "\n",
    "#태그 목록 만들기\n",
    "taglist = pytagcloud.make_tags(tag2, maxsize=50)\n",
    "print(taglist)\n",
    "\n",
    "#태그 클라우드 생성\n",
    "pytagcloud.create_tag_image(taglist, 'wordcloud.png', size=(900, 600), fontname='Korean', rectangular=False)"
   ]
  },
  {
   "cell_type": "markdown",
   "metadata": {},
   "source": [
    "### 태그 클라우드 출력"
   ]
  },
  {
   "cell_type": "code",
   "execution_count": 13,
   "metadata": {},
   "outputs": [
    {
     "data": {
      "image/png": "[encoded data removed]",
      "text/plain": [
       "<Figure size 432x288 with 1 Axes>"
      ]
     },
     "metadata": {
      "needs_background": "light"
     },
     "output_type": "display_data"
    }
   ],
   "source": [
    "import matplotlib.pyplot\n",
    "import matplotlib.image\n",
    "\n",
    "img = matplotlib.image.imread('wordcloud.png')\n",
    "imgplot = matplotlib.pyplot.imshow(img)\n",
    "matplotlib.pyplot.show()"
   ]
  },
  {
   "cell_type": "markdown",
   "metadata": {},
   "source": [
    "### 이미지 파일을 이용한 워드 클라우드"
   ]
  },
  {
   "cell_type": "markdown",
   "metadata": {},
   "source": [
    "#### 이미지 파일 출력"
   ]
  },
  {
   "cell_type": "code",
   "execution_count": 14,
   "metadata": {},
   "outputs": [
    {
     "data": {
      "image/png": "[encoded data removed]",
      "text/plain": [
       "<Figure size 576x576 with 1 Axes>"
      ]
     },
     "metadata": {
      "needs_background": "light"
     },
     "output_type": "display_data"
    }
   ],
   "source": [
    "from wordcloud import WordCloud, STOPWORDS\n",
    "from PIL import Image\n",
    "\n",
    "#이미지 출력\n",
    "mask = np.array(Image.open('./data/appleBar.png'))\n",
    "plt.figure(figsize=(8,8))\n",
    "plt.imshow(mask, cmap=plt.cm.gray, interpolation='bilinear')\n",
    "plt.axis('off')\n",
    "plt.show()"
   ]
  },
  {
   "cell_type": "markdown",
   "metadata": {},
   "source": [
    "#### 데이터 생성과 워드 클라우드 생성"
   ]
  },
  {
   "cell_type": "code",
   "execution_count": 15,
   "metadata": {},
   "outputs": [
    {
     "data": {
      "text/plain": [
       "{'C': 1.0,\n",
       " 'Python': 0.6666666666666666,\n",
       " 'JavaScript': 0.6666666666666666,\n",
       " 'Java': 0.5833333333333334,\n",
       " 'PHP': 0.5,\n",
       " 'Ruby': 0.25,\n",
       " 'Swift': 0.25,\n",
       " 'scala': 0.16666666666666666}"
      ]
     },
     "execution_count": 15,
     "metadata": {},
     "output_type": "execute_result"
    }
   ],
   "source": [
    "#문자열 생성\n",
    "text = ''\n",
    "for t in range(8):\n",
    "    text = text + 'Python '\n",
    "for t in range(7):\n",
    "    text = text + 'Java '\n",
    "for t in range(7):\n",
    "    text = text + 'C '\n",
    "for t in range(8):\n",
    "    text = text + 'JavaScript '\n",
    "for t in range(5):\n",
    "    text = text + 'C# '\n",
    "for t in range(3):\n",
    "    text = text + 'Ruby '\n",
    "for t in range(2):\n",
    "    text = text + 'scala '\n",
    "for t in range(6):\n",
    "    text = text + 'PHP '\n",
    "for t in range(3):\n",
    "    text = text + 'Swift '\n",
    "for t in range(3):\n",
    "    text = text + 'Kotlin ' \n",
    "\n",
    "#제거할 단어 설정\n",
    "stopwords = set(STOPWORDS)\n",
    "stopwords.add(\"Kotlin\")\n",
    "\n",
    "#워드 클라우드 만들기\n",
    "wordcloud = WordCloud(background_color='white', max_words=2000, mask=mask,\n",
    "              stopwords = stopwords)\n",
    "#특수문자를 무시하므로 C 와 C#을 동일한 단어로 판단\n",
    "wordcloud = wordcloud.generate(text)\n",
    "wordcloud.words_"
   ]
  },
  {
   "cell_type": "markdown",
   "metadata": {},
   "source": [
    "#### 화면 출력"
   ]
  },
  {
   "cell_type": "code",
   "execution_count": 16,
   "metadata": {},
   "outputs": [
    {
     "data": {
      "image/png": "[encoded data removed]",
      "text/plain": [
       "<Figure size 864x864 with 1 Axes>"
      ]
     },
     "metadata": {
      "needs_background": "light"
     },
     "output_type": "display_data"
    }
   ],
   "source": [
    "#워드 클라우드 화면 출력\n",
    "plt.figure(figsize=(12,12))\n",
    "plt.imshow(wordcloud, interpolation='bilinear')\n",
    "plt.axis('off')\n",
    "plt.show()"
   ]
  },
  {
   "cell_type": "markdown",
   "metadata": {},
   "source": [
    "### 한글 형태소 분석"
   ]
  },
  {
   "cell_type": "code",
   "execution_count": 17,
   "metadata": {},
   "outputs": [
    {
     "name": "stdout",
     "output_type": "stream",
     "text": [
      "['한국어의 문장 분석']\n",
      "['한국어', '단어', '분석']\n",
      "[('한국어', 'NNG'), ('의', 'JKG'), ('형태소', 'NNG'), ('분석', 'NNG')]\n",
      "==============================================\n",
      "['한국어', '단어별', '분석']\n",
      "['한국어', '의', '형태소', '분석']\n",
      "[('한국어', 'N'), ('의', 'J'), ('형태소', 'N'), ('분석', 'N')]\n",
      "==============================================\n",
      "['한국어', '단어', '별', '분석']\n",
      "['한국어', '의', '형태소', '분석']\n",
      "[('한국어', 'Noun'), ('의', 'Josa'), ('형태소', 'Noun'), ('분석', 'Noun')]\n"
     ]
    }
   ],
   "source": [
    "from konlpy.tag import Kkma\n",
    "kkma = Kkma()\n",
    "print(kkma.sentences('한국어의 문장 분석'))\n",
    "print(kkma.nouns('한국어의 단어별 분석'))\n",
    "print(kkma.pos('한국어의 형태소 분석'))\n",
    "\n",
    "print(\"==============================================\")\n",
    "from konlpy.tag import Hannanum\n",
    "hannanum = Hannanum()\n",
    "print(hannanum.nouns('한국어의 단어별 분석'))\n",
    "print(hannanum.morphs('한국어의 형태소 분석'))\n",
    "print(hannanum.pos('한국어의 형태소 분석'))\n",
    "\n",
    "print(\"==============================================\")\n",
    "from konlpy.tag import Twitter\n",
    "t = Twitter()\n",
    "print(t.nouns('한국어의 단어별 분석'))\n",
    "print(t.morphs('한국어의 형태소 분석'))\n",
    "print(t.pos('한국어의 형태소 분석'))"
   ]
  },
  {
   "cell_type": "markdown",
   "metadata": {},
   "source": [
    "### 동아일보 기사 검색을 이용한 워드 클라우드"
   ]
  },
  {
   "cell_type": "markdown",
   "metadata": {},
   "source": [
    "#### 기사 검색"
   ]
  },
  {
   "cell_type": "code",
   "execution_count": 18,
   "metadata": {},
   "outputs": [
    {
     "name": "stdout",
     "output_type": "stream",
     "text": [
      "검색어:박문석\n",
      "기사 건수: 9\n"
     ]
    }
   ],
   "source": [
    "from bs4 import BeautifulSoup\n",
    "import requests\n",
    "from urllib.parse import quote\n",
    "\n",
    "keyword = input('검색어:')\n",
    "target_URL = \"http://news.donga.com/search?p=1\" + '&query=' + quote(keyword) + '&check_news=1&more=1&sorting=3&search_date=1&range=3'\n",
    "source_code_from_URL = requests.get(target_URL)\n",
    "bs = BeautifulSoup(source_code_from_URL.text, 'html.parser')\n",
    "\n",
    "#기사 건수를 가져오기 위한 파싱\n",
    "cnt = bs.select(\"div.searchContWrap div.searchCont h2 span\")\n",
    "temp = cnt[0].getText().split(' ')\n",
    "count = int(temp[1])\n",
    "print(\"기사 건수:\",count) "
   ]
  },
  {
   "cell_type": "markdown",
   "metadata": {},
   "source": [
    "#### 읽은 기사 텍스트 파일에 저장"
   ]
  },
  {
   "cell_type": "code",
   "execution_count": 19,
   "metadata": {},
   "outputs": [
    {
     "name": "stdout",
     "output_type": "stream",
     "text": [
      "읽어올 기사의 개수:9\n"
     ]
    }
   ],
   "source": [
    "page_num = int(input(\"읽어올 기사의 개수:\")) / 15 + 1\n",
    "output_file = open(keyword + \".txt\", 'w', encoding=\"utf8\")\n",
    "\n",
    "for i in range(int(page_num)):\n",
    "    current_page_num = 1 + i * 15\n",
    "    target_URL = \"http://news.donga.com/search?p=\" + str(current_page_num) +  '&query=' + quote(\n",
    "        keyword) + '&check_news=1&more=1&sorting=3&search_date=1&range=3'\n",
    "    source_code_from_URL = requests.get(target_URL)\n",
    "    bs = BeautifulSoup(source_code_from_URL.text, 'html.parser')\n",
    "\n",
    "    for title in bs.find_all('p', 'tit'):\n",
    "        title_link = title.select('a')\n",
    "        article_URL = title_link[0]['href']\n",
    "        #print(article_URL)\n",
    "        source_code_from_url = requests.get(article_URL)\n",
    "        soup = BeautifulSoup(source_code_from_url.text, 'html.parser')\n",
    "        content_of_article = soup.select('div.article_txt')\n",
    "        for item in content_of_article:\n",
    "            string_item = str(item.find_all(text=True))\n",
    "            output_file.write(string_item)\n",
    "            \n",
    "output_file.close()"
   ]
  },
  {
   "cell_type": "markdown",
   "metadata": {},
   "source": [
    "#### 형태소 분석"
   ]
  },
  {
   "cell_type": "code",
   "execution_count": 20,
   "metadata": {},
   "outputs": [
    {
     "name": "stdout",
     "output_type": "stream",
     "text": [
      "['한국', '산업', '인력', '공단', '임용', '정직', '대전', '지역', '본부장', '엄', '주천', '승진', '급', '경남', '사장', '김동일', '경기', '북부', '김희선', '급', '감', '사실', '하필', '규', '무국', '장훈', '산업', '팀', '문승현', '학습', '운영', '상진', '외국인', '도입', '김호연', '글로벌', '협력', '양열', '서울', '센터', '이우진', '기술', '자격', '출제', '실', '유행', '석', '센터', '김동자', '서울', '동부', '지사', '주관', '경기', '유찬', '숙', '경북', '권', '형태', '경북', '동부', '이관구', '대전', '지역', '본부', '김준영', '전보', '급', '영기획', '실장', '최상', '건', '기술', '자격', '출제', '유', '자격', '혁신', '국장', '장덕', '호', '응용', '공학', '팀', '김재', '건설', '환경', '홍', '정혁', '글로벌', '숙련', '기술', '진흥', '원장', '전화', '익', '서울', '지역', '본부장', '김병주', '부산', '변', '무장', '강원', '동부', '사장', '박영환', '경북', '동부', '김우현', '경기', '동부', '박찬', '섭', '전남', '서부', '이담', '철', '서울', '지역', '본부', '직업', '능력', '개발', '팀', '손규일', '부산', '직업', '능력', '개발', '동영', '부산', '지역', '학습', '센터', '김현', '생', '대구', '직업', '능력', '개발', '팀', '박종규', '중부', '휘', '광주', '창기', '대전', '김균', '현', '급', '고객', '센터', '김', '동구', '미래', '전략', '팀', '김정우', '인재', '개발', '고재', '철', '지역', '지원', '윤', '재연', '사업', '훈련', '지원', '영', '컨소시엄', '지원', '박동준', '직업', '방송', '매체', '이채', '욱', '학습', '확산', '홍제', '용', '자격', '혁신', '승식', '생활과학', '용', '사회', '문화', '김홍', '달', '전문', '자격', '운영', '이병욱', '과정', '평가', '기준', '창열', '외국인', '보험', '교육', '최석훈', '해외', '취업', '알선', '이태형', '개발', '박', '규', '활용', '최용', '범', '지원', '정형', '철', '숙련', '기술', '총괄', '대형', '기능', '경기', '권', '상원', '글로벌', '지원', '서성열', '기획운영단', '김진실', '서울', '동부', '지사', '김동호', '서울', '남부', '전용덕', '강원', '김유진', '강원', '동부', '이기준', '박문', '석', '부산', '남부', '이동석', '민수영', '경남', '창성', '박교', '울산', '박태', '오', '경북', '장재', '원기', '경북', '동부', '최준희', '경기', '윤수', '채경수', '경기', '북부', '김기우', '경기', '동부', '문병', '돈', '이철민', '전북', '창주', '김', '주', '송수', '전남', '노상', '석', '최진규', '전남', '서부', '김운식', '김용무', '충북', '이명', '충남', '김종석', '서울', '지역', '본부', '김', '병천', '대구', '박종호', '송성근', '광주', '임기', '대전', '변상', '길', '태국', '센터', '임승묵', '캄보디아', '박태훈', '네팔', '김기욱', '몽골', '김성은', '방글라데시', '임충', '키르기스스탄', '이경희', '창', '기사', '추천', '인사', '한국', '산업', '인력', '공단', '베스트', '추천', '뉴스', '정권', '권력', '사유화', '집권', '연장', '통한', '국민', '약탈', '전문', '송영길', '오죽', '민주당', '지지도', '윤석열', '부인', '내', '유흥주점', '접객', '기', '파일', '분통', '송평', '칼럼', '자영', '업자', '나라', '나라', '모습', '윤석열', '사람', '현직', '의원', '명', '누구', '서민', '인사', '수석', '책임', '주군', '한국', '중부', '발전', '감', '사실', '감사', '총괄', '팀', '김정환', '센터', '정보보안', '담당', '진규', '글로벌', '전략', '실', '사업', '총괄', '팀', '유병육', '사업', '금융', '담당', '유민수', '사업', '운영', '팀', '이성재', '기획처', '전략기획', '팀', '박익', '규', '대외협력', '여창', '규', '재무', '예산', '황', '장용', '회계', '결산', '담당', '김경수', '처', '조직', '인사', '팀', '최', '중창', '연료', '자원', '이종국', '연료', '구매', '담당', '박', '경우', '발전', '처', '안전', '운영', '팀', '정승교', '동반성', '추진', '이호', '태', '건설', '처', '이윤', '덕', '기술', '팀', '하관', '호', '사옥', '건설', '실장', '재순', '담당', '이병훈', '보령', '화', '본부', '연료', '팀', '홍훈식', '보령', '화', '본부', '실', '총무', '기획', '이정주', '자재', '구매', '이정', '균', '지역', '협력', '정', '돌', '기술', '지원', '실', '환경', '관리', '이정열', '민원', '담당', '동호', '시설', '관리', '팀', '임', '석', '기술', '전문', '달재', '제', '발전소', '발전', '운영', '실장', '최영일', '발전', '운영', '배상', '구', '보일러', '팀', '배상', '구', '터빈', '함광영', '제', '발전소', '팀', '임철규', '화학', '기술', '박원규', '복합', '발전소', '기계', '김호', '빈', '전기', '박명수', '계', '제어', '김창식', '교육', '교육', '총괄', '홍정표', '교수', '이형우', '인천', '화', '본부', '안전', '품질', '팀', '홍은기', '미래', '성장', '정창길', '실', '총무', '조성준', '자재', '강만석', '발전소', '발전', '운영', '실장', '김호', '걸', '기계', '팀', '강동', '섭', '울화', '미래', '성장', '팀', '김원', '용', '기계', '진국', '계전', '김현수', '건설', '관리', '실', '기전', '김흥록', '토건', '박', '영', '천화', '미래', '성장', '팀', '김재영', '총무', '발전', '운영', '실장', '곽홍근', '기계', '팀', '박문', '석', '환경화학', '이승준', '주화', '총무', '팀', '광', '미래', '성장', '김용철', '기계', '계전', '김용복', '보령', '건설', '본부', '관리', '팀', '박종', '토건', '정학', '해상', '이상', '곤', '설계', '임의', '세종', '병합', '건설', '시운전', '팀', '남궁', '철', '발전', '회사', '협력', '본부', '협력', '총괄', '담당', '강석', '기사', '나', '국', '열띤', '토론', '끝', '김연주', '등', '명', '최종', '선발', '반나절', '피', '거리', '두기', '완화', '무산', '업계', '당황', '창', '기사', '추천', '인사', '한국', '중부', '발전', '베스트', '추천', '뉴스', '정권', '권력', '사유화', '집권', '연장', '통한', '국민', '약탈', '전문', '송영길', '오죽', '민주당', '지지도', '윤석열', '부인', '내', '유흥주점', '접객', '기', '파일', '분통', '송평', '칼럼', '자영', '업자', '나라', '나라', '모습', '윤석열', '사람', '현직', '의원', '명', '누구', '서민', '인사', '수석', '책임', '주군', '지난달', '한라산', '구미', '에베레스트', '원정', '왼쪽', '정용규', '권정옥', '대원', '장', '무', '등반', '대장', '강경', '숙', '대원', '구미시', '제공', '경북', '구미시', '시', '승격', '주년', '기념', '에베레스트', '원정', '대가', '오후', '구미시청', '대강', '출정', '연', '남유진', '구미시장', '김익수', '의회', '의장', '최성모', '산악', '연맹', '구미', '연맹', '회장', '등', '여', '명', '참석', '등반', '성공', '기원', '원정', '장', '무', '등반', '대장', '과', '박문', '석', '송준교', '정용규', '강경', '숙', '여', '권정옥', '대원', '여', '등', '시민', '명', '구성', '달', '동안', '네팔', '히말라야', '에베레스트', '정상', '도전', '장', '대장', '정상', '구미시', '깃발', '고', '말', '구미시', '구미', '산악', '연맹', '시', '승격', '주년', '기념', '사업', '세계', '대륙', '최고봉', '원정', '계획', '해', '유럽', '옐', '브루스', '아프리카', '킬리만자로', '지난해', '북아메리카', '매킨리', '정상', '등반', '올해', '에베레스트', '내년', '남아메리카', '콩카', '오세아니아', '카', '스턴', '스', '피라미드', '남극', '빈슨매시프', '목표', '구미', '당시', '선산군', '구미읍', '칠곡군', '인동', '면', '시로', '승격', '구미', '산악', '연맹', '대원', '명', '시', '승격', '주년', '기념', '히말라야', '산맥', '개', '고봉', '가운데', '번', '초오유', '정상', '시민', '여', '명의', '소원', '편지', '타임캡슐', '이', '캡슐', '시', '승격', '주년', '개봉', '예정', '기사', '나', '국', '열띤', '토론', '끝', '김연주', '등', '명', '최종', '선발', '반나절', '피', '거리', '두기', '완화', '무산', '업계', '당황', '장영훈', '기자', '창', '기사', '추천', '대구', '경북', '구미', '에베레스트', '원정', '출정', '베스트', '추천', '뉴스', '정권', '권력', '사유화', '집권', '연장', '통한', '국민', '약탈', '전문', '송영길', '오죽', '민주당', '지지도', '윤석열', '부인', '내', '유흥주점', '접객', '기', '파일', '분통', '송평', '칼럼', '자영', '업자', '나라', '나라', '모습', '윤석열', '사람', '현직', '의원', '명', '누구', '서민', '인사', '수석', '책임', '주군', '경찰청', '총경', '전보', '청', '미래', '발전', '담당', '관', '조병', '노', '교육', '담당', '관', '최석', '환', '사구조', '개혁', '팀', '임', '성덕', '위기', '관리', '센터', '김준철', '항공', '과장', '이자', '기획', '인터폴', '파견', '근원', '경찰대', '학생', '과장', '김창룡', '치안', '정책', '연구소', '진정', '무', '운영', '지원', '교육', '대용', '경찰', '교육', '교무', '과장', '이익훈', '중앙', '경찰', '학교', '운영', '지원', '과장', '연태', '경찰병원', '총무', '과장', '준태', '서울', '청', '경무', '청와대', '위기', '관리', '파견', '김진홍', '경무', '지방자치', '발전', '추진단', '파견', '정병권', '수사', '금융', '위원회', '파견', '임', '홍기', '수사', '형사', '사법', '공통', '시스템', '운영', '단', '파견', '윤성혜', '제', '기동', '단장', '윤', '외출', '동작', '서장', '김원', '환', '광진', '서장', '김', '남현', '금천', '서장', '천범녕', '방배', '서장', '박채', '완', '은평', '서장', '이문수', '경무', '교육', '최종', '유윤', '종', '치안', '도관', '김병기', '김준영', '송준섭', '정훈', '록', '부산', '청', '홍보', '담당', '관', '안정', '용', '제', '부', '정보화', '장비', '과장', '제', '부', '교통', '과장', '양명욱', '제', '부', '보안과장', '김', '주전', '제', '부', '외', '사과', '이순용', '중부', '서장', '이승재', '영도', '서장', '흥', '부서장', '환', '부서장', '김형철', '해운대', '서장', '창학', '금정', '서장', '환', '경무', '교육', '변항종', '정규', '열', '경무', '대기', '정용환', '이일우', '치안', '도관', '정재', '구청', '홍보', '담당', '관', '정식', '정보화', '장비담당관', '최재천', '생활', '안전', '과장', '이창', '록', '수사과장', '이현희', '남부', '서장', '석봉', '달성', '서장', '원근', '경무', '교육', '배', '대희', '경무', '대기', '채', '한수', '치안', '도관', '윤', '종진', '정상진', '인천', '청', '경무', '과장', '황경환', '생활', '안전', '과장', '권', '섭', '경비', '교통', '과장', '배영철', '정보', '과장', '배상훈', '산서', '조정', '필', '연수', '서장', '박승환', '경무', '교육', '정지용', '치안', '도관', '황', '창선', '광주', '청', '정보화', '장비담당관', '김창수', '생활', '안전', '과장', '김홍', '균', '수사과장', '김철우', '경비', '교통', '과장', '백혜웅', '정보', '과장', '김근', '부서장', '김재', '석', '남부', '서장', '이기', '옥', '광산', '서장', '김원', '국', '경무', '교육', '우형', '호', '이성순', '노', '규호', '경무', '대기', '한재', '숙', '치안', '도관', '전준호', '병률', '전청', '홍보', '담당', '관', '김동락', '생활', '안전', '과장', '김보', '수사과장', '태경', '환', '정보', '과장', '김재', '선', '보안과장', '박진규', '중부', '서장', '김경원', '부서장', '병환', '대덕', '서장', '동기', '경무', '교육', '김종식', '치안', '도관', '김광남', '산청', '홍보', '담당', '관', '김', '생활', '안전', '과장', '호', '정보', '과장', '곽예환', '보안과장', '이갑', '남부', '서장', '김창규', '경무', '교육', '오성', '치안', '도관', '경기', '청', '제', '부', '정보화', '장비', '과장', '김성용', '제', '부', '교통', '과장', '최정현', '제', '부', '보안과장', '최영덕', '제', '부', '외', '사과', '기철', '제', '청', '경무', '과장', '조용태', '제', '청', '경비', '교통', '과장', '김충환', '청사', '경비', '대장', '박', '배', '수원', '부서장', '이명', '균', '안양', '안', '서장', '왕민', '부천', '서장', '김수희', '부천', '정서', '오성환', '화성', '부서장', '욱', '안성', '서장', '김균', '철', '양주', '서장', '김', '평재', '고양', '서장', '형세', '포천', '서장', '우희주', '동두천', '서장', '추수호', '경무', '대기', '노혁우', '신동호', '고경철', '치안', '도관', '김기동', '이수경', '정방', '홍', '곤', '강원', '청', '청문', '감사', '담당', '관', '고창', '윤', '생활', '안전', '과장', '지호', '수사과장', '곽', '경호', '경비', '교통', '과장', '김광식', '춘천', '서장', '손호중', '동해', '서장', '이철민', '속초', '서장', '최승렬', '영월', '서장', '강도희', '홍천', '서장', '이의', '신', '화천', '서장', '전용', '찬', '서장', '장', '신중', '경무', '교육', '이인상', '윤치원', '경무', '대기', '엄', '영민', '김종관', '치안', '도관', '김희중', '충북', '청', '홍보', '담당', '관', '윤중섭', '청문', '감사', '담당', '관', '현종', '경무', '과장', '손', '종국', '정보화', '장비담당관', '김창수', '보안과장', '이찬', '규', '청주', '흥덕', '서장', '이동섭', '청주', '청', '남서', '강병로', '충주', '서장', '권수', '각', '서장', '박창호', '옥천', '서장', '이상수', '음성서', '홍기현', '경무', '교육', '이종원', '경무', '대기', '최길훈', '치안', '도관', '이병무', '최', '영', '충남', '청', '홍보', '담당', '관', '송정', '애', '청문', '감사', '담당', '관', '정', '두성', '정보화', '장비담당관', '배병철', '생활', '안전', '과장', '이재승', '수사과장', '이동주', '정보', '과장', '석', '천안', '서북서', '홍', '완선', '아산', '서장', '정권', '보령', '서장', '신주현', '당진', '서장', '유', '열', '부여', '서장', '이시준', '세종', '서장', '박종민', '경무', '교육', '김택준', '치안', '도관', '이준', '배', '북청', '청문', '감사', '담당', '관', '이상주', '생활', '안전', '과장', '박', '수사과장', '강윤', '경', '경비', '교통', '과장', '최호', '순', '보안과장', '방', '춘원', '전주', '완산', '서장', '남', '정읍', '서장', '김', '동봉', '남원', '서장', '김관', '김제', '서장', '최종', '문', '순창', '서장', '정진', '관', '장수', '서장', '박', '훈기', '경무', '교육', '안상', '엽', '치안', '도관', '용기', '김주원', '박정근', '전남', '청', '청문', '감사', '담당', '관', '김성열', '경무', '과장', '노재호', '정보화', '장비담당관', '박상우', '생활', '안전', '과장', '민', '성태', '수사과장', '권', '영만', '정보', '과장', '양성진', '보안과장', '김재', '병', '고흥', '서장', '안병갑', '장흥', '서장', '박', '병동', '보성', '서장', '김영근', '함평', '서장', '강', '칠원', '담양', '서장', '박지영', '완도', '서장', '나', '원오', '진도', '서장', '박', '주', '경무', '교육', '장효', '경무', '대기', '이윤', '황호', '선', '김치', '치안', '도관', '이용석', '이재영', '북청', '청문', '감사', '담당', '관', '박효', '경주', '서장', '창학', '구미', '서장', '권', '오덕', '칠곡', '서장', '정태진', '청도', '서장', '조용성', '영덕', '서장', '김항곤', '영양', '서장', '정남', '군위', '서장', '강신', '걸', '울릉', '서장', '박도영', '경무', '교육', '김상렬', '이상현', '경무', '대기', '임', '주택', '이영태', '치안', '도관', '김병', '김병찬', '김', '탁', '경남', '청', '홍보', '담당', '관', '권창', '청문', '감사', '담당', '관', '이병진', '정보화', '장비담당관', '이태규', '정보', '과장', '이희', '석', '외', '사과', '추', '문구', '창원', '부서장', '류재응', '김해', '부서장', '전병', '현', '진해', '서장', '최', '병부', '통영', '서장', '이준형', '고성', '서장', '김정', '완', '함안', '서장', '원호', '경무', '대기', '백광', '술', '치안', '도관', '김균', '주청', '홍보', '담당', '관', '함', '배', '수사과장', '전재희', '경비', '교통', '과장', '이지', '정보', '과장', '강', '월진', '보안과장', '김학철', '해안', '경비', '단장', '영석', '부서장', '석홍', '한국', '산업', '인력', '공단', '승진', '급', '서울', '지역', '본부', '종합', '지원', '팀', '이철호', '기술', '자격', '출제', '실', '건설', '환경', '팀', '고충', '국', '급', '훈련', '품질', '향상', '센터', '권', '상원', '숙련', '기술', '장려', '팀', '홍제', '용', '산업', '응용', '기준', '고재', '철', '생활과학', '김미선', '취업', '연수', '염', '명국', '강릉', '지사', '김', '동구', '김정희', '전보', '급', '영기획', '실장', '전화', '익', '광주', '지역', '본부장', '김재복', '지사', '승종', '충북', '고창', '용', '울산', '김혜경', '전남', '이담', '철', '광주', '지역', '본부', '종합', '지원', '팀', '유', '명수', '급', '직업', '방송', '팀', '김균', '현', '능력', '평가', '기획', '공역', '전문', '자격', '성모', '자격', '동향', '분석', '김진실', '기계', '전자', '기준', '김희선', '취업', '교육', '손규일', '취업', '기획', '최재', '취업', '알선', '현태', '사회', '문화', '김홍', '달', '대구', '지역', '본부', '이운택', '경북', '지사', '박문', '석', '포항', '동영', '경기', '이수영', '성남', '이찬우', '경기', '북부', '문병', '돈', '목포', '정', '충남', '최정인', '채경수', '기사', '나', '국', '열띤', '토론', '끝', '김연주', '등', '명', '최종', '선발', '반나절', '피', '거리', '두기', '완화', '무산', '업계', '당황', '부산', '방송', '국', '보도국', '김지원', '특보', '철호', '보도국', '부국', '겸', '편집', '센터', '주간', '뉴스', '부장', '김대환', '보도국', '취재', '센터', '기획', '취재', '부장', '겸', '중부', '취재', '부장', '민병', '콘텐츠', '본부', '보도국', '정치', '부장', '이재웅', '편성', '국', '아나운서', '부장', '신지혜', '예술', '홍보', '디자인', '센터', '신승훈', '건설', '본부', '조형예술', '연구소', '디렉터', '세근', '예술', '공학', '센터', '디렉터', '김대', '홍', '한림대', '대외협력', '처', '윤태일', '창', '기사', '추천', '인사', '경찰청', '베스트', '추천', '뉴스', '정권', '권력', '사유화', '집권', '연장', '통한', '국민', '약탈', '전문', '송영길', '오죽', '민주당', '지지도', '윤석열', '부인', '내', '유흥주점', '접객', '기', '파일', '분통', '송평', '칼럼', '자영', '업자', '나라', '나라', '모습', '윤석열', '사람', '현직', '의원', '명', '누구', '서민', '인사', '수석', '책임', '주군', '한국', '산업', '인력', '공단', '승진', '급', '서울', '지역', '본부', '종합', '지원', '팀', '이철호', '기술', '자격', '출제', '실', '건설', '환경', '팀', '고충', '국', '급', '훈련', '품질', '향상', '센터', '권', '상원', '숙련', '기술', '장려', '팀', '홍제', '용', '산업', '응용', '기준', '고재', '철', '생활과학', '김미선', '취업', '연수', '염', '명국', '강릉', '지사', '김', '동구', '김정희', '전보', '급', '영기획', '실장', '전화', '익', '광주', '지역', '본부장', '김재복', '지사', '승종', '충북', '고창', '용', '울산', '김혜경', '전남', '이담', '철', '광주', '지역', '본부', '종합', '지원', '팀', '유', '명수', '급', '직업', '방송', '팀', '김균', '현', '능력', '평가', '기획', '공역', '전문', '자격', '성모', '자격', '동향', '분석', '김진실', '기계', '전자', '기준', '김희선', '취업', '교육', '손규일', '취업', '기획', '최재', '취업', '알선', '현태', '사회', '문화', '김홍', '달', '대구', '지역', '본부', '이운택', '경북', '지사', '박문', '석', '포항', '동영', '경기', '이수영', '성남', '이찬우', '경기', '북부', '문병', '돈', '목포', '정', '충남', '최정인', '채경수', '기사', '나', '국', '열띤', '토론', '끝', '김연주', '등', '명', '최종', '선발', '반나절', '피', '거리', '두기', '완화', '무산', '업계', '당황', '창', '기사', '추천', '인사', '한국', '산업', '인력', '공단', '베스트', '추천', '뉴스', '정권', '권력', '사유화', '집권', '연장', '통한', '국민', '약탈', '전문', '송영길', '오죽', '민주당', '지지도', '윤석열', '부인', '내', '유흥주점', '접객', '기', '파일', '분통', '송평', '칼럼', '자영', '업자', '나라', '나라', '모습', '윤석열', '사람', '현직', '의원', '명', '누구', '서민', '인사', '수석', '책임', '주군', '법무부', '승진', '고위', '공무원', '부산', '출입국관리', '사무소', '이복남', '부', '사관', '급', '출입국관리', '사무소', '박찬호', '전보', '기관', '급', '체류', '조사', '과장', '김창석', '외국인', '정책', '과장', '김종민', '국적', '난민', '과장', '이재', '유', '상공회의소', '인력', '발원', '임', '석순', '강원', '인력', '개발', '원장', '최', '대열', '사업', '실장', '황', '윤학', '기사', '나', '국', '열띤', '토론', '끝', '김연주', '등', '명', '최종', '선발', '반나절', '피', '거리', '두기', '완화', '무산', '업계', '당황', '한국', '관광', '공사', '전보', '뉴욕', '사장', '유세준', '중소기업', '진흥', '공단', '전보', '부서장', '비서실', '석동', '홍보', '실장', '김성규', '전북', '지역', '본부장', '권', '연수', '운영', '처', '양해진', '팀', '부장', '기금', '관리', '실', '신기철', '융자', '사업', '처', '상식', '글로벌', '사업', '처', '이수형', '서울', '지역', '본부', '반정식', '인천', '서부', '지부', '박', '창기', '승진', '팀', '부장', '감', '사실', '박선준', '산업', '전략', '실', '이창섭', '글로벌', '사업', '처', '정동호', '경기', '북부', '지부', '시호', '문', '이광진', '경북', '지역', '본부', '김지훈', '남상', '강원', '지역', '본부', '장익', '정', '울산', '지역', '본부', '김현우', '병', '국립공원', '관리', '공단', '탐방', '관리', '이사', '정현', '홍', '한국', '산업', '단지', '공단', '승진', '성장', '협력', '실장', '최수정', '부산', '사장', '박동', '철', '전보', '상무이사', '경쟁력', '서비스', '본부장', '및', '수도권', '광역', '박', '남일', '입지', '서비스', '남재희', '경영', '전략', '진', '기우', '본부장', '서울', '지역', '임종인', '인천', '강달순', '경기', '최종', '태', '동남권', '황', '석주', '호남권', '이현수', '팀', '급', '기획', '조정', '실장', '한지수', '행정', '지원', '윤동민', '재무', '심', '명주', '투자', '창업', '정인화', '기업', '인재', '박종일', '신입', '기획', '경범', '산업', '단지', '개발', '윤철', '미래', '경영', '전략', '안중', '헌', '산업', '입지', '경쟁력', '연구소장', '조성태', '감사', '실장', '박찬', '득', '비서', '홍보', '직', '박성', '길', '기획', '팀', '김흥철', '성과', '평가', '관리', '박진만', '운영', '지원', '김민철', '투자', '관리', '도정', '환', '세무', '회계', '오맹근', '자산운용', '손창국', '창업', '공장', '설립', '팀', '마동', '철', '투자', '촉진', '배은희', '개성', '사장', '송', '병태', '클러스터', '사업', '팀', '김재형', '녹색', '사업', '김흥수', '인재', '애로', '개선', '철', '기업', '투어', '김동빈', '지역', '투자', '지원', '황상현', '입지', '전략', '이동찬', '사업', '양기주', '계획', '개발', '윤정', '목', '보상', '분양', '김수', '김해', '사업', '단장', '윤호상', '오송', '아산', '사업', '김종', '율', '사업', '김호중', '미래', '사업', '팀', '류', '현', '사회', '공헌', '윤선', '산업', '동향', '권', '기용', '입지', '연구', '조혜영', '서울', '지역', '본부', '기획', '총괄', '팀', '철', '고객', '지원', '김재', '클러스터', '운영', '염', '동일', '파주', '사장', '김종운', '인천', '지역', '본부', '기획', '총괄', '팀', '노', '고객', '지원', '강희', '집', '클러스터', '운영', '임', '경호', '안지', '사장', '안성기', '부평', '백웅호', '기지역', '본부', '기획', '총괄', '팀', '성용', '고객', '지원', '김성기', '클러스터', '운영', '안상진', '시화', '사장', '이화', '종', '평택', '김문수', '충청권', '본부', '기획', '총괄', '팀', '류정민', '충북지사', '효균', '당진', '조호', '철', '대경권', '본부', '고객', '팀', '최효원', '클러스터', '운영', '이주석', '지사', '김규', '돈', '동남권', '본부', '기획', '총괄', '팀', '손', '규', '고객', '지원', '정창운', '클러스터', '운영', '김병오', '부산', '고객', '지원', '어수우', '울산', '사장', '이장훈', '울산', '클러스터', '운영', '팀', '임원', '택', '호남권', '본부', '기획', '총괄', '팀', '안영근', '고객', '지원', '손', '성운', '클러스터', '운영', '기진', '군산', '사장', '이정환', '군산고', '객지', '팀', '문경진', '군산', '클러스터', '운영', '박종룡', '불지사', '김옥선', '대불', '객지', '팀', '장성일', '대불', '클러스터', '운영', '강양구', '광양', '사장', '장행', '강원', '본부', '기획', '총괄', '팀', '방재', '동해', '사장', '은', '세균', '한국', '중부', '발전', '감', '사실', '감사', '총괄', '팀', '김정환', '센터', '정보보안', '담당', '진규', '글로벌', '전략', '실', '사업', '총괄', '팀', '유병육', '사업', '금융', '담당', '유민수', '사업', '운영', '팀', '이성재', '기획처', '전략기획', '팀', '박익', '규', '대외협력', '여창', '규', '재무', '예산', '황', '장용', '회계', '결산', '담당', '김경수', '처', '조직', '인사', '팀', '최', '중창', '연료', '자원', '이종국', '연료', '구매', '담당', '박', '경우', '발전', '처', '안전', '운영', '팀', '정승교', '동반성', '추진', '이호', '태', '건설', '처', '이윤', '덕', '기술', '팀', '하관', '호', '사옥', '건설', '실장', '재순', '담당', '이병훈', '보령', '화', '본부', '연료', '팀', '홍훈식', '보령', '화', '본부', '실', '총무', '기획', '이정주', '자재', '구매', '이정', '균', '지역', '협력', '정', '돌', '기술', '지원', '실', '환경', '관리', '이정열', '민원', '담당', '동호', '시설', '관리', '팀', '임', '석', '기술', '전문', '달재', '제', '발전소', '발전', '운영', '실장', '최영일', '발전', '운영', '배상', '구', '보일러', '팀', '배상', '구', '터빈', '함광영', '제', '발전소', '팀', '임철규', '화학', '기술', '박원규', '복합', '발전소', '기계', '김호', '빈', '전기', '박명수', '계', '제어', '김창식', '교육', '교육', '총괄', '홍정표', '교수', '이형우', '인천', '화', '본부', '안전', '품질', '팀', '홍은기', '미래', '성장', '정창길', '실', '총무', '조성준', '자재', '강만석', '발전소', '발전', '운영', '실장', '김호', '걸', '기계', '팀', '강동', '섭', '울화', '미래', '성장', '팀', '김원', '용', '기계', '진국', '계전', '김현수', '건설', '관리', '실', '기전', '김흥록', '토건', '박', '영', '천화', '미래', '성장', '팀', '김재영', '총무', '발전', '운영', '실장', '곽홍근', '기계', '팀', '박문', '석', '환경화학', '이승준', '주화', '총무', '팀', '광', '미래', '성장', '김용철', '기계', '계전', '김용복', '보령', '건설', '본부', '관리', '팀', '박종', '토건', '정학', '해상', '이상', '곤', '설계', '임의', '세종', '병합', '건설', '시운전', '팀', '남궁', '철', '발전', '회사', '협력', '본부', '협력', '총괄', '담당', '강석', '전력거래소', '처', '전력', '시장', '처', '김용완', '계통', '운영', '처', '송광헌', '정보기술', '처', '이건웅', '천안', '사장', '김', '권수', '제주', '전종', '택', '팀', '기획', '관리', '본부', '시장', '감시', '실장', '영태', '기획', '관리', '처', '총무', '팀', '경무', '기획', '평가', '팀', '양재석', '홍보', '전략', '팀', '박', '종인', '인력', '개발', '팀', '김용준', '재무', '예산', '팀', '최상', '준', '추진', '팀', '진수', '전력', '계획', '처', '전력', '계획', '팀', '성배', '수요', '예측', '팀', '전병', '규', '전력', '기술', '팀', '김홍근', '계통', '계획', '팀', '김태훈', '미래', '전략', '실', '미래', '제도', '개발', '팀', '김은수', '스마트그리드', '팀', '문경섭', '해외', '사업', '통계', '팀', '정언', '진', '전력', '시장', '처', '시장', '운영', '팀', '양민', '승', '시장', '정산', '팀', '임', '주성', '고객', '지원', '팀', '배병옥', '수요', '시장', '팀', '김홍희', '계통', '운영', '처', '수급', '계획', '팀', '류성호', '계통', '기술', '팀', '주준영', '계통', '보호', '팀', '정재', '운영', '기준', '팀', '이진수', '정보기술', '처', '기획', '운영', '팀', '손윤태', '계통', '시스템', '팀', '이명희', '시장', '시스템', '팀', '박용', '차기', '시스템', '팀', '김명', '웅', '정보보호', '팀', '이임', '섭', '중앙', '전력관', '센터', '급전', '운영', '팀', '김', '우선', '송전', '운영', '팀', '조강', '욱', '급전', '훈련', '팀', '중선', '급전', '부장', '황경', '김대균', '이우용', '승구', '김민곤', '을지', '재단', '을지', '의료', '정책', '이사', '상영', '을지대', '기획', '정처', '홍보팀', '겸', '재단', '운영', '본부', '홍보', '기획', '팀', '윤', '두현', '재단', '운영', '본부', '의료', '팀', '섭', '을지', '병원', '홍보팀', '직무', '대리', '유병섭', '경기대', '본부', '대학', '겸', '교무', '처', '명승', '운', '교무', '처', '담당', '관', '한경수', '미디어', '예술', '문화', '연구소장', '남상', '대체의학', '센터', '권윤중', '문화', '예술', '대학원', '부원장', '강혜련', '생활관', '박진환', '전산', '정보원', '부원장', '기동', '법', '대학', '및', '사회과학', '대학', '교학', '팀', '박준', '중앙', '도서관', '사서', '담당', '관', '겸', '법인', '사무', '처', '행정', '팀', '이창원', '상명대', '국어교육', '석좌교수', '박범신', '창', '기사', '추천', '인사', '법무부', '베스트', '추천', '뉴스', '정권', '권력', '사유화', '집권', '연장', '통한', '국민', '약탈', '전문', '송영길', '오죽', '민주당', '지지도', '윤석열', '부인', '내', '유흥주점', '접객', '기', '파일', '분통', '송평', '칼럼', '자영', '업자', '나라', '나라', '모습', '윤석열', '사람', '현직', '의원', '명', '누구', '서민', '인사', '수석', '책임', '주군', '한국', '산업', '인력', '공단', '승진', '급', '상당', '직업', '능력', '기획', '국장', '김현', '생', '능력', '평가', '기획', '공역', '기술', '자격', '출제', '실장', '황', '길주', '부산', '남부', '사장', '이명재', '경기', '북부', '이담', '철', '전북', '이용호', '취업', '기획', '팀', '최재', '자격', '설계', '운영', '홍', '정혁', '본부', '김성재', '이병철', '급', '상당', '비서실', '박태훈', '특정', '감사', '팀', '송길용', '고객', '센터', '이병욱', '정보화', '사업', '팀', '병규', '컨소시엄', '지원', '임승묵', '훈련', '품질', '향상', '정재', '일반', '기계', '임종', '진', '취업', '연수', '권', '목', '취업', '알선', '현태', '글로벌', '지원', '서성열', '외국인', '선발', '팀', '박', '규', '정보통', '팀', '이민주', '서울', '자격시험', '센터', '박명서', '울산', '지사', '홍길표', '부산', '자격시험', '센터', '이영재', '김성수', '전북지사', '임기', '제주', '지사', '강경', '종', '충북지사', '김기욱', '전보', '급', '상당', '정보화', '지원', '국장', '직업', '능력', '지원', '최희', '숙', '훈련', '품질', '향상', '센터', '봉', '외국인', '국장', '박찬', '섭', '직무', '능력', '표준', '원장', '구자', '길', '표준', '기획', '실장', '김병주', '표준', '개발', '실장', '환', '서울', '지역', '본부장', '변', '무장', '동부', '사장', '김세환', '서울', '남부', '서경식', '강원', '석', '강릉', '이재', '길', '자격시험', '센터', '임', '경식', '부산', '지역', '본부장', '김시', '태', '경남', '사장', '김태', '부산', '자격시험', '센터', '이한구', '경북', '사장', '엄홍석', '자격시험', '센터', '권영진', '성남', '사장', '김우현', '인천', '자격시험', '센터', '김병열', '광주', '김동호', '대전', '이철호', '급', '상당', '포항', '사장', '윤석호', '전남', '성모', '목포', '김희선', '서울', '지역', '본부', '직업', '능력', '개발', '팀', '전용덕', '부산', '지역', '본부', '직업', '능력', '개발', '팀', '동영', '대구', '지역', '본부', '김균', '현', '중부', '지역', '본부', '박영환', '광주', '지역', '본부', '창주', '감사', '팀', '염', '명국', '예산', '최종윤', '정보화', '기획', '중', '정보화', '사업', '은실', '능력', '개발', '기획', '장병', '현', '학습', '지원', '권', '상원', '지역', '산업', '지원', '신용철', '콘텐츠', '기획', '김종우', '직업', '방송', '이철민', '현장', '훈련', '모니터링', '문승현', '격', '훈련', '모니터링', '최석훈', '능력', '평가', '기획', '학기', '자격', '정보', '이기준', '전문', '자격', '송수', '응용', '공학', '유', '정보', '통신', '유', '명수', '건설', '환경', '김재', '생활과학', '고충', '국', '경제', '경영', '김홍', '달', '사회', '문화', '민찬홍', '출제', '발간', '센터', '민수영', '고용', '기획', '팀', '정', '응기', '외국인', '선발', '이찬우', '입국', '지원', '손규일', '고용체', '류지원', '김기우', '표준', '총괄', '기획', '고재', '철', '표준', '활용', '지원', '김진실', '표준', '개발', '이기우', '표준', '개발', '김', '병천', '표준', '개발', '양희경', '숙련', '기술', '기획', '윤수', '숙련', '기술', '진흥', '김동일', '기능', '경기', '양열', '글로벌', '협력', '홍제', '용', '서울', '지역', '본부', '안계', '철', '박', '원강', '윤상', '서울', '남부', '지사', '김용환', '강원', '지사', '김정희', '서울', '자격시험', '센터', '권', '오복', '박영', '표', '송', '태기', '김', '동구', '부산', '지역', '본부', '정봉주', '부산', '자격시험', '센터', '일동', '이상협', '경북', '지사', '권', '정기', '대구', '자격시험', '센터', '영기', '박문', '석', '경진', '중부', '지역', '본부', '휘', '경기', '지사', '박종규', '최용', '범', '경기', '북부', '지사', '광준', '박세훈', '성남', '지사', '남', '기석', '김훈', '인천', '자격시험', '센터', '김자', '회', '안병종', '효동', '창기', '광주', '지역', '본부', '정', '전북지사', '나웅', '민', '광주', '자격시험', '센터', '김용무', '김윤영', '김', '주', '박중훈', '김경', '택', '대전', '지역', '본부', '장호', '대전', '자격시험', '센터', '송성근', '정', '연우', '노', '홍기', '김병', '센터', '태국', '최상', '건', '파키스탄', '광', '기사', '나', '국', '열띤', '토론', '끝', '김연주', '등', '명', '최종', '선발', '반나절', '피', '거리', '두기', '완화', '무산', '업계', '당황', '창', '기사', '추천', '인사', '한국', '산업', '인력', '공단', '베스트', '추천', '뉴스', '정권', '권력', '사유화', '집권', '연장', '통한', '국민', '약탈', '전문', '송영길', '오죽', '민주당', '지지도', '윤석열', '부인', '내', '유흥주점', '접객', '기', '파일', '분통', '송평', '칼럼', '자영', '업자', '나라', '나라', '모습', '윤석열', '사람', '현직', '의원', '명', '누구', '서민', '인사', '수석', '책임', '주군', '교육부', '고위', '공무원', '기획', '조정', '실장', '박', '백범', '대학', '지원', '실장', '석수', '교원', '소청', '심사', '위원장', '삼제', '학생복', '지안', '전관', '이진석', '대학', '지원', '관', '배성근', '교육', '정보통', '국장', '승융배', '중앙', '교육', '연수', '원장', '윤용', '학술원', '사무국', '황', '홍규', '충남대', '사무국', '이중', '부산', '김광호', '본부', '최진명', '서명', '범', '최은옥', '기관', '학술원', '사무국', '실', '박철', '현', '강원', '윤', '권수', '경인교대', '김제', '공주대', '이병희', '유희', '승', '금오공대', '권부', '익', '대구', '교대', '박준기', '부산', '계주', '서울', '과기대', '박', '기학', '창원', '오찬', '택', '청주교대', '이삼', '충남대', '박규', '이윤철', '한경대', '정형태', '한국', '교원대', '임', '성식', '한국', '방송통신대', '하헌', '석', '한밭대', '송은주', '공주대', '경운', '전북대', '최천', '호', '한국', '교통대', '김응철', '미래부', '파견', '안주', '란', '문화', '체육관', '광부', '전보', '과장', '국립국어원', '기획', '관리', '과장', '황두연', '국어', '능력', '발전', '과장', '최태경', '국립', '민속', '박물관', '섭외', '교육', '과장', '권', '석주', '기사', '나', '국', '열띤', '토론', '끝', '김연주', '등', '명', '최종', '선발', '반나절', '피', '거리', '두기', '완화', '무산', '업계', '당황', '농림축산식품부', '승진', '국장', '농림축산검역본부', '영남', '지역', '본부장', '김인', '국토교통부', '과장', '파견', '주', '대표', '부', '안석환', '전보', '도시', '광역', '교통', '상', '물류', '시설', '정보', '이성훈', '철도', '투자', '개발', '남영우', '해양수산부', '승진', '국장', '부산', '지방', '해양', '항만청', '부산', '항', '건설', '사무소', '최', '용', '국립', '조사원', '박경철', '수산', '정책', '관', '방태진', '본부', '대기', '김영복', '국세청', '승진', '고위', '공무원', '나', '미국', '국세청', '파견', '진열', '관세청', '전보', '국장', '조사', '감시', '노', '환', '조달청', '승진', '지방', '조달청장', '인천', '김윤길', '국장', '구매', '사업', '승보', '과장', '운영', '지원', '권수혁', '우수', '제품', '정', '옥', '쇼핑몰', '기획', '정재은', '국제', '협력', '박', '미숙', '팀', '부산', '지방', '조달청', '장비', '구매', '하인', '수', '정보', '기획', '조달', '등록', '김기분', '전보', '지방', '조달청장', '서울', '임종', '대구', '김승헌', '광주', '최용', '철', '대전', '김홍', '창', '강원', '염', '광희', '경남', '차원', '섭', '담당', '관', '기획', '재정', '강경', '훈', '대변인', '이기헌', '과장', '정보', '관리', '임성춘', '물품', '관리', '김경만', '자재', '장비', '민', '한식', '정보기술', '용역', '이석규', '쇼핑몰', '가계약', '황', '상근', '쇼핑몰', '구매', '김광성', '시설', '기획', '이계', '학', '기술', '심사', '설', '태웅', '품질', '총괄', '전종', '석', '부산', '청', '경영', '관리', '김태경', '부산', '청', '자재', '구매', '이형식', '팀', '서울', '청', '시설', '배완', '통계청', '신임', '청장', '동북지방', '통계', '윤석', '전보', '실장', '연구', '기획', '이명호', '조사', '연구', '김진', '동향', '분석', '민경삼', '과장', '표본', '김정란', '복지', '통계', '농어', '업', '통계', '박상영', '조사', '시스템', '관리', '이충', '학', '공간', '정보', '서비스', '류', '제정', '교육', '기획', '박경애', '경인지방통계청', '경제', '조사', '송영선', '동북지방통계청', '사회', '조사', '김동회', '병무청', '전보', '과장', '병역', '조사', '과장', '김기룡', '정보', '기획', '김영재', '정보', '관리', '현역', '입영', '김용무', '자원', '관리', '종운', '사회', '교육', '복무', '규동', '산업', '지원', '권영규', '병역', '공개', '황', '영석', '인천', '경기', '지방', '병무청', '징병', '관', '박복순', '경남', '지방', '병무청장', '정정훈', '제주', '지방', '병무청장', '최은순', '강원영동', '병무', '지청장', '유광', '현', '헌법재판소', '신규', '과장', '홍보', '심의', '관실', '홍보', '담당', '관', '현철', '승진', '기관', '급', '행정', '관리', '국', '총무', '인수', '심판', '사무국', '심판', '행정', '영화', '전보', '과장', '정보화', '기획', '과장', '김희', '심판', '사무', '과장', '김기호', '통일교', '육원', '파견', '장유', '국방', '대학교', '파견', '최병협', '기관', '급', '재판관', '비서', '관', '권', '순모', '한국', '주택', '금융', '공사', '승진', '급', '남부', '사장', '석', '급', '창조', '혁신', '부', '팀', '이규진', '감', '사실', '생현', '서울', '서부', '지사', '박종철', '서울', '채권', '관리', '센터', '이화', '균', '전보', '영업', '본부장', '수도권', '유상규', '동남권', '성영진', '부장', '기획', '조정', '실장', '정', '하원', '소비자보호', '김익수', '창조', '혁신', '택균', '지방', '추진단', '상연', '적격', '대출', '박승창', '주택', '보증', '류', '기윤', '유동화', '자산', '곤', '리스크', '관리', '차', '경만', '채권', '관리', '서성규', '감사', '실장', '이원', '주택', '금융', '연구소장', '김명현', '영업', '점', '영업', '부장', '김성수', '서울', '남부', '이상섭', '서울', '북부', '휘', '부산', '재욱', '대구', '박금석', '대전', '최원', '창', '울산', '김갑', '경기', '남부', '석', '강원', '장', '철', '충북', '어익선', '천안', '윤정', '전북', '배덕수', '순천', '채', '재현', '경남', '성기', '제주', '유기', '철', '채권', '관리', '센터', '무홍', '인천', '시', '승진', '직무', '대리', '인천', '자유', '역청', '차장', '김기형', '문화', '관광', '체육', '국장', '강신원', '항만', '공항', '해양', '국장', '김상섭', '도시', '계획', '국장', '하명', '국', '전보', '의회', '사무', '처', '조명', '인재', '개발', '원장', '김상', '길', '상수도', '사업', '본부장', '상주', '영종', '청라', '사업', '본부장', '균', '종합', '건설', '본부장', '박만희', '정책', '기획', '관', '인권', '신규', '임용', '비서실', '김진희', '중소기업', '중앙회', '상임', '감사', '김', '병안', '중소기업', '연구원', '전보', '부원장', '김세종', '정책', '본부장', '이동주', '실장', '김선화', '승진', '연구', '위원', '노', '민선', '한국', '문화', '관광', '연구원', '관광', '산업', '연구실', '지역', '관광', '기획', '평가', '센터', '김향', '융합', '연구실', '국제', '교류', '교육', '센터', '심', '남', '기획', '정실', '홍보', '협력', '팀', '김종진', '한국', '석유', '관리원', '전보', '팀', '기획', '예산', '강희', '미래', '전략', '김', '종렬', '정보기술', '서채완', '경영', '지원', '강', '다모', '인사', '관리', '한관욱', '재무관리', '신희승', '정책', '총괄', '정길', '수급', '정보', '동수', '고객', '관리', '강경선', '사업', '총괄', '강대', '혁', '시험', '관리', '이승우', '특수', '사업', '박준', '덕', '석유', '기술', '연구소', '석유', '에너지', '박천', '규', '석유', '대체연료', '임의', '순', '수도권', '남부', '본부', '검사', '최종', '운', '검사', '김정철', '시험', '분석', '흠', '수도권', '북부', '본부', '검사', '최', '남현', '검사', '김경훈', '시험', '분석', '현명', '대전', '충남', '본부', '검사', '고성', '욱', '검사', '김경수', '시험', '분석', '남궁', '호남', '본부', '검사', '황규', '섭', '검사', '김성수', '시험', '분석', '성광', '호', '전북', '본부', '검사', '김희', '균', '시험', '분석', '최성', '목', '영남', '본부', '검사', '진경', '록', '검사', '신중', '철', '시험', '분석', '현종', '철', '대구', '경북', '본부', '검사', '허정', '태', '검사', '권혁', '승', '시험', '분석', '운', '종합', '시험', '센터', '정광영', '한국', '화학', '연구원', '승진', '행정', '관리부장', '박종균', '영기획', '팀', '승목', '한국', '전자통신', '연구원', '신규', '콘텐츠', '연구소장', '황승구', '콘텐츠', '연구소', '기술', '본부장', '박상규', '차세대', '콘텐츠', '연구', '본부장', '한동원', '융합', '연구', '본부장', '정희', '범', '사이버', '보안', '연구', '본부장', '현숙', '협력', '팀', '장', '익', '건강', '보험', '심사평가원', '실장', '정보', '통신', '이재숙', '치료', '재료', '관리', '이병일', '심사', '기획', '김종철', '심사', '정숙', '급여', '평가', '이태', '선', '의약품', '관리', '종합', '정보', '센터', '송재', '상근', '심사', '위원', '진료', '심사평', '위원회', '중앙', '심사', '위원회', '신', '한국전력', '기술', '전보', '처', '기획', '엄호', '섭', '경영', '지원', '유홍', '재', '인사', '장진영', '플랜트', '사업', '개발', '김재원', '원자로', '광원', '품질', '안전', '환경', '김응조', '실장', '노사', '협력', '유선', '용', '계약', '길', '지원', '윤재', '원자력', '사업', '관리', '이강진', '플랜트', '이정열', '원자로', '김동섭', '미래', '전력', '기술', '연구소', '기술', '전략', '주승', '철', '홍보', '양재영', '그룹', '기계', '기술', '장', '명근', '사업', '관리', '기술', '이용', '특수', '기술', '김남곤', '기계설계', '대희', '안전', '해석', '김신', '환', '원장', '기인', '재개발', '교육', '정기', '애', '센터', '안전', '옥', '소장', '미래', '전력', '기술', '연구', '황', '해룡', '사업', '책임자', '기준서', '터키', '투판', '박희', '웅', '오산', '병합', '김부', '평창', '풍력', '최효증', '가동', '원전', '손종', '주', '신고리', '원자로', '계통', '설계', '전성환', '추진', '반장', '지원', '김학철', '세네갈', '탄화', '김호기', '한국', '수력', '원자력', '승진', '처', '기술', '전략', '이승철', '수력', '양수', '이충근', '고리', '원자력', '본부', '대외협력', '순록', '신고', '리제', '발전소', '시운전', '실', '지원', '팀', '이희선', '한빛', '원자력', '본부', '대외협력', '김재혁', '단장', '구매', '사업', '손태', '경', '실장', '위기', '관리', '김기남', '설비', '개선', '박충', '소장', '고리', '원자력', '본부', '제', '발전', '휘수', '신고리', '제', '발전', '도', '정열', '신고리', '제', '건설', '김종', '걸', '한빛', '원자력', '본부', '제', '발전', '김철', '준', '월성', '원자력', '본부', '제', '발전', '손도희', '원자력', '본부', '제', '발전', '반재', '건설', '양승현', '산청', '양수발전', '윤봉', '중앙', '연구원', '원자로', '안전', '연구', '배성만', '방사선', '환경', '연구', '황태', '본부장', '월성', '원자력', '윤청로', '원장', '인재', '개발', '박동원', '센터', '추진', '최성환', '팀', '사업', '박웅', '전보', '처', '기획', '이영일', '월성', '원자력', '본부', '대외협력', '병', '실장', '감사', '이인호', '원전', '사후관리', '노', '고리', '원자력', '본부', '신고', '리제', '건설', '소', '건설', '추진', '김상조', '중앙', '연구원', '구지원', '김기홍', '소장', '고리', '원자력', '본부', '제', '발전', '연석', '한빛', '원자력', '본부', '제', '발전', '균', '제', '발전', '송호', '월성', '원자력', '본부', '제', '발전', '왕기', '월성', '건설', '홍상', '옥', '원자력', '본부', '제', '발전', '박양', '기', '양수발전', '이방', '훈', '양수발전', '황', '선기', '청평', '양수발전', '설동욱', '삼랑진', '양수발전', '강', '모', '청송', '양수발전', '기복', '무주', '양수발전', '소성수', '팀', '건설', '기술', '처', '입지', '김홍', '묵', '한국', '산업', '인력', '공단', '승진', '급', '상당', '직업', '능력', '기획', '국장', '김현', '생', '능력', '평가', '기획', '공역', '기술', '자격', '출제', '실장', '황', '길주', '부산', '남부', '사장', '이명재', '경기', '북부', '이담', '철', '전북', '이용호', '취업', '기획', '팀', '최재', '자격', '설계', '운영', '홍', '정혁', '본부', '김성재', '이병철', '급', '상당', '비서실', '박태훈', '특정', '감사', '팀', '송길용', '고객', '센터', '이병욱', '정보화', '사업', '팀', '병규', '컨소시엄', '지원', '임승묵', '훈련', '품질', '향상', '정재', '일반', '기계', '임종', '진', '취업', '연수', '권', '목', '취업', '알선', '현태', '글로벌', '지원', '서성열', '외국인', '선발', '팀', '박', '규', '정보통', '팀', '이민주', '서울', '자격시험', '센터', '박명서', '울산', '지사', '홍길표', '부산', '자격시험', '센터', '이영재', '김성수', '전북지사', '임기', '제주', '지사', '강경', '종', '충북지사', '김기욱', '전보', '급', '상당', '정보화', '지원', '국장', '직업', '능력', '지원', '최희', '숙', '훈련', '품질', '향상', '센터', '봉', '외국인', '국장', '박찬', '섭', '직무', '능력', '표준', '원장', '구자', '길', '표준', '기획', '실장', '김병주', '표준', '개발', '실장', '환', '서울', '지역', '본부장', '변', '무장', '동부', '사장', '김세환', '서울', '남부', '서경식', '강원', '석', '강릉', '이재', '길', '자격시험', '센터', '임', '경식', '부산', '지역', '본부장', '김시', '태', '경남', '사장', '김태', '부산', '자격시험', '센터', '이한구', '경북', '사장', '엄홍석', '자격시험', '센터', '권영진', '성남', '사장', '김우현', '인천', '자격시험', '센터', '김병열', '광주', '김동호', '대전', '이철호', '급', '상당', '포항', '사장', '윤석호', '전남', '성모', '목포', '김희선', '서울', '지역', '본부', '직업', '능력', '개발', '팀', '전용덕', '부산', '지역', '본부', '직업', '능력', '개발', '팀', '동영', '대구', '지역', '본부', '김균', '현', '중부', '지역', '본부', '박영환', '광주', '지역', '본부', '창주', '감사', '팀', '염', '명국', '예산', '최종윤', '정보화', '기획', '중', '정보화', '사업', '은실', '능력', '개발', '기획', '장병', '현', '학습', '지원', '권', '상원', '지역', '산업', '지원', '신용철', '콘텐츠', '기획', '김종우', '직업', '방송', '이철민', '현장', '훈련', '모니터링', '문승현', '격', '훈련', '모니터링', '최석훈', '능력', '평가', '기획', '학기', '자격', '정보', '이기준', '전문', '자격', '송수', '응용', '공학', '유', '정보', '통신', '유', '명수', '건설', '환경', '김재', '생활과학', '고충', '국', '경제', '경영', '김홍', '달', '사회', '문화', '민찬홍', '출제', '발간', '센터', '민수영', '고용', '기획', '팀', '정', '응기', '외국인', '선발', '이찬우', '입국', '지원', '손규일', '고용체', '류지원', '김기우', '표준', '총괄', '기획', '고재', '철', '표준', '활용', '지원', '김진실', '표준', '개발', '이기우', '표준', '개발', '김', '병천', '표준', '개발', '양희경', '숙련', '기술', '기획', '윤수', '숙련', '기술', '진흥', '김동일', '기능', '경기', '양열', '글로벌', '협력', '홍제', '용', '서울', '지역', '본부', '안계', '철', '박', '원강', '윤상', '서울', '남부', '지사', '김용환', '강원', '지사', '김정희', '서울', '자격시험', '센터', '권', '오복', '박영', '표', '송', '태기', '김', '동구', '부산', '지역', '본부', '정봉주', '부산', '자격시험', '센터', '일동', '이상협', '경북', '지사', '권', '정기', '대구', '자격시험', '센터', '영기', '박문', '석', '경진', '중부', '지역', '본부', '휘', '경기', '지사', '박종규', '최용', '범', '경기', '북부', '지사', '광준', '박세훈', '성남', '지사', '남', '기석', '김훈', '인천', '자격시험', '센터', '김자', '회', '안병종', '효동', '창기', '광주', '지역', '본부', '정', '전북지사', '나웅', '민', '광주', '자격시험', '센터', '김용무', '김윤영', '김', '주', '박중훈', '김경', '택', '대전', '지역', '본부', '장호', '대전', '자격시험', '센터', '송성근', '정', '연우', '노', '홍기', '김병', '센터', '태국', '최상', '건', '파키스탄', '광', '서울', '아산병원', '관리', '본부장', '증연', '실장', '임종', '진', '운영', '지원', '실장', '이석우', '아산', '사회', '복지', '재단', '아산', '의료', '장보', '겸', '구매', '실장', '정길', '정읍', '아산병원', '실장', '겸', '부지역', '관리', '본부장', '황섭', '동아일보', '편집국', '편집', '부', '차장', '김영준', '조선일보', '이사', '주필', '편집', '송', '희영', '논설주간', '양상훈', '선거', '방송', '기획', '단장', '정연', '국', '보도국', '부국', '겸', '편집', '센터', '김대환', '선거', '방송', '기획', '부장', '김', '연석', '전보', '방송', '제작', '본부', '방송', '제작', '기획', '부장', '이창용', '교육', '다큐', '부장', '추', '덕담', '라디오', '부장', '김준', '범', '학교', '교육', '본부', '학교', '교육', '기획', '부장', '삼수', '수능', '교재', '기획', '부장', '강', '수용', '수능', '교육부', '강태욱', '초', '중학', '창의', '인성', '부장', '남선', '숙', '영어', '교육부', '형건', '융합', '기술', '본부', '기술', '기획', '부장', '균', '운영', '부장', '김', '식', '제작', '기술', '부장', '김', '남호', '콘텐츠', '사업', '본부', '성장', '기획', '부장', '기호', '콘텐츠', '사업', '부장', '김창용', '온라인교육', '사업', '부장', '이종호', '광고', '문화', '사업', '부장', '정책', '기획', '센터', '정책', '기획', '부장', '김유', '열', '콘텐츠', '기획', '센터', '편성', '기획', '부장', '김동관', '콘텐츠관리', '부장', '김경아', '센터', '인적자원', '부장', '문교', '병', '대외협력', '국', '사회', '협력', '부장', '정경', '란', '홍보', '부장', '서동원', '영상', '아트', '국', '영상', '그래픽', '부장', '상덕', '디지털', '통합', '사옥', '건설', '단', '부단장', '이상철', '심의', '시청', '자부', '부장', '심효무', '교육', '뉴스', '부', '부장', '김현', '이상', '센터', '재무회계', '부장', '강경호', '운영', '지원', '부장', '김정철', '이상', '승진', '방송', '제작', '본부', '교양', '문화', '부장', '정윤환', '진로', '직업', '청소년', '부장', '정성', '욱', '유아', '이특', '임국', '애니메이션', '부장', '정', '영홍', '유아', '어린이', '부장', '샘', '학교', '교육', '본부', '수학', '교육부', '이민수', '융합', '기술', '본부', '디지털', '영상', '부장', '태익', '디지털', '편집', '부장', '우동', '철', '중계', '부장', '김종무', '콘텐츠', '사업', '본부', '출판', '사업', '부장', '김창진', '콘텐츠', '기획', '센터', '글로벌', '콘텐츠', '부장', '이협희', '대외협력', '국', '대외협력', '부장', '송대', '갑', '영상', '아트', '국', '미술', '부장', '김진', '영상', '부장', '이창열', '스튜디오', '중계', '영상', '부장', '최', '진근', '교육방송', '연구소', '부소', '송', '경화', '감', '사실', '감사', '부장', '보경', '디지털', '통합', '사옥', '건설', '단', '부단장', '이동수', '스포츠서울', '승진', '부', '국장', '편집국', '경제사', '회부', '이평', '엽', '전략기획', '실', '재경부', '장', '재혁', '디지털타임스', '부장', '대우', '산업부', '임', '윤규', '이데일리', '티브이', '방송', '보도', '본부장', '이익', '준', '가천대', '부총', '조효숙', '컬', '부총', '겸', '가천', '뇌', '융합과학', '원장', '노', '홍', '기획', '부총', '최', '미리', '외부', '총장', '소진', '광', '대학원', '윤', '현희', '대학원', '겸', '대학', '윤', '태화', '교육대학', '원장', '변', '광화', '행정', '대학원', '송', '태수', '산업', '환경', '대학원', '겸', '건축', '대학', '이창수', '컬', '의학', '대학원', '박국', '컬', '간호', '대학원', '겸', '간호', '대학', '윤혜상', '컬', '보건', '대학원', '박하', '정', '특수', '치료', '대학원', '송양', '민', '사회과학', '대학', '한주', '인문', '대학', '탁', '성숙', '법', '대학', '서완석', '공과대학', '최기봉', '바이오', '나노', '대학', '박종현', '대학', '황보', '택근', '예술', '대학', '정충', '모', '컬', '약학', '대학', '김환', '묵', '컬', '보건', '과학', '대학', '겸', '도서관', '안성민', '글로벌', '교양', '학부', '정미라', '학생복', '처', '겸', '국제', '어학', '원장', '장일', '준', '입학처', '백승우', '교무', '처', '서상욱', '구처', '겸', '산학', '협력', '단장', '박상준', '기획처', '윤원중', '대학평가', '처', '총무처', '임영찬', '대외협력', '처', '겸', '방송국', '방송국', '교지', '편집', '실', '가천대', '신문사', '주간', '영', '국제', '교류', '처', '박선욱', '취업', '진로', '처', '강민', '중앙', '도서관', '혜경', '전산', '정보원', '명묵', '세명대', '저널리즘', '스쿨', '대학원', '이봉수', '학생', '처', '김기환', '입학', '관리', '처', '김지홍', '대외협력', '처', '취업', '처', '이준', '산학', '협력', '단장', '숙희', '평생교육', '원장', '정', '연우', '편집', '방송국', '김기태', '교양', '교육', '원장', '장승', '구', '학생', '생활', '연구소장', '경신', '장애', '학생', '센터', '권', '자영', '창', '기사', '추천', '인사', '교육부', '베스트', '추천', '뉴스', '정권', '권력', '사유화', '집권', '연장', '통한', '국민', '약탈', '전문', '송영길', '오죽', '민주당', '지지도', '윤석열', '부인', '내', '유흥주점', '접객', '기', '파일', '분통', '송평', '칼럼', '자영', '업자', '나라', '나라', '모습', '윤석열', '사람', '현직', '의원', '명', '누구', '서민', '인사', '수석', '책임', '주군', '동아일보', '차장', '및', '차장', '편집국', '디지털', '통합', '뉴스', '센터', '정미경', '편집', '부', '차장', '최성연', '정치', '조', '경제', '김상수', '소비자', '경제', '김상훈', '국제', '이진영', '사회', '양종', '구', '이태훈', '정책', '사회', '이동영', '스포츠', '이진구', '피니언', '팀', '정위', '용', '미래', '전략', '연구소', '성장동력', '팀', '하임', '숙', '채널', '차장', '보도', '본부', '디지털', '통합', '뉴스', '센터', '정미경', '소비자', '경제', '김상훈', '국제', '조수진', '정', '일동', '동아', '프린', '테크', '기사', '나', '국', '열띤', '토론', '끝', '김연주', '등', '명', '최종', '선발', '반나절', '피', '거리', '두기', '완화', '무산', '업계', '당황', '국장', '안산', '공장', '나인', '표', '부장', '충정로', '공장', '조권', '총무', '팀', '양희송', '동아', '팀', '수도', '고광택', '수도', '최민환', '영남', '염', '진태', '발송', '지원', '유동훈', '법무부', '승진', '기획', '재정', '담당', '관', '이상순', '정보화', '담당', '관실', '서인석', '전보', '창조', '행정', '담당', '관', '최', '정석', '감사', '담당', '관', '김태복', '법무연수원', '총무', '과장', '정훈', '교정', '훈련', '과장', '류지', '창조', '행정', '담당', '관실', '기관', '심경', '보', '감사', '담당', '관실', '김종관', '미래창조과학부', '전보', '창조경제', '기획', '국장', '오태석', '국토교통부', '국장', '비상', '안전', '기획', '관', '기정', '보건복지부', '질병', '관리', '본부', '긴급', '상황', '센터', '정은경', '기획', '조정', '과장', '손호준', '위기', '소통', '담당', '관', '위기', '대응', '총괄', '과장', '나', '성웅', '위기', '분석', '국제', '협력', '과장', '곽진', '자원', '관리', '과장', '이수연', '감염병', '진단', '관리', '과장', '유천', '국민', '안전', '처', '안전', '총괄', '기획', '관', '최', '복수', '중앙', '구조', '본부장', '조종묵', '전남도', '소방본부', '이형철', '법제처', '사회', '화법', '제국', '법', '제관', '배', '지숙', '금융', '위원회', '파견', '박명', '금', '식품의약품안전처', '전보', '과장', '식품', '안전', '정책', '국', '첨가', '물', '기준', '과장', '이창희', '인지', '방청', '수입', '식품', '분석', '김미혜', '금융', '위원회', '전보', '규제', '개혁', '법무', '담당', '관', '박명', '금', '언론', '중재', '위원회', '접수', '상담', '팀', '임종', '농촌진흥청', '승진', '도', '원장', '전라남도', '농업', '기술', '원장', '김성일', '과장', '농촌', '지원', '국', '농촌', '자원', '과장', '정충', '섭', '국립', '농업', '학원', '농업', '생명', '자원부', '생물소재', '공학', '윤수', '도', '국장', '경기도', '농업', '기술', '연구개발', '국장', '김순', '재', '강원도', '농업', '기술', '기술', '지원', '김태석', '부', '사관', '기획', '정관', '실', '창조', '행정', '법무', '담당', '관', '강민구', '기관', '감사', '담당', '관실', '심재덕', '기획', '정관', '실', '기획', '재정', '담당', '관실', '손영', '전보', '과장', '농촌', '지원', '국', '지도', '정책', '과장', '정준', '용', '기술', '보급', '김상', '남', '국립', '특작', '학원', '운영', '지원', '최동순', '국립', '축산', '학원', '기술', '지원', '이명숙', '서울시', '임명', '여성', '가족', '정책', '실장', '엄규숙', '근로', '복지', '공단', '임용', '광주', '지역', '본부장', '박', '규', '승진', '급', '창원', '사장', '정기', '배', '울산', '명옥재', '여수', '임화영', '제주', '김', '기오', '부산', '업무', '질병', '판정', '위원장', '홍덕', '창원', '병원', '행정부', '원장', '박', '호성', '대구', '하종', '호', '동해', '김', '우연', '급', '정보화', '본부', '전재용', '서울', '강남', '지사', '가입', '지원', '부장', '김임수', '서울', '남부', '재활', '보상', '동렬', '창원', '가입', '지원', '정', '식', '통영', '가입', '지원', '이인성', '목포', '재활', '보상', '김경자', '부산', '지역', '본부', '송무', '윤일', '인천', '병원', '무부', '김호윤', '창원', '권', '영태', '대구', '민현희', '대전', '장경근', '순천', '간호', '김미숙', '태백', '케어', '센터', '은숙', '전보', '본부장', '산업', '재해', '보상', '보험', '심사', '위원장', '정수', '급', '정보화', '본부장', '최창식', '국장', '이명수', '동부', '사장', '최창보', '서울', '서부', '김원혁', '서울', '남부', '김용', '문', '서울', '북부', '이경희', '서울', '관악', '임', '병', '서울', '서초', '최종진', '의정부', '김용철', '춘천', '유기성', '부산', '동부', '김진태', '부산', '북부', '홍경선', '양산', '규', '대구', '서부', '김용', '구미', '성덕', '환', '인천', '북부', '김춘희', '평택', '정', '동수', '안산', '이상호', '고양', '강성수', '익산', '박병일', '군산', '조창', '규', '천안', '우동', '보령', '송석', '경인', '업무', '질병', '판정', '위원장', '호동', '광주', '이청', '대전', '명수', '인천', '병원', '행정부', '원장', '이보현', '급', '부산', '중부', '사장', '김낙', '균', '울산', '객지', '센터', '정숙', '향', '인천', '전광환', '비서실', '총무', '부장', '최', '재석', '보수', '관리', '김만', '재활', '사업', '정식', '심사', '지원', '양민', '심사', '허정', '심사', '박의', '숙', '청렴', '윤리', '김재현', '서울', '지역', '본부', '가입', '지원', '안병로', '가입', '지원', '정일', '순', '재활', '보상', '박철민', '복지', '사업', '이준영', '서울', '동부', '지사', '가입', '지원', '윤', '인섭', '가입', '지원', '대희', '재활', '보상', '이병용', '서울', '서부', '시영', '서울', '남부', '가입', '지원', '우태', '서울', '남부', '가입', '지원', '최', '연호', '재활', '보상', '김종', '윤', '서울', '북부', '가입', '지원', '임용', '빈', '서울', '서초', '정', '석우', '의정부', '가입', '지원', '최종', '걸', '의정부', '재활', '보상', '김응', '춘천', '가입', '지원', '안일', '환', '강릉', '재활', '보상', '양웅', '렬', '원주', '가입', '지원', '김경자', '부산', '동부', '재활', '보상', '이종철', '부산', '북부', '박', '현', '울산', '재활', '보상', '김병일', '양산', '가입', '지원', '박영순', '양산', '재활', '보상', '손영희', '대구', '서부', '김', '주동', '수원', '재활', '보상', '권', '오목', '평택', '재활', '보상', '병진', '부천', '가입', '지원', '이수영', '부천', '재활', '보상', '엄주헌', '안양', '가입', '지원', '강재', '웅', '재활', '보상', '엄', '기행', '안산', '가입', '지원', '박', '태현', '재활', '보상', '김성길', '재활', '보상', '고리', '경', '고양', '가입', '지원', '심희', '선', '재활', '보상', '함준', '군산', '마심', '여수', '임채섭', '구미', '이성일', '대구', '지역', '본부', '가입', '지원', '김종승', '재활', '보상', '이기호', '재활', '보상', '송양', '종', '경인', '가입', '지원', '곽노혁', '재활', '보상', '김헌재', '재활', '보상', '강', '모', '부산', '업무', '질병', '판정', '위원회', '운영', '지원', '임', '철갑', '안산', '병원', '무부', '박종규', '창원', '영기획', '김광중', '대구', '영기획', '최', '순성', '정선', '경영', '지원', '송영식', '경기', '요양', '경영', '지원', '박명', '준', '재활', '공학', '연구소', '운영', '지원', '지식', '한국', '산업', '인력', '공단', '임용', '정직', '대전', '지역', '본부장', '엄', '주천', '승진', '급', '경남', '사장', '김동일', '경기', '북부', '김희선', '급', '감', '사실', '하필', '규', '무국', '장훈', '산업', '팀', '문승현', '학습', '운영', '상진', '외국인', '도입', '김호연', '글로벌', '협력', '양열', '서울', '센터', '이우진', '기술', '자격', '출제', '실', '유행', '석', '센터', '김동자', '서울', '동부', '지사', '주관', '경기', '유찬', '숙', '경북', '권', '형태', '경북', '동부', '이관구', '대전', '지역', '본부', '김준영', '전보', '급', '영기획', '실장', '최상', '건', '기술', '자격', '출제', '유', '자격', '혁신', '국장', '장덕', '호', '응용', '공학', '팀', '김재', '건설', '환경', '홍', '정혁', '글로벌', '숙련', '기술', '진흥', '원장', '전화', '익', '서울', '지역', '본부장', '김병주', '부산', '변', '무장', '강원', '동부', '사장', '박영환', '경북', '동부', '김우현', '경기', '동부', '박찬', '섭', '전남', '서부', '이담', '철', '서울', '지역', '본부', '직업', '능력', '개발', '팀', '손규일', '부산', '직업', '능력', '개발', '동영', '부산', '지역', '학습', '센터', '김현', '생', '대구', '직업', '능력', '개발', '팀', '박종규', '중부', '휘', '광주', '창기', '대전', '김균', '현', '급', '고객', '센터', '김', '동구', '미래', '전략', '팀', '김정우', '인재', '개발', '고재', '철', '지역', '지원', '윤', '재연', '사업', '훈련', '지원', '영', '컨소시엄', '지원', '박동준', '직업', '방송', '매체', '이채', '욱', '학습', '확산', '홍제', '용', '자격', '혁신', '승식', '생활과학', '용', '사회', '문화', '김홍', '달', '전문', '자격', '운영', '이병욱', '과정', '평가', '기준', '창열', '외국인', '보험', '교육', '최석훈', '해외', '취업', '알선', '이태형', '개발', '박', '규', '활용', '최용', '범', '지원', '정형', '철', '숙련', '기술', '총괄', '대형', '기능', '경기', '권', '상원', '글로벌', '지원', '서성열', '기획운영단', '김진실', '서울', '동부', '지사', '김동호', '서울', '남부', '전용덕', '강원', '김유진', '강원', '동부', '이기준', '박문', '석', '부산', '남부', '이동석', '민수영', '경남', '창성', '박교', '울산', '박태', '오', '경북', '장재', '원기', '경북', '동부', '최준희', '경기', '윤수', '채경수', '경기', '북부', '김기우', '경기', '동부', '문병', '돈', '이철민', '전북', '창주', '김', '주', '송수', '전남', '노상', '석', '최진규', '전남', '서부', '김운식', '김용무', '충북', '이명', '충남', '김종석', '서울', '지역', '본부', '김', '병천', '대구', '박종호', '송성근', '광주', '임기', '대전', '변상', '길', '태국', '센터', '임승묵', '캄보디아', '박태훈', '네팔', '김기욱', '몽골', '김성은', '방글라데시', '임충', '키르기스스탄', '이경희', '국민', '건강', '보험', '공단', '승진', '급', '부산', '중부', '사장', '홍', '부산', '사상', '신동', '효', '간호', '간병', '통합', '서비스', '확대', '추진', '반장', '고영', '울산', '남부', '사장', '김재훈', '창원', '마산', '정기', '홍', '군산', '김덕용', '부산진구', '안명근', '용인', '서부', '박은주', '경기', '광주', '권', '박', '전보', '본부장', '서울', '지역', '본부장', '진종오', '부산', '지역', '전종', '갑', '기획', '조정', '실장', '임재', '룡', '인력', '지원', '조진호', '급', '파주', '사장', '정영선', '송파', '조영남', '인천', '부평', '윤순', '석', '평택', '홍', '순경', '부산', '남부', '안병운', '부천', '북부', '김삼', '영', '성동', '안수민', '고양', '덕양', '정', '홍기', '청주', '서부', '길', '여수', '주인', '철', '강북', '명철', '업무', '혁신', '추진', '반장', '전용', '배', '고객', '지원', '실장', '최용', '선', '사장', '박두', '신', '마포', '권준석', '성북', '박종길', '구미', '최동훈', '인재', '개발', '원장', '무', '성남', '남부', '오인환', '감사', '실장', '김', '대용', '일산', '사장', '김동기', '강동', '이상돈', '인천', '남동', '박태', '부산', '동래', '장용', '옥', '경산', '청도', '민경', '울산', '중부', '강', '정선', '대구', '동부', '이동', '열', '대구', '중부', '강대성', '강남', '북부', '노상', '필', '인천', '계양', '김소망', '인천', '남부', '김창배', '김포', '이종균', '안양', '최호', '규', '광주', '서부', '송', '선근', '원주', '횡성', '인성', '급여', '보장', '실장', '장수', '목', '영등포', '남부', '사장', '이정호', '의정부', '홍', '삼', '남양주', '가평', '김정일', '한국', '장애인', '고용', '공단', '임용', '원장', '부산', '직업', '능력', '개발', '원장', '정', '대화', '대구', '신호', '대전', '이상택', '전남', '김덕', '윤', '승진', '급', '지사', '이계천', '급', '고용', '지원', '국', '기업', '지원', '부장', '손', '영배', '감', '사실', '부장', '상식', '고용', '개발', '조사통계', '부장', '강혜승', '경기', '지사', '기업', '지원', '전보영', '충남', '김', '대연', '전보', '급', '지사', '황보', '익', '서울', '남부', '김', '태양', '전북', '양종', '주', '경북', '홍두', '표', '급', '부산', '홍성훈', '광주', '김철원', '충북', '장', '동수', '충남', '라용', '경남', '이승', '용', '운영', '지원', '부장', '김대규', '취업', '지원', '김성', '일산', '직업', '능력', '개발', '직업', '처', '길', '대전', '홍력', '서울', '지사', '취업', '지원', '부장', '신명호', '서울', '남부', '어', '호선', '인천', '김진철', '울산', '송형범', '충남', '김동욱', '경기', '북부', '기업', '지원', '남명', '진', '제주', '지사', '취업', '지원', '오창식', '주택', '금융', '공사', '선임', '대변인', '겸', '홍보', '실장', '이종석', '전보', '지역', '본부장', '차', '경만', '박승창', '김갑', '유석희', '부장', '재무관리', '정정', '일', '소비자보호', '상연', '리스크', '관리', '곤', '정보', '전산', '임', '태완', '주택', '금융', '연구원', '석', '지점', '서울', '북부', '박금석', '서울', '동부', '박', '성재', '부산', '생현', '인천', '서성규', '광주', '김영환', '대전', '채석', '경기', '중부', '최혁', '순', '충북', '권오훈', '천안', '김익수', '전북', '이화', '균', '제주', '강희', '수', '채권', '관리', '센터', '휘', '한국', '전기', '안전', '공사', '승진', '급', '홍보', '실장', '박준현', '기획', '정처', '제도', '개선', '부장', '이범', '욱', '처', '총무', '현덕', '환', '안전', '관리', '처', '재난', '안전', '김', '중', '안전', '기획', '단장', '강대철', '천안', '산지', '사장', '이주호', '경남', '서부', '박희', '급', '갑', '비서실', '김희봉', '안전', '기획', '단', '안전', '서비스', '기획', '부장', '이세호', '처', '노무', '복지', '황제', '기술', '사업', '처', '검사', '김성주', '기술', '진단', '부장', '김진태', '성장동력', '처', '국제', '협력', '최병우', '대구', '경북', '지역', '본부', '지사', '문갑', '경남', '지역', '본부', '경남', '남부', '남근', '급', '기술', '사업', '처', '차장', '강수일', '감', '사실', '감사', '부', '정', '연관', '감사', '부', '영', '전력', '설비', '검사', '처', '발전', '사용', '검사', '부', '남기문', '서울', '지역', '본부', '서울', '서부', '지사', '고객', '지원', '부장', '강', '현경', '서울', '남부', '지사', '점검', '부장', '배병일', '경기', '북부', '지역', '본부', '파주', '고양', '지사', '노', '강원', '지역', '본부', '검사', '기술', '부장', '박병', '강원', '남부', '사장', '민병', '갑', '한국', '가스', '공사', '처', '실장', '법무', '실장', '박', '오근', '감사', '시호', '안전', '품질', '이승희', '관리', '처', '이승', '인사', '노무', '김천수', '기지', '지역', '본부장', '통영', '기지', '본부장', '홍종윤', '대구', '경북', '지역', '본부장', '박병선', '인천', '진봉', '부산', '경남', '범', '서울', '김병주', '한국', '원자력', '연구원', '연구개발', '부원장', '백원필', '본부장', '원자력', '안전', '연구', '송철화', '하나로', '이용', '연구', '정환', '원자력', '정책', '개발', '김현준', '단장', '핵연료', '기술', '개발', '양현', '원자력', '안전', '방호', '용범', '부장', '핵비', '확산', '시스템', '연구', '구정회', '경수로', '핵연료', '기술', '개발', '양재호', '수력', '안전', '연구', '최기용', '원자력', '환경', '안전', '연구', '문희', '중성자', '응용', '기술', '김명섭', '재료', '조사', '시험', '평가', '안', '상복', '성과', '확산', '장재호', '한국', '천문', '연구원', '선임', '본부장', '원용', '이론', '천문', '연구', '센터', '류', '동수', '한국', '과학기술', '연구원', '감사', '부장', '남동우', '기술', '사업', '단장', '최치호', '실장', '국제', '협력', '이돈', '재', '인재', '개발', '이창근', '문화', '홍보', '김영종', '인프라', '운영', '김범수', '기술', '사업', '임환', '전북', '분원', '구지원', '부장', '윤승', '뇌', '단장', '금', '교창', '분자', '인식', '연구', '센터', '최만호', '한국', '과학기술', '기획', '평가원', '실장', '성과', '확산', '김이경', '조사', '분석', '안병민', '지식', '정보', '김병수', '미래', '전략', '임성민', '기술', '예측', '이승', '룡', '팀', '기획', '예산', '전승수', '재정', '관리', '도계', '훈', '전략', '연구', '김용', '정', '한국', '에너지', '기술', '연구원', '감사', '부장', '이영진', '안전', '관리', '실장', '김병진', '한국', '화학', '연구원', '본부장', '그린', '화학', '소재', '연구', '최영민', '융합', '화학', '연구', '제갈', '종건', '경영', '지원', '조재영', '감사', '실장', '김상중', '시설', '안전', '관리', '센터', '박천', '규', '한국', '과학기술', '정보', '연구원', '센터', '슈퍼컴퓨터', '개발', '김성호', '가상', '설계', '김재성', '한국', '기계', '연구원', '경영', '부원장', '박희', '창', '한국', '감정', '심사', '공시', '본부장', '박상열', '사업', '김양수', '수도권', '김원식', '서남', '정찬', '윤', '동남권', '이희원', '기획', '조정', '실장', '김남수', '홍보', '한숙렬', '평가', '협력', '처', '강', '성덕', '보상', '사업', '본부장', '임병수', '부동산', '처', '조철희', '사업', '개발', '이재우', '녹색건축', '센터', '윤종돈', '연구개발', '실장', '김상윤', '부동산', '통계', '센터', '김세기', '동부', '사장', '박기석', '경기', '의정부', '서경', '강원', '강릉', '이성영', '대전', '홍성훈', '충남', '홍성', '권영식', '충북', '청주', '손', '배', '전남', '순천', '장덕', '전북', '전주', '정상', '규', '부산', '동부', '김열', '울산', '유은철', '경남', '진주', '황', '재창', '대구', '김성찬', '경북', '안동', '김경', '헌', '건강', '보험', '심사평가원', '승진', '실장', '수원지', '원장', '김진국', '인재', '경영', '실', '진선', '부장', '관리부장', '조회', '규', '상대', '가치', '개발', '문경', '한국', '체육', '산업', '개발', '전보', '사업', '운영', '실장', '권창', '사업', '팀', '은', '시설', '안전', '김병현', '공원', '시설', '이성', '로', '시설', '지원', '이상훈', '공원', '사업', '이화', '종', '스포츠', '교실', '백종', '필', '분당', '올림픽', '스포츠', '센터', '운영', '박', '원선', '승진', '분당', '올림픽', '스포츠', '센터', '관장', '박승호', '명품', '공원', '팀', '성주', '수협', '중앙회', '승진', '부장', '조합', '자금', '부장', '박현호', '조합', '금융', '리스크', '관리', '실장', '송현규', '경남', '지역', '본부장', '김명철', '경제', '기획', '부장', '김시종', '가공', '물류', '박종근', '선원', '지원', '실장', '이승', '룡', '팀', '급', '홍보팀', '박정순', '공제', '기획', '김상진', '인천', '어업', '정보통', '국장', '김정섭', '전산', '팀', '이창', '헌', '보험', '상품', '영', '양식', '보험', '성용', '전북', '보험', '부장', '박종선', '주식', '운용', '팀', '김인', '교', '운용', '기획', '정종', '조합', '정보', '윤진', '철', '방송', '서재', '공판', '이용호', '상품', '개발', '팀', '강혁', '수급', '관리', '김정우', '중국', '청도', '대표', '처', '소장', '이정', '회원', '원부', '박', '중', '김풍', '경제', '기획', '부', '임구', '수', '전보', '부장', '자재', '사업', '부장', '민봉', '상호금융', '욱', '팀', '급', '상품', '영업', '팀', '기흥', '리스크', '관리', '김동섭', '어촌', '지원', '단장', '오승택', '보험', '관리', '팀', '사익', '신지원', '박용규', '기금', '관리', '홍보', '안전', '조업', '상황', '실장', '강훈', '조합', '감', '사실', '최광', '회원', '원부', '다윗', '사무소', '강원', '보험', '부장', '김성훈', '북부', '물류', '센터', '박종순', '포항', '어업', '정보통', '국장', '김성훈', '구리', '공판', '김경범', '전주', '배철', '보직', '부여', '부장', '홍보', '실장', '전대', '교육', '부장', '무부', '국방', '대학교', '안보', '과정', '정지열', '금융', '수원', '교육', '봉', '금융', '수원', '교육', '김삼', '팀', '급', '무부', '교육', '이창우', '금융', '수원', '교육', '훈', '직무', '대행', '부장', '수산', '연구원', '직무', '대행', '김현', '용', '한국', '일보', '주필', '황영식', '논설', '실장', '이계', '편집국', '황상', '진', '논설', '위원', '고재학', '박', '광희', '서울', '신문', '국장', '광고', '국장', '주병철', '부국', '논설', '위원', '최광', '숙', '편집국', '사회', '부', '김상화', '한종', '독자', '서비스', '국', '공보', '전략', '부', '부산', '사장', '한철', '부장', '경제정책', '부', '김성수', '경제정책', '부', '선임', '기자', '류', '찬희', '금융', '부장', '안', '미현', '부장', '편집', '부', '신동원', '정치', '부', '차장', '이지운', '김상연', '사회', '부', '한준', '규', '강원', '황경근', '체육부', '현석', '영업', '팀', '김', '은실', '발송', '부장', '김용덕', '운용', '팀', '정광수', '한겨레신문', '디지털', '미디어', '사업', '국', '모바일', '사업', '담당', '부국', '겸', '기획', '사업', '부장', '박', '기획', '사업', '팀', '선재', '사업', '팀', '유', '제호', '문화', '사업', '팀', '김명희', '독자', '서비스', '국', '수도권', '영업', '부장', '장봉국', '지방', '영업', '부장', '안덕귀', '영남', '팀', '이명기', '호남', '팀', '김용배', '판매관리', '팀', '김태영', '전략기획', '실', '영기획', '부장', '서기철', '예산', '기획', '팀', '송방용', '실', '주주', '서비스', '부장', '송제영', '한국', '경제', '신문', '편집국', '사무국', '이광', '국', '시사', '제작', '부장', '장형', '디지털', '술국', '송출', '부장', '이원영', '경인', '지사', '남용', '국장', '김', '학구', '서울', '미디어', '그룹', '화사', '실', '전무', '정영기', '만화', '사업', '본부', '상무', '최원영', '전략기획', '실', '상무', '심정', '섭', '우먼', '센스', '편집', '팀', '국장', '대우', '이창훈', '그', '치아', '편집', '팀', '안성현', '인사', '팀', '국견', '아동', '기획', '팀', '부장', '대우', '안', '남', '출판', '팀', '수경', '우먼', '센스', '광고', '팀', '박재원', '출판', '영업', '팀', '이풍', '현', '일요신문', '편집', '본부', '대우', '김원', '취재', '팀', '부장', '대우', '이성', '로', '편집', '팀', '부장', '대우', '채', '광고', '팀', '김영웅', '김', '시사저널', '광고', '팀', '부장', '대우', '장순', '호', '시사', '비즈', '대표이사', '병구', '대구시', '급', '의회', '사무', '처', '서상우', '급', '도시', '재창', '조국', '김수경', '대변인', '직무', '대리', '최희송', '자치행정', '국장', '재경', '건설', '본부장', '직무', '대리', '김광', '철', '북구', '청장', '김철', '섭', '경북', '급', '동해안', '발전', '본부장', '직무', '대리', '서원', '지방', '공무원', '교육', '원장', '김원석', '의회', '사무', '처', '총무', '담당', '관', '안', '효영', '경주', '부시장', '이상', '욱', '경산', '열', '영주', '민', '인기', '곡부', '군수', '박기원', '급', '부시장', '김재광', '진부', '군수', '김성현', '고려대', '평생교육', '원장', '이천희', '경상대', '학장', '법대', '김태', '수의', '민원기', '해양', '과학', '김정균', '전남대', '공학', '대학', '임창균', '수산', '학장', '장덕', '종', '조선대', '구처', '겸', '산학', '협력', '단장', '유진', '철', '창', '기사', '추천', '인사', '동아일보', '베스트', '추천', '뉴스', '정권', '권력', '사유화', '집권', '연장', '통한', '국민', '약탈', '전문', '송영길', '오죽', '민주당', '지지도', '윤석열', '부인', '내', '유흥주점', '접객', '기', '파일', '분통', '송평', '칼럼', '자영', '업자', '나라', '나라', '모습', '윤석열', '사람', '현직', '의원', '명', '누구', '서민', '인사', '수석', '책임', '주군']\n"
     ]
    }
   ],
   "source": [
    "from konlpy.tag import Twitter\n",
    "open_text_file = open(keyword + \".txt\", 'r', encoding=\"utf8\")\n",
    "text = open_text_file.read()\n",
    "spliter = Twitter()\n",
    "nouns = spliter.nouns(text)\n",
    "open_text_file.close()\n",
    "print(nouns)"
   ]
  },
  {
   "cell_type": "markdown",
   "metadata": {},
   "source": [
    "#### 단어 개수 세기"
   ]
  },
  {
   "cell_type": "code",
   "execution_count": 21,
   "metadata": {},
   "outputs": [
    {
     "name": "stdout",
     "output_type": "stream",
     "text": [
      "전체 단어 개수: 8639\n",
      "중복 제거 후 개수: 2504\n",
      "<FreqDist with 2504 samples and 8639 outcomes>\n"
     ]
    }
   ],
   "source": [
    "import nltk\n",
    "ko = nltk.Text(nouns, name='박문석')\n",
    "print('전체 단어 개수:', len(ko.tokens))\n",
    "print('중복 제거 후 개수:', len(set(ko.tokens)))\n",
    "#단어 별 등장 횟수\n",
    "print(ko.vocab())"
   ]
  },
  {
   "cell_type": "markdown",
   "metadata": {},
   "source": [
    "#### 단어 개수 별 시각화"
   ]
  },
  {
   "cell_type": "code",
   "execution_count": 22,
   "metadata": {},
   "outputs": [
    {
     "data": {
      "image/png": "[encoded data removed]",
      "text/plain": [
       "<Figure size 864x432 with 1 Axes>"
      ]
     },
     "metadata": {
      "needs_background": "light"
     },
     "output_type": "display_data"
    }
   ],
   "source": [
    "plt.figure(figsize=(12,6))\n",
    "ko.plot(50)\n",
    "plt.show()"
   ]
  },
  {
   "cell_type": "markdown",
   "metadata": {},
   "source": [
    "#### 불용어 제거"
   ]
  },
  {
   "cell_type": "code",
   "execution_count": 23,
   "metadata": {},
   "outputs": [
    {
     "name": "stdout",
     "output_type": "stream",
     "text": [
      "['한국', '산업', '인력', '공단', '임용', '정직', '대전', '지역', '본부장', '엄', '주천', '승진', '경남', '사장', '김동일', '경기', '북부', '김희선', '감', '사실', '하필', '규', '무국', '장훈', '산업', '문승현', '학습', '운영', '상진', '외국인', '도입', '김호연', '글로벌', '협력', '양열', '서울', '센터', '이우진', '기술', '자격', '출제', '유행', '석', '센터', '김동자', '서울', '동부', '지사', '주관', '경기', '유찬', '숙', '경북', '권', '형태', '경북', '동부', '이관구', '대전', '지역', '본부', '김준영', '전보', '영기획', '실장', '최상', '건', '기술', '자격', '출제', '유', '자격', '혁신', '국장', '장덕', '호', '응용', '공학', '김재', '건설', '환경', '홍', '정혁', '글로벌', '숙련', '기술', '진흥', '원장', '전화', '익', '서울', '지역', '본부장', '김병주', '부산', '변', '무장', '강원', '동부', '사장', '박영환', '경북', '동부', '김우현', '경기', '동부', '박찬', '섭', '전남', '서부', '이담', '서울', '지역', '본부', '직업', '능력', '개발', '손규일', '부산', '직업', '능력', '개발', '동영', '부산', '지역', '학습', '센터', '김현', '생', '대구', '직업', '능력', '개발', '박종규', '중부', '휘', '광주', '창기', '대전', '김균', '현', '고객', '센터', '동구', '미래', '전략', '김정우', '인재', '개발', '고재', '지역', '지원', '윤', '재연', '사업', '훈련', '지원', '영', '컨소시엄', '지원', '박동준', '직업', '방송', '매체', '이채', '욱', '학습', '확산', '홍제', '용', '자격', '혁신', '승식', '생활과학', '용', '사회', '문화', '김홍', '달', '전문', '자격', '운영', '이병욱', '과정', '평가', '기준', '창열', '외국인', '보험', '교육', '최석훈', '해외', '취업', '알선', '이태형', '개발', '박', '규', '활용', '최용', '범', '지원', '정형', '숙련', '기술', '총괄', '대형', '기능', '경기', '권', '상원', '글로벌', '지원', '서성열', '기획운영단', '김진실', '서울', '동부', '지사', '김동호', '서울', '남부', '전용덕', '강원', '김유진', '강원', '동부', '이기준', '박문', '석', '부산', '남부', '이동석', '민수영', '경남', '창성', '박교', '울산', '박태', '오', '경북', '장재', '원기', '경북', '동부', '최준희', '경기', '윤수', '채경수', '경기', '북부', '김기우', '경기', '동부', '문병', '돈', '이철민', '전북', '창주', '주', '송수', '전남', '노상', '석', '최진규', '전남', '서부', '김운식', '김용무', '충북', '이명', '충남', '김종석', '서울', '지역', '본부', '병천', '대구', '박종호', '송성근', '광주', '임기', '대전', '변상', '길', '태국', '센터', '임승묵', '캄보디아', '박태훈', '네팔', '김기욱', '몽골', '김성은', '방글라데시', '임충', '키르기스스탄', '이경희', '창', '기사', '추천', '인사', '한국', '산업', '인력', '공단', '베스트', '추천', '뉴스', '정권', '권력', '사유화', '집권', '연장', '통한', '국민', '약탈', '전문', '송영길', '오죽', '민주당', '지지도', '윤석열', '부인', '내', '유흥주점', '접객', '기', '파일', '분통', '송평', '칼럼', '자영', '업자', '나라', '나라', '모습', '윤석열', '사람', '현직', '의원', '명', '누구', '서민', '인사', '수석', '책임', '주군', '한국', '중부', '발전', '감', '사실', '감사', '총괄', '김정환', '센터', '정보보안', '담당', '진규', '글로벌', '전략', '사업', '총괄', '유병육', '사업', '금융', '담당', '유민수', '사업', '운영', '이성재', '기획처', '전략기획', '박익', '규', '대외협력', '여창', '규', '재무', '예산', '황', '장용', '회계', '결산', '담당', '김경수', '조직', '인사', '최', '중창', '연료', '자원', '이종국', '연료', '구매', '담당', '박', '경우', '발전', '안전', '운영', '정승교', '동반성', '추진', '이호', '태', '건설', '이윤', '덕', '기술', '하관', '호', '사옥', '건설', '실장', '재순', '담당', '이병훈', '보령', '화', '본부', '연료', '홍훈식', '보령', '화', '본부', '총무', '기획', '이정주', '자재', '구매', '이정', '균', '지역', '협력', '정', '돌', '기술', '지원', '환경', '관리', '이정열', '민원', '담당', '동호', '시설', '관리', '임', '석', '기술', '전문', '달재', '제', '발전소', '발전', '운영', '실장', '최영일', '발전', '운영', '배상', '구', '보일러', '배상', '구', '터빈', '함광영', '제', '발전소', '임철규', '화학', '기술', '박원규', '복합', '발전소', '기계', '김호', '빈', '전기', '박명수', '계', '제어', '김창식', '교육', '교육', '총괄', '홍정표', '교수', '이형우', '인천', '화', '본부', '안전', '품질', '홍은기', '미래', '성장', '정창길', '총무', '조성준', '자재', '강만석', '발전소', '발전', '운영', '실장', '김호', '걸', '기계', '강동', '섭', '울화', '미래', '성장', '김원', '용', '기계', '진국', '계전', '김현수', '건설', '관리', '기전', '김흥록', '토건', '박', '영', '천화', '미래', '성장', '김재영', '총무', '발전', '운영', '실장', '곽홍근', '기계', '박문', '석', '환경화학', '이승준', '주화', '총무', '광', '미래', '성장', '김용철', '기계', '계전', '김용복', '보령', '건설', '본부', '관리', '박종', '토건', '정학', '해상', '이상', '곤', '설계', '임의', '세종', '병합', '건설', '시운전', '남궁', '발전', '회사', '협력', '본부', '협력', '총괄', '담당', '강석', '기사', '나', '국', '열띤', '토론', '끝', '김연주', '등', '명', '최종', '선발', '반나절', '피', '거리', '두기', '완화', '무산', '업계', '당황', '창', '기사', '추천', '인사', '한국', '중부', '발전', '베스트', '추천', '뉴스', '정권', '권력', '사유화', '집권', '연장', '통한', '국민', '약탈', '전문', '송영길', '오죽', '민주당', '지지도', '윤석열', '부인', '내', '유흥주점', '접객', '기', '파일', '분통', '송평', '칼럼', '자영', '업자', '나라', '나라', '모습', '윤석열', '사람', '현직', '의원', '명', '누구', '서민', '인사', '수석', '책임', '주군', '지난달', '한라산', '구미', '에베레스트', '원정', '왼쪽', '정용규', '권정옥', '대원', '장', '무', '등반', '대장', '강경', '숙', '대원', '구미시', '제공', '경북', '구미시', '시', '승격', '주년', '기념', '에베레스트', '원정', '대가', '오후', '구미시청', '대강', '출정', '연', '남유진', '구미시장', '김익수', '의회', '의장', '최성모', '산악', '연맹', '구미', '연맹', '회장', '등', '여', '명', '참석', '등반', '성공', '기원', '원정', '장', '무', '등반', '대장', '과', '박문', '석', '송준교', '정용규', '강경', '숙', '여', '권정옥', '대원', '여', '등', '시민', '명', '구성', '달', '동안', '네팔', '히말라야', '에베레스트', '정상', '도전', '장', '대장', '정상', '구미시', '깃발', '고', '말', '구미시', '구미', '산악', '연맹', '시', '승격', '주년', '기념', '사업', '세계', '대륙', '최고봉', '원정', '계획', '해', '유럽', '옐', '브루스', '아프리카', '킬리만자로', '지난해', '북아메리카', '매킨리', '정상', '등반', '올해', '에베레스트', '내년', '남아메리카', '콩카', '오세아니아', '카', '스턴', '스', '피라미드', '남극', '빈슨매시프', '목표', '구미', '당시', '선산군', '구미읍', '칠곡군', '인동', '면', '시로', '승격', '구미', '산악', '연맹', '대원', '명', '시', '승격', '주년', '기념', '히말라야', '산맥', '개', '고봉', '가운데', '번', '초오유', '정상', '시민', '여', '명의', '소원', '편지', '타임캡슐', '이', '캡슐', '시', '승격', '주년', '개봉', '예정', '기사', '나', '국', '열띤', '토론', '끝', '김연주', '등', '명', '최종', '선발', '반나절', '피', '거리', '두기', '완화', '무산', '업계', '당황', '장영훈', '기자', '창', '기사', '추천', '대구', '경북', '구미', '에베레스트', '원정', '출정', '베스트', '추천', '뉴스', '정권', '권력', '사유화', '집권', '연장', '통한', '국민', '약탈', '전문', '송영길', '오죽', '민주당', '지지도', '윤석열', '부인', '내', '유흥주점', '접객', '기', '파일', '분통', '송평', '칼럼', '자영', '업자', '나라', '나라', '모습', '윤석열', '사람', '현직', '의원', '명', '누구', '서민', '인사', '수석', '책임', '주군', '경찰청', '총경', '전보', '청', '미래', '발전', '담당', '조병', '노', '교육', '담당', '최석', '환', '사구조', '개혁', '임', '성덕', '위기', '관리', '센터', '김준철', '항공', '과장', '이자', '기획', '인터폴', '파견', '근원', '경찰대', '학생', '과장', '김창룡', '치안', '정책', '연구소', '진정', '무', '운영', '지원', '교육', '대용', '경찰', '교육', '교무', '과장', '이익훈', '중앙', '경찰', '학교', '운영', '지원', '과장', '연태', '경찰병원', '총무', '과장', '준태', '서울', '청', '경무', '청와대', '위기', '관리', '파견', '김진홍', '경무', '지방자치', '발전', '추진단', '파견', '정병권', '수사', '금융', '위원회', '파견', '임', '홍기', '수사', '형사', '사법', '공통', '시스템', '운영', '단', '파견', '윤성혜', '제', '기동', '단장', '윤', '외출', '동작', '서장', '김원', '환', '광진', '서장', '남현', '금천', '서장', '천범녕', '방배', '서장', '박채', '완', '은평', '서장', '이문수', '경무', '교육', '최종', '유윤', '종', '치안', '도관', '김병기', '김준영', '송준섭', '정훈', '록', '부산', '청', '홍보', '담당', '안정', '용', '제', '정보화', '장비', '과장', '제', '교통', '과장', '양명욱', '제', '보안과장', '주전', '제', '외', '사과', '이순용', '중부', '서장', '이승재', '영도', '서장', '흥', '부서장', '환', '부서장', '김형철', '해운대', '서장', '창학', '금정', '서장', '환', '경무', '교육', '변항종', '정규', '열', '경무', '대기', '정용환', '이일우', '치안', '도관', '정재', '구청', '홍보', '담당', '정식', '정보화', '장비담당관', '최재천', '생활', '안전', '과장', '이창', '록', '수사과장', '이현희', '남부', '서장', '석봉', '달성', '서장', '원근', '경무', '교육', '배', '대희', '경무', '대기', '채', '한수', '치안', '도관', '윤', '종진', '정상진', '인천', '청', '경무', '과장', '황경환', '생활', '안전', '과장', '권', '섭', '경비', '교통', '과장', '배영철', '정보', '과장', '배상훈', '산서', '조정', '필', '연수', '서장', '박승환', '경무', '교육', '정지용', '치안', '도관', '황', '창선', '광주', '청', '정보화', '장비담당관', '김창수', '생활', '안전', '과장', '김홍', '균', '수사과장', '김철우', '경비', '교통', '과장', '백혜웅', '정보', '과장', '김근', '부서장', '김재', '석', '남부', '서장', '이기', '옥', '광산', '서장', '김원', '국', '경무', '교육', '우형', '호', '이성순', '노', '규호', '경무', '대기', '한재', '숙', '치안', '도관', '전준호', '병률', '전청', '홍보', '담당', '김동락', '생활', '안전', '과장', '김보', '수사과장', '태경', '환', '정보', '과장', '김재', '선', '보안과장', '박진규', '중부', '서장', '김경원', '부서장', '병환', '대덕', '서장', '동기', '경무', '교육', '김종식', '치안', '도관', '김광남', '산청', '홍보', '담당', '생활', '안전', '과장', '호', '정보', '과장', '곽예환', '보안과장', '이갑', '남부', '서장', '김창규', '경무', '교육', '오성', '치안', '도관', '경기', '청', '제', '정보화', '장비', '과장', '김성용', '제', '교통', '과장', '최정현', '제', '보안과장', '최영덕', '제', '외', '사과', '기철', '제', '청', '경무', '과장', '조용태', '제', '청', '경비', '교통', '과장', '김충환', '청사', '경비', '대장', '박', '배', '수원', '부서장', '이명', '균', '안양', '안', '서장', '왕민', '부천', '서장', '김수희', '부천', '정서', '오성환', '화성', '부서장', '욱', '안성', '서장', '김균', '양주', '서장', '평재', '고양', '서장', '형세', '포천', '서장', '우희주', '동두천', '서장', '추수호', '경무', '대기', '노혁우', '신동호', '고경철', '치안', '도관', '김기동', '이수경', '정방', '홍', '곤', '강원', '청', '청문', '감사', '담당', '고창', '윤', '생활', '안전', '과장', '지호', '수사과장', '곽', '경호', '경비', '교통', '과장', '김광식', '춘천', '서장', '손호중', '동해', '서장', '이철민', '속초', '서장', '최승렬', '영월', '서장', '강도희', '홍천', '서장', '이의', '신', '화천', '서장', '전용', '찬', '서장', '장', '신중', '경무', '교육', '이인상', '윤치원', '경무', '대기', '엄', '영민', '김종관', '치안', '도관', '김희중', '충북', '청', '홍보', '담당', '윤중섭', '청문', '감사', '담당', '현종', '경무', '과장', '손', '종국', '정보화', '장비담당관', '김창수', '보안과장', '이찬', '규', '청주', '흥덕', '서장', '이동섭', '청주', '청', '남서', '강병로', '충주', '서장', '권수', '각', '서장', '박창호', '옥천', '서장', '이상수', '음성서', '홍기현', '경무', '교육', '이종원', '경무', '대기', '최길훈', '치안', '도관', '이병무', '최', '영', '충남', '청', '홍보', '담당', '송정', '애', '청문', '감사', '담당', '정', '두성', '정보화', '장비담당관', '배병철', '생활', '안전', '과장', '이재승', '수사과장', '이동주', '정보', '과장', '석', '천안', '서북서', '홍', '완선', '아산', '서장', '정권', '보령', '서장', '신주현', '당진', '서장', '유', '열', '부여', '서장', '이시준', '세종', '서장', '박종민', '경무', '교육', '김택준', '치안', '도관', '이준', '배', '북청', '청문', '감사', '담당', '이상주', '생활', '안전', '과장', '박', '수사과장', '강윤', '경', '경비', '교통', '과장', '최호', '순', '보안과장', '방', '춘원', '전주', '완산', '서장', '남', '정읍', '서장', '동봉', '남원', '서장', '김관', '김제', '서장', '최종', '문', '순창', '서장', '정진', '장수', '서장', '박', '훈기', '경무', '교육', '안상', '엽', '치안', '도관', '용기', '김주원', '박정근', '전남', '청', '청문', '감사', '담당', '김성열', '경무', '과장', '노재호', '정보화', '장비담당관', '박상우', '생활', '안전', '과장', '민', '성태', '수사과장', '권', '영만', '정보', '과장', '양성진', '보안과장', '김재', '병', '고흥', '서장', '안병갑', '장흥', '서장', '박', '병동', '보성', '서장', '김영근', '함평', '서장', '강', '칠원', '담양', '서장', '박지영', '완도', '서장', '나', '원오', '진도', '서장', '박', '주', '경무', '교육', '장효', '경무', '대기', '이윤', '황호', '선', '김치', '치안', '도관', '이용석', '이재영', '북청', '청문', '감사', '담당', '박효', '경주', '서장', '창학', '구미', '서장', '권', '오덕', '칠곡', '서장', '정태진', '청도', '서장', '조용성', '영덕', '서장', '김항곤', '영양', '서장', '정남', '군위', '서장', '강신', '걸', '울릉', '서장', '박도영', '경무', '교육', '김상렬', '이상현', '경무', '대기', '임', '주택', '이영태', '치안', '도관', '김병', '김병찬', '탁', '경남', '청', '홍보', '담당', '권창', '청문', '감사', '담당', '이병진', '정보화', '장비담당관', '이태규', '정보', '과장', '이희', '석', '외', '사과', '추', '문구', '창원', '부서장', '류재응', '김해', '부서장', '전병', '현', '진해', '서장', '최', '병부', '통영', '서장', '이준형', '고성', '서장', '김정', '완', '함안', '서장', '원호', '경무', '대기', '백광', '술', '치안', '도관', '김균', '주청', '홍보', '담당', '함', '배', '수사과장', '전재희', '경비', '교통', '과장', '이지', '정보', '과장', '강', '월진', '보안과장', '김학철', '해안', '경비', '단장', '영석', '부서장', '석홍', '한국', '산업', '인력', '공단', '승진', '서울', '지역', '본부', '종합', '지원', '이철호', '기술', '자격', '출제', '건설', '환경', '고충', '국', '훈련', '품질', '향상', '센터', '권', '상원', '숙련', '기술', '장려', '홍제', '용', '산업', '응용', '기준', '고재', '생활과학', '김미선', '취업', '연수', '염', '명국', '강릉', '지사', '동구', '김정희', '전보', '영기획', '실장', '전화', '익', '광주', '지역', '본부장', '김재복', '지사', '승종', '충북', '고창', '용', '울산', '김혜경', '전남', '이담', '광주', '지역', '본부', '종합', '지원', '유', '명수', '직업', '방송', '김균', '현', '능력', '평가', '기획', '공역', '전문', '자격', '성모', '자격', '동향', '분석', '김진실', '기계', '전자', '기준', '김희선', '취업', '교육', '손규일', '취업', '기획', '최재', '취업', '알선', '현태', '사회', '문화', '김홍', '달', '대구', '지역', '본부', '이운택', '경북', '지사', '박문', '석', '포항', '동영', '경기', '이수영', '성남', '이찬우', '경기', '북부', '문병', '돈', '목포', '정', '충남', '최정인', '채경수', '기사', '나', '국', '열띤', '토론', '끝', '김연주', '등', '명', '최종', '선발', '반나절', '피', '거리', '두기', '완화', '무산', '업계', '당황', '부산', '방송', '국', '보도국', '김지원', '특보', '철호', '보도국', '부국', '겸', '편집', '센터', '주간', '뉴스', '부장', '김대환', '보도국', '취재', '센터', '기획', '취재', '부장', '겸', '중부', '취재', '부장', '민병', '콘텐츠', '본부', '보도국', '정치', '부장', '이재웅', '편성', '국', '아나운서', '부장', '신지혜', '예술', '홍보', '디자인', '센터', '신승훈', '건설', '본부', '조형예술', '연구소', '디렉터', '세근', '예술', '공학', '센터', '디렉터', '김대', '홍', '한림대', '대외협력', '윤태일', '창', '기사', '추천', '인사', '경찰청', '베스트', '추천', '뉴스', '정권', '권력', '사유화', '집권', '연장', '통한', '국민', '약탈', '전문', '송영길', '오죽', '민주당', '지지도', '윤석열', '부인', '내', '유흥주점', '접객', '기', '파일', '분통', '송평', '칼럼', '자영', '업자', '나라', '나라', '모습', '윤석열', '사람', '현직', '의원', '명', '누구', '서민', '인사', '수석', '책임', '주군', '한국', '산업', '인력', '공단', '승진', '서울', '지역', '본부', '종합', '지원', '이철호', '기술', '자격', '출제', '건설', '환경', '고충', '국', '훈련', '품질', '향상', '센터', '권', '상원', '숙련', '기술', '장려', '홍제', '용', '산업', '응용', '기준', '고재', '생활과학', '김미선', '취업', '연수', '염', '명국', '강릉', '지사', '동구', '김정희', '전보', '영기획', '실장', '전화', '익', '광주', '지역', '본부장', '김재복', '지사', '승종', '충북', '고창', '용', '울산', '김혜경', '전남', '이담', '광주', '지역', '본부', '종합', '지원', '유', '명수', '직업', '방송', '김균', '현', '능력', '평가', '기획', '공역', '전문', '자격', '성모', '자격', '동향', '분석', '김진실', '기계', '전자', '기준', '김희선', '취업', '교육', '손규일', '취업', '기획', '최재', '취업', '알선', '현태', '사회', '문화', '김홍', '달', '대구', '지역', '본부', '이운택', '경북', '지사', '박문', '석', '포항', '동영', '경기', '이수영', '성남', '이찬우', '경기', '북부', '문병', '돈', '목포', '정', '충남', '최정인', '채경수', '기사', '나', '국', '열띤', '토론', '끝', '김연주', '등', '명', '최종', '선발', '반나절', '피', '거리', '두기', '완화', '무산', '업계', '당황', '창', '기사', '추천', '인사', '한국', '산업', '인력', '공단', '베스트', '추천', '뉴스', '정권', '권력', '사유화', '집권', '연장', '통한', '국민', '약탈', '전문', '송영길', '오죽', '민주당', '지지도', '윤석열', '부인', '내', '유흥주점', '접객', '기', '파일', '분통', '송평', '칼럼', '자영', '업자', '나라', '나라', '모습', '윤석열', '사람', '현직', '의원', '명', '누구', '서민', '인사', '수석', '책임', '주군', '법무부', '승진', '고위', '공무원', '부산', '출입국관리', '사무소', '이복남', '사관', '출입국관리', '사무소', '박찬호', '전보', '기관', '체류', '조사', '과장', '김창석', '외국인', '정책', '과장', '김종민', '국적', '난민', '과장', '이재', '유', '상공회의소', '인력', '발원', '임', '석순', '강원', '인력', '개발', '원장', '최', '대열', '사업', '실장', '황', '윤학', '기사', '나', '국', '열띤', '토론', '끝', '김연주', '등', '명', '최종', '선발', '반나절', '피', '거리', '두기', '완화', '무산', '업계', '당황', '한국', '관광', '공사', '전보', '뉴욕', '사장', '유세준', '중소기업', '진흥', '공단', '전보', '부서장', '비서실', '석동', '홍보', '실장', '김성규', '전북', '지역', '본부장', '권', '연수', '운영', '양해진', '부장', '기금', '관리', '신기철', '융자', '사업', '상식', '글로벌', '사업', '이수형', '서울', '지역', '본부', '반정식', '인천', '서부', '지부', '박', '창기', '승진', '부장', '감', '사실', '박선준', '산업', '전략', '이창섭', '글로벌', '사업', '정동호', '경기', '북부', '지부', '시호', '문', '이광진', '경북', '지역', '본부', '김지훈', '남상', '강원', '지역', '본부', '장익', '정', '울산', '지역', '본부', '김현우', '병', '국립공원', '관리', '공단', '탐방', '관리', '이사', '정현', '홍', '한국', '산업', '단지', '공단', '승진', '성장', '협력', '실장', '최수정', '부산', '사장', '박동', '전보', '상무이사', '경쟁력', '서비스', '본부장', '및', '수도권', '광역', '박', '남일', '입지', '서비스', '남재희', '경영', '전략', '진', '기우', '본부장', '서울', '지역', '임종인', '인천', '강달순', '경기', '최종', '태', '동남권', '황', '석주', '호남권', '이현수', '기획', '조정', '실장', '한지수', '행정', '지원', '윤동민', '재무', '심', '명주', '투자', '창업', '정인화', '기업', '인재', '박종일', '신입', '기획', '경범', '산업', '단지', '개발', '윤철', '미래', '경영', '전략', '안중', '헌', '산업', '입지', '경쟁력', '연구소장', '조성태', '감사', '실장', '박찬', '득', '비서', '홍보', '직', '박성', '길', '기획', '김흥철', '성과', '평가', '관리', '박진만', '운영', '지원', '김민철', '투자', '관리', '도정', '환', '세무', '회계', '오맹근', '자산운용', '손창국', '창업', '공장', '설립', '마동', '투자', '촉진', '배은희', '개성', '사장', '송', '병태', '클러스터', '사업', '김재형', '녹색', '사업', '김흥수', '인재', '애로', '개선', '기업', '투어', '김동빈', '지역', '투자', '지원', '황상현', '입지', '전략', '이동찬', '사업', '양기주', '계획', '개발', '윤정', '목', '보상', '분양', '김수', '김해', '사업', '단장', '윤호상', '오송', '아산', '사업', '김종', '율', '사업', '김호중', '미래', '사업', '류', '현', '사회', '공헌', '윤선', '산업', '동향', '권', '기용', '입지', '연구', '조혜영', '서울', '지역', '본부', '기획', '총괄', '고객', '지원', '김재', '클러스터', '운영', '염', '동일', '파주', '사장', '김종운', '인천', '지역', '본부', '기획', '총괄', '노', '고객', '지원', '강희', '집', '클러스터', '운영', '임', '경호', '안지', '사장', '안성기', '부평', '백웅호', '기지역', '본부', '기획', '총괄', '성용', '고객', '지원', '김성기', '클러스터', '운영', '안상진', '시화', '사장', '이화', '종', '평택', '김문수', '충청권', '본부', '기획', '총괄', '류정민', '충북지사', '효균', '당진', '조호', '대경권', '본부', '고객', '최효원', '클러스터', '운영', '이주석', '지사', '김규', '돈', '동남권', '본부', '기획', '총괄', '손', '규', '고객', '지원', '정창운', '클러스터', '운영', '김병오', '부산', '고객', '지원', '어수우', '울산', '사장', '이장훈', '울산', '클러스터', '운영', '임원', '택', '호남권', '본부', '기획', '총괄', '안영근', '고객', '지원', '손', '성운', '클러스터', '운영', '기진', '군산', '사장', '이정환', '군산고', '객지', '문경진', '군산', '클러스터', '운영', '박종룡', '불지사', '김옥선', '대불', '객지', '장성일', '대불', '클러스터', '운영', '강양구', '광양', '사장', '장행', '강원', '본부', '기획', '총괄', '방재', '동해', '사장', '은', '세균', '한국', '중부', '발전', '감', '사실', '감사', '총괄', '김정환', '센터', '정보보안', '담당', '진규', '글로벌', '전략', '사업', '총괄', '유병육', '사업', '금융', '담당', '유민수', '사업', '운영', '이성재', '기획처', '전략기획', '박익', '규', '대외협력', '여창', '규', '재무', '예산', '황', '장용', '회계', '결산', '담당', '김경수', '조직', '인사', '최', '중창', '연료', '자원', '이종국', '연료', '구매', '담당', '박', '경우', '발전', '안전', '운영', '정승교', '동반성', '추진', '이호', '태', '건설', '이윤', '덕', '기술', '하관', '호', '사옥', '건설', '실장', '재순', '담당', '이병훈', '보령', '화', '본부', '연료', '홍훈식', '보령', '화', '본부', '총무', '기획', '이정주', '자재', '구매', '이정', '균', '지역', '협력', '정', '돌', '기술', '지원', '환경', '관리', '이정열', '민원', '담당', '동호', '시설', '관리', '임', '석', '기술', '전문', '달재', '제', '발전소', '발전', '운영', '실장', '최영일', '발전', '운영', '배상', '구', '보일러', '배상', '구', '터빈', '함광영', '제', '발전소', '임철규', '화학', '기술', '박원규', '복합', '발전소', '기계', '김호', '빈', '전기', '박명수', '계', '제어', '김창식', '교육', '교육', '총괄', '홍정표', '교수', '이형우', '인천', '화', '본부', '안전', '품질', '홍은기', '미래', '성장', '정창길', '총무', '조성준', '자재', '강만석', '발전소', '발전', '운영', '실장', '김호', '걸', '기계', '강동', '섭', '울화', '미래', '성장', '김원', '용', '기계', '진국', '계전', '김현수', '건설', '관리', '기전', '김흥록', '토건', '박', '영', '천화', '미래', '성장', '김재영', '총무', '발전', '운영', '실장', '곽홍근', '기계', '박문', '석', '환경화학', '이승준', '주화', '총무', '광', '미래', '성장', '김용철', '기계', '계전', '김용복', '보령', '건설', '본부', '관리', '박종', '토건', '정학', '해상', '이상', '곤', '설계', '임의', '세종', '병합', '건설', '시운전', '남궁', '발전', '회사', '협력', '본부', '협력', '총괄', '담당', '강석', '전력거래소', '전력', '시장', '김용완', '계통', '운영', '송광헌', '정보기술', '이건웅', '천안', '사장', '권수', '제주', '전종', '택', '기획', '관리', '본부', '시장', '감시', '실장', '영태', '기획', '관리', '총무', '경무', '기획', '평가', '양재석', '홍보', '전략', '박', '종인', '인력', '개발', '김용준', '재무', '예산', '최상', '준', '추진', '진수', '전력', '계획', '전력', '계획', '성배', '수요', '예측', '전병', '규', '전력', '기술', '김홍근', '계통', '계획', '김태훈', '미래', '전략', '미래', '제도', '개발', '김은수', '스마트그리드', '문경섭', '해외', '사업', '통계', '정언', '진', '전력', '시장', '시장', '운영', '양민', '승', '시장', '정산', '임', '주성', '고객', '지원', '배병옥', '수요', '시장', '김홍희', '계통', '운영', '수급', '계획', '류성호', '계통', '기술', '주준영', '계통', '보호', '정재', '운영', '기준', '이진수', '정보기술', '기획', '운영', '손윤태', '계통', '시스템', '이명희', '시장', '시스템', '박용', '차기', '시스템', '김명', '웅', '정보보호', '이임', '섭', '중앙', '전력관', '센터', '급전', '운영', '우선', '송전', '운영', '조강', '욱', '급전', '훈련', '중선', '급전', '부장', '황경', '김대균', '이우용', '승구', '김민곤', '을지', '재단', '을지', '의료', '정책', '이사', '상영', '을지대', '기획', '정처', '홍보팀', '겸', '재단', '운영', '본부', '홍보', '기획', '윤', '두현', '재단', '운영', '본부', '의료', '섭', '을지', '병원', '홍보팀', '직무', '대리', '유병섭', '경기대', '본부', '대학', '겸', '교무', '명승', '운', '교무', '담당', '한경수', '미디어', '예술', '문화', '연구소장', '남상', '대체의학', '센터', '권윤중', '문화', '예술', '대학원', '부원장', '강혜련', '생활관', '박진환', '전산', '정보원', '부원장', '기동', '법', '대학', '및', '사회과학', '대학', '교학', '박준', '중앙', '도서관', '사서', '담당', '겸', '법인', '사무', '행정', '이창원', '상명대', '국어교육', '석좌교수', '박범신', '창', '기사', '추천', '인사', '법무부', '베스트', '추천', '뉴스', '정권', '권력', '사유화', '집권', '연장', '통한', '국민', '약탈', '전문', '송영길', '오죽', '민주당', '지지도', '윤석열', '부인', '내', '유흥주점', '접객', '기', '파일', '분통', '송평', '칼럼', '자영', '업자', '나라', '나라', '모습', '윤석열', '사람', '현직', '의원', '명', '누구', '서민', '인사', '수석', '책임', '주군', '한국', '산업', '인력', '공단', '승진', '상당', '직업', '능력', '기획', '국장', '김현', '생', '능력', '평가', '기획', '공역', '기술', '자격', '출제', '실장', '황', '길주', '부산', '남부', '사장', '이명재', '경기', '북부', '이담', '전북', '이용호', '취업', '기획', '최재', '자격', '설계', '운영', '홍', '정혁', '본부', '김성재', '이병철', '상당', '비서실', '박태훈', '특정', '감사', '송길용', '고객', '센터', '이병욱', '정보화', '사업', '병규', '컨소시엄', '지원', '임승묵', '훈련', '품질', '향상', '정재', '일반', '기계', '임종', '진', '취업', '연수', '권', '목', '취업', '알선', '현태', '글로벌', '지원', '서성열', '외국인', '선발', '박', '규', '정보통', '이민주', '서울', '자격시험', '센터', '박명서', '울산', '지사', '홍길표', '부산', '자격시험', '센터', '이영재', '김성수', '전북지사', '임기', '제주', '지사', '강경', '종', '충북지사', '김기욱', '전보', '상당', '정보화', '지원', '국장', '직업', '능력', '지원', '최희', '숙', '훈련', '품질', '향상', '센터', '봉', '외국인', '국장', '박찬', '섭', '직무', '능력', '표준', '원장', '구자', '길', '표준', '기획', '실장', '김병주', '표준', '개발', '실장', '환', '서울', '지역', '본부장', '변', '무장', '동부', '사장', '김세환', '서울', '남부', '서경식', '강원', '석', '강릉', '이재', '길', '자격시험', '센터', '임', '경식', '부산', '지역', '본부장', '김시', '태', '경남', '사장', '김태', '부산', '자격시험', '센터', '이한구', '경북', '사장', '엄홍석', '자격시험', '센터', '권영진', '성남', '사장', '김우현', '인천', '자격시험', '센터', '김병열', '광주', '김동호', '대전', '이철호', '상당', '포항', '사장', '윤석호', '전남', '성모', '목포', '김희선', '서울', '지역', '본부', '직업', '능력', '개발', '전용덕', '부산', '지역', '본부', '직업', '능력', '개발', '동영', '대구', '지역', '본부', '김균', '현', '중부', '지역', '본부', '박영환', '광주', '지역', '본부', '창주', '감사', '염', '명국', '예산', '최종윤', '정보화', '기획', '중', '정보화', '사업', '은실', '능력', '개발', '기획', '장병', '현', '학습', '지원', '권', '상원', '지역', '산업', '지원', '신용철', '콘텐츠', '기획', '김종우', '직업', '방송', '이철민', '현장', '훈련', '모니터링', '문승현', '격', '훈련', '모니터링', '최석훈', '능력', '평가', '기획', '학기', '자격', '정보', '이기준', '전문', '자격', '송수', '응용', '공학', '유', '정보', '통신', '유', '명수', '건설', '환경', '김재', '생활과학', '고충', '국', '경제', '경영', '김홍', '달', '사회', '문화', '민찬홍', '출제', '발간', '센터', '민수영', '고용', '기획', '정', '응기', '외국인', '선발', '이찬우', '입국', '지원', '손규일', '고용체', '류지원', '김기우', '표준', '총괄', '기획', '고재', '표준', '활용', '지원', '김진실', '표준', '개발', '이기우', '표준', '개발', '병천', '표준', '개발', '양희경', '숙련', '기술', '기획', '윤수', '숙련', '기술', '진흥', '김동일', '기능', '경기', '양열', '글로벌', '협력', '홍제', '용', '서울', '지역', '본부', '안계', '박', '원강', '윤상', '서울', '남부', '지사', '김용환', '강원', '지사', '김정희', '서울', '자격시험', '센터', '권', '오복', '박영', '표', '송', '태기', '동구', '부산', '지역', '본부', '정봉주', '부산', '자격시험', '센터', '일동', '이상협', '경북', '지사', '권', '정기', '대구', '자격시험', '센터', '영기', '박문', '석', '경진', '중부', '지역', '본부', '휘', '경기', '지사', '박종규', '최용', '범', '경기', '북부', '지사', '광준', '박세훈', '성남', '지사', '남', '기석', '김훈', '인천', '자격시험', '센터', '김자', '회', '안병종', '효동', '창기', '광주', '지역', '본부', '정', '전북지사', '나웅', '민', '광주', '자격시험', '센터', '김용무', '김윤영', '주', '박중훈', '김경', '택', '대전', '지역', '본부', '장호', '대전', '자격시험', '센터', '송성근', '정', '연우', '노', '홍기', '김병', '센터', '태국', '최상', '건', '파키스탄', '광', '기사', '나', '국', '열띤', '토론', '끝', '김연주', '등', '명', '최종', '선발', '반나절', '피', '거리', '두기', '완화', '무산', '업계', '당황', '창', '기사', '추천', '인사', '한국', '산업', '인력', '공단', '베스트', '추천', '뉴스', '정권', '권력', '사유화', '집권', '연장', '통한', '국민', '약탈', '전문', '송영길', '오죽', '민주당', '지지도', '윤석열', '부인', '내', '유흥주점', '접객', '기', '파일', '분통', '송평', '칼럼', '자영', '업자', '나라', '나라', '모습', '윤석열', '사람', '현직', '의원', '명', '누구', '서민', '인사', '수석', '책임', '주군', '교육부', '고위', '공무원', '기획', '조정', '실장', '박', '백범', '대학', '지원', '실장', '석수', '교원', '소청', '심사', '위원장', '삼제', '학생복', '지안', '전관', '이진석', '대학', '지원', '배성근', '교육', '정보통', '국장', '승융배', '중앙', '교육', '연수', '원장', '윤용', '학술원', '사무국', '황', '홍규', '충남대', '사무국', '이중', '부산', '김광호', '본부', '최진명', '서명', '범', '최은옥', '기관', '학술원', '사무국', '박철', '현', '강원', '윤', '권수', '경인교대', '김제', '공주대', '이병희', '유희', '승', '금오공대', '권부', '익', '대구', '교대', '박준기', '부산', '계주', '서울', '과기대', '박', '기학', '창원', '오찬', '택', '청주교대', '이삼', '충남대', '박규', '이윤철', '한경대', '정형태', '한국', '교원대', '임', '성식', '한국', '방송통신대', '하헌', '석', '한밭대', '송은주', '공주대', '경운', '전북대', '최천', '호', '한국', '교통대', '김응철', '미래부', '파견', '안주', '란', '문화', '체육관', '광부', '전보', '과장', '국립국어원', '기획', '관리', '과장', '황두연', '국어', '능력', '발전', '과장', '최태경', '국립', '민속', '박물관', '섭외', '교육', '과장', '권', '석주', '기사', '나', '국', '열띤', '토론', '끝', '김연주', '등', '명', '최종', '선발', '반나절', '피', '거리', '두기', '완화', '무산', '업계', '당황', '농림축산식품부', '승진', '국장', '농림축산검역본부', '영남', '지역', '본부장', '김인', '국토교통부', '과장', '파견', '주', '대표', '안석환', '전보', '도시', '광역', '교통', '상', '물류', '시설', '정보', '이성훈', '철도', '투자', '개발', '남영우', '해양수산부', '승진', '국장', '부산', '지방', '해양', '항만청', '부산', '항', '건설', '사무소', '최', '용', '국립', '조사원', '박경철', '수산', '정책', '방태진', '본부', '대기', '김영복', '국세청', '승진', '고위', '공무원', '나', '미국', '국세청', '파견', '진열', '관세청', '전보', '국장', '조사', '감시', '노', '환', '조달청', '승진', '지방', '조달청장', '인천', '김윤길', '국장', '구매', '사업', '승보', '과장', '운영', '지원', '권수혁', '우수', '제품', '정', '옥', '쇼핑몰', '기획', '정재은', '국제', '협력', '박', '미숙', '부산', '지방', '조달청', '장비', '구매', '하인', '수', '정보', '기획', '조달', '등록', '김기분', '전보', '지방', '조달청장', '서울', '임종', '대구', '김승헌', '광주', '최용', '대전', '김홍', '창', '강원', '염', '광희', '경남', '차원', '섭', '담당', '기획', '재정', '강경', '훈', '대변인', '이기헌', '과장', '정보', '관리', '임성춘', '물품', '관리', '김경만', '자재', '장비', '민', '한식', '정보기술', '용역', '이석규', '쇼핑몰', '가계약', '황', '상근', '쇼핑몰', '구매', '김광성', '시설', '기획', '이계', '학', '기술', '심사', '설', '태웅', '품질', '총괄', '전종', '석', '부산', '청', '경영', '관리', '김태경', '부산', '청', '자재', '구매', '이형식', '서울', '청', '시설', '배완', '통계청', '신임', '청장', '동북지방', '통계', '윤석', '전보', '실장', '연구', '기획', '이명호', '조사', '연구', '김진', '동향', '분석', '민경삼', '과장', '표본', '김정란', '복지', '통계', '농어', '업', '통계', '박상영', '조사', '시스템', '관리', '이충', '학', '공간', '정보', '서비스', '류', '제정', '교육', '기획', '박경애', '경인지방통계청', '경제', '조사', '송영선', '동북지방통계청', '사회', '조사', '김동회', '병무청', '전보', '과장', '병역', '조사', '과장', '김기룡', '정보', '기획', '김영재', '정보', '관리', '현역', '입영', '김용무', '자원', '관리', '종운', '사회', '교육', '복무', '규동', '산업', '지원', '권영규', '병역', '공개', '황', '영석', '인천', '경기', '지방', '병무청', '징병', '박복순', '경남', '지방', '병무청장', '정정훈', '제주', '지방', '병무청장', '최은순', '강원영동', '병무', '지청장', '유광', '현', '헌법재판소', '신규', '과장', '홍보', '심의', '관실', '홍보', '담당', '현철', '승진', '기관', '행정', '관리', '국', '총무', '인수', '심판', '사무국', '심판', '행정', '영화', '전보', '과장', '정보화', '기획', '과장', '김희', '심판', '사무', '과장', '김기호', '통일교', '육원', '파견', '장유', '국방', '대학교', '파견', '최병협', '기관', '재판관', '비서', '권', '순모', '한국', '주택', '금융', '공사', '승진', '남부', '사장', '석', '창조', '혁신', '이규진', '감', '사실', '생현', '서울', '서부', '지사', '박종철', '서울', '채권', '관리', '센터', '이화', '균', '전보', '영업', '본부장', '수도권', '유상규', '동남권', '성영진', '부장', '기획', '조정', '실장', '정', '하원', '소비자보호', '김익수', '창조', '혁신', '택균', '지방', '추진단', '상연', '적격', '대출', '박승창', '주택', '보증', '류', '기윤', '유동화', '자산', '곤', '리스크', '관리', '차', '경만', '채권', '관리', '서성규', '감사', '실장', '이원', '주택', '금융', '연구소장', '김명현', '영업', '점', '영업', '부장', '김성수', '서울', '남부', '이상섭', '서울', '북부', '휘', '부산', '재욱', '대구', '박금석', '대전', '최원', '창', '울산', '김갑', '경기', '남부', '석', '강원', '장', '충북', '어익선', '천안', '윤정', '전북', '배덕수', '순천', '채', '재현', '경남', '성기', '제주', '유기', '채권', '관리', '센터', '무홍', '인천', '시', '승진', '직무', '대리', '인천', '자유', '역청', '차장', '김기형', '문화', '관광', '체육', '국장', '강신원', '항만', '공항', '해양', '국장', '김상섭', '도시', '계획', '국장', '하명', '국', '전보', '의회', '사무', '조명', '인재', '개발', '원장', '김상', '길', '상수도', '사업', '본부장', '상주', '영종', '청라', '사업', '본부장', '균', '종합', '건설', '본부장', '박만희', '정책', '기획', '인권', '신규', '임용', '비서실', '김진희', '중소기업', '중앙회', '상임', '감사', '병안', '중소기업', '연구원', '전보', '부원장', '김세종', '정책', '본부장', '이동주', '실장', '김선화', '승진', '연구', '위원', '노', '민선', '한국', '문화', '관광', '연구원', '관광', '산업', '연구실', '지역', '관광', '기획', '평가', '센터', '김향', '융합', '연구실', '국제', '교류', '교육', '센터', '심', '남', '기획', '정실', '홍보', '협력', '김종진', '한국', '석유', '관리원', '전보', '기획', '예산', '강희', '미래', '전략', '종렬', '정보기술', '서채완', '경영', '지원', '강', '다모', '인사', '관리', '한관욱', '재무관리', '신희승', '정책', '총괄', '정길', '수급', '정보', '동수', '고객', '관리', '강경선', '사업', '총괄', '강대', '혁', '시험', '관리', '이승우', '특수', '사업', '박준', '덕', '석유', '기술', '연구소', '석유', '에너지', '박천', '규', '석유', '대체연료', '임의', '순', '수도권', '남부', '본부', '검사', '최종', '운', '검사', '김정철', '시험', '분석', '흠', '수도권', '북부', '본부', '검사', '최', '남현', '검사', '김경훈', '시험', '분석', '현명', '대전', '충남', '본부', '검사', '고성', '욱', '검사', '김경수', '시험', '분석', '남궁', '호남', '본부', '검사', '황규', '섭', '검사', '김성수', '시험', '분석', '성광', '호', '전북', '본부', '검사', '김희', '균', '시험', '분석', '최성', '목', '영남', '본부', '검사', '진경', '록', '검사', '신중', '시험', '분석', '현종', '대구', '경북', '본부', '검사', '허정', '태', '검사', '권혁', '승', '시험', '분석', '운', '종합', '시험', '센터', '정광영', '한국', '화학', '연구원', '승진', '행정', '관리부장', '박종균', '영기획', '승목', '한국', '전자통신', '연구원', '신규', '콘텐츠', '연구소장', '황승구', '콘텐츠', '연구소', '기술', '본부장', '박상규', '차세대', '콘텐츠', '연구', '본부장', '한동원', '융합', '연구', '본부장', '정희', '범', '사이버', '보안', '연구', '본부장', '현숙', '협력', '장', '익', '건강', '보험', '심사평가원', '실장', '정보', '통신', '이재숙', '치료', '재료', '관리', '이병일', '심사', '기획', '김종철', '심사', '정숙', '급여', '평가', '이태', '선', '의약품', '관리', '종합', '정보', '센터', '송재', '상근', '심사', '위원', '진료', '심사평', '위원회', '중앙', '심사', '위원회', '신', '한국전력', '기술', '전보', '기획', '엄호', '섭', '경영', '지원', '유홍', '재', '인사', '장진영', '플랜트', '사업', '개발', '김재원', '원자로', '광원', '품질', '안전', '환경', '김응조', '실장', '노사', '협력', '유선', '용', '계약', '길', '지원', '윤재', '원자력', '사업', '관리', '이강진', '플랜트', '이정열', '원자로', '김동섭', '미래', '전력', '기술', '연구소', '기술', '전략', '주승', '홍보', '양재영', '그룹', '기계', '기술', '장', '명근', '사업', '관리', '기술', '이용', '특수', '기술', '김남곤', '기계설계', '대희', '안전', '해석', '김신', '환', '원장', '기인', '재개발', '교육', '정기', '애', '센터', '안전', '옥', '소장', '미래', '전력', '기술', '연구', '황', '해룡', '사업', '책임자', '기준서', '터키', '투판', '박희', '웅', '오산', '병합', '김부', '평창', '풍력', '최효증', '가동', '원전', '손종', '주', '신고리', '원자로', '계통', '설계', '전성환', '추진', '반장', '지원', '김학철', '세네갈', '탄화', '김호기', '한국', '수력', '원자력', '승진', '기술', '전략', '이승철', '수력', '양수', '이충근', '고리', '원자력', '본부', '대외협력', '순록', '신고', '리제', '발전소', '시운전', '지원', '이희선', '한빛', '원자력', '본부', '대외협력', '김재혁', '단장', '구매', '사업', '손태', '경', '실장', '위기', '관리', '김기남', '설비', '개선', '박충', '소장', '고리', '원자력', '본부', '제', '발전', '휘수', '신고리', '제', '발전', '도', '정열', '신고리', '제', '건설', '김종', '걸', '한빛', '원자력', '본부', '제', '발전', '김철', '준', '월성', '원자력', '본부', '제', '발전', '손도희', '원자력', '본부', '제', '발전', '반재', '건설', '양승현', '산청', '양수발전', '윤봉', '중앙', '연구원', '원자로', '안전', '연구', '배성만', '방사선', '환경', '연구', '황태', '본부장', '월성', '원자력', '윤청로', '원장', '인재', '개발', '박동원', '센터', '추진', '최성환', '사업', '박웅', '전보', '기획', '이영일', '월성', '원자력', '본부', '대외협력', '병', '실장', '감사', '이인호', '원전', '사후관리', '노', '고리', '원자력', '본부', '신고', '리제', '건설', '소', '건설', '추진', '김상조', '중앙', '연구원', '구지원', '김기홍', '소장', '고리', '원자력', '본부', '제', '발전', '연석', '한빛', '원자력', '본부', '제', '발전', '균', '제', '발전', '송호', '월성', '원자력', '본부', '제', '발전', '왕기', '월성', '건설', '홍상', '옥', '원자력', '본부', '제', '발전', '박양', '기', '양수발전', '이방', '훈', '양수발전', '황', '선기', '청평', '양수발전', '설동욱', '삼랑진', '양수발전', '강', '모', '청송', '양수발전', '기복', '무주', '양수발전', '소성수', '건설', '기술', '입지', '김홍', '묵', '한국', '산업', '인력', '공단', '승진', '상당', '직업', '능력', '기획', '국장', '김현', '생', '능력', '평가', '기획', '공역', '기술', '자격', '출제', '실장', '황', '길주', '부산', '남부', '사장', '이명재', '경기', '북부', '이담', '전북', '이용호', '취업', '기획', '최재', '자격', '설계', '운영', '홍', '정혁', '본부', '김성재', '이병철', '상당', '비서실', '박태훈', '특정', '감사', '송길용', '고객', '센터', '이병욱', '정보화', '사업', '병규', '컨소시엄', '지원', '임승묵', '훈련', '품질', '향상', '정재', '일반', '기계', '임종', '진', '취업', '연수', '권', '목', '취업', '알선', '현태', '글로벌', '지원', '서성열', '외국인', '선발', '박', '규', '정보통', '이민주', '서울', '자격시험', '센터', '박명서', '울산', '지사', '홍길표', '부산', '자격시험', '센터', '이영재', '김성수', '전북지사', '임기', '제주', '지사', '강경', '종', '충북지사', '김기욱', '전보', '상당', '정보화', '지원', '국장', '직업', '능력', '지원', '최희', '숙', '훈련', '품질', '향상', '센터', '봉', '외국인', '국장', '박찬', '섭', '직무', '능력', '표준', '원장', '구자', '길', '표준', '기획', '실장', '김병주', '표준', '개발', '실장', '환', '서울', '지역', '본부장', '변', '무장', '동부', '사장', '김세환', '서울', '남부', '서경식', '강원', '석', '강릉', '이재', '길', '자격시험', '센터', '임', '경식', '부산', '지역', '본부장', '김시', '태', '경남', '사장', '김태', '부산', '자격시험', '센터', '이한구', '경북', '사장', '엄홍석', '자격시험', '센터', '권영진', '성남', '사장', '김우현', '인천', '자격시험', '센터', '김병열', '광주', '김동호', '대전', '이철호', '상당', '포항', '사장', '윤석호', '전남', '성모', '목포', '김희선', '서울', '지역', '본부', '직업', '능력', '개발', '전용덕', '부산', '지역', '본부', '직업', '능력', '개발', '동영', '대구', '지역', '본부', '김균', '현', '중부', '지역', '본부', '박영환', '광주', '지역', '본부', '창주', '감사', '염', '명국', '예산', '최종윤', '정보화', '기획', '중', '정보화', '사업', '은실', '능력', '개발', '기획', '장병', '현', '학습', '지원', '권', '상원', '지역', '산업', '지원', '신용철', '콘텐츠', '기획', '김종우', '직업', '방송', '이철민', '현장', '훈련', '모니터링', '문승현', '격', '훈련', '모니터링', '최석훈', '능력', '평가', '기획', '학기', '자격', '정보', '이기준', '전문', '자격', '송수', '응용', '공학', '유', '정보', '통신', '유', '명수', '건설', '환경', '김재', '생활과학', '고충', '국', '경제', '경영', '김홍', '달', '사회', '문화', '민찬홍', '출제', '발간', '센터', '민수영', '고용', '기획', '정', '응기', '외국인', '선발', '이찬우', '입국', '지원', '손규일', '고용체', '류지원', '김기우', '표준', '총괄', '기획', '고재', '표준', '활용', '지원', '김진실', '표준', '개발', '이기우', '표준', '개발', '병천', '표준', '개발', '양희경', '숙련', '기술', '기획', '윤수', '숙련', '기술', '진흥', '김동일', '기능', '경기', '양열', '글로벌', '협력', '홍제', '용', '서울', '지역', '본부', '안계', '박', '원강', '윤상', '서울', '남부', '지사', '김용환', '강원', '지사', '김정희', '서울', '자격시험', '센터', '권', '오복', '박영', '표', '송', '태기', '동구', '부산', '지역', '본부', '정봉주', '부산', '자격시험', '센터', '일동', '이상협', '경북', '지사', '권', '정기', '대구', '자격시험', '센터', '영기', '박문', '석', '경진', '중부', '지역', '본부', '휘', '경기', '지사', '박종규', '최용', '범', '경기', '북부', '지사', '광준', '박세훈', '성남', '지사', '남', '기석', '김훈', '인천', '자격시험', '센터', '김자', '회', '안병종', '효동', '창기', '광주', '지역', '본부', '정', '전북지사', '나웅', '민', '광주', '자격시험', '센터', '김용무', '김윤영', '주', '박중훈', '김경', '택', '대전', '지역', '본부', '장호', '대전', '자격시험', '센터', '송성근', '정', '연우', '노', '홍기', '김병', '센터', '태국', '최상', '건', '파키스탄', '광', '서울', '아산병원', '관리', '본부장', '증연', '실장', '임종', '진', '운영', '지원', '실장', '이석우', '아산', '사회', '복지', '재단', '아산', '의료', '장보', '겸', '구매', '실장', '정길', '정읍', '아산병원', '실장', '겸', '부지역', '관리', '본부장', '황섭', '동아일보', '편집국', '편집', '차장', '김영준', '조선일보', '이사', '주필', '편집', '송', '희영', '논설주간', '양상훈', '선거', '방송', '기획', '단장', '정연', '국', '보도국', '부국', '겸', '편집', '센터', '김대환', '선거', '방송', '기획', '부장', '연석', '전보', '방송', '제작', '본부', '방송', '제작', '기획', '부장', '이창용', '교육', '다큐', '부장', '추', '덕담', '라디오', '부장', '김준', '범', '학교', '교육', '본부', '학교', '교육', '기획', '부장', '삼수', '수능', '교재', '기획', '부장', '강', '수용', '수능', '교육부', '강태욱', '초', '중학', '창의', '인성', '부장', '남선', '숙', '영어', '교육부', '형건', '융합', '기술', '본부', '기술', '기획', '부장', '균', '운영', '부장', '식', '제작', '기술', '부장', '남호', '콘텐츠', '사업', '본부', '성장', '기획', '부장', '기호', '콘텐츠', '사업', '부장', '김창용', '온라인교육', '사업', '부장', '이종호', '광고', '문화', '사업', '부장', '정책', '기획', '센터', '정책', '기획', '부장', '김유', '열', '콘텐츠', '기획', '센터', '편성', '기획', '부장', '김동관', '콘텐츠관리', '부장', '김경아', '센터', '인적자원', '부장', '문교', '병', '대외협력', '국', '사회', '협력', '부장', '정경', '란', '홍보', '부장', '서동원', '영상', '아트', '국', '영상', '그래픽', '부장', '상덕', '디지털', '통합', '사옥', '건설', '단', '부단장', '이상철', '심의', '시청', '자부', '부장', '심효무', '교육', '뉴스', '부장', '김현', '이상', '센터', '재무회계', '부장', '강경호', '운영', '지원', '부장', '김정철', '이상', '승진', '방송', '제작', '본부', '교양', '문화', '부장', '정윤환', '진로', '직업', '청소년', '부장', '정성', '욱', '유아', '이특', '임국', '애니메이션', '부장', '정', '영홍', '유아', '어린이', '부장', '샘', '학교', '교육', '본부', '수학', '교육부', '이민수', '융합', '기술', '본부', '디지털', '영상', '부장', '태익', '디지털', '편집', '부장', '우동', '중계', '부장', '김종무', '콘텐츠', '사업', '본부', '출판', '사업', '부장', '김창진', '콘텐츠', '기획', '센터', '글로벌', '콘텐츠', '부장', '이협희', '대외협력', '국', '대외협력', '부장', '송대', '갑', '영상', '아트', '국', '미술', '부장', '김진', '영상', '부장', '이창열', '스튜디오', '중계', '영상', '부장', '최', '진근', '교육방송', '연구소', '부소', '송', '경화', '감', '사실', '감사', '부장', '보경', '디지털', '통합', '사옥', '건설', '단', '부단장', '이동수', '스포츠서울', '승진', '국장', '편집국', '경제사', '회부', '이평', '엽', '전략기획', '재경부', '장', '재혁', '디지털타임스', '부장', '대우', '산업부', '임', '윤규', '이데일리', '티브이', '방송', '보도', '본부장', '이익', '준', '가천대', '부총', '조효숙', '컬', '부총', '겸', '가천', '뇌', '융합과학', '원장', '노', '홍', '기획', '부총', '최', '미리', '외부', '총장', '소진', '광', '대학원', '윤', '현희', '대학원', '겸', '대학', '윤', '태화', '교육대학', '원장', '변', '광화', '행정', '대학원', '송', '태수', '산업', '환경', '대학원', '겸', '건축', '대학', '이창수', '컬', '의학', '대학원', '박국', '컬', '간호', '대학원', '겸', '간호', '대학', '윤혜상', '컬', '보건', '대학원', '박하', '정', '특수', '치료', '대학원', '송양', '민', '사회과학', '대학', '한주', '인문', '대학', '탁', '성숙', '법', '대학', '서완석', '공과대학', '최기봉', '바이오', '나노', '대학', '박종현', '대학', '황보', '택근', '예술', '대학', '정충', '모', '컬', '약학', '대학', '김환', '묵', '컬', '보건', '과학', '대학', '겸', '도서관', '안성민', '글로벌', '교양', '학부', '정미라', '학생복', '겸', '국제', '어학', '원장', '장일', '준', '입학처', '백승우', '교무', '서상욱', '구처', '겸', '산학', '협력', '단장', '박상준', '기획처', '윤원중', '대학평가', '총무처', '임영찬', '대외협력', '겸', '방송국', '방송국', '교지', '편집', '가천대', '신문사', '주간', '영', '국제', '교류', '박선욱', '취업', '진로', '강민', '중앙', '도서관', '혜경', '전산', '정보원', '명묵', '세명대', '저널리즘', '스쿨', '대학원', '이봉수', '학생', '김기환', '입학', '관리', '김지홍', '대외협력', '취업', '이준', '산학', '협력', '단장', '숙희', '평생교육', '원장', '정', '연우', '편집', '방송국', '김기태', '교양', '교육', '원장', '장승', '구', '학생', '생활', '연구소장', '경신', '장애', '학생', '센터', '권', '자영', '창', '기사', '추천', '인사', '교육부', '베스트', '추천', '뉴스', '정권', '권력', '사유화', '집권', '연장', '통한', '국민', '약탈', '전문', '송영길', '오죽', '민주당', '지지도', '윤석열', '부인', '내', '유흥주점', '접객', '기', '파일', '분통', '송평', '칼럼', '자영', '업자', '나라', '나라', '모습', '윤석열', '사람', '현직', '의원', '명', '누구', '서민', '인사', '수석', '책임', '주군', '동아일보', '차장', '및', '차장', '편집국', '디지털', '통합', '뉴스', '센터', '정미경', '편집', '차장', '최성연', '정치', '조', '경제', '김상수', '소비자', '경제', '김상훈', '국제', '이진영', '사회', '양종', '구', '이태훈', '정책', '사회', '이동영', '스포츠', '이진구', '피니언', '정위', '용', '미래', '전략', '연구소', '성장동력', '하임', '숙', '채널', '차장', '보도', '본부', '디지털', '통합', '뉴스', '센터', '정미경', '소비자', '경제', '김상훈', '국제', '조수진', '정', '일동', '동아', '프린', '테크', '기사', '나', '국', '열띤', '토론', '끝', '김연주', '등', '명', '최종', '선발', '반나절', '피', '거리', '두기', '완화', '무산', '업계', '당황', '국장', '안산', '공장', '나인', '표', '부장', '충정로', '공장', '조권', '총무', '양희송', '동아', '수도', '고광택', '수도', '최민환', '영남', '염', '진태', '발송', '지원', '유동훈', '법무부', '승진', '기획', '재정', '담당', '이상순', '정보화', '담당', '관실', '서인석', '전보', '창조', '행정', '담당', '최', '정석', '감사', '담당', '김태복', '법무연수원', '총무', '과장', '정훈', '교정', '훈련', '과장', '류지', '창조', '행정', '담당', '관실', '기관', '심경', '보', '감사', '담당', '관실', '김종관', '미래창조과학부', '전보', '창조경제', '기획', '국장', '오태석', '국토교통부', '국장', '비상', '안전', '기획', '기정', '보건복지부', '질병', '관리', '본부', '긴급', '상황', '센터', '정은경', '기획', '조정', '과장', '손호준', '위기', '소통', '담당', '위기', '대응', '총괄', '과장', '나', '성웅', '위기', '분석', '국제', '협력', '과장', '곽진', '자원', '관리', '과장', '이수연', '감염병', '진단', '관리', '과장', '유천', '국민', '안전', '안전', '총괄', '기획', '최', '복수', '중앙', '구조', '본부장', '조종묵', '전남도', '소방본부', '이형철', '법제처', '사회', '화법', '제국', '법', '제관', '배', '지숙', '금융', '위원회', '파견', '박명', '금', '식품의약품안전처', '전보', '과장', '식품', '안전', '정책', '국', '첨가', '물', '기준', '과장', '이창희', '인지', '방청', '수입', '식품', '분석', '김미혜', '금융', '위원회', '전보', '규제', '개혁', '법무', '담당', '박명', '금', '언론', '중재', '위원회', '접수', '상담', '임종', '농촌진흥청', '승진', '도', '원장', '전라남도', '농업', '기술', '원장', '김성일', '과장', '농촌', '지원', '국', '농촌', '자원', '과장', '정충', '섭', '국립', '농업', '학원', '농업', '생명', '자원부', '생물소재', '공학', '윤수', '도', '국장', '경기도', '농업', '기술', '연구개발', '국장', '김순', '재', '강원도', '농업', '기술', '기술', '지원', '김태석', '사관', '기획', '정관', '창조', '행정', '법무', '담당', '강민구', '기관', '감사', '담당', '관실', '심재덕', '기획', '정관', '기획', '재정', '담당', '관실', '손영', '전보', '과장', '농촌', '지원', '국', '지도', '정책', '과장', '정준', '용', '기술', '보급', '김상', '남', '국립', '특작', '학원', '운영', '지원', '최동순', '국립', '축산', '학원', '기술', '지원', '이명숙', '서울시', '임명', '여성', '가족', '정책', '실장', '엄규숙', '근로', '복지', '공단', '임용', '광주', '지역', '본부장', '박', '규', '승진', '창원', '사장', '정기', '배', '울산', '명옥재', '여수', '임화영', '제주', '기오', '부산', '업무', '질병', '판정', '위원장', '홍덕', '창원', '병원', '행정부', '원장', '박', '호성', '대구', '하종', '호', '동해', '우연', '정보화', '본부', '전재용', '서울', '강남', '지사', '가입', '지원', '부장', '김임수', '서울', '남부', '재활', '보상', '동렬', '창원', '가입', '지원', '정', '식', '통영', '가입', '지원', '이인성', '목포', '재활', '보상', '김경자', '부산', '지역', '본부', '송무', '윤일', '인천', '병원', '무부', '김호윤', '창원', '권', '영태', '대구', '민현희', '대전', '장경근', '순천', '간호', '김미숙', '태백', '케어', '센터', '은숙', '전보', '본부장', '산업', '재해', '보상', '보험', '심사', '위원장', '정수', '정보화', '본부장', '최창식', '국장', '이명수', '동부', '사장', '최창보', '서울', '서부', '김원혁', '서울', '남부', '김용', '문', '서울', '북부', '이경희', '서울', '관악', '임', '병', '서울', '서초', '최종진', '의정부', '김용철', '춘천', '유기성', '부산', '동부', '김진태', '부산', '북부', '홍경선', '양산', '규', '대구', '서부', '김용', '구미', '성덕', '환', '인천', '북부', '김춘희', '평택', '정', '동수', '안산', '이상호', '고양', '강성수', '익산', '박병일', '군산', '조창', '규', '천안', '우동', '보령', '송석', '경인', '업무', '질병', '판정', '위원장', '호동', '광주', '이청', '대전', '명수', '인천', '병원', '행정부', '원장', '이보현', '부산', '중부', '사장', '김낙', '균', '울산', '객지', '센터', '정숙', '향', '인천', '전광환', '비서실', '총무', '부장', '최', '재석', '보수', '관리', '김만', '재활', '사업', '정식', '심사', '지원', '양민', '심사', '허정', '심사', '박의', '숙', '청렴', '윤리', '김재현', '서울', '지역', '본부', '가입', '지원', '안병로', '가입', '지원', '정일', '순', '재활', '보상', '박철민', '복지', '사업', '이준영', '서울', '동부', '지사', '가입', '지원', '윤', '인섭', '가입', '지원', '대희', '재활', '보상', '이병용', '서울', '서부', '시영', '서울', '남부', '가입', '지원', '우태', '서울', '남부', '가입', '지원', '최', '연호', '재활', '보상', '김종', '윤', '서울', '북부', '가입', '지원', '임용', '빈', '서울', '서초', '정', '석우', '의정부', '가입', '지원', '최종', '걸', '의정부', '재활', '보상', '김응', '춘천', '가입', '지원', '안일', '환', '강릉', '재활', '보상', '양웅', '렬', '원주', '가입', '지원', '김경자', '부산', '동부', '재활', '보상', '이종철', '부산', '북부', '박', '현', '울산', '재활', '보상', '김병일', '양산', '가입', '지원', '박영순', '양산', '재활', '보상', '손영희', '대구', '서부', '주동', '수원', '재활', '보상', '권', '오목', '평택', '재활', '보상', '병진', '부천', '가입', '지원', '이수영', '부천', '재활', '보상', '엄주헌', '안양', '가입', '지원', '강재', '웅', '재활', '보상', '엄', '기행', '안산', '가입', '지원', '박', '태현', '재활', '보상', '김성길', '재활', '보상', '고리', '경', '고양', '가입', '지원', '심희', '선', '재활', '보상', '함준', '군산', '마심', '여수', '임채섭', '구미', '이성일', '대구', '지역', '본부', '가입', '지원', '김종승', '재활', '보상', '이기호', '재활', '보상', '송양', '종', '경인', '가입', '지원', '곽노혁', '재활', '보상', '김헌재', '재활', '보상', '강', '모', '부산', '업무', '질병', '판정', '위원회', '운영', '지원', '임', '철갑', '안산', '병원', '무부', '박종규', '창원', '영기획', '김광중', '대구', '영기획', '최', '순성', '정선', '경영', '지원', '송영식', '경기', '요양', '경영', '지원', '박명', '준', '재활', '공학', '연구소', '운영', '지원', '지식', '한국', '산업', '인력', '공단', '임용', '정직', '대전', '지역', '본부장', '엄', '주천', '승진', '경남', '사장', '김동일', '경기', '북부', '김희선', '감', '사실', '하필', '규', '무국', '장훈', '산업', '문승현', '학습', '운영', '상진', '외국인', '도입', '김호연', '글로벌', '협력', '양열', '서울', '센터', '이우진', '기술', '자격', '출제', '유행', '석', '센터', '김동자', '서울', '동부', '지사', '주관', '경기', '유찬', '숙', '경북', '권', '형태', '경북', '동부', '이관구', '대전', '지역', '본부', '김준영', '전보', '영기획', '실장', '최상', '건', '기술', '자격', '출제', '유', '자격', '혁신', '국장', '장덕', '호', '응용', '공학', '김재', '건설', '환경', '홍', '정혁', '글로벌', '숙련', '기술', '진흥', '원장', '전화', '익', '서울', '지역', '본부장', '김병주', '부산', '변', '무장', '강원', '동부', '사장', '박영환', '경북', '동부', '김우현', '경기', '동부', '박찬', '섭', '전남', '서부', '이담', '서울', '지역', '본부', '직업', '능력', '개발', '손규일', '부산', '직업', '능력', '개발', '동영', '부산', '지역', '학습', '센터', '김현', '생', '대구', '직업', '능력', '개발', '박종규', '중부', '휘', '광주', '창기', '대전', '김균', '현', '고객', '센터', '동구', '미래', '전략', '김정우', '인재', '개발', '고재', '지역', '지원', '윤', '재연', '사업', '훈련', '지원', '영', '컨소시엄', '지원', '박동준', '직업', '방송', '매체', '이채', '욱', '학습', '확산', '홍제', '용', '자격', '혁신', '승식', '생활과학', '용', '사회', '문화', '김홍', '달', '전문', '자격', '운영', '이병욱', '과정', '평가', '기준', '창열', '외국인', '보험', '교육', '최석훈', '해외', '취업', '알선', '이태형', '개발', '박', '규', '활용', '최용', '범', '지원', '정형', '숙련', '기술', '총괄', '대형', '기능', '경기', '권', '상원', '글로벌', '지원', '서성열', '기획운영단', '김진실', '서울', '동부', '지사', '김동호', '서울', '남부', '전용덕', '강원', '김유진', '강원', '동부', '이기준', '박문', '석', '부산', '남부', '이동석', '민수영', '경남', '창성', '박교', '울산', '박태', '오', '경북', '장재', '원기', '경북', '동부', '최준희', '경기', '윤수', '채경수', '경기', '북부', '김기우', '경기', '동부', '문병', '돈', '이철민', '전북', '창주', '주', '송수', '전남', '노상', '석', '최진규', '전남', '서부', '김운식', '김용무', '충북', '이명', '충남', '김종석', '서울', '지역', '본부', '병천', '대구', '박종호', '송성근', '광주', '임기', '대전', '변상', '길', '태국', '센터', '임승묵', '캄보디아', '박태훈', '네팔', '김기욱', '몽골', '김성은', '방글라데시', '임충', '키르기스스탄', '이경희', '국민', '건강', '보험', '공단', '승진', '부산', '중부', '사장', '홍', '부산', '사상', '신동', '효', '간호', '간병', '통합', '서비스', '확대', '추진', '반장', '고영', '울산', '남부', '사장', '김재훈', '창원', '마산', '정기', '홍', '군산', '김덕용', '부산진구', '안명근', '용인', '서부', '박은주', '경기', '광주', '권', '박', '전보', '본부장', '서울', '지역', '본부장', '진종오', '부산', '지역', '전종', '갑', '기획', '조정', '실장', '임재', '룡', '인력', '지원', '조진호', '파주', '사장', '정영선', '송파', '조영남', '인천', '부평', '윤순', '석', '평택', '홍', '순경', '부산', '남부', '안병운', '부천', '북부', '김삼', '영', '성동', '안수민', '고양', '덕양', '정', '홍기', '청주', '서부', '길', '여수', '주인', '강북', '명철', '업무', '혁신', '추진', '반장', '전용', '배', '고객', '지원', '실장', '최용', '선', '사장', '박두', '신', '마포', '권준석', '성북', '박종길', '구미', '최동훈', '인재', '개발', '원장', '무', '성남', '남부', '오인환', '감사', '실장', '대용', '일산', '사장', '김동기', '강동', '이상돈', '인천', '남동', '박태', '부산', '동래', '장용', '옥', '경산', '청도', '민경', '울산', '중부', '강', '정선', '대구', '동부', '이동', '열', '대구', '중부', '강대성', '강남', '북부', '노상', '필', '인천', '계양', '김소망', '인천', '남부', '김창배', '김포', '이종균', '안양', '최호', '규', '광주', '서부', '송', '선근', '원주', '횡성', '인성', '급여', '보장', '실장', '장수', '목', '영등포', '남부', '사장', '이정호', '의정부', '홍', '삼', '남양주', '가평', '김정일', '한국', '장애인', '고용', '공단', '임용', '원장', '부산', '직업', '능력', '개발', '원장', '정', '대화', '대구', '신호', '대전', '이상택', '전남', '김덕', '윤', '승진', '지사', '이계천', '고용', '지원', '국', '기업', '지원', '부장', '손', '영배', '감', '사실', '부장', '상식', '고용', '개발', '조사통계', '부장', '강혜승', '경기', '지사', '기업', '지원', '전보영', '충남', '대연', '전보', '지사', '황보', '익', '서울', '남부', '태양', '전북', '양종', '주', '경북', '홍두', '표', '부산', '홍성훈', '광주', '김철원', '충북', '장', '동수', '충남', '라용', '경남', '이승', '용', '운영', '지원', '부장', '김대규', '취업', '지원', '김성', '일산', '직업', '능력', '개발', '직업', '길', '대전', '홍력', '서울', '지사', '취업', '지원', '부장', '신명호', '서울', '남부', '어', '호선', '인천', '김진철', '울산', '송형범', '충남', '김동욱', '경기', '북부', '기업', '지원', '남명', '진', '제주', '지사', '취업', '지원', '오창식', '주택', '금융', '공사', '선임', '대변인', '겸', '홍보', '실장', '이종석', '전보', '지역', '본부장', '차', '경만', '박승창', '김갑', '유석희', '부장', '재무관리', '정정', '일', '소비자보호', '상연', '리스크', '관리', '곤', '정보', '전산', '임', '태완', '주택', '금융', '연구원', '석', '지점', '서울', '북부', '박금석', '서울', '동부', '박', '성재', '부산', '생현', '인천', '서성규', '광주', '김영환', '대전', '채석', '경기', '중부', '최혁', '순', '충북', '권오훈', '천안', '김익수', '전북', '이화', '균', '제주', '강희', '수', '채권', '관리', '센터', '휘', '한국', '전기', '안전', '공사', '승진', '홍보', '실장', '박준현', '기획', '정처', '제도', '개선', '부장', '이범', '욱', '총무', '현덕', '환', '안전', '관리', '재난', '안전', '중', '안전', '기획', '단장', '강대철', '천안', '산지', '사장', '이주호', '경남', '서부', '박희', '갑', '비서실', '김희봉', '안전', '기획', '단', '안전', '서비스', '기획', '부장', '이세호', '노무', '복지', '황제', '기술', '사업', '검사', '김성주', '기술', '진단', '부장', '김진태', '성장동력', '국제', '협력', '최병우', '대구', '경북', '지역', '본부', '지사', '문갑', '경남', '지역', '본부', '경남', '남부', '남근', '기술', '사업', '차장', '강수일', '감', '사실', '감사', '정', '연관', '감사', '영', '전력', '설비', '검사', '발전', '사용', '검사', '남기문', '서울', '지역', '본부', '서울', '서부', '지사', '고객', '지원', '부장', '강', '현경', '서울', '남부', '지사', '점검', '부장', '배병일', '경기', '북부', '지역', '본부', '파주', '고양', '지사', '노', '강원', '지역', '본부', '검사', '기술', '부장', '박병', '강원', '남부', '사장', '민병', '갑', '한국', '가스', '공사', '실장', '법무', '실장', '박', '오근', '감사', '시호', '안전', '품질', '이승희', '관리', '이승', '인사', '노무', '김천수', '기지', '지역', '본부장', '통영', '기지', '본부장', '홍종윤', '대구', '경북', '지역', '본부장', '박병선', '인천', '진봉', '부산', '경남', '범', '서울', '김병주', '한국', '원자력', '연구원', '연구개발', '부원장', '백원필', '본부장', '원자력', '안전', '연구', '송철화', '하나로', '이용', '연구', '정환', '원자력', '정책', '개발', '김현준', '단장', '핵연료', '기술', '개발', '양현', '원자력', '안전', '방호', '용범', '부장', '핵비', '확산', '시스템', '연구', '구정회', '경수로', '핵연료', '기술', '개발', '양재호', '수력', '안전', '연구', '최기용', '원자력', '환경', '안전', '연구', '문희', '중성자', '응용', '기술', '김명섭', '재료', '조사', '시험', '평가', '안', '상복', '성과', '확산', '장재호', '한국', '천문', '연구원', '선임', '본부장', '원용', '이론', '천문', '연구', '센터', '류', '동수', '한국', '과학기술', '연구원', '감사', '부장', '남동우', '기술', '사업', '단장', '최치호', '실장', '국제', '협력', '이돈', '재', '인재', '개발', '이창근', '문화', '홍보', '김영종', '인프라', '운영', '김범수', '기술', '사업', '임환', '전북', '분원', '구지원', '부장', '윤승', '뇌', '단장', '금', '교창', '분자', '인식', '연구', '센터', '최만호', '한국', '과학기술', '기획', '평가원', '실장', '성과', '확산', '김이경', '조사', '분석', '안병민', '지식', '정보', '김병수', '미래', '전략', '임성민', '기술', '예측', '이승', '룡', '기획', '예산', '전승수', '재정', '관리', '도계', '훈', '전략', '연구', '김용', '정', '한국', '에너지', '기술', '연구원', '감사', '부장', '이영진', '안전', '관리', '실장', '김병진', '한국', '화학', '연구원', '본부장', '그린', '화학', '소재', '연구', '최영민', '융합', '화학', '연구', '제갈', '종건', '경영', '지원', '조재영', '감사', '실장', '김상중', '시설', '안전', '관리', '센터', '박천', '규', '한국', '과학기술', '정보', '연구원', '센터', '슈퍼컴퓨터', '개발', '김성호', '가상', '설계', '김재성', '한국', '기계', '연구원', '경영', '부원장', '박희', '창', '한국', '감정', '심사', '공시', '본부장', '박상열', '사업', '김양수', '수도권', '김원식', '서남', '정찬', '윤', '동남권', '이희원', '기획', '조정', '실장', '김남수', '홍보', '한숙렬', '평가', '협력', '강', '성덕', '보상', '사업', '본부장', '임병수', '부동산', '조철희', '사업', '개발', '이재우', '녹색건축', '센터', '윤종돈', '연구개발', '실장', '김상윤', '부동산', '통계', '센터', '김세기', '동부', '사장', '박기석', '경기', '의정부', '서경', '강원', '강릉', '이성영', '대전', '홍성훈', '충남', '홍성', '권영식', '충북', '청주', '손', '배', '전남', '순천', '장덕', '전북', '전주', '정상', '규', '부산', '동부', '김열', '울산', '유은철', '경남', '진주', '황', '재창', '대구', '김성찬', '경북', '안동', '김경', '헌', '건강', '보험', '심사평가원', '승진', '실장', '수원지', '원장', '김진국', '인재', '경영', '진선', '부장', '관리부장', '조회', '규', '상대', '가치', '개발', '문경', '한국', '체육', '산업', '개발', '전보', '사업', '운영', '실장', '권창', '사업', '은', '시설', '안전', '김병현', '공원', '시설', '이성', '로', '시설', '지원', '이상훈', '공원', '사업', '이화', '종', '스포츠', '교실', '백종', '필', '분당', '올림픽', '스포츠', '센터', '운영', '박', '원선', '승진', '분당', '올림픽', '스포츠', '센터', '관장', '박승호', '명품', '공원', '성주', '수협', '중앙회', '승진', '부장', '조합', '자금', '부장', '박현호', '조합', '금융', '리스크', '관리', '실장', '송현규', '경남', '지역', '본부장', '김명철', '경제', '기획', '부장', '김시종', '가공', '물류', '박종근', '선원', '지원', '실장', '이승', '룡', '홍보팀', '박정순', '공제', '기획', '김상진', '인천', '어업', '정보통', '국장', '김정섭', '전산', '이창', '헌', '보험', '상품', '영', '양식', '보험', '성용', '전북', '보험', '부장', '박종선', '주식', '운용', '김인', '교', '운용', '기획', '정종', '조합', '정보', '윤진', '방송', '서재', '공판', '이용호', '상품', '개발', '강혁', '수급', '관리', '김정우', '중국', '청도', '대표', '소장', '이정', '회원', '원부', '박', '중', '김풍', '경제', '기획', '임구', '수', '전보', '부장', '자재', '사업', '부장', '민봉', '상호금융', '욱', '상품', '영업', '기흥', '리스크', '관리', '김동섭', '어촌', '지원', '단장', '오승택', '보험', '관리', '사익', '신지원', '박용규', '기금', '관리', '홍보', '안전', '조업', '상황', '실장', '강훈', '조합', '감', '사실', '최광', '회원', '원부', '다윗', '사무소', '강원', '보험', '부장', '김성훈', '북부', '물류', '센터', '박종순', '포항', '어업', '정보통', '국장', '김성훈', '구리', '공판', '김경범', '전주', '배철', '보직', '부여', '부장', '홍보', '실장', '전대', '교육', '부장', '무부', '국방', '대학교', '안보', '과정', '정지열', '금융', '수원', '교육', '봉', '금융', '수원', '교육', '김삼', '무부', '교육', '이창우', '금융', '수원', '교육', '훈', '직무', '대행', '부장', '수산', '연구원', '직무', '대행', '김현', '용', '한국', '일보', '주필', '황영식', '논설', '실장', '이계', '편집국', '황상', '진', '논설', '위원', '고재학', '박', '광희', '서울', '신문', '국장', '광고', '국장', '주병철', '부국', '논설', '위원', '최광', '숙', '편집국', '사회', '김상화', '한종', '독자', '서비스', '국', '공보', '전략', '부산', '사장', '한철', '부장', '경제정책', '김성수', '경제정책', '선임', '기자', '류', '찬희', '금융', '부장', '안', '미현', '부장', '편집', '신동원', '정치', '차장', '이지운', '김상연', '사회', '한준', '규', '강원', '황경근', '체육부', '현석', '영업', '은실', '발송', '부장', '김용덕', '운용', '정광수', '한겨레신문', '디지털', '미디어', '사업', '국', '모바일', '사업', '담당', '부국', '겸', '기획', '사업', '부장', '박', '기획', '사업', '선재', '사업', '유', '제호', '문화', '사업', '김명희', '독자', '서비스', '국', '수도권', '영업', '부장', '장봉국', '지방', '영업', '부장', '안덕귀', '영남', '이명기', '호남', '김용배', '판매관리', '김태영', '전략기획', '영기획', '부장', '서기철', '예산', '기획', '송방용', '주주', '서비스', '부장', '송제영', '한국', '경제', '신문', '편집국', '사무국', '이광', '국', '시사', '제작', '부장', '장형', '디지털', '술국', '송출', '부장', '이원영', '경인', '지사', '남용', '국장', '학구', '서울', '미디어', '그룹', '화사', '전무', '정영기', '만화', '사업', '본부', '상무', '최원영', '전략기획', '상무', '심정', '섭', '우먼', '센스', '편집', '국장', '대우', '이창훈', '그', '치아', '편집', '안성현', '인사', '국견', '아동', '기획', '부장', '대우', '안', '남', '출판', '수경', '우먼', '센스', '광고', '박재원', '출판', '영업', '이풍', '현', '일요신문', '편집', '본부', '대우', '김원', '취재', '부장', '대우', '이성', '로', '편집', '부장', '대우', '채', '광고', '김영웅', '시사저널', '광고', '부장', '대우', '장순', '호', '시사', '비즈', '대표이사', '병구', '대구시', '의회', '사무', '서상우', '도시', '재창', '조국', '김수경', '대변인', '직무', '대리', '최희송', '자치행정', '국장', '재경', '건설', '본부장', '직무', '대리', '김광', '북구', '청장', '김철', '섭', '경북', '동해안', '발전', '본부장', '직무', '대리', '서원', '지방', '공무원', '교육', '원장', '김원석', '의회', '사무', '총무', '담당', '안', '효영', '경주', '부시장', '이상', '욱', '경산', '열', '영주', '민', '인기', '곡부', '군수', '박기원', '부시장', '김재광', '진부', '군수', '김성현', '고려대', '평생교육', '원장', '이천희', '경상대', '학장', '법대', '김태', '수의', '민원기', '해양', '과학', '김정균', '전남대', '공학', '대학', '임창균', '수산', '학장', '장덕', '종', '조선대', '구처', '겸', '산학', '협력', '단장', '유진', '창', '기사', '추천', '인사', '동아일보', '베스트', '추천', '뉴스', '정권', '권력', '사유화', '집권', '연장', '통한', '국민', '약탈', '전문', '송영길', '오죽', '민주당', '지지도', '윤석열', '부인', '내', '유흥주점', '접객', '기', '파일', '분통', '송평', '칼럼', '자영', '업자', '나라', '나라', '모습', '윤석열', '사람', '현직', '의원', '명', '누구', '서민', '인사', '수석', '책임', '주군']\n"
     ]
    }
   ],
   "source": [
    "stop_words = ['팀','처','급','관','철','김','부','실']\n",
    "\n",
    "ko = [each_word for each_word in ko if each_word not in stop_words]\n",
    "print(ko)"
   ]
  },
  {
   "cell_type": "markdown",
   "metadata": {},
   "source": [
    "#### 시각화"
   ]
  },
  {
   "cell_type": "code",
   "execution_count": 24,
   "metadata": {},
   "outputs": [
    {
     "data": {
      "image/png": "[encoded data removed]",
      "text/plain": [
       "<Figure size 864x432 with 1 Axes>"
      ]
     },
     "metadata": {
      "needs_background": "light"
     },
     "output_type": "display_data"
    }
   ],
   "source": [
    "ko = nltk.Text(ko, name='박문석')\n",
    "\n",
    "plt.figure(figsize=(12,6))\n",
    "ko.plot(50)     # Plot sorted frequency of top 50 tokens\n",
    "plt.show()"
   ]
  },
  {
   "cell_type": "markdown",
   "metadata": {},
   "source": [
    "#### 워드 클라우드"
   ]
  },
  {
   "cell_type": "code",
   "execution_count": 25,
   "metadata": {},
   "outputs": [
    {
     "data": {
      "image/png": "[encoded data removed]",
      "text/plain": [
       "<Figure size 864x576 with 1 Axes>"
      ]
     },
     "metadata": {
      "needs_background": "light"
     },
     "output_type": "display_data"
    }
   ],
   "source": [
    "data = ko.vocab().most_common(150)\n",
    "    \n",
    "wordcloud = WordCloud(font_path = './data/NanumBarunGothic.ttf',\n",
    "                      relative_scaling = 0.5,\n",
    "                      background_color='white',\n",
    "                      ).generate_from_frequencies(dict(data))\n",
    "plt.figure(figsize=(12,8))\n",
    "plt.imshow(wordcloud)\n",
    "plt.axis(\"off\")\n",
    "plt.show()"
   ]
  },
  {
   "cell_type": "markdown",
   "metadata": {},
   "source": [
    "#### 마스크 적용"
   ]
  },
  {
   "cell_type": "code",
   "execution_count": 26,
   "metadata": {},
   "outputs": [
    {
     "data": {
      "image/png": "[encoded data removed]",
      "text/plain": [
       "<Figure size 864x576 with 1 Axes>"
      ]
     },
     "metadata": {
      "needs_background": "light"
     },
     "output_type": "display_data"
    }
   ],
   "source": [
    "import numpy as np\n",
    "mask = np.array(Image.open('data/appleBar.png'))\n",
    "data = ko.vocab().most_common(100)\n",
    "wordcloud = WordCloud(font_path='./data/NanumBarunGothic.ttf',\n",
    "                      relative_scaling = 0.5,\n",
    "                      background_color='white',\n",
    "                      mask=mask,\n",
    "                      ).generate_from_frequencies(dict(data))\n",
    "%matplotlib inline\n",
    "plt.figure(figsize=(12,8))\n",
    "plt.imshow(wordcloud)\n",
    "plt.axis(\"off\")\n",
    "plt.show()"
   ]
  },
  {
   "cell_type": "markdown",
   "metadata": {},
   "source": [
    "## 뉴스그룹 분류"
   ]
  },
  {
   "cell_type": "markdown",
   "metadata": {},
   "source": [
    "### 데이터 확인"
   ]
  },
  {
   "cell_type": "code",
   "execution_count": 27,
   "metadata": {},
   "outputs": [
    {
     "name": "stdout",
     "output_type": "stream",
     "text": [
      "dict_keys(['data', 'filenames', 'target_names', 'target', 'DESCR'])\n"
     ]
    }
   ],
   "source": [
    "from sklearn.datasets import fetch_20newsgroups\n",
    "\n",
    "news_data = fetch_20newsgroups(subset='all',random_state=156)\n",
    "print(news_data.keys())"
   ]
  },
  {
   "cell_type": "markdown",
   "metadata": {},
   "source": [
    "### 타겟 확인"
   ]
  },
  {
   "cell_type": "code",
   "execution_count": 28,
   "metadata": {},
   "outputs": [
    {
     "name": "stdout",
     "output_type": "stream",
     "text": [
      "target 클래스의 값과 분포도 \n",
      " 0     799\n",
      "1     973\n",
      "2     985\n",
      "3     982\n",
      "4     963\n",
      "5     988\n",
      "6     975\n",
      "7     990\n",
      "8     996\n",
      "9     994\n",
      "10    999\n",
      "11    991\n",
      "12    984\n",
      "13    990\n",
      "14    987\n",
      "15    997\n",
      "16    910\n",
      "17    940\n",
      "18    775\n",
      "19    628\n",
      "dtype: int64\n",
      "target 클래스의 이름들 \n",
      " ['alt.atheism', 'comp.graphics', 'comp.os.ms-windows.misc', 'comp.sys.ibm.pc.hardware', 'comp.sys.mac.hardware', 'comp.windows.x', 'misc.forsale', 'rec.autos', 'rec.motorcycles', 'rec.sport.baseball', 'rec.sport.hockey', 'sci.crypt', 'sci.electronics', 'sci.med', 'sci.space', 'soc.religion.christian', 'talk.politics.guns', 'talk.politics.mideast', 'talk.politics.misc', 'talk.religion.misc']\n"
     ]
    }
   ],
   "source": [
    "import pandas as pd\n",
    "\n",
    "print('target 클래스의 값과 분포도 \\n',pd.Series(news_data.target).value_counts().sort_index())\n",
    "print('target 클래스의 이름들 \\n',news_data.target_names)"
   ]
  },
  {
   "cell_type": "markdown",
   "metadata": {},
   "source": [
    "### 데이터 확인"
   ]
  },
  {
   "cell_type": "code",
   "execution_count": 29,
   "metadata": {},
   "outputs": [
    {
     "name": "stdout",
     "output_type": "stream",
     "text": [
      "From: egreen@east.sun.com (Ed Green - Pixel Cruncher)\n",
      "Subject: Re: Observation re: helmets\n",
      "Organization: Sun Microsystems, RTP, NC\n",
      "Lines: 21\n",
      "Distribution: world\n",
      "Reply-To: egreen@east.sun.com\n",
      "NNTP-Posting-Host: laser.east.sun.com\n",
      "\n",
      "In article 211353@mavenry.altcit.eskimo.com, maven@mavenry.altcit.eskimo.com (Norman Hamer) writes:\n",
      "> \n",
      "> The question for the day is re: passenger helmets, if you don't know for \n",
      ">certain who's gonna ride with you (like say you meet them at a .... church \n",
      ">meeting, yeah, that's the ticket)... What are some guidelines? Should I just \n",
      ">pick up another shoei in my size to have a backup helmet (XL), or should I \n",
      ">maybe get an inexpensive one of a smaller size to accomodate my likely \n",
      ">passenger? \n",
      "\n",
      "If your primary concern is protecting the passenger in the event of a\n",
      "crash, have him or her fitted for a helmet that is their size.  If your\n",
      "primary concern is complying with stupid helmet laws, carry a real big\n",
      "spare (you can put a big or small head in a big helmet, but not in a\n",
      "small one).\n",
      "\n",
      "---\n",
      "Ed Green, former Ninjaite |I was drinking last night with a biker,\n",
      "  Ed.Green@East.Sun.COM   |and I showed him a picture of you.  I said,\n",
      "DoD #0111  (919)460-8302  |\"Go on, get to know her, you'll like her!\"\n",
      " (The Grateful Dead) -->  |It seemed like the least I could do...\n",
      "\n",
      "\n"
     ]
    }
   ],
   "source": [
    "print(news_data.data[0])"
   ]
  },
  {
   "cell_type": "markdown",
   "metadata": {},
   "source": [
    "### 불필요한 데이터를 제거하고 훈련 데이터 와 테스트 데이터 분리"
   ]
  },
  {
   "cell_type": "code",
   "execution_count": 30,
   "metadata": {},
   "outputs": [
    {
     "name": "stdout",
     "output_type": "stream",
     "text": [
      "<class 'list'>\n",
      "학습 데이터 크기 11314 , 테스트 데이터 크기 7532\n"
     ]
    }
   ],
   "source": [
    "from sklearn.datasets import fetch_20newsgroups\n",
    "\n",
    "# subset='train'으로 학습용(Train) 데이터만 추출, remove=('headers', 'footers', 'quotes')로 내용만 추출\n",
    "train_news= fetch_20newsgroups(subset='train', remove=('headers', 'footers', 'quotes'), random_state=156)\n",
    "X_train = train_news.data\n",
    "y_train = train_news.target\n",
    "print(type(X_train))\n",
    "\n",
    "# subset='test'으로 테스트(Test) 데이터만 추출, remove=('headers', 'footers', 'quotes')로 내용만 추출\n",
    "test_news= fetch_20newsgroups(subset='test',remove=('headers', 'footers','quotes'),random_state=156)\n",
    "X_test = test_news.data\n",
    "y_test = test_news.target\n",
    "print('학습 데이터 크기 {0} , 테스트 데이터 크기 {1}'.format(len(train_news.data) , len(test_news.data)))"
   ]
  },
  {
   "cell_type": "markdown",
   "metadata": {},
   "source": [
    "### 피처 벡터화"
   ]
  },
  {
   "cell_type": "code",
   "execution_count": 31,
   "metadata": {},
   "outputs": [
    {
     "name": "stdout",
     "output_type": "stream",
     "text": [
      "학습 데이터 Text의 CountVectorizer Shape: (11314, 101631)\n"
     ]
    }
   ],
   "source": [
    "from sklearn.feature_extraction.text import CountVectorizer\n",
    "\n",
    "# Count Vectorization으로 feature extraction 변환 수행. \n",
    "cnt_vect = CountVectorizer()\n",
    "\n",
    "cnt_vect.fit(X_train)\n",
    "X_train_cnt_vect = cnt_vect.transform(X_train)\n",
    "\n",
    "# 학습 데이터로 fit( )된 CountVectorizer를 이용하여 테스트 데이터를 feature extraction 변환 수행. \n",
    "X_test_cnt_vect = cnt_vect.transform(X_test)\n",
    "\n",
    "print('학습 데이터 Text의 CountVectorizer Shape:',X_train_cnt_vect.shape)"
   ]
  },
  {
   "cell_type": "markdown",
   "metadata": {},
   "source": [
    "### 로지스틱 회귀 적용"
   ]
  },
  {
   "cell_type": "code",
   "execution_count": 32,
   "metadata": {},
   "outputs": [
    {
     "name": "stdout",
     "output_type": "stream",
     "text": [
      "CountVectorized Logistic Regression 의 예측 정확도는 0.607\n"
     ]
    }
   ],
   "source": [
    "from sklearn.linear_model import LogisticRegression\n",
    "from sklearn.metrics import accuracy_score\n",
    "\n",
    "# LogisticRegression을 이용하여 학습/예측/평가 수행. \n",
    "lr_clf = LogisticRegression()\n",
    "lr_clf.fit(X_train_cnt_vect , y_train)\n",
    "pred = lr_clf.predict(X_test_cnt_vect)\n",
    "print('CountVectorized Logistic Regression 의 예측 정확도는 {0:.3f}'.format(accuracy_score(y_test,pred)))"
   ]
  },
  {
   "cell_type": "code",
   "execution_count": 33,
   "metadata": {},
   "outputs": [
    {
     "name": "stdout",
     "output_type": "stream",
     "text": [
      "TF-IDF Logistic Regression 의 예측 정확도는 0.674\n"
     ]
    }
   ],
   "source": [
    "from sklearn.feature_extraction.text import TfidfVectorizer\n",
    "\n",
    "# TF-IDF Vectorization 적용하여 학습 데이터셋과 테스트 데이터 셋 변환. \n",
    "tfidf_vect = TfidfVectorizer()\n",
    "tfidf_vect.fit(X_train)\n",
    "X_train_tfidf_vect = tfidf_vect.transform(X_train)\n",
    "X_test_tfidf_vect = tfidf_vect.transform(X_test)\n",
    "\n",
    "# LogisticRegression을 이용하여 학습/예측/평가 수행. \n",
    "lr_clf = LogisticRegression()\n",
    "lr_clf.fit(X_train_tfidf_vect , y_train)\n",
    "pred = lr_clf.predict(X_test_tfidf_vect)\n",
    "print('TF-IDF Logistic Regression 의 예측 정확도는 {0:.3f}'.format(accuracy_score(y_test ,pred)))"
   ]
  },
  {
   "cell_type": "markdown",
   "metadata": {},
   "source": [
    "### TF-IDF 의 파라미터를 설정한 후 훈련"
   ]
  },
  {
   "cell_type": "code",
   "execution_count": 34,
   "metadata": {},
   "outputs": [
    {
     "name": "stdout",
     "output_type": "stream",
     "text": [
      "TF-IDF Vectorized Logistic Regression 의 예측 정확도는 0.692\n"
     ]
    }
   ],
   "source": [
    "# stop words 필터링을 추가하고 ngram을 기본(1,1)에서 (1,2)로 변경하여 Feature Vectorization 적용.\n",
    "tfidf_vect = TfidfVectorizer(stop_words='english', ngram_range=(1,2), max_df=300 )\n",
    "tfidf_vect.fit(X_train)\n",
    "X_train_tfidf_vect = tfidf_vect.transform(X_train)\n",
    "X_test_tfidf_vect = tfidf_vect.transform(X_test)\n",
    "\n",
    "lr_clf = LogisticRegression()\n",
    "lr_clf.fit(X_train_tfidf_vect , y_train)\n",
    "pred = lr_clf.predict(X_test_tfidf_vect)\n",
    "print('TF-IDF Vectorized Logistic Regression 의 예측 정확도는 {0:.3f}'.format(accuracy_score(y_test ,pred)))"
   ]
  },
  {
   "cell_type": "markdown",
   "metadata": {},
   "source": [
    "### 교차 검증 후 최적의 파라미터 찾기(오래 걸림)"
   ]
  },
  {
   "cell_type": "code",
   "execution_count": 35,
   "metadata": {},
   "outputs": [
    {
     "name": "stdout",
     "output_type": "stream",
     "text": [
      "Fitting 3 folds for each of 5 candidates, totalling 15 fits\n",
      "Logistic Regression best C parameter : {'C': 10}\n",
      "TF-IDF Vectorized Logistic Regression 의 예측 정확도는 0.701\n"
     ]
    }
   ],
   "source": [
    "from sklearn.model_selection import GridSearchCV\n",
    "\n",
    "# 최적 C 값 도출 튜닝 수행. CV는 3 Fold셋으로 설정. \n",
    "params = { 'C':[0.01, 0.1, 1, 5, 10]}\n",
    "grid_cv_lr = GridSearchCV(lr_clf ,param_grid=params , cv=3 , scoring='accuracy' , verbose=1 )\n",
    "grid_cv_lr.fit(X_train_tfidf_vect , y_train)\n",
    "print('Logistic Regression best C parameter :',grid_cv_lr.best_params_ )\n",
    "\n",
    "# 최적 C 값으로 학습된 grid_cv로 예측 수행하고 정확도 평가. \n",
    "pred = grid_cv_lr.predict(X_test_tfidf_vect)\n",
    "print('TF-IDF Vectorized Logistic Regression 의 예측 정확도는 {0:.3f}'.format(accuracy_score(y_test ,pred)))"
   ]
  },
  {
   "cell_type": "markdown",
   "metadata": {},
   "source": [
    "### Pipeline 과 GridSearchCV 결합"
   ]
  },
  {
   "cell_type": "code",
   "execution_count": 36,
   "metadata": {},
   "outputs": [
    {
     "name": "stdout",
     "output_type": "stream",
     "text": [
      "Pipeline을 통한 Logistic Regression 의 예측 정확도는 0.701\n"
     ]
    }
   ],
   "source": [
    "from sklearn.pipeline import Pipeline\n",
    "\n",
    "# TfidfVectorizer 객체를 tfidf_vect 객체명으로, LogisticRegression객체를 lr_clf 객체명으로 생성하는 Pipeline생성\n",
    "pipeline = Pipeline([\n",
    "    ('tfidf_vect', TfidfVectorizer(stop_words='english', ngram_range=(1,2), max_df=300)),\n",
    "    ('lr_clf', LogisticRegression(C=10))\n",
    "])\n",
    "\n",
    "# 별도의 TfidfVectorizer객체의 fit_transform( )과 LogisticRegression의 fit(), predict( )가 필요 없음. \n",
    "# pipeline의 fit( ) 과 predict( ) 만으로 한꺼번에 Feature Vectorization과 ML 학습/예측이 가능. \n",
    "pipeline.fit(X_train, y_train)\n",
    "pred = pipeline.predict(X_test)\n",
    "print('Pipeline을 통한 Logistic Regression 의 예측 정확도는 {0:.3f}'.format(accuracy_score(y_test ,pred)))"
   ]
  },
  {
   "cell_type": "markdown",
   "metadata": {},
   "source": [
    "## 감성 분석"
   ]
  },
  {
   "cell_type": "markdown",
   "metadata": {},
   "source": [
    "### 긍정-부정 분류"
   ]
  },
  {
   "cell_type": "code",
   "execution_count": 37,
   "metadata": {},
   "outputs": [
    {
     "data": {
      "text/plain": [
       "{'do', 'hate', 'i', 'like', 'love', 'not', 'you'}"
      ]
     },
     "execution_count": 37,
     "metadata": {},
     "output_type": "execute_result"
    }
   ],
   "source": [
    "#훈련 데이터 생성\n",
    "### 단어별 분류를 위한 패키지 import\n",
    "from nltk.tokenize import word_tokenize\n",
    "import nltk\n",
    "\n",
    "### 훈련 데이터 만들기\n",
    "train = [('i like you', 'pos'), \n",
    "         ('i do not like you', 'neg'),\n",
    "         ('i hate you', 'neg'), \n",
    "         ('i do not hate you', 'pos'),\n",
    "        ('i love you', 'pos'),\n",
    "        ('I do not love you', 'neg')]\n",
    "all_words = set(word.lower() for sentence in train \n",
    "            for word in word_tokenize(sentence[0]))\n",
    "all_words"
   ]
  },
  {
   "cell_type": "code",
   "execution_count": 38,
   "metadata": {},
   "outputs": [
    {
     "name": "stdout",
     "output_type": "stream",
     "text": [
      "[({'love': False, 'i': True, 'not': False, 'like': True, 'do': False, 'hate': False, 'you': True}, 'pos'), ({'love': False, 'i': True, 'not': True, 'like': True, 'do': True, 'hate': False, 'you': True}, 'neg'), ({'love': False, 'i': True, 'not': False, 'like': False, 'do': False, 'hate': True, 'you': True}, 'neg'), ({'love': False, 'i': True, 'not': True, 'like': False, 'do': True, 'hate': True, 'you': True}, 'pos'), ({'love': True, 'i': True, 'not': False, 'like': False, 'do': False, 'hate': False, 'you': True}, 'pos'), ({'love': True, 'i': False, 'not': True, 'like': False, 'do': True, 'hate': False, 'you': True}, 'neg')]\n",
      "Most Informative Features\n",
      "                      do = False             pos : neg    =      1.7 : 1.0\n",
      "                      do = True              neg : pos    =      1.7 : 1.0\n",
      "                     not = False             pos : neg    =      1.7 : 1.0\n",
      "                     not = True              neg : pos    =      1.7 : 1.0\n",
      "                       i = True              pos : neg    =      1.4 : 1.0\n",
      "                    hate = False             neg : pos    =      1.0 : 1.0\n",
      "                    hate = True              neg : pos    =      1.0 : 1.0\n",
      "                    like = False             neg : pos    =      1.0 : 1.0\n",
      "                    like = True              neg : pos    =      1.0 : 1.0\n"
     ]
    }
   ],
   "source": [
    "#단어 토큰화\n",
    "t = [({word: (word in word_tokenize(x[0])) for word in all_words}, x[1])\n",
    "                                                        for x in train]\n",
    "print(t)\n",
    "\n",
    "#분류기 만들기\n",
    "classifier = nltk.NaiveBayesClassifier.train(t)\n",
    "classifier.show_most_informative_features()"
   ]
  },
  {
   "cell_type": "code",
   "execution_count": 39,
   "metadata": {},
   "outputs": [
    {
     "name": "stdout",
     "output_type": "stream",
     "text": [
      "{'love': False, 'i': True, 'not': True, 'like': True, 'do': True, 'hate': False, 'you': False}\n",
      "neg\n"
     ]
    }
   ],
   "source": [
    "#샘플 문장 테스트 \n",
    "test_sentence = 'i do not like jessica'\n",
    "test_sent_features = {word.lower():(word in word_tokenize(test_sentence.lower()))\n",
    "                     for word in all_words}\n",
    "print(test_sent_features)\n",
    "print(classifier.classify(test_sent_features))"
   ]
  },
  {
   "cell_type": "markdown",
   "metadata": {},
   "source": [
    "## 한글 처리"
   ]
  },
  {
   "cell_type": "code",
   "execution_count": 40,
   "metadata": {},
   "outputs": [],
   "source": [
    "#샘플 문장 생성\n",
    "from konlpy.tag import Twitter\n",
    "twitter = Twitter()\n",
    "train = [('나는 당신을 사랑합니다', 'pos'), \n",
    "         ('나는 당신을 사랑하지 않아요', 'neg'),\n",
    "         ('나는 당신을 만나는 것이 지루합니다', 'neg'),\n",
    "         ('나는 당신을 만나는 것이 지루하지 않습니다', 'pos'),\n",
    "         ('나는 당신이 좋습니다', 'pos'),\n",
    "         ('나는 당신이 좋지 않습니다', 'neg'),\n",
    "         ('나는 당신과 노는 것이 즐겁습니다', 'pos'),\n",
    "         ('나는 당신과 노는 것이 즐겁지 않습니다', 'neg'),\n",
    "        ('나는 제시카와 함께 있는 것이 즐겁습니다', 'pos'),\n",
    "        ('나는 일을 하는 것이 즐겁지 않습니다', 'neg'),\n",
    "         ('나는 일이 너무 힘들어', 'neg')]"
   ]
  },
  {
   "cell_type": "code",
   "execution_count": 41,
   "metadata": {},
   "outputs": [
    {
     "name": "stdout",
     "output_type": "stream",
     "text": [
      "{'좋습니다', '일을', '너무', '노는', '당신이', '만나는', '나는', '일이', '당신을', '좋지', '즐겁지', '사랑합니다', '함께', '지루하지', '당신과', '하는', '힘들어', '않아요', '제시카와', '사랑하지', '즐겁습니다', '것이', '지루합니다', '있는', '않습니다'}\n"
     ]
    }
   ],
   "source": [
    "#단순 단어 분류 – 조사가 다른 경우 다른 단어로 구분됨\n",
    "all_words = set(word.lower() for sentence in train\n",
    "                        for word in word_tokenize(sentence[0]))\n",
    "print(all_words)"
   ]
  },
  {
   "cell_type": "code",
   "execution_count": 42,
   "metadata": {},
   "outputs": [
    {
     "name": "stdout",
     "output_type": "stream",
     "text": [
      "[(['나/Noun', '는/Josa', '당신/Noun', '을/Josa', '사랑/Noun', '하다/Verb'], 'pos'), (['나/Noun', '는/Josa', '당신/Noun', '을/Josa', '사랑/Noun', '하다/Verb', '않다/Verb'], 'neg'), (['나/Noun', '는/Josa', '당신/Noun', '을/Josa', '만나다/Verb', '것/Noun', '이/Josa', '지루하다/Adjective'], 'neg'), (['나/Noun', '는/Josa', '당신/Noun', '을/Josa', '만나다/Verb', '것/Noun', '이/Josa', '지루하다/Adjective', '않다/Verb'], 'pos'), (['나/Noun', '는/Josa', '당신/Noun', '이/Josa', '좋다/Adjective'], 'pos'), (['나/Noun', '는/Josa', '당신/Noun', '이/Josa', '좋다/Adjective', '않다/Verb'], 'neg'), (['나/Noun', '는/Josa', '당신/Noun', '과/Josa', '노/Noun', '는/Josa', '것/Noun', '이/Josa', '즐겁다/Adjective'], 'pos'), (['나/Noun', '는/Josa', '당신/Noun', '과/Josa', '노/Noun', '는/Josa', '것/Noun', '이/Josa', '즐겁다/Adjective', '않다/Verb'], 'neg'), (['나/Noun', '는/Josa', '제시카/Noun', '와/Josa', '함께/Adverb', '있다/Adjective', '것/Noun', '이/Josa', '즐겁다/Adjective'], 'pos'), (['나/Noun', '는/Josa', '일/Noun', '을/Josa', '하다/Verb', '것/Noun', '이/Josa', '즐겁다/Adjective', '않다/Verb'], 'neg'), (['나/Noun', '는/Josa', '일이/Modifier', '너무/Adverb', '힘들다/Adjective'], 'neg')]\n"
     ]
    }
   ],
   "source": [
    "#단어 분리 - 형태소 분석 후 수행\n",
    "def tokenize(doc):\n",
    "    return ['/'.join(t) for t in twitter.pos(doc, norm=True, stem=True)]\n",
    "\n",
    "train_docs = [(tokenize(row[0]), row[1]) for row in train]\n",
    "print(train_docs)"
   ]
  },
  {
   "cell_type": "code",
   "execution_count": 43,
   "metadata": {},
   "outputs": [
    {
     "name": "stdout",
     "output_type": "stream",
     "text": [
      "['나/Noun', '는/Josa', '당신/Noun', '을/Josa', '사랑/Noun', '하다/Verb', '나/Noun', '는/Josa', '당신/Noun', '을/Josa', '사랑/Noun', '하다/Verb', '않다/Verb', '나/Noun', '는/Josa', '당신/Noun', '을/Josa', '만나다/Verb', '것/Noun', '이/Josa', '지루하다/Adjective', '나/Noun', '는/Josa', '당신/Noun', '을/Josa', '만나다/Verb', '것/Noun', '이/Josa', '지루하다/Adjective', '않다/Verb', '나/Noun', '는/Josa', '당신/Noun', '이/Josa', '좋다/Adjective', '나/Noun', '는/Josa', '당신/Noun', '이/Josa', '좋다/Adjective', '않다/Verb', '나/Noun', '는/Josa', '당신/Noun', '과/Josa', '노/Noun', '는/Josa', '것/Noun', '이/Josa', '즐겁다/Adjective', '나/Noun', '는/Josa', '당신/Noun', '과/Josa', '노/Noun', '는/Josa', '것/Noun', '이/Josa', '즐겁다/Adjective', '않다/Verb', '나/Noun', '는/Josa', '제시카/Noun', '와/Josa', '함께/Adverb', '있다/Adjective', '것/Noun', '이/Josa', '즐겁다/Adjective', '나/Noun', '는/Josa', '일/Noun', '을/Josa', '하다/Verb', '것/Noun', '이/Josa', '즐겁다/Adjective', '않다/Verb', '나/Noun', '는/Josa', '일이/Modifier', '너무/Adverb', '힘들다/Adjective']\n"
     ]
    }
   ],
   "source": [
    "#형태소 분류를 한 후 단어 분류\n",
    "tokens = [t for d in train_docs for t in d[0]]\n",
    "print(tokens)"
   ]
  },
  {
   "cell_type": "code",
   "execution_count": 44,
   "metadata": {},
   "outputs": [
    {
     "name": "stdout",
     "output_type": "stream",
     "text": [
      "[({'나/Noun': True, '는/Josa': True, '당신/Noun': True, '을/Josa': True, '사랑/Noun': True, '하다/Verb': True, '않다/Verb': False, '만나다/Verb': False, '것/Noun': False, '이/Josa': False, '지루하다/Adjective': False, '좋다/Adjective': False, '과/Josa': False, '노/Noun': False, '즐겁다/Adjective': False, '제시카/Noun': False, '와/Josa': False, '함께/Adverb': False, '있다/Adjective': False, '일/Noun': False, '일이/Modifier': False, '너무/Adverb': False, '힘들다/Adjective': False}, 'pos'), ({'나/Noun': True, '는/Josa': True, '당신/Noun': True, '을/Josa': True, '사랑/Noun': True, '하다/Verb': True, '않다/Verb': True, '만나다/Verb': False, '것/Noun': False, '이/Josa': False, '지루하다/Adjective': False, '좋다/Adjective': False, '과/Josa': False, '노/Noun': False, '즐겁다/Adjective': False, '제시카/Noun': False, '와/Josa': False, '함께/Adverb': False, '있다/Adjective': False, '일/Noun': False, '일이/Modifier': False, '너무/Adverb': False, '힘들다/Adjective': False}, 'neg'), ({'나/Noun': True, '는/Josa': True, '당신/Noun': True, '을/Josa': True, '사랑/Noun': False, '하다/Verb': False, '않다/Verb': False, '만나다/Verb': True, '것/Noun': True, '이/Josa': True, '지루하다/Adjective': True, '좋다/Adjective': False, '과/Josa': False, '노/Noun': False, '즐겁다/Adjective': False, '제시카/Noun': False, '와/Josa': False, '함께/Adverb': False, '있다/Adjective': False, '일/Noun': False, '일이/Modifier': False, '너무/Adverb': False, '힘들다/Adjective': False}, 'neg'), ({'나/Noun': True, '는/Josa': True, '당신/Noun': True, '을/Josa': True, '사랑/Noun': False, '하다/Verb': False, '않다/Verb': True, '만나다/Verb': True, '것/Noun': True, '이/Josa': True, '지루하다/Adjective': True, '좋다/Adjective': False, '과/Josa': False, '노/Noun': False, '즐겁다/Adjective': False, '제시카/Noun': False, '와/Josa': False, '함께/Adverb': False, '있다/Adjective': False, '일/Noun': False, '일이/Modifier': False, '너무/Adverb': False, '힘들다/Adjective': False}, 'pos'), ({'나/Noun': True, '는/Josa': True, '당신/Noun': True, '을/Josa': False, '사랑/Noun': False, '하다/Verb': False, '않다/Verb': False, '만나다/Verb': False, '것/Noun': False, '이/Josa': True, '지루하다/Adjective': False, '좋다/Adjective': True, '과/Josa': False, '노/Noun': False, '즐겁다/Adjective': False, '제시카/Noun': False, '와/Josa': False, '함께/Adverb': False, '있다/Adjective': False, '일/Noun': False, '일이/Modifier': False, '너무/Adverb': False, '힘들다/Adjective': False}, 'pos'), ({'나/Noun': True, '는/Josa': True, '당신/Noun': True, '을/Josa': False, '사랑/Noun': False, '하다/Verb': False, '않다/Verb': True, '만나다/Verb': False, '것/Noun': False, '이/Josa': True, '지루하다/Adjective': False, '좋다/Adjective': True, '과/Josa': False, '노/Noun': False, '즐겁다/Adjective': False, '제시카/Noun': False, '와/Josa': False, '함께/Adverb': False, '있다/Adjective': False, '일/Noun': False, '일이/Modifier': False, '너무/Adverb': False, '힘들다/Adjective': False}, 'neg'), ({'나/Noun': True, '는/Josa': True, '당신/Noun': True, '을/Josa': False, '사랑/Noun': False, '하다/Verb': False, '않다/Verb': False, '만나다/Verb': False, '것/Noun': True, '이/Josa': True, '지루하다/Adjective': False, '좋다/Adjective': False, '과/Josa': True, '노/Noun': True, '즐겁다/Adjective': True, '제시카/Noun': False, '와/Josa': False, '함께/Adverb': False, '있다/Adjective': False, '일/Noun': False, '일이/Modifier': False, '너무/Adverb': False, '힘들다/Adjective': False}, 'pos'), ({'나/Noun': True, '는/Josa': True, '당신/Noun': True, '을/Josa': False, '사랑/Noun': False, '하다/Verb': False, '않다/Verb': True, '만나다/Verb': False, '것/Noun': True, '이/Josa': True, '지루하다/Adjective': False, '좋다/Adjective': False, '과/Josa': True, '노/Noun': True, '즐겁다/Adjective': True, '제시카/Noun': False, '와/Josa': False, '함께/Adverb': False, '있다/Adjective': False, '일/Noun': False, '일이/Modifier': False, '너무/Adverb': False, '힘들다/Adjective': False}, 'neg'), ({'나/Noun': True, '는/Josa': True, '당신/Noun': False, '을/Josa': False, '사랑/Noun': False, '하다/Verb': False, '않다/Verb': False, '만나다/Verb': False, '것/Noun': True, '이/Josa': True, '지루하다/Adjective': False, '좋다/Adjective': False, '과/Josa': False, '노/Noun': False, '즐겁다/Adjective': True, '제시카/Noun': True, '와/Josa': True, '함께/Adverb': True, '있다/Adjective': True, '일/Noun': False, '일이/Modifier': False, '너무/Adverb': False, '힘들다/Adjective': False}, 'pos'), ({'나/Noun': True, '는/Josa': True, '당신/Noun': False, '을/Josa': True, '사랑/Noun': False, '하다/Verb': True, '않다/Verb': True, '만나다/Verb': False, '것/Noun': True, '이/Josa': True, '지루하다/Adjective': False, '좋다/Adjective': False, '과/Josa': False, '노/Noun': False, '즐겁다/Adjective': True, '제시카/Noun': False, '와/Josa': False, '함께/Adverb': False, '있다/Adjective': False, '일/Noun': True, '일이/Modifier': False, '너무/Adverb': False, '힘들다/Adjective': False}, 'neg'), ({'나/Noun': True, '는/Josa': True, '당신/Noun': False, '을/Josa': False, '사랑/Noun': False, '하다/Verb': False, '않다/Verb': False, '만나다/Verb': False, '것/Noun': False, '이/Josa': False, '지루하다/Adjective': False, '좋다/Adjective': False, '과/Josa': False, '노/Noun': False, '즐겁다/Adjective': False, '제시카/Noun': False, '와/Josa': False, '함께/Adverb': False, '있다/Adjective': False, '일/Noun': False, '일이/Modifier': True, '너무/Adverb': True, '힘들다/Adjective': True}, 'neg')]\n"
     ]
    }
   ],
   "source": [
    "### 훈련 데이터 확인\n",
    "def term_exists(doc):\n",
    "    return {word: (word in set(doc)) for word in tokens}\n",
    "train_xy = [(term_exists(d), c) for d,c in train_docs]\n",
    "print(train_xy)"
   ]
  },
  {
   "cell_type": "code",
   "execution_count": 45,
   "metadata": {},
   "outputs": [
    {
     "name": "stdout",
     "output_type": "stream",
     "text": [
      "[({'나/Noun': True, '는/Josa': True, '당신/Noun': True, '을/Josa': True, '사랑/Noun': True, '하다/Verb': True, '않다/Verb': False, '만나다/Verb': False, '것/Noun': False, '이/Josa': False, '지루하다/Adjective': False, '좋다/Adjective': False, '과/Josa': False, '노/Noun': False, '즐겁다/Adjective': False, '제시카/Noun': False, '와/Josa': False, '함께/Adverb': False, '있다/Adjective': False, '일/Noun': False, '일이/Modifier': False, '너무/Adverb': False, '힘들다/Adjective': False}, 'pos'), ({'나/Noun': True, '는/Josa': True, '당신/Noun': True, '을/Josa': True, '사랑/Noun': True, '하다/Verb': True, '않다/Verb': True, '만나다/Verb': False, '것/Noun': False, '이/Josa': False, '지루하다/Adjective': False, '좋다/Adjective': False, '과/Josa': False, '노/Noun': False, '즐겁다/Adjective': False, '제시카/Noun': False, '와/Josa': False, '함께/Adverb': False, '있다/Adjective': False, '일/Noun': False, '일이/Modifier': False, '너무/Adverb': False, '힘들다/Adjective': False}, 'neg'), ({'나/Noun': True, '는/Josa': True, '당신/Noun': True, '을/Josa': True, '사랑/Noun': False, '하다/Verb': False, '않다/Verb': False, '만나다/Verb': True, '것/Noun': True, '이/Josa': True, '지루하다/Adjective': True, '좋다/Adjective': False, '과/Josa': False, '노/Noun': False, '즐겁다/Adjective': False, '제시카/Noun': False, '와/Josa': False, '함께/Adverb': False, '있다/Adjective': False, '일/Noun': False, '일이/Modifier': False, '너무/Adverb': False, '힘들다/Adjective': False}, 'neg'), ({'나/Noun': True, '는/Josa': True, '당신/Noun': True, '을/Josa': True, '사랑/Noun': False, '하다/Verb': False, '않다/Verb': True, '만나다/Verb': True, '것/Noun': True, '이/Josa': True, '지루하다/Adjective': True, '좋다/Adjective': False, '과/Josa': False, '노/Noun': False, '즐겁다/Adjective': False, '제시카/Noun': False, '와/Josa': False, '함께/Adverb': False, '있다/Adjective': False, '일/Noun': False, '일이/Modifier': False, '너무/Adverb': False, '힘들다/Adjective': False}, 'pos'), ({'나/Noun': True, '는/Josa': True, '당신/Noun': True, '을/Josa': False, '사랑/Noun': False, '하다/Verb': False, '않다/Verb': False, '만나다/Verb': False, '것/Noun': False, '이/Josa': True, '지루하다/Adjective': False, '좋다/Adjective': True, '과/Josa': False, '노/Noun': False, '즐겁다/Adjective': False, '제시카/Noun': False, '와/Josa': False, '함께/Adverb': False, '있다/Adjective': False, '일/Noun': False, '일이/Modifier': False, '너무/Adverb': False, '힘들다/Adjective': False}, 'pos'), ({'나/Noun': True, '는/Josa': True, '당신/Noun': True, '을/Josa': False, '사랑/Noun': False, '하다/Verb': False, '않다/Verb': True, '만나다/Verb': False, '것/Noun': False, '이/Josa': True, '지루하다/Adjective': False, '좋다/Adjective': True, '과/Josa': False, '노/Noun': False, '즐겁다/Adjective': False, '제시카/Noun': False, '와/Josa': False, '함께/Adverb': False, '있다/Adjective': False, '일/Noun': False, '일이/Modifier': False, '너무/Adverb': False, '힘들다/Adjective': False}, 'neg'), ({'나/Noun': True, '는/Josa': True, '당신/Noun': True, '을/Josa': False, '사랑/Noun': False, '하다/Verb': False, '않다/Verb': False, '만나다/Verb': False, '것/Noun': True, '이/Josa': True, '지루하다/Adjective': False, '좋다/Adjective': False, '과/Josa': True, '노/Noun': True, '즐겁다/Adjective': True, '제시카/Noun': False, '와/Josa': False, '함께/Adverb': False, '있다/Adjective': False, '일/Noun': False, '일이/Modifier': False, '너무/Adverb': False, '힘들다/Adjective': False}, 'pos'), ({'나/Noun': True, '는/Josa': True, '당신/Noun': True, '을/Josa': False, '사랑/Noun': False, '하다/Verb': False, '않다/Verb': True, '만나다/Verb': False, '것/Noun': True, '이/Josa': True, '지루하다/Adjective': False, '좋다/Adjective': False, '과/Josa': True, '노/Noun': True, '즐겁다/Adjective': True, '제시카/Noun': False, '와/Josa': False, '함께/Adverb': False, '있다/Adjective': False, '일/Noun': False, '일이/Modifier': False, '너무/Adverb': False, '힘들다/Adjective': False}, 'neg'), ({'나/Noun': True, '는/Josa': True, '당신/Noun': False, '을/Josa': False, '사랑/Noun': False, '하다/Verb': False, '않다/Verb': False, '만나다/Verb': False, '것/Noun': True, '이/Josa': True, '지루하다/Adjective': False, '좋다/Adjective': False, '과/Josa': False, '노/Noun': False, '즐겁다/Adjective': True, '제시카/Noun': True, '와/Josa': True, '함께/Adverb': True, '있다/Adjective': True, '일/Noun': False, '일이/Modifier': False, '너무/Adverb': False, '힘들다/Adjective': False}, 'pos'), ({'나/Noun': True, '는/Josa': True, '당신/Noun': False, '을/Josa': True, '사랑/Noun': False, '하다/Verb': True, '않다/Verb': True, '만나다/Verb': False, '것/Noun': True, '이/Josa': True, '지루하다/Adjective': False, '좋다/Adjective': False, '과/Josa': False, '노/Noun': False, '즐겁다/Adjective': True, '제시카/Noun': False, '와/Josa': False, '함께/Adverb': False, '있다/Adjective': False, '일/Noun': True, '일이/Modifier': False, '너무/Adverb': False, '힘들다/Adjective': False}, 'neg'), ({'나/Noun': True, '는/Josa': True, '당신/Noun': False, '을/Josa': False, '사랑/Noun': False, '하다/Verb': False, '않다/Verb': False, '만나다/Verb': False, '것/Noun': False, '이/Josa': False, '지루하다/Adjective': False, '좋다/Adjective': False, '과/Josa': False, '노/Noun': False, '즐겁다/Adjective': False, '제시카/Noun': False, '와/Josa': False, '함께/Adverb': False, '있다/Adjective': False, '일/Noun': False, '일이/Modifier': True, '너무/Adverb': True, '힘들다/Adjective': True}, 'neg')]\n",
      "Most Informative Features\n",
      "                 않다/Verb = True              neg : pos    =      2.6 : 1.0\n",
      "                 않다/Verb = False             pos : neg    =      2.1 : 1.0\n",
      "                 당신/Noun = False             neg : pos    =      1.4 : 1.0\n",
      "                  이/Josa = False             neg : pos    =      1.4 : 1.0\n",
      "                 하다/Verb = True              neg : pos    =      1.4 : 1.0\n",
      "                  와/Josa = False             neg : pos    =      1.2 : 1.0\n",
      "            있다/Adjective = False             neg : pos    =      1.2 : 1.0\n",
      "                제시카/Noun = False             neg : pos    =      1.2 : 1.0\n",
      "               함께/Adverb = False             neg : pos    =      1.2 : 1.0\n",
      "                  것/Noun = False             neg : pos    =      1.2 : 1.0\n"
     ]
    }
   ],
   "source": [
    "### 분류기 만들기\n",
    "def term_exists(doc):\n",
    "    return {word: (word in set(doc)) for word in tokens}\n",
    "train_xy = [(term_exists(d), c) for d,c in train_docs]\n",
    "print(train_xy)\n",
    "\n",
    "classifier = nltk.NaiveBayesClassifier.train(train_xy)\n",
    "classifier.show_most_informative_features()"
   ]
  },
  {
   "cell_type": "code",
   "execution_count": 46,
   "metadata": {},
   "outputs": [
    {
     "name": "stdout",
     "output_type": "stream",
     "text": [
      "[('여섯시', 'Noun'), ('부터', 'Noun'), ('일', 'Noun'), ('을', 'Josa'), ('해야해', 'Verb')]\n",
      "{('여섯시', 'Noun'): False, ('부터', 'Noun'): False, ('일', 'Noun'): False, ('을', 'Josa'): False, ('해야해', 'Verb'): False}\n",
      "neg\n"
     ]
    }
   ],
   "source": [
    "### 샘플 문장 테스트\n",
    "test_sentence = [(\"여섯시 부터 일을 해야해\")]\n",
    "test_docs = twitter.pos(test_sentence[0])\n",
    "print(test_docs)\n",
    "test_sent_features = {word: (word in tokens) for word in test_docs}\n",
    "print(test_sent_features)\n",
    "print(classifier.classify(test_sent_features))"
   ]
  },
  {
   "cell_type": "code",
   "execution_count": null,
   "metadata": {},
   "outputs": [],
   "source": []
  },
  {
   "cell_type": "markdown",
   "metadata": {},
   "source": [
    "## 지도 학습 기반 감성 분석"
   ]
  },
  {
   "cell_type": "markdown",
   "metadata": {},
   "source": [
    "### 데이터 가져오기"
   ]
  },
  {
   "cell_type": "code",
   "execution_count": 47,
   "metadata": {},
   "outputs": [
    {
     "data": {
      "text/html": [
       "<div>\n",
       "<style scoped>\n",
       "    .dataframe tbody tr th:only-of-type {\n",
       "        vertical-align: middle;\n",
       "    }\n",
       "\n",
       "    .dataframe tbody tr th {\n",
       "        vertical-align: top;\n",
       "    }\n",
       "\n",
       "    .dataframe thead th {\n",
       "        text-align: right;\n",
       "    }\n",
       "</style>\n",
       "<table border=\"1\" class=\"dataframe\">\n",
       "  <thead>\n",
       "    <tr style=\"text-align: right;\">\n",
       "      <th></th>\n",
       "      <th>id</th>\n",
       "      <th>sentiment</th>\n",
       "      <th>review</th>\n",
       "    </tr>\n",
       "  </thead>\n",
       "  <tbody>\n",
       "    <tr>\n",
       "      <th>0</th>\n",
       "      <td>\"5814_8\"</td>\n",
       "      <td>1</td>\n",
       "      <td>\"With all this stuff going down at the moment ...</td>\n",
       "    </tr>\n",
       "    <tr>\n",
       "      <th>1</th>\n",
       "      <td>\"2381_9\"</td>\n",
       "      <td>1</td>\n",
       "      <td>\"\\\"The Classic War of the Worlds\\\" by Timothy ...</td>\n",
       "    </tr>\n",
       "    <tr>\n",
       "      <th>2</th>\n",
       "      <td>\"7759_3\"</td>\n",
       "      <td>0</td>\n",
       "      <td>\"The film starts with a manager (Nicholas Bell...</td>\n",
       "    </tr>\n",
       "  </tbody>\n",
       "</table>\n",
       "</div>"
      ],
      "text/plain": [
       "         id  sentiment                                             review\n",
       "0  \"5814_8\"          1  \"With all this stuff going down at the moment ...\n",
       "1  \"2381_9\"          1  \"\\\"The Classic War of the Worlds\\\" by Timothy ...\n",
       "2  \"7759_3\"          0  \"The film starts with a manager (Nicholas Bell..."
      ]
     },
     "execution_count": 47,
     "metadata": {},
     "output_type": "execute_result"
    }
   ],
   "source": [
    "import pandas as pd\n",
    "\n",
    "review_df = pd.read_csv('./data/word2vec-nlp-tutorial/labeledTrainData.tsv', header=0, sep=\"\\t\", quoting=3)\n",
    "review_df.head(3)"
   ]
  },
  {
   "cell_type": "markdown",
   "metadata": {},
   "source": [
    "### 불필요한 데이터 삭제"
   ]
  },
  {
   "cell_type": "code",
   "execution_count": 48,
   "metadata": {},
   "outputs": [],
   "source": [
    "#정규식 모듈\n",
    "import re\n",
    "\n",
    "# <br> html 태그는 replace 함수로 공백으로 변환\n",
    "review_df['review'] = review_df['review'].str.replace('<br />',' ')\n",
    "\n",
    "# 파이썬의 정규 표현식 모듈인 re를 이용하여 영어 문자열이 아닌 문자는 모두 공백으로 변환 \n",
    "review_df['review'] = review_df['review'].apply( lambda x : re.sub(\"[^a-zA-Z]\", \" \", x) )"
   ]
  },
  {
   "cell_type": "markdown",
   "metadata": {},
   "source": [
    "### 훈련 데이터 와 테스트 데이터 분리"
   ]
  },
  {
   "cell_type": "code",
   "execution_count": 49,
   "metadata": {},
   "outputs": [
    {
     "data": {
      "text/plain": [
       "((17500, 1), (7500, 1))"
      ]
     },
     "execution_count": 49,
     "metadata": {},
     "output_type": "execute_result"
    }
   ],
   "source": [
    "from sklearn.model_selection import train_test_split\n",
    "\n",
    "class_df = review_df['sentiment']\n",
    "feature_df = review_df.drop(['id','sentiment'], axis=1, inplace=False)\n",
    "\n",
    "X_train, X_test, y_train, y_test= train_test_split(feature_df, class_df, test_size=0.3, random_state=156)\n",
    "\n",
    "X_train.shape, X_test.shape"
   ]
  },
  {
   "cell_type": "markdown",
   "metadata": {},
   "source": [
    "### 로지스틱 회귀를 이용한 훈련 과 평가 지표 확인"
   ]
  },
  {
   "cell_type": "code",
   "execution_count": 50,
   "metadata": {},
   "outputs": [
    {
     "name": "stdout",
     "output_type": "stream",
     "text": [
      "예측 정확도는 0.8860, ROC-AUC는 0.9503\n"
     ]
    }
   ],
   "source": [
    "from sklearn.feature_extraction.text import CountVectorizer, TfidfVectorizer\n",
    "from sklearn.pipeline import Pipeline\n",
    "from sklearn.linear_model import LogisticRegression\n",
    "from sklearn.metrics import accuracy_score, roc_auc_score\n",
    "\n",
    "# 스톱 워드는 English, filtering, ngram은 (1,2)로 설정해 CountVectorization수행. \n",
    "# LogisticRegression의 C는 10으로 설정. \n",
    "pipeline = Pipeline([\n",
    "    ('cnt_vect', CountVectorizer(stop_words='english', ngram_range=(1,2) )),\n",
    "    ('lr_clf', LogisticRegression(C=10))])\n",
    "\n",
    "# Pipeline 객체를 이용하여 fit(), predict()로 학습/예측 수행. predict_proba()는 roc_auc때문에 수행.  \n",
    "pipeline.fit(X_train['review'], y_train)\n",
    "pred = pipeline.predict(X_test['review'])\n",
    "pred_probs = pipeline.predict_proba(X_test['review'])[:,1]\n",
    "\n",
    "print('예측 정확도는 {0:.4f}, ROC-AUC는 {1:.4f}'.format(accuracy_score(y_test ,pred),\n",
    "                                         roc_auc_score(y_test, pred_probs)))"
   ]
  },
  {
   "cell_type": "markdown",
   "metadata": {},
   "source": [
    "### 전처리 작업을 수행 한 후 학습"
   ]
  },
  {
   "cell_type": "code",
   "execution_count": 51,
   "metadata": {},
   "outputs": [
    {
     "name": "stdout",
     "output_type": "stream",
     "text": [
      "예측 정확도는 0.8936, ROC-AUC는 0.9598\n"
     ]
    }
   ],
   "source": [
    "# 스톱 워드는 english, filtering, ngram은 (1,2)로 설정해 TF-IDF 벡터화 수행. \n",
    "# LogisticRegression의 C는 10으로 설정. \n",
    "pipeline = Pipeline([\n",
    "    ('tfidf_vect', TfidfVectorizer(stop_words='english', ngram_range=(1,2) )),\n",
    "    ('lr_clf', LogisticRegression(C=10))])\n",
    "\n",
    "pipeline.fit(X_train['review'], y_train)\n",
    "pred = pipeline.predict(X_test['review'])\n",
    "pred_probs = pipeline.predict_proba(X_test['review'])[:,1]\n",
    "\n",
    "print('예측 정확도는 {0:.4f}, ROC-AUC는 {1:.4f}'.format(accuracy_score(y_test ,pred),\n",
    "                                         roc_auc_score(y_test, pred_probs)))"
   ]
  },
  {
   "cell_type": "markdown",
   "metadata": {},
   "source": [
    "## 비지도 학습 기반 감성 분석"
   ]
  },
  {
   "cell_type": "markdown",
   "metadata": {},
   "source": [
    "### nltk 의 WordNet 의 Synset"
   ]
  },
  {
   "cell_type": "code",
   "execution_count": 52,
   "metadata": {},
   "outputs": [
    {
     "name": "stderr",
     "output_type": "stream",
     "text": [
      "[nltk_data] Downloading collection 'all'\n",
      "[nltk_data]    | \n",
      "[nltk_data]    | Downloading package abc to /Users/adam/nltk_data...\n",
      "[nltk_data]    |   Package abc is already up-to-date!\n",
      "[nltk_data]    | Downloading package alpino to\n",
      "[nltk_data]    |     /Users/adam/nltk_data...\n",
      "[nltk_data]    |   Package alpino is already up-to-date!\n",
      "[nltk_data]    | Downloading package biocreative_ppi to\n",
      "[nltk_data]    |     /Users/adam/nltk_data...\n",
      "[nltk_data]    |   Package biocreative_ppi is already up-to-date!\n",
      "[nltk_data]    | Downloading package brown to /Users/adam/nltk_data...\n",
      "[nltk_data]    |   Package brown is already up-to-date!\n",
      "[nltk_data]    | Downloading package brown_tei to\n",
      "[nltk_data]    |     /Users/adam/nltk_data...\n",
      "[nltk_data]    |   Package brown_tei is already up-to-date!\n",
      "[nltk_data]    | Downloading package cess_cat to\n",
      "[nltk_data]    |     /Users/adam/nltk_data...\n",
      "[nltk_data]    |   Package cess_cat is already up-to-date!\n",
      "[nltk_data]    | Downloading package cess_esp to\n",
      "[nltk_data]    |     /Users/adam/nltk_data...\n",
      "[nltk_data]    |   Package cess_esp is already up-to-date!\n",
      "[nltk_data]    | Downloading package chat80 to\n",
      "[nltk_data]    |     /Users/adam/nltk_data...\n",
      "[nltk_data]    |   Package chat80 is already up-to-date!\n",
      "[nltk_data]    | Downloading package city_database to\n",
      "[nltk_data]    |     /Users/adam/nltk_data...\n",
      "[nltk_data]    |   Package city_database is already up-to-date!\n",
      "[nltk_data]    | Downloading package cmudict to\n",
      "[nltk_data]    |     /Users/adam/nltk_data...\n",
      "[nltk_data]    |   Package cmudict is already up-to-date!\n",
      "[nltk_data]    | Downloading package comparative_sentences to\n",
      "[nltk_data]    |     /Users/adam/nltk_data...\n",
      "[nltk_data]    |   Package comparative_sentences is already up-to-\n",
      "[nltk_data]    |       date!\n",
      "[nltk_data]    | Downloading package comtrans to\n",
      "[nltk_data]    |     /Users/adam/nltk_data...\n",
      "[nltk_data]    |   Package comtrans is already up-to-date!\n",
      "[nltk_data]    | Downloading package conll2000 to\n",
      "[nltk_data]    |     /Users/adam/nltk_data...\n",
      "[nltk_data]    |   Package conll2000 is already up-to-date!\n",
      "[nltk_data]    | Downloading package conll2002 to\n",
      "[nltk_data]    |     /Users/adam/nltk_data...\n",
      "[nltk_data]    |   Package conll2002 is already up-to-date!\n",
      "[nltk_data]    | Downloading package conll2007 to\n",
      "[nltk_data]    |     /Users/adam/nltk_data...\n",
      "[nltk_data]    |   Package conll2007 is already up-to-date!\n",
      "[nltk_data]    | Downloading package crubadan to\n",
      "[nltk_data]    |     /Users/adam/nltk_data...\n",
      "[nltk_data]    |   Package crubadan is already up-to-date!\n",
      "[nltk_data]    | Downloading package dependency_treebank to\n",
      "[nltk_data]    |     /Users/adam/nltk_data...\n",
      "[nltk_data]    |   Package dependency_treebank is already up-to-date!\n",
      "[nltk_data]    | Downloading package dolch to /Users/adam/nltk_data...\n",
      "[nltk_data]    |   Package dolch is already up-to-date!\n",
      "[nltk_data]    | Downloading package europarl_raw to\n",
      "[nltk_data]    |     /Users/adam/nltk_data...\n",
      "[nltk_data]    |   Package europarl_raw is already up-to-date!\n",
      "[nltk_data]    | Downloading package floresta to\n",
      "[nltk_data]    |     /Users/adam/nltk_data...\n",
      "[nltk_data]    |   Package floresta is already up-to-date!\n",
      "[nltk_data]    | Downloading package framenet_v15 to\n",
      "[nltk_data]    |     /Users/adam/nltk_data...\n",
      "[nltk_data]    |   Package framenet_v15 is already up-to-date!\n",
      "[nltk_data]    | Downloading package framenet_v17 to\n",
      "[nltk_data]    |     /Users/adam/nltk_data...\n",
      "[nltk_data]    |   Package framenet_v17 is already up-to-date!\n",
      "[nltk_data]    | Downloading package gazetteers to\n",
      "[nltk_data]    |     /Users/adam/nltk_data...\n",
      "[nltk_data]    |   Package gazetteers is already up-to-date!\n",
      "[nltk_data]    | Downloading package genesis to\n",
      "[nltk_data]    |     /Users/adam/nltk_data...\n",
      "[nltk_data]    |   Package genesis is already up-to-date!\n",
      "[nltk_data]    | Downloading package gutenberg to\n",
      "[nltk_data]    |     /Users/adam/nltk_data...\n",
      "[nltk_data]    |   Package gutenberg is already up-to-date!\n",
      "[nltk_data]    | Downloading package ieer to /Users/adam/nltk_data...\n",
      "[nltk_data]    |   Package ieer is already up-to-date!\n",
      "[nltk_data]    | Downloading package inaugural to\n",
      "[nltk_data]    |     /Users/adam/nltk_data...\n",
      "[nltk_data]    |   Package inaugural is already up-to-date!\n",
      "[nltk_data]    | Downloading package indian to\n",
      "[nltk_data]    |     /Users/adam/nltk_data...\n",
      "[nltk_data]    |   Package indian is already up-to-date!\n",
      "[nltk_data]    | Downloading package jeita to /Users/adam/nltk_data...\n",
      "[nltk_data]    |   Package jeita is already up-to-date!\n",
      "[nltk_data]    | Downloading package kimmo to /Users/adam/nltk_data...\n",
      "[nltk_data]    |   Package kimmo is already up-to-date!\n",
      "[nltk_data]    | Downloading package knbc to /Users/adam/nltk_data...\n",
      "[nltk_data]    |   Package knbc is already up-to-date!\n",
      "[nltk_data]    | Downloading package lin_thesaurus to\n",
      "[nltk_data]    |     /Users/adam/nltk_data...\n",
      "[nltk_data]    |   Package lin_thesaurus is already up-to-date!\n",
      "[nltk_data]    | Downloading package mac_morpho to\n",
      "[nltk_data]    |     /Users/adam/nltk_data...\n",
      "[nltk_data]    |   Package mac_morpho is already up-to-date!\n",
      "[nltk_data]    | Downloading package machado to\n",
      "[nltk_data]    |     /Users/adam/nltk_data...\n",
      "[nltk_data]    |   Package machado is already up-to-date!\n",
      "[nltk_data]    | Downloading package masc_tagged to\n",
      "[nltk_data]    |     /Users/adam/nltk_data...\n",
      "[nltk_data]    |   Package masc_tagged is already up-to-date!\n",
      "[nltk_data]    | Downloading package moses_sample to\n",
      "[nltk_data]    |     /Users/adam/nltk_data...\n",
      "[nltk_data]    |   Package moses_sample is already up-to-date!\n",
      "[nltk_data]    | Downloading package movie_reviews to\n",
      "[nltk_data]    |     /Users/adam/nltk_data...\n",
      "[nltk_data]    |   Package movie_reviews is already up-to-date!\n",
      "[nltk_data]    | Downloading package names to /Users/adam/nltk_data...\n",
      "[nltk_data]    |   Package names is already up-to-date!\n",
      "[nltk_data]    | Downloading package nombank.1.0 to\n",
      "[nltk_data]    |     /Users/adam/nltk_data...\n",
      "[nltk_data]    |   Package nombank.1.0 is already up-to-date!\n",
      "[nltk_data]    | Downloading package nps_chat to\n",
      "[nltk_data]    |     /Users/adam/nltk_data...\n",
      "[nltk_data]    |   Package nps_chat is already up-to-date!\n",
      "[nltk_data]    | Downloading package omw to /Users/adam/nltk_data...\n",
      "[nltk_data]    |   Package omw is already up-to-date!\n",
      "[nltk_data]    | Downloading package opinion_lexicon to\n",
      "[nltk_data]    |     /Users/adam/nltk_data...\n",
      "[nltk_data]    |   Package opinion_lexicon is already up-to-date!\n",
      "[nltk_data]    | Downloading package paradigms to\n",
      "[nltk_data]    |     /Users/adam/nltk_data...\n",
      "[nltk_data]    |   Package paradigms is already up-to-date!\n",
      "[nltk_data]    | Downloading package pil to /Users/adam/nltk_data...\n",
      "[nltk_data]    |   Package pil is already up-to-date!\n",
      "[nltk_data]    | Downloading package pl196x to\n",
      "[nltk_data]    |     /Users/adam/nltk_data...\n",
      "[nltk_data]    |   Package pl196x is already up-to-date!\n",
      "[nltk_data]    | Downloading package ppattach to\n",
      "[nltk_data]    |     /Users/adam/nltk_data...\n",
      "[nltk_data]    |   Package ppattach is already up-to-date!\n",
      "[nltk_data]    | Downloading package problem_reports to\n",
      "[nltk_data]    |     /Users/adam/nltk_data...\n",
      "[nltk_data]    |   Package problem_reports is already up-to-date!\n",
      "[nltk_data]    | Downloading package propbank to\n",
      "[nltk_data]    |     /Users/adam/nltk_data...\n",
      "[nltk_data]    |   Package propbank is already up-to-date!\n",
      "[nltk_data]    | Downloading package ptb to /Users/adam/nltk_data...\n",
      "[nltk_data]    |   Package ptb is already up-to-date!\n",
      "[nltk_data]    | Downloading package product_reviews_1 to\n",
      "[nltk_data]    |     /Users/adam/nltk_data...\n",
      "[nltk_data]    |   Package product_reviews_1 is already up-to-date!\n",
      "[nltk_data]    | Downloading package product_reviews_2 to\n",
      "[nltk_data]    |     /Users/adam/nltk_data...\n",
      "[nltk_data]    |   Package product_reviews_2 is already up-to-date!\n",
      "[nltk_data]    | Downloading package pros_cons to\n",
      "[nltk_data]    |     /Users/adam/nltk_data...\n",
      "[nltk_data]    |   Package pros_cons is already up-to-date!\n",
      "[nltk_data]    | Downloading package qc to /Users/adam/nltk_data...\n",
      "[nltk_data]    |   Package qc is already up-to-date!\n",
      "[nltk_data]    | Downloading package reuters to\n",
      "[nltk_data]    |     /Users/adam/nltk_data...\n",
      "[nltk_data]    |   Package reuters is already up-to-date!\n",
      "[nltk_data]    | Downloading package rte to /Users/adam/nltk_data...\n",
      "[nltk_data]    |   Package rte is already up-to-date!\n",
      "[nltk_data]    | Downloading package semcor to\n",
      "[nltk_data]    |     /Users/adam/nltk_data...\n",
      "[nltk_data]    |   Package semcor is already up-to-date!\n",
      "[nltk_data]    | Downloading package senseval to\n",
      "[nltk_data]    |     /Users/adam/nltk_data...\n",
      "[nltk_data]    |   Package senseval is already up-to-date!\n",
      "[nltk_data]    | Downloading package sentiwordnet to\n",
      "[nltk_data]    |     /Users/adam/nltk_data...\n",
      "[nltk_data]    |   Package sentiwordnet is already up-to-date!\n",
      "[nltk_data]    | Downloading package sentence_polarity to\n",
      "[nltk_data]    |     /Users/adam/nltk_data...\n",
      "[nltk_data]    |   Package sentence_polarity is already up-to-date!\n",
      "[nltk_data]    | Downloading package shakespeare to\n",
      "[nltk_data]    |     /Users/adam/nltk_data...\n",
      "[nltk_data]    |   Package shakespeare is already up-to-date!\n",
      "[nltk_data]    | Downloading package sinica_treebank to\n",
      "[nltk_data]    |     /Users/adam/nltk_data...\n",
      "[nltk_data]    |   Package sinica_treebank is already up-to-date!\n",
      "[nltk_data]    | Downloading package smultron to\n",
      "[nltk_data]    |     /Users/adam/nltk_data...\n",
      "[nltk_data]    |   Package smultron is already up-to-date!\n",
      "[nltk_data]    | Downloading package state_union to\n",
      "[nltk_data]    |     /Users/adam/nltk_data...\n",
      "[nltk_data]    |   Package state_union is already up-to-date!\n",
      "[nltk_data]    | Downloading package stopwords to\n",
      "[nltk_data]    |     /Users/adam/nltk_data...\n",
      "[nltk_data]    |   Package stopwords is already up-to-date!\n",
      "[nltk_data]    | Downloading package subjectivity to\n",
      "[nltk_data]    |     /Users/adam/nltk_data...\n",
      "[nltk_data]    |   Package subjectivity is already up-to-date!\n",
      "[nltk_data]    | Downloading package swadesh to\n",
      "[nltk_data]    |     /Users/adam/nltk_data...\n",
      "[nltk_data]    |   Package swadesh is already up-to-date!\n",
      "[nltk_data]    | Downloading package switchboard to\n",
      "[nltk_data]    |     /Users/adam/nltk_data...\n",
      "[nltk_data]    |   Package switchboard is already up-to-date!\n",
      "[nltk_data]    | Downloading package timit to /Users/adam/nltk_data...\n",
      "[nltk_data]    |   Package timit is already up-to-date!\n",
      "[nltk_data]    | Downloading package toolbox to\n",
      "[nltk_data]    |     /Users/adam/nltk_data...\n",
      "[nltk_data]    |   Package toolbox is already up-to-date!\n",
      "[nltk_data]    | Downloading package treebank to\n",
      "[nltk_data]    |     /Users/adam/nltk_data...\n",
      "[nltk_data]    |   Package treebank is already up-to-date!\n",
      "[nltk_data]    | Downloading package twitter_samples to\n",
      "[nltk_data]    |     /Users/adam/nltk_data...\n",
      "[nltk_data]    |   Package twitter_samples is already up-to-date!\n",
      "[nltk_data]    | Downloading package udhr to /Users/adam/nltk_data...\n"
     ]
    },
    {
     "name": "stderr",
     "output_type": "stream",
     "text": [
      "[nltk_data]    |   Package udhr is already up-to-date!\n",
      "[nltk_data]    | Downloading package udhr2 to /Users/adam/nltk_data...\n",
      "[nltk_data]    |   Package udhr2 is already up-to-date!\n",
      "[nltk_data]    | Downloading package unicode_samples to\n",
      "[nltk_data]    |     /Users/adam/nltk_data...\n",
      "[nltk_data]    |   Package unicode_samples is already up-to-date!\n",
      "[nltk_data]    | Downloading package universal_treebanks_v20 to\n",
      "[nltk_data]    |     /Users/adam/nltk_data...\n",
      "[nltk_data]    |   Package universal_treebanks_v20 is already up-to-\n",
      "[nltk_data]    |       date!\n",
      "[nltk_data]    | Downloading package verbnet to\n",
      "[nltk_data]    |     /Users/adam/nltk_data...\n",
      "[nltk_data]    |   Package verbnet is already up-to-date!\n",
      "[nltk_data]    | Downloading package verbnet3 to\n",
      "[nltk_data]    |     /Users/adam/nltk_data...\n",
      "[nltk_data]    |   Package verbnet3 is already up-to-date!\n",
      "[nltk_data]    | Downloading package webtext to\n",
      "[nltk_data]    |     /Users/adam/nltk_data...\n",
      "[nltk_data]    |   Package webtext is already up-to-date!\n",
      "[nltk_data]    | Downloading package wordnet to\n",
      "[nltk_data]    |     /Users/adam/nltk_data...\n",
      "[nltk_data]    |   Package wordnet is already up-to-date!\n",
      "[nltk_data]    | Downloading package wordnet_ic to\n",
      "[nltk_data]    |     /Users/adam/nltk_data...\n",
      "[nltk_data]    |   Package wordnet_ic is already up-to-date!\n",
      "[nltk_data]    | Downloading package words to /Users/adam/nltk_data...\n",
      "[nltk_data]    |   Package words is already up-to-date!\n",
      "[nltk_data]    | Downloading package ycoe to /Users/adam/nltk_data...\n",
      "[nltk_data]    |   Package ycoe is already up-to-date!\n",
      "[nltk_data]    | Downloading package rslp to /Users/adam/nltk_data...\n",
      "[nltk_data]    |   Package rslp is already up-to-date!\n",
      "[nltk_data]    | Downloading package maxent_treebank_pos_tagger to\n",
      "[nltk_data]    |     /Users/adam/nltk_data...\n",
      "[nltk_data]    |   Package maxent_treebank_pos_tagger is already up-\n",
      "[nltk_data]    |       to-date!\n",
      "[nltk_data]    | Downloading package universal_tagset to\n",
      "[nltk_data]    |     /Users/adam/nltk_data...\n",
      "[nltk_data]    |   Package universal_tagset is already up-to-date!\n",
      "[nltk_data]    | Downloading package maxent_ne_chunker to\n",
      "[nltk_data]    |     /Users/adam/nltk_data...\n",
      "[nltk_data]    |   Package maxent_ne_chunker is already up-to-date!\n",
      "[nltk_data]    | Downloading package punkt to /Users/adam/nltk_data...\n",
      "[nltk_data]    |   Package punkt is already up-to-date!\n",
      "[nltk_data]    | Downloading package book_grammars to\n",
      "[nltk_data]    |     /Users/adam/nltk_data...\n",
      "[nltk_data]    |   Package book_grammars is already up-to-date!\n",
      "[nltk_data]    | Downloading package sample_grammars to\n",
      "[nltk_data]    |     /Users/adam/nltk_data...\n",
      "[nltk_data]    |   Package sample_grammars is already up-to-date!\n",
      "[nltk_data]    | Downloading package spanish_grammars to\n",
      "[nltk_data]    |     /Users/adam/nltk_data...\n",
      "[nltk_data]    |   Package spanish_grammars is already up-to-date!\n",
      "[nltk_data]    | Downloading package basque_grammars to\n",
      "[nltk_data]    |     /Users/adam/nltk_data...\n",
      "[nltk_data]    |   Package basque_grammars is already up-to-date!\n",
      "[nltk_data]    | Downloading package large_grammars to\n",
      "[nltk_data]    |     /Users/adam/nltk_data...\n",
      "[nltk_data]    |   Package large_grammars is already up-to-date!\n",
      "[nltk_data]    | Downloading package tagsets to\n",
      "[nltk_data]    |     /Users/adam/nltk_data...\n",
      "[nltk_data]    |   Package tagsets is already up-to-date!\n",
      "[nltk_data]    | Downloading package snowball_data to\n",
      "[nltk_data]    |     /Users/adam/nltk_data...\n",
      "[nltk_data]    |   Package snowball_data is already up-to-date!\n",
      "[nltk_data]    | Downloading package bllip_wsj_no_aux to\n",
      "[nltk_data]    |     /Users/adam/nltk_data...\n",
      "[nltk_data]    |   Package bllip_wsj_no_aux is already up-to-date!\n",
      "[nltk_data]    | Downloading package word2vec_sample to\n",
      "[nltk_data]    |     /Users/adam/nltk_data...\n",
      "[nltk_data]    |   Package word2vec_sample is already up-to-date!\n",
      "[nltk_data]    | Downloading package panlex_swadesh to\n",
      "[nltk_data]    |     /Users/adam/nltk_data...\n",
      "[nltk_data]    |   Package panlex_swadesh is already up-to-date!\n",
      "[nltk_data]    | Downloading package mte_teip5 to\n",
      "[nltk_data]    |     /Users/adam/nltk_data...\n",
      "[nltk_data]    |   Package mte_teip5 is already up-to-date!\n",
      "[nltk_data]    | Downloading package averaged_perceptron_tagger to\n",
      "[nltk_data]    |     /Users/adam/nltk_data...\n",
      "[nltk_data]    |   Package averaged_perceptron_tagger is already up-\n",
      "[nltk_data]    |       to-date!\n",
      "[nltk_data]    | Downloading package averaged_perceptron_tagger_ru to\n",
      "[nltk_data]    |     /Users/adam/nltk_data...\n",
      "[nltk_data]    |   Package averaged_perceptron_tagger_ru is already\n",
      "[nltk_data]    |       up-to-date!\n",
      "[nltk_data]    | Downloading package perluniprops to\n",
      "[nltk_data]    |     /Users/adam/nltk_data...\n",
      "[nltk_data]    |   Package perluniprops is already up-to-date!\n",
      "[nltk_data]    | Downloading package nonbreaking_prefixes to\n",
      "[nltk_data]    |     /Users/adam/nltk_data...\n",
      "[nltk_data]    |   Package nonbreaking_prefixes is already up-to-date!\n",
      "[nltk_data]    | Downloading package vader_lexicon to\n",
      "[nltk_data]    |     /Users/adam/nltk_data...\n",
      "[nltk_data]    |   Package vader_lexicon is already up-to-date!\n",
      "[nltk_data]    | Downloading package porter_test to\n",
      "[nltk_data]    |     /Users/adam/nltk_data...\n",
      "[nltk_data]    |   Package porter_test is already up-to-date!\n",
      "[nltk_data]    | Downloading package wmt15_eval to\n",
      "[nltk_data]    |     /Users/adam/nltk_data...\n",
      "[nltk_data]    |   Package wmt15_eval is already up-to-date!\n",
      "[nltk_data]    | Downloading package mwa_ppdb to\n",
      "[nltk_data]    |     /Users/adam/nltk_data...\n",
      "[nltk_data]    |   Package mwa_ppdb is already up-to-date!\n",
      "[nltk_data]    | \n",
      "[nltk_data]  Done downloading collection all\n"
     ]
    },
    {
     "data": {
      "text/plain": [
       "True"
      ]
     },
     "execution_count": 52,
     "metadata": {},
     "output_type": "execute_result"
    }
   ],
   "source": [
    "import nltk\n",
    "nltk.download('all')"
   ]
  },
  {
   "cell_type": "code",
   "execution_count": 53,
   "metadata": {},
   "outputs": [
    {
     "name": "stdout",
     "output_type": "stream",
     "text": [
      "synsets() 반환 type : <class 'list'>\n",
      "synsets() 반환 값 갯수: 18\n",
      "synsets() 반환 값 : [Synset('present.n.01'), Synset('present.n.02'), Synset('present.n.03'), Synset('show.v.01'), Synset('present.v.02'), Synset('stage.v.01'), Synset('present.v.04'), Synset('present.v.05'), Synset('award.v.01'), Synset('give.v.08'), Synset('deliver.v.01'), Synset('introduce.v.01'), Synset('portray.v.04'), Synset('confront.v.03'), Synset('present.v.12'), Synset('salute.v.06'), Synset('present.a.01'), Synset('present.a.02')]\n"
     ]
    }
   ],
   "source": [
    "from nltk.corpus import wordnet as wn\n",
    "\n",
    "term = 'present'\n",
    "\n",
    "# 'present'라는 단어로 wordnet의 synsets 생성. \n",
    "synsets = wn.synsets(term)\n",
    "print('synsets() 반환 type :', type(synsets))\n",
    "print('synsets() 반환 값 갯수:', len(synsets))\n",
    "print('synsets() 반환 값 :', synsets)"
   ]
  },
  {
   "cell_type": "code",
   "execution_count": 54,
   "metadata": {},
   "outputs": [
    {
     "name": "stdout",
     "output_type": "stream",
     "text": [
      "##### Synset name :  present.n.01 #####\n",
      "POS : noun.time\n",
      "Definition: the period of time that is happening now; any continuous stretch of time including the moment of speech\n",
      "Lemmas: ['present', 'nowadays']\n",
      "##### Synset name :  present.n.02 #####\n",
      "POS : noun.possession\n",
      "Definition: something presented as a gift\n",
      "Lemmas: ['present']\n",
      "##### Synset name :  present.n.03 #####\n",
      "POS : noun.communication\n",
      "Definition: a verb tense that expresses actions or states at the time of speaking\n",
      "Lemmas: ['present', 'present_tense']\n",
      "##### Synset name :  show.v.01 #####\n",
      "POS : verb.perception\n",
      "Definition: give an exhibition of to an interested audience\n",
      "Lemmas: ['show', 'demo', 'exhibit', 'present', 'demonstrate']\n",
      "##### Synset name :  present.v.02 #####\n",
      "POS : verb.communication\n",
      "Definition: bring forward and present to the mind\n",
      "Lemmas: ['present', 'represent', 'lay_out']\n",
      "##### Synset name :  stage.v.01 #####\n",
      "POS : verb.creation\n",
      "Definition: perform (a play), especially on a stage\n",
      "Lemmas: ['stage', 'present', 'represent']\n",
      "##### Synset name :  present.v.04 #####\n",
      "POS : verb.possession\n",
      "Definition: hand over formally\n",
      "Lemmas: ['present', 'submit']\n",
      "##### Synset name :  present.v.05 #####\n",
      "POS : verb.stative\n",
      "Definition: introduce\n",
      "Lemmas: ['present', 'pose']\n",
      "##### Synset name :  award.v.01 #####\n",
      "POS : verb.possession\n",
      "Definition: give, especially as an honor or reward\n",
      "Lemmas: ['award', 'present']\n",
      "##### Synset name :  give.v.08 #####\n",
      "POS : verb.possession\n",
      "Definition: give as a present; make a gift of\n",
      "Lemmas: ['give', 'gift', 'present']\n",
      "##### Synset name :  deliver.v.01 #####\n",
      "POS : verb.communication\n",
      "Definition: deliver (a speech, oration, or idea)\n",
      "Lemmas: ['deliver', 'present']\n",
      "##### Synset name :  introduce.v.01 #####\n",
      "POS : verb.communication\n",
      "Definition: cause to come to know personally\n",
      "Lemmas: ['introduce', 'present', 'acquaint']\n",
      "##### Synset name :  portray.v.04 #####\n",
      "POS : verb.creation\n",
      "Definition: represent abstractly, for example in a painting, drawing, or sculpture\n",
      "Lemmas: ['portray', 'present']\n",
      "##### Synset name :  confront.v.03 #####\n",
      "POS : verb.communication\n",
      "Definition: present somebody with something, usually to accuse or criticize\n",
      "Lemmas: ['confront', 'face', 'present']\n",
      "##### Synset name :  present.v.12 #####\n",
      "POS : verb.communication\n",
      "Definition: formally present a debutante, a representative of a country, etc.\n",
      "Lemmas: ['present']\n",
      "##### Synset name :  salute.v.06 #####\n",
      "POS : verb.communication\n",
      "Definition: recognize with a gesture prescribed by a military regulation; assume a prescribed position\n",
      "Lemmas: ['salute', 'present']\n",
      "##### Synset name :  present.a.01 #####\n",
      "POS : adj.all\n",
      "Definition: temporal sense; intermediate between past and future; now existing or happening or in consideration\n",
      "Lemmas: ['present']\n",
      "##### Synset name :  present.a.02 #####\n",
      "POS : adj.all\n",
      "Definition: being or existing in a specified place\n",
      "Lemmas: ['present']\n"
     ]
    }
   ],
   "source": [
    "for synset in synsets :\n",
    "    print('##### Synset name : ', synset.name(),'#####')\n",
    "    print('POS :',synset.lexname())\n",
    "    print('Definition:',synset.definition())\n",
    "    print('Lemmas:',synset.lemma_names())"
   ]
  },
  {
   "cell_type": "code",
   "execution_count": 55,
   "metadata": {},
   "outputs": [
    {
     "data": {
      "text/html": [
       "<div>\n",
       "<style scoped>\n",
       "    .dataframe tbody tr th:only-of-type {\n",
       "        vertical-align: middle;\n",
       "    }\n",
       "\n",
       "    .dataframe tbody tr th {\n",
       "        vertical-align: top;\n",
       "    }\n",
       "\n",
       "    .dataframe thead th {\n",
       "        text-align: right;\n",
       "    }\n",
       "</style>\n",
       "<table border=\"1\" class=\"dataframe\">\n",
       "  <thead>\n",
       "    <tr style=\"text-align: right;\">\n",
       "      <th></th>\n",
       "      <th>tree</th>\n",
       "      <th>lion</th>\n",
       "      <th>tiger</th>\n",
       "      <th>cat</th>\n",
       "      <th>dog</th>\n",
       "    </tr>\n",
       "  </thead>\n",
       "  <tbody>\n",
       "    <tr>\n",
       "      <th>tree</th>\n",
       "      <td>1.00</td>\n",
       "      <td>0.07</td>\n",
       "      <td>0.07</td>\n",
       "      <td>0.08</td>\n",
       "      <td>0.12</td>\n",
       "    </tr>\n",
       "    <tr>\n",
       "      <th>lion</th>\n",
       "      <td>0.07</td>\n",
       "      <td>1.00</td>\n",
       "      <td>0.33</td>\n",
       "      <td>0.25</td>\n",
       "      <td>0.17</td>\n",
       "    </tr>\n",
       "    <tr>\n",
       "      <th>tiger</th>\n",
       "      <td>0.07</td>\n",
       "      <td>0.33</td>\n",
       "      <td>1.00</td>\n",
       "      <td>0.25</td>\n",
       "      <td>0.17</td>\n",
       "    </tr>\n",
       "    <tr>\n",
       "      <th>cat</th>\n",
       "      <td>0.08</td>\n",
       "      <td>0.25</td>\n",
       "      <td>0.25</td>\n",
       "      <td>1.00</td>\n",
       "      <td>0.20</td>\n",
       "    </tr>\n",
       "    <tr>\n",
       "      <th>dog</th>\n",
       "      <td>0.12</td>\n",
       "      <td>0.17</td>\n",
       "      <td>0.17</td>\n",
       "      <td>0.20</td>\n",
       "      <td>1.00</td>\n",
       "    </tr>\n",
       "  </tbody>\n",
       "</table>\n",
       "</div>"
      ],
      "text/plain": [
       "       tree  lion  tiger   cat   dog\n",
       "tree   1.00  0.07   0.07  0.08  0.12\n",
       "lion   0.07  1.00   0.33  0.25  0.17\n",
       "tiger  0.07  0.33   1.00  0.25  0.17\n",
       "cat    0.08  0.25   0.25  1.00  0.20\n",
       "dog    0.12  0.17   0.17  0.20  1.00"
      ]
     },
     "execution_count": 55,
     "metadata": {},
     "output_type": "execute_result"
    }
   ],
   "source": [
    "#단어별 유사도 측정\n",
    "# synset 객체를 단어별로 생성합니다. \n",
    "tree = wn.synset('tree.n.01')\n",
    "lion = wn.synset('lion.n.01')\n",
    "tiger = wn.synset('tiger.n.02')\n",
    "cat = wn.synset('cat.n.01')\n",
    "dog = wn.synset('dog.n.01')\n",
    "\n",
    "entities = [tree , lion , tiger , cat , dog]\n",
    "similarities = []\n",
    "entity_names = [ entity.name().split('.')[0] for entity in entities]\n",
    "\n",
    "# 단어별 synset 들을 iteration 하면서 다른 단어들의 synset과 유사도를 측정합니다. \n",
    "for entity in entities:\n",
    "    similarity = [ round(entity.path_similarity(compared_entity), 2)  for compared_entity in entities ]\n",
    "    similarities.append(similarity)\n",
    "    \n",
    "# 개별 단어별 synset과 다른 단어의 synset과의 유사도를 DataFrame형태로 저장합니다.  \n",
    "similarity_df = pd.DataFrame(similarities , columns=entity_names,index=entity_names)\n",
    "similarity_df"
   ]
  },
  {
   "cell_type": "code",
   "execution_count": 56,
   "metadata": {},
   "outputs": [
    {
     "name": "stdout",
     "output_type": "stream",
     "text": [
      "senti_synsets() 반환 type : <class 'list'>\n",
      "senti_synsets() 반환 값 갯수: 11\n",
      "senti_synsets() 반환 값 : [SentiSynset('decelerate.v.01'), SentiSynset('slow.v.02'), SentiSynset('slow.v.03'), SentiSynset('slow.a.01'), SentiSynset('slow.a.02'), SentiSynset('dense.s.04'), SentiSynset('slow.a.04'), SentiSynset('boring.s.01'), SentiSynset('dull.s.08'), SentiSynset('slowly.r.01'), SentiSynset('behind.r.03')]\n"
     ]
    }
   ],
   "source": [
    "#SentiWordNet의 Senti_Synset \n",
    "import nltk\n",
    "from nltk.corpus import sentiwordnet as swn\n",
    "\n",
    "senti_synsets = list(swn.senti_synsets('slow'))\n",
    "print('senti_synsets() 반환 type :', type(senti_synsets))\n",
    "print('senti_synsets() 반환 값 갯수:', len(senti_synsets))\n",
    "print('senti_synsets() 반환 값 :', senti_synsets)"
   ]
  },
  {
   "cell_type": "code",
   "execution_count": 57,
   "metadata": {},
   "outputs": [
    {
     "name": "stdout",
     "output_type": "stream",
     "text": [
      "father 긍정감성 지수:  0.0\n",
      "father 부정감성 지수:  0.0\n",
      "father 객관성 지수:  1.0\n",
      "\n",
      "\n",
      "fabulous 긍정감성 지수:  0.875\n",
      "fabulous 부정감성 지수:  0.125\n"
     ]
    }
   ],
   "source": [
    "#감성 지수 확인\n",
    "import nltk\n",
    "from nltk.corpus import sentiwordnet as swn\n",
    "\n",
    "father = swn.senti_synset('father.n.01')\n",
    "print('father 긍정감성 지수: ', father.pos_score())\n",
    "print('father 부정감성 지수: ', father.neg_score())\n",
    "print('father 객관성 지수: ', father.obj_score())\n",
    "print('\\n')\n",
    "fabulous = swn.senti_synset('fabulous.a.01')\n",
    "print('fabulous 긍정감성 지수: ',fabulous .pos_score())\n",
    "print('fabulous 부정감성 지수: ',fabulous .neg_score())"
   ]
  },
  {
   "cell_type": "markdown",
   "metadata": {},
   "source": [
    "### 영화 감상평 감성 분석"
   ]
  },
  {
   "cell_type": "code",
   "execution_count": 58,
   "metadata": {},
   "outputs": [],
   "source": [
    "#품사를 리턴해주는 함수\n",
    "from nltk.corpus import wordnet as wn\n",
    "\n",
    "# 간단한 NTLK PennTreebank Tag를 기반으로 WordNet기반의 품사 Tag로 변환\n",
    "def penn_to_wn(tag):\n",
    "    if tag.startswith('J'):\n",
    "        return wn.ADJ\n",
    "    elif tag.startswith('N'):\n",
    "        return wn.NOUN\n",
    "    elif tag.startswith('R'):\n",
    "        return wn.ADV\n",
    "    elif tag.startswith('V'):\n",
    "        return wn.VERB\n",
    "    return "
   ]
  },
  {
   "cell_type": "code",
   "execution_count": 59,
   "metadata": {},
   "outputs": [],
   "source": [
    "from nltk.stem import WordNetLemmatizer\n",
    "from nltk.corpus import sentiwordnet as swn\n",
    "from nltk import sent_tokenize, word_tokenize, pos_tag\n",
    "\n",
    "#문장을 받아서 긍정 및 부정을 평가해주는 함수\n",
    "def swn_polarity(text):\n",
    "    # 감성 지수 초기화 \n",
    "    sentiment = 0.0\n",
    "    tokens_count = 0\n",
    "    \n",
    "    lemmatizer = WordNetLemmatizer()\n",
    "    raw_sentences = sent_tokenize(text)\n",
    "    # 분해된 문장별로 단어 토큰 -> 품사 태깅 후에 SentiSynset 생성 -> 감성 지수 합산 \n",
    "    for raw_sentence in raw_sentences:\n",
    "        # NTLK 기반의 품사 태깅 문장 추출  \n",
    "        tagged_sentence = pos_tag(word_tokenize(raw_sentence))\n",
    "        for word , tag in tagged_sentence:\n",
    "            \n",
    "            # WordNet 기반 품사 태깅과 어근 추출\n",
    "            wn_tag = penn_to_wn(tag)\n",
    "            if wn_tag not in (wn.NOUN , wn.ADJ, wn.ADV):\n",
    "                continue                   \n",
    "            lemma = lemmatizer.lemmatize(word, pos=wn_tag)\n",
    "            if not lemma:\n",
    "                continue\n",
    "            # 어근을 추출한 단어와 WordNet 기반 품사 태깅을 입력해 Synset 객체를 생성. \n",
    "            synsets = wn.synsets(lemma , pos=wn_tag)\n",
    "            if not synsets:\n",
    "                continue\n",
    "            # sentiwordnet의 감성 단어 분석으로 감성 synset 추출\n",
    "            # 모든 단어에 대해 긍정 감성 지수는 +로 부정 감성 지수는 -로 합산해 감성 지수 계산. \n",
    "            synset = synsets[0]\n",
    "            swn_synset = swn.senti_synset(synset.name())\n",
    "            sentiment += (swn_synset.pos_score() - swn_synset.neg_score())           \n",
    "            tokens_count += 1\n",
    "    \n",
    "    if not tokens_count:\n",
    "        return 0\n",
    "    \n",
    "    # 총 score가 0 이상일 경우 긍정(Positive) 1, 그렇지 않을 경우 부정(Negative) 0 반환\n",
    "    if sentiment >= 0 :\n",
    "        return 1\n",
    "    \n",
    "    return 0"
   ]
  },
  {
   "cell_type": "code",
   "execution_count": 60,
   "metadata": {},
   "outputs": [
    {
     "name": "stdout",
     "output_type": "stream",
     "text": [
      "[[7668 4832]\n",
      " [3636 8864]]\n",
      "정확도: 0.6613\n",
      "정밀도: 0.6472\n",
      "재현율: 0.7091\n"
     ]
    }
   ],
   "source": [
    "#이전에 읽어온 데이터를 이용해서 감성 분석 - 오래 걸림(5~10분)\n",
    "review_df['preds'] = review_df['review'].apply( lambda x : swn_polarity(x) )\n",
    "y_target = review_df['sentiment'].values\n",
    "preds = review_df['preds'].values\n",
    "\n",
    "from sklearn.metrics import accuracy_score, confusion_matrix, precision_score \n",
    "from sklearn.metrics import recall_score, f1_score, roc_auc_score\n",
    "import numpy as np\n",
    "\n",
    "print(confusion_matrix( y_target, preds))\n",
    "print(\"정확도:\", np.round(accuracy_score(y_target , preds), 4))\n",
    "print(\"정밀도:\", np.round(precision_score(y_target , preds),4))\n",
    "print(\"재현율:\", np.round(recall_score(y_target, preds), 4))"
   ]
  },
  {
   "cell_type": "code",
   "execution_count": null,
   "metadata": {},
   "outputs": [],
   "source": []
  },
  {
   "cell_type": "markdown",
   "metadata": {},
   "source": [
    "## 식당 리뷰 감성 분석\n",
    "### 데이터는 네이버에서 크롤링\n",
    "### score는 별점\n",
    "### review는 리뷰 내용\n",
    "### y는 score 가 4이상이면 1(긍정) 그렇지 않으면 0(부정)으로 설정"
   ]
  },
  {
   "cell_type": "markdown",
   "metadata": {},
   "source": [
    "### 데이터 가져오기"
   ]
  },
  {
   "cell_type": "code",
   "execution_count": 61,
   "metadata": {},
   "outputs": [
    {
     "name": "stdout",
     "output_type": "stream",
     "text": [
      "   score                      review  y\n",
      "0      5            친절하시고 깔끔하고 좋았습니다  1\n",
      "1      5                  조용하고 고기도 굿  1\n",
      "2      4      갈비탕과 냉면, 육회비빔밥이 맛있습니다.  1\n",
      "3      4  대체적으로 만족하나\\n와인의 구성이 살짝 아쉬움  1\n",
      "4      5       고기도 맛있고 서비스는 더 최고입니다~  1\n"
     ]
    }
   ],
   "source": [
    "df = pd.read_csv(\"./data/review_data.csv\")\n",
    "print(df.head())"
   ]
  },
  {
   "cell_type": "markdown",
   "metadata": {},
   "source": [
    "### 한글 데이터 만 추출"
   ]
  },
  {
   "cell_type": "code",
   "execution_count": 62,
   "metadata": {},
   "outputs": [],
   "source": [
    "import re\n",
    "# 텍스트 정제 함수 : 한글 이외의 문자는 전부 제거\n",
    "def text_cleaning(text):\n",
    "    # 한글의 정규표현식으로 한글만 추출합니다.\n",
    "    hangul = re.compile('[^ ㄱ-ㅣ가-힣]+')\n",
    "    result = hangul.sub('', text)\n",
    "    return result"
   ]
  },
  {
   "cell_type": "code",
   "execution_count": 63,
   "metadata": {},
   "outputs": [
    {
     "data": {
      "text/html": [
       "<div>\n",
       "<style scoped>\n",
       "    .dataframe tbody tr th:only-of-type {\n",
       "        vertical-align: middle;\n",
       "    }\n",
       "\n",
       "    .dataframe tbody tr th {\n",
       "        vertical-align: top;\n",
       "    }\n",
       "\n",
       "    .dataframe thead th {\n",
       "        text-align: right;\n",
       "    }\n",
       "</style>\n",
       "<table border=\"1\" class=\"dataframe\">\n",
       "  <thead>\n",
       "    <tr style=\"text-align: right;\">\n",
       "      <th></th>\n",
       "      <th>score</th>\n",
       "      <th>y</th>\n",
       "      <th>ko_text</th>\n",
       "    </tr>\n",
       "  </thead>\n",
       "  <tbody>\n",
       "    <tr>\n",
       "      <th>0</th>\n",
       "      <td>5</td>\n",
       "      <td>1</td>\n",
       "      <td>친절하시고 깔끔하고 좋았습니다</td>\n",
       "    </tr>\n",
       "    <tr>\n",
       "      <th>1</th>\n",
       "      <td>5</td>\n",
       "      <td>1</td>\n",
       "      <td>조용하고 고기도 굿</td>\n",
       "    </tr>\n",
       "    <tr>\n",
       "      <th>2</th>\n",
       "      <td>4</td>\n",
       "      <td>1</td>\n",
       "      <td>갈비탕과 냉면 육회비빔밥이 맛있습니다</td>\n",
       "    </tr>\n",
       "    <tr>\n",
       "      <th>3</th>\n",
       "      <td>4</td>\n",
       "      <td>1</td>\n",
       "      <td>대체적으로 만족하나와인의 구성이 살짝 아쉬움</td>\n",
       "    </tr>\n",
       "    <tr>\n",
       "      <th>4</th>\n",
       "      <td>5</td>\n",
       "      <td>1</td>\n",
       "      <td>고기도 맛있고 서비스는 더 최고입니다</td>\n",
       "    </tr>\n",
       "  </tbody>\n",
       "</table>\n",
       "</div>"
      ],
      "text/plain": [
       "   score  y                   ko_text\n",
       "0      5  1          친절하시고 깔끔하고 좋았습니다\n",
       "1      5  1                조용하고 고기도 굿\n",
       "2      4  1      갈비탕과 냉면 육회비빔밥이 맛있습니다\n",
       "3      4  1  대체적으로 만족하나와인의 구성이 살짝 아쉬움\n",
       "4      5  1      고기도 맛있고 서비스는 더 최고입니다"
      ]
     },
     "execution_count": 63,
     "metadata": {},
     "output_type": "execute_result"
    }
   ],
   "source": [
    "df['ko_text'] = df['review'].apply(lambda x: text_cleaning(x))\n",
    "del df['review']\n",
    "df.head()"
   ]
  },
  {
   "cell_type": "markdown",
   "metadata": {},
   "source": [
    "### 한글 형태소 분석"
   ]
  },
  {
   "cell_type": "code",
   "execution_count": 64,
   "metadata": {},
   "outputs": [
    {
     "name": "stdout",
     "output_type": "stream",
     "text": [
      "['친절하시고/Adjective', '깔끔하고/Adjective', '좋았습니다/Adjective']\n"
     ]
    }
   ],
   "source": [
    "from konlpy.tag import Okt\n",
    "\n",
    "# konlpy라이브러리로 텍스트 데이터에서 형태소를 추출합니다.\n",
    "def get_pos(x):\n",
    "    tagger = Okt()\n",
    "    pos = tagger.pos(x)\n",
    "    pos = ['{}/{}'.format(word,tag) for word, tag in pos]\n",
    "    return pos\n",
    "\n",
    "# 형태소 추출 동작을 테스트합니다.\n",
    "result = get_pos(df['ko_text'][0])\n",
    "print(result)"
   ]
  },
  {
   "cell_type": "markdown",
   "metadata": {},
   "source": [
    "### 학습 데이터 생성"
   ]
  },
  {
   "cell_type": "code",
   "execution_count": 65,
   "metadata": {},
   "outputs": [
    {
     "data": {
      "text/plain": [
       "(545, 3030)"
      ]
     },
     "execution_count": 65,
     "metadata": {},
     "output_type": "execute_result"
    }
   ],
   "source": [
    "from sklearn.feature_extraction.text import CountVectorizer\n",
    "\n",
    "# 형태소를 벡터 형태의 학습 데이터셋(X 데이터)으로 변환\n",
    "index_vectorizer = CountVectorizer(tokenizer = lambda x: get_pos(x))\n",
    "X = index_vectorizer.fit_transform(df['ko_text'].tolist())\n",
    "\n",
    "X.shape"
   ]
  },
  {
   "cell_type": "markdown",
   "metadata": {},
   "source": [
    "### 데이터 확인"
   ]
  },
  {
   "cell_type": "code",
   "execution_count": 66,
   "metadata": {},
   "outputs": [
    {
     "name": "stdout",
     "output_type": "stream",
     "text": [
      "{'친절하시고/Adjective': 2647, '깔끔하고/Adjective': 428, '좋았습니다/Adjective': 2403, '조용하고/Adjective': 2356, '고..\n"
     ]
    }
   ],
   "source": [
    "print(str(index_vectorizer.vocabulary_)[:100]+\"..\")"
   ]
  },
  {
   "cell_type": "code",
   "execution_count": 67,
   "metadata": {},
   "outputs": [
    {
     "name": "stdout",
     "output_type": "stream",
     "text": [
      "친절하시고 깔끔하고 좋았습니다\n",
      "  (0, 2647)\t1\n",
      "  (0, 428)\t1\n",
      "  (0, 2403)\t1\n"
     ]
    }
   ],
   "source": [
    "print(df['ko_text'][0])\n",
    "print(X[0])"
   ]
  },
  {
   "cell_type": "markdown",
   "metadata": {},
   "source": [
    "### TF-IDF 변환"
   ]
  },
  {
   "cell_type": "code",
   "execution_count": 68,
   "metadata": {},
   "outputs": [
    {
     "name": "stdout",
     "output_type": "stream",
     "text": [
      "(545, 3030)\n",
      "  (0, 2647)\t0.5548708693511647\n",
      "  (0, 2403)\t0.48955631270748484\n",
      "  (0, 428)\t0.6726462183300624\n"
     ]
    }
   ],
   "source": [
    "from sklearn.feature_extraction.text import TfidfTransformer\n",
    "\n",
    "# TF-IDF 방법으로, 형태소를 벡터 형태의 학습 데이터셋(X 데이터)으로 변환합니다.\n",
    "tfidf_vectorizer = TfidfTransformer()\n",
    "X = tfidf_vectorizer.fit_transform(X)\n",
    "\n",
    "print(X.shape)\n",
    "print(X[0])"
   ]
  },
  {
   "cell_type": "markdown",
   "metadata": {},
   "source": [
    "### 학습용 데이터 생성"
   ]
  },
  {
   "cell_type": "code",
   "execution_count": 69,
   "metadata": {},
   "outputs": [
    {
     "name": "stdout",
     "output_type": "stream",
     "text": [
      "(381, 3030)\n",
      "(164, 3030)\n"
     ]
    }
   ],
   "source": [
    "from sklearn.model_selection import train_test_split\n",
    "\n",
    "y = df['y']\n",
    "x_train, x_test, y_train, y_test = train_test_split(X, y, test_size=0.30)\n",
    "print(x_train.shape)\n",
    "print(x_test.shape)"
   ]
  },
  {
   "cell_type": "markdown",
   "metadata": {},
   "source": [
    "### 분류 훈련"
   ]
  },
  {
   "cell_type": "code",
   "execution_count": 70,
   "metadata": {},
   "outputs": [
    {
     "name": "stdout",
     "output_type": "stream",
     "text": [
      "accuracy: 0.90\n",
      "Precision : 0.896\n",
      "Recall : 1.000\n",
      "F1 : 0.945\n"
     ]
    }
   ],
   "source": [
    "from sklearn.linear_model import LogisticRegression\n",
    "from sklearn.metrics import accuracy_score, precision_score, recall_score, f1_score\n",
    "\n",
    "# 로지스틱 회귀모델을 학습합니다.\n",
    "lr = LogisticRegression(random_state=0)\n",
    "lr.fit(x_train, y_train)\n",
    "y_pred = lr.predict(x_test)\n",
    "y_pred_probability = lr.predict_proba(x_test)[:,1]\n",
    "\n",
    "# 로지스틱 회귀모델의 성능을 평가합니다.\n",
    "print(\"accuracy: %.2f\" % accuracy_score(y_test, y_pred))\n",
    "print(\"Precision : %.3f\" % precision_score(y_test, y_pred))\n",
    "print(\"Recall : %.3f\" % recall_score(y_test, y_pred))\n",
    "print(\"F1 : %.3f\" % f1_score(y_test, y_pred))"
   ]
  },
  {
   "cell_type": "code",
   "execution_count": 71,
   "metadata": {},
   "outputs": [
    {
     "name": "stdout",
     "output_type": "stream",
     "text": [
      "[[  0  17]\n",
      " [  0 147]]\n"
     ]
    }
   ],
   "source": [
    "from sklearn.metrics import confusion_matrix\n",
    "\n",
    "# Confusion Matrix를 출력합니다.\n",
    "confmat = confusion_matrix(y_true=y_test, y_pred=y_pred)\n",
    "print(confmat)"
   ]
  },
  {
   "cell_type": "code",
   "execution_count": 72,
   "metadata": {},
   "outputs": [
    {
     "name": "stdout",
     "output_type": "stream",
     "text": [
      "AUC : 0.910\n"
     ]
    },
    {
     "data": {
      "text/plain": [
       "<matplotlib.legend.Legend at 0x7f7ac1017040>"
      ]
     },
     "execution_count": 72,
     "metadata": {},
     "output_type": "execute_result"
    },
    {
     "data": {
      "image/png": "[encoded data removed]",
      "text/plain": [
       "<Figure size 360x288 with 1 Axes>"
      ]
     },
     "metadata": {
      "needs_background": "light"
     },
     "output_type": "display_data"
    }
   ],
   "source": [
    "from sklearn.metrics import roc_curve, roc_auc_score\n",
    "\n",
    "# AUC를 계산합니다.\n",
    "false_positive_rate, true_positive_rate, thresholds = roc_curve(y_test, y_pred_probability)\n",
    "roc_auc = roc_auc_score(y_test, y_pred_probability)\n",
    "print(\"AUC : %.3f\" % roc_auc)\n",
    "\n",
    "# ROC curve 그래프를 출력합니다.\n",
    "plt.rcParams['figure.figsize'] = [5, 4]\n",
    "plt.plot(false_positive_rate, true_positive_rate, label='ROC curve (area = %0.3f)' % roc_auc, \n",
    "         color='red', linewidth=4.0)\n",
    "plt.plot([0, 1], [0, 1], 'k--')\n",
    "plt.xlim([0.0, 1.0])\n",
    "plt.ylim([0.0, 1.0])\n",
    "plt.xlabel('False Positive Rate')\n",
    "plt.ylabel('True Positive Rate')\n",
    "plt.title('ROC curve of Logistic regression')\n",
    "plt.legend(loc=\"lower right\")"
   ]
  },
  {
   "cell_type": "markdown",
   "metadata": {},
   "source": [
    "### 레이블의 분포 확인"
   ]
  },
  {
   "cell_type": "code",
   "execution_count": 73,
   "metadata": {},
   "outputs": [
    {
     "data": {
      "text/plain": [
       "1    492\n",
       "0     53\n",
       "Name: y, dtype: int64"
      ]
     },
     "execution_count": 73,
     "metadata": {},
     "output_type": "execute_result"
    }
   ],
   "source": [
    "# y가 0과 1을 각각 얼마나 가지고 있는지를 출력합니다.\n",
    "df['y'].value_counts()"
   ]
  },
  {
   "cell_type": "code",
   "execution_count": 74,
   "metadata": {},
   "outputs": [
    {
     "name": "stdout",
     "output_type": "stream",
     "text": [
      "(70, 3030)\n",
      "(30, 3030)\n"
     ]
    }
   ],
   "source": [
    "# 1:1 비율로 랜덤 샘플링을 수행합니다.\n",
    "positive_random_idx = df[df['y']==1].sample(50, random_state=30).index.tolist()\n",
    "negative_random_idx = df[df['y']==0].sample(50, random_state=30).index.tolist()\n",
    "\n",
    "# 랜덤 데이터로 데이터셋을 나눕니다.\n",
    "random_idx = positive_random_idx + negative_random_idx\n",
    "sample_X = X[random_idx, :]\n",
    "y = df['y'][random_idx]\n",
    "x_train, x_test, y_train, y_test = train_test_split(sample_X, y, test_size=0.30)\n",
    "print(x_train.shape)\n",
    "print(x_test.shape)"
   ]
  },
  {
   "cell_type": "code",
   "execution_count": 75,
   "metadata": {},
   "outputs": [
    {
     "name": "stdout",
     "output_type": "stream",
     "text": [
      "accuracy: 0.33\n",
      "Precision : 0.000\n",
      "Recall : 0.000\n",
      "F1 : 0.000\n"
     ]
    }
   ],
   "source": [
    "# 로지스틱 회귀모델을 다시 학습합니다.\n",
    "lr = LogisticRegression(random_state=42)\n",
    "lr.fit(x_train, y_train)\n",
    "y_pred = lr.predict(x_test)\n",
    "y_pred_probability = lr.predict_proba(x_test)[:,1]\n",
    "\n",
    "# 학습한 모델을 테스트 데이터로 평가합니다.\n",
    "print(\"accuracy: %.2f\" % accuracy_score(y_test, y_pred))\n",
    "print(\"Precision : %.3f\" % precision_score(y_test, y_pred))\n",
    "print(\"Recall : %.3f\" % recall_score(y_test, y_pred))\n",
    "print(\"F1 : %.3f\" % f1_score(y_test, y_pred))"
   ]
  },
  {
   "cell_type": "code",
   "execution_count": 76,
   "metadata": {
    "scrolled": true
   },
   "outputs": [
    {
     "name": "stdout",
     "output_type": "stream",
     "text": [
      "[[10  0]\n",
      " [20  0]]\n"
     ]
    }
   ],
   "source": [
    "# Confusion matrix를 출력합니다.\n",
    "confmat = confusion_matrix(y_true=y_test, y_pred=y_pred)\n",
    "print(confmat)"
   ]
  },
  {
   "cell_type": "code",
   "execution_count": 77,
   "metadata": {},
   "outputs": [
    {
     "name": "stdout",
     "output_type": "stream",
     "text": [
      "AUC : 0.935\n"
     ]
    },
    {
     "data": {
      "text/plain": [
       "<matplotlib.legend.Legend at 0x7f7aac44b3d0>"
      ]
     },
     "execution_count": 77,
     "metadata": {},
     "output_type": "execute_result"
    },
    {
     "data": {
      "image/png": "[encoded data removed]",
      "text/plain": [
       "<Figure size 360x288 with 1 Axes>"
      ]
     },
     "metadata": {
      "needs_background": "light"
     },
     "output_type": "display_data"
    }
   ],
   "source": [
    "# AUC를 계산합니다.\n",
    "false_positive_rate, true_positive_rate, thresholds = roc_curve(y_test, y_pred_probability)\n",
    "roc_auc = roc_auc_score(y_test, y_pred_probability)\n",
    "print(\"AUC : %.3f\" % roc_auc)\n",
    "\n",
    "# ROC curve 그래프를 출력합니다.\n",
    "plt.rcParams['figure.figsize'] = [5, 4]\n",
    "plt.plot(false_positive_rate, true_positive_rate, label='ROC curve (area = %0.3f)' % roc_auc, \n",
    "         color='red', linewidth=4.0)\n",
    "plt.plot([0, 1], [0, 1], 'k--')\n",
    "plt.xlim([0.0, 1.0])\n",
    "plt.ylim([0.0, 1.0])\n",
    "plt.xlabel('False Positive Rate')\n",
    "plt.ylabel('True Positive Rate')\n",
    "plt.title('ROC curve of Logistic regression')\n",
    "plt.legend(loc=\"lower right\")"
   ]
  },
  {
   "cell_type": "markdown",
   "metadata": {},
   "source": [
    "### 피처의 중요도 확인"
   ]
  },
  {
   "cell_type": "code",
   "execution_count": 79,
   "metadata": {},
   "outputs": [
    {
     "data": {
      "text/plain": [
       "<BarContainer object of 3030 artists>"
      ]
     },
     "execution_count": 79,
     "metadata": {},
     "output_type": "execute_result"
    },
    {
     "data": {
      "image/png": "[encoded data removed]",
      "text/plain": [
       "<Figure size 720x576 with 1 Axes>"
      ]
     },
     "metadata": {
      "needs_background": "light"
     },
     "output_type": "display_data"
    }
   ],
   "source": [
    "# 학습한 회귀 모델의 계수를 출력합니다.\n",
    "plt.rcParams['figure.figsize'] = [10, 8]\n",
    "plt.bar(range(len(lr.coef_[0])), lr.coef_[0])"
   ]
  },
  {
   "cell_type": "markdown",
   "metadata": {},
   "source": [
    "### 상위 5개 와 하위 5개 회귀 계수 출력"
   ]
  },
  {
   "cell_type": "code",
   "execution_count": 80,
   "metadata": {},
   "outputs": [
    {
     "name": "stdout",
     "output_type": "stream",
     "text": [
      "[(0.7089983966234911, 1013), (0.6565297427171582, 428), (0.5955075217620174, 999), (0.4527060182045674, 1093), (0.40719360196391946, 2906)]\n",
      "[(-0.43269864922734647, 1309), (-0.4407387918031072, 980), (-0.444920440114969, 2312), (-0.49088610015362577, 2082), (-0.7315793109704828, 2069)]\n"
     ]
    }
   ],
   "source": [
    "print(sorted(((value, index) for index, value in enumerate(lr.coef_[0])), reverse=True)[:5])\n",
    "print(sorted(((value, index) for index, value in enumerate(lr.coef_[0])), reverse=True)[-5:])"
   ]
  },
  {
   "cell_type": "markdown",
   "metadata": {},
   "source": [
    "### 상위 형태소 20개 출력"
   ]
  },
  {
   "cell_type": "code",
   "execution_count": 81,
   "metadata": {},
   "outputs": [
    {
     "name": "stdout",
     "output_type": "stream",
     "text": [
      "{2647: '친절하시고/Adjective', 428: '깔끔하고/Adjective', 2403: '좋았습니다/Adjective', 2356: '조용하고/Adjective', 23..\n"
     ]
    }
   ],
   "source": [
    "# 회귀 모델의 계수를 높은 순으로 정렬합니다. \n",
    "coef_pos_index = sorted(((value, index) for index, value in enumerate(lr.coef_[0])), reverse=True)\n",
    "\n",
    "# 회귀 모델의 계수를 index_vectorizer에 맵핑하여, 어떤 형태소인지 출력할 수 있게 합니다.\n",
    "invert_index_vectorizer = {v: k for k, v in index_vectorizer.vocabulary_.items()}\n",
    "\n",
    "# 계수가 높은 순으로, 피처에 형태소를 맵핑한 결과를 출력합니다. 계수가 높은 피처는 리뷰에 긍정적인 영향을 주는 형태소라고 할 수 있습니다.\n",
    "print(str(invert_index_vectorizer)[:100]+'..')"
   ]
  },
  {
   "cell_type": "code",
   "execution_count": 82,
   "metadata": {},
   "outputs": [
    {
     "name": "stdout",
     "output_type": "stream",
     "text": [
      "맛있습니다/Adjective 0.7089983966234911\n",
      "깔끔하고/Adjective 0.6565297427171582\n",
      "맛있게/Adjective 0.5955075217620174\n",
      "먹었습니다/Verb 0.4527060182045674\n",
      "합니다/Verb 0.40719360196391946\n",
      "잘/VerbPrefix 0.39733299652447485\n",
      "추천/Noun 0.39260685101736864\n",
      "갑니다/Verb 0.37539236568535134\n",
      "생생하니/Adjective 0.3619540143396768\n",
      "모두/Noun 0.3012751848704199\n",
      "친절해요/Adjective 0.2963031868978717\n",
      "맛있고/Adjective 0.28539332756818764\n",
      "친절하시고/Adjective 0.27346010220334854\n",
      "비싸다여/Adjective 0.2633948607931071\n",
      "데넘/Noun 0.2633948607931071\n",
      "좋았습니다/Adjective 0.2633166093661429\n",
      "먹음/Noun 0.2605499519878195\n",
      "조용하진/Adjective 0.2483753044176239\n",
      "맛있는/Adjective 0.2398996853747597\n",
      "지인/Noun 0.2349564853517235\n"
     ]
    }
   ],
   "source": [
    "# 상위 20개 긍정 형태소를 출력합니다.\n",
    "for coef in coef_pos_index[:20]:\n",
    "    print(invert_index_vectorizer[coef[1]], coef[0])"
   ]
  },
  {
   "cell_type": "code",
   "execution_count": 83,
   "metadata": {},
   "outputs": [
    {
     "name": "stdout",
     "output_type": "stream",
     "text": [
      "한참/Noun -0.19707319631966036\n",
      "서비스/Noun -0.19910928809746886\n",
      "고/Josa -0.20702865676412113\n",
      "적어요/Verb -0.21212718827142243\n",
      "을/Josa -0.2135020522440777\n",
      "못/VerbPrefix -0.21623745955600363\n",
      "조금/Noun -0.23430813266846207\n",
      "그/Determiner -0.2350030452050383\n",
      "테이블/Noun -0.24749262718789583\n",
      "시끄러워요/Adjective -0.25163170070169133\n",
      "ㅠㅠㅠㅠ/KoreanParticle -0.25163170070169133\n",
      "주문/Noun -0.2681430360848227\n",
      "를/Josa -0.2776861551054112\n",
      "명/Noun -0.29644588069272526\n",
      "기대이하였음/Verb -0.3558609638553393\n",
      "별로/Noun -0.43269864922734647\n",
      "많이/Adverb -0.4407387918031072\n",
      "점/Noun -0.444920440114969\n",
      "이/Josa -0.49088610015362577\n",
      "은/Josa -0.7315793109704828\n"
     ]
    }
   ],
   "source": [
    "# 상위 20개 부정 형태소를 출력합니다.\n",
    "for coef in coef_pos_index[-20:]:\n",
    "    print(invert_index_vectorizer[coef[1]], coef[0])"
   ]
  },
  {
   "cell_type": "code",
   "execution_count": 84,
   "metadata": {},
   "outputs": [],
   "source": [
    "noun_list = []\n",
    "adjective_list = []\n",
    "\n",
    "# 명사, 형용사별로 계수가 높은 상위 10개의 형태소를 추출합니다. 이는 리뷰에 긍정적인 영향을 주는 명사와 형용사를 순위별로 살펴보는 것이 됩니다.\n",
    "for coef in coef_pos_index[:100]:\n",
    "    pos_category = invert_index_vectorizer[coef[1]].split(\"/\")[1]\n",
    "    if pos_category == \"Noun\":\n",
    "        noun_list.append((invert_index_vectorizer[coef[1]], coef[0]))\n",
    "    elif pos_category == \"Adjective\":\n",
    "        adjective_list.append((invert_index_vectorizer[coef[1]], coef[0]))"
   ]
  },
  {
   "cell_type": "code",
   "execution_count": 85,
   "metadata": {},
   "outputs": [
    {
     "data": {
      "text/plain": [
       "[('추천/Noun', 0.39260685101736864),\n",
       " ('모두/Noun', 0.3012751848704199),\n",
       " ('데넘/Noun', 0.2633948607931071),\n",
       " ('먹음/Noun', 0.2605499519878195),\n",
       " ('지인/Noun', 0.2349564853517235),\n",
       " ('전문점/Noun', 0.2335902631086717),\n",
       " ('가족/Noun', 0.23008822203469248),\n",
       " ('합/Noun', 0.2049946851445051),\n",
       " ('진짜/Noun', 0.20490806322048918),\n",
       " ('리필/Noun', 0.19958545311298173)]"
      ]
     },
     "execution_count": 85,
     "metadata": {},
     "output_type": "execute_result"
    }
   ],
   "source": [
    "# 상위 10개의 명사를 출력합니다.\n",
    "noun_list[:10]"
   ]
  },
  {
   "cell_type": "code",
   "execution_count": 86,
   "metadata": {},
   "outputs": [
    {
     "data": {
      "text/plain": [
       "[('맛있습니다/Adjective', 0.7089983966234911),\n",
       " ('깔끔하고/Adjective', 0.6565297427171582),\n",
       " ('맛있게/Adjective', 0.5955075217620174),\n",
       " ('생생하니/Adjective', 0.3619540143396768),\n",
       " ('친절해요/Adjective', 0.2963031868978717),\n",
       " ('맛있고/Adjective', 0.28539332756818764),\n",
       " ('친절하시고/Adjective', 0.27346010220334854),\n",
       " ('비싸다여/Adjective', 0.2633948607931071),\n",
       " ('좋았습니다/Adjective', 0.2633166093661429),\n",
       " ('조용하진/Adjective', 0.2483753044176239)]"
      ]
     },
     "execution_count": 86,
     "metadata": {},
     "output_type": "execute_result"
    }
   ],
   "source": [
    "# 상위 10개의 형용사를 출력합니다.\n",
    "adjective_list[:10]"
   ]
  },
  {
   "cell_type": "markdown",
   "metadata": {},
   "source": [
    "## 네이버 영화 평점 감성 분석"
   ]
  },
  {
   "cell_type": "markdown",
   "metadata": {},
   "source": [
    "### 영화 데이터 가져오기"
   ]
  },
  {
   "cell_type": "code",
   "execution_count": 87,
   "metadata": {},
   "outputs": [
    {
     "data": {
      "text/html": [
       "<div>\n",
       "<style scoped>\n",
       "    .dataframe tbody tr th:only-of-type {\n",
       "        vertical-align: middle;\n",
       "    }\n",
       "\n",
       "    .dataframe tbody tr th {\n",
       "        vertical-align: top;\n",
       "    }\n",
       "\n",
       "    .dataframe thead th {\n",
       "        text-align: right;\n",
       "    }\n",
       "</style>\n",
       "<table border=\"1\" class=\"dataframe\">\n",
       "  <thead>\n",
       "    <tr style=\"text-align: right;\">\n",
       "      <th></th>\n",
       "      <th>id</th>\n",
       "      <th>document</th>\n",
       "      <th>label</th>\n",
       "    </tr>\n",
       "  </thead>\n",
       "  <tbody>\n",
       "    <tr>\n",
       "      <th>0</th>\n",
       "      <td>9976970</td>\n",
       "      <td>아 더빙.. 진짜 짜증나네요 목소리</td>\n",
       "      <td>0</td>\n",
       "    </tr>\n",
       "    <tr>\n",
       "      <th>1</th>\n",
       "      <td>3819312</td>\n",
       "      <td>흠...포스터보고 초딩영화줄....오버연기조차 가볍지 않구나</td>\n",
       "      <td>1</td>\n",
       "    </tr>\n",
       "    <tr>\n",
       "      <th>2</th>\n",
       "      <td>10265843</td>\n",
       "      <td>너무재밓었다그래서보는것을추천한다</td>\n",
       "      <td>0</td>\n",
       "    </tr>\n",
       "  </tbody>\n",
       "</table>\n",
       "</div>"
      ],
      "text/plain": [
       "         id                           document  label\n",
       "0   9976970                아 더빙.. 진짜 짜증나네요 목소리      0\n",
       "1   3819312  흠...포스터보고 초딩영화줄....오버연기조차 가볍지 않구나      1\n",
       "2  10265843                  너무재밓었다그래서보는것을추천한다      0"
      ]
     },
     "execution_count": 87,
     "metadata": {},
     "output_type": "execute_result"
    }
   ],
   "source": [
    "train_df = pd.read_csv('./data/naver_movie/ratings_train.txt', sep='\\t')\n",
    "train_df.head(3)"
   ]
  },
  {
   "cell_type": "markdown",
   "metadata": {},
   "source": [
    "### 레이블 개수 확인"
   ]
  },
  {
   "cell_type": "code",
   "execution_count": 88,
   "metadata": {},
   "outputs": [
    {
     "data": {
      "text/plain": [
       "0    75173\n",
       "1    74827\n",
       "Name: label, dtype: int64"
      ]
     },
     "execution_count": 88,
     "metadata": {},
     "output_type": "execute_result"
    }
   ],
   "source": [
    "train_df['label'].value_counts( )"
   ]
  },
  {
   "cell_type": "markdown",
   "metadata": {},
   "source": [
    "### 한글 전처리"
   ]
  },
  {
   "cell_type": "code",
   "execution_count": 89,
   "metadata": {},
   "outputs": [],
   "source": [
    "import re\n",
    "\n",
    "train_df = train_df.fillna(' ')\n",
    "# 정규 표현식을 이용하여 숫자를 공백으로 변경(정규 표현식으로 \\d 는 숫자를 의미함.) \n",
    "train_df['document'] = train_df['document'].apply( lambda x : re.sub(r\"\\d+\", \" \", x) )\n",
    "\n",
    "# 테스트 데이터 셋을 로딩하고 동일하게 Null 및 숫자를 공백으로 변환\n",
    "test_df = pd.read_csv('./data/naver_movie/ratings_test.txt', sep='\\t')\n",
    "test_df = test_df.fillna(' ')\n",
    "test_df['document'] = test_df['document'].apply( lambda x : re.sub(r\"\\d+\", \" \", x) )\n",
    "\n",
    "train_df.drop('id', axis=1, inplace=True) \n",
    "test_df.drop('id', axis=1, inplace=True)"
   ]
  },
  {
   "cell_type": "markdown",
   "metadata": {},
   "source": [
    "### 한글 형태소 분석 함수"
   ]
  },
  {
   "cell_type": "code",
   "execution_count": 90,
   "metadata": {},
   "outputs": [],
   "source": [
    "from konlpy.tag import Twitter\n",
    "\n",
    "twitter = Twitter()\n",
    "def tw_tokenizer(text):\n",
    "    # 입력 인자로 들어온 text 를 형태소 단어로 토큰화 하여 list 객체 반환\n",
    "    tokens_ko = twitter.morphs(text)\n",
    "    return tokens_ko"
   ]
  },
  {
   "cell_type": "markdown",
   "metadata": {},
   "source": [
    "### 분류 모델 학습"
   ]
  },
  {
   "cell_type": "code",
   "execution_count": 91,
   "metadata": {},
   "outputs": [],
   "source": [
    "#오래 걸림\n",
    "from sklearn.feature_extraction.text import TfidfVectorizer\n",
    "from sklearn.linear_model import LogisticRegression\n",
    "from sklearn.model_selection import GridSearchCV\n",
    "\n",
    "# Twitter 객체의 morphs( ) 객체를 이용한 tokenizer를 사용. ngram_range는 (1,2) \n",
    "tfidf_vect = TfidfVectorizer(tokenizer=tw_tokenizer, ngram_range=(1,2), min_df=3, max_df=0.9)\n",
    "tfidf_vect.fit(train_df['document'])\n",
    "tfidf_matrix_train = tfidf_vect.transform(train_df['document'])"
   ]
  },
  {
   "cell_type": "code",
   "execution_count": 92,
   "metadata": {},
   "outputs": [
    {
     "name": "stdout",
     "output_type": "stream",
     "text": [
      "Fitting 3 folds for each of 5 candidates, totalling 15 fits\n",
      "{'C': 3.5} 0.8592\n"
     ]
    }
   ],
   "source": [
    "# Logistic Regression 을 이용하여 감성 분석 Classification 수행. \n",
    "lg_clf = LogisticRegression(random_state=0)\n",
    "\n",
    "# Parameter C 최적화를 위해 GridSearchCV 를 이용. \n",
    "params = { 'C': [1 ,3.5, 4.5, 5.5, 10 ] }\n",
    "grid_cv = GridSearchCV(lg_clf , param_grid=params , cv=3 ,scoring='accuracy', verbose=1 )\n",
    "grid_cv.fit(tfidf_matrix_train , train_df['label'] )\n",
    "print(grid_cv.best_params_ , round(grid_cv.best_score_,4))"
   ]
  },
  {
   "cell_type": "markdown",
   "metadata": {},
   "source": [
    "### 정확도 확인"
   ]
  },
  {
   "cell_type": "code",
   "execution_count": 93,
   "metadata": {},
   "outputs": [
    {
     "name": "stdout",
     "output_type": "stream",
     "text": [
      "Logistic Regression 정확도:  0.86186\n"
     ]
    }
   ],
   "source": [
    "from sklearn.metrics import accuracy_score\n",
    "\n",
    "# 학습 데이터를 적용한 TfidfVectorizer를 이용하여 테스트 데이터를 TF-IDF 값으로 Feature 변환함. \n",
    "tfidf_matrix_test = tfidf_vect.transform(test_df['document'])\n",
    "\n",
    "# classifier 는 GridSearchCV에서 최적 파라미터로 학습된 classifier를 그대로 이용\n",
    "best_estimator = grid_cv.best_estimator_\n",
    "preds = best_estimator.predict(tfidf_matrix_test)\n",
    "\n",
    "print('Logistic Regression 정확도: ',accuracy_score(test_df['label'],preds))"
   ]
  },
  {
   "cell_type": "code",
   "execution_count": null,
   "metadata": {},
   "outputs": [],
   "source": []
  },
  {
   "cell_type": "markdown",
   "metadata": {},
   "source": [
    "## 토픽 모델링"
   ]
  },
  {
   "cell_type": "markdown",
   "metadata": {},
   "source": [
    "### 텍스트 벡터화"
   ]
  },
  {
   "cell_type": "code",
   "execution_count": 94,
   "metadata": {},
   "outputs": [
    {
     "name": "stdout",
     "output_type": "stream",
     "text": [
      "CountVectorizer Shape: (7862, 1000)\n"
     ]
    }
   ],
   "source": [
    "from sklearn.datasets import fetch_20newsgroups\n",
    "from sklearn.feature_extraction.text import CountVectorizer\n",
    "from sklearn.decomposition import LatentDirichletAllocation\n",
    "\n",
    "# 모토사이클, 야구, 그래픽스, 윈도우즈, 중동, 기독교, 의학, 우주 주제를 추출. \n",
    "cats = ['rec.motorcycles', 'rec.sport.baseball', 'comp.graphics', 'comp.windows.x',\n",
    "        'talk.politics.mideast', 'soc.religion.christian', 'sci.electronics', 'sci.med'  ]\n",
    "\n",
    "# 위에서 cats 변수로 기재된 category만 추출. featch_20newsgroups( )의 categories에 cats 입력\n",
    "news_df= fetch_20newsgroups(subset='all',remove=('headers', 'footers', 'quotes'), \n",
    "                            categories=cats, random_state=42)\n",
    "\n",
    "#LDA 는 Count기반의 Vectorizer만 적용합니다.  \n",
    "count_vect = CountVectorizer(max_df=0.95, max_features=1000, min_df=2, stop_words='english', ngram_range=(1,2))\n",
    "feat_vect = count_vect.fit_transform(news_df.data)\n",
    "print('CountVectorizer Shape:', feat_vect.shape)"
   ]
  },
  {
   "cell_type": "markdown",
   "metadata": {},
   "source": [
    "### 토픽 모델링 수행"
   ]
  },
  {
   "cell_type": "code",
   "execution_count": 95,
   "metadata": {},
   "outputs": [
    {
     "data": {
      "text/plain": [
       "LatentDirichletAllocation(n_components=8, random_state=0)"
      ]
     },
     "execution_count": 95,
     "metadata": {},
     "output_type": "execute_result"
    }
   ],
   "source": [
    "#토픽의 개수는 8개\n",
    "lda = LatentDirichletAllocation(n_components=8, random_state=0)\n",
    "lda.fit(feat_vect)"
   ]
  },
  {
   "cell_type": "markdown",
   "metadata": {},
   "source": [
    "### 개별 토픽 별로 그룹에 얼마나 할당되었는지 확인"
   ]
  },
  {
   "cell_type": "code",
   "execution_count": 96,
   "metadata": {},
   "outputs": [
    {
     "name": "stdout",
     "output_type": "stream",
     "text": [
      "(8, 1000)\n"
     ]
    },
    {
     "data": {
      "text/plain": [
       "array([[4.14643870e+01, 1.33073480e+02, 2.14847371e+01, ...,\n",
       "        2.69571371e+01, 9.13811808e+01, 6.84995996e+01],\n",
       "       [1.25205043e-01, 1.37076923e+01, 1.25045906e-01, ...,\n",
       "        1.62073483e+02, 1.25101876e-01, 9.22954209e+01],\n",
       "       [3.47085826e+02, 1.25174990e-01, 1.55577150e+02, ...,\n",
       "        1.25102744e-01, 3.67855838e+01, 1.25027069e-01],\n",
       "       ...,\n",
       "       [2.90193119e+01, 1.71862889e+01, 5.15654522e+00, ...,\n",
       "        1.58706650e+01, 6.84379021e+00, 1.51912799e+01],\n",
       "       [1.25131135e-01, 1.26149214e-01, 1.25006141e-01, ...,\n",
       "        8.22518564e+01, 1.25122317e-01, 3.65637080e+01],\n",
       "       [4.22330750e+01, 8.15291681e+00, 2.81348439e-01, ...,\n",
       "        4.56326229e+01, 1.25048179e-01, 1.25054640e-01]])"
      ]
     },
     "execution_count": 96,
     "metadata": {},
     "output_type": "execute_result"
    }
   ],
   "source": [
    "print(lda.components_.shape)\n",
    "lda.components_"
   ]
  },
  {
   "cell_type": "markdown",
   "metadata": {},
   "source": [
    "### 토픽별로 연관도가 높은 순으로 나열"
   ]
  },
  {
   "cell_type": "code",
   "execution_count": 97,
   "metadata": {},
   "outputs": [
    {
     "name": "stdout",
     "output_type": "stream",
     "text": [
      "Topic # 0\n",
      "year 10 game medical health team 12 20 disease 1993 cancer games years patients 92\n",
      "Topic # 1\n",
      "don just know like said people time think didn ve right going say ll did\n",
      "Topic # 2\n",
      "image file jpeg program gif output format images color files entry 00 use bit 03\n",
      "Topic # 3\n",
      "like think don just use does know good time people used question read point make\n",
      "Topic # 4\n",
      "armenian israel jews armenians turkish people israeli jewish government war dos dos turkey arab 000 armenia\n",
      "Topic # 5\n",
      "edu com available graphics ftp window motif data pub mail widget information use server mit\n",
      "Topic # 6\n",
      "god jesus people church christ believe christian does christians say bible faith sin think paul\n",
      "Topic # 7\n",
      "thanks dos use windows using does help like need display know software server pc problem\n"
     ]
    }
   ],
   "source": [
    "def display_topics(model, feature_names, no_top_words):\n",
    "    for topic_index, topic in enumerate(model.components_):\n",
    "        print('Topic #',topic_index)\n",
    "\n",
    "        # components_ array에서 가장 값이 큰 순으로 정렬했을 때, 그 값의 array index를 반환. \n",
    "        topic_word_indexes = topic.argsort()[::-1]\n",
    "        top_indexes=topic_word_indexes[:no_top_words]\n",
    "        \n",
    "        # top_indexes대상인 index별로 feature_names에 해당하는 word feature 추출 후 join으로 concat\n",
    "        feature_concat = ' '.join([feature_names[i] for i in top_indexes])                \n",
    "        print(feature_concat)\n",
    "\n",
    "# CountVectorizer객체내의 전체 word들의 명칭을 get_features_names( )를 통해 추출\n",
    "feature_names = count_vect.get_feature_names()\n",
    "\n",
    "# Topic별 가장 연관도가 높은 word를 15개만 추출\n",
    "display_topics(lda, feature_names, 15)"
   ]
  },
  {
   "cell_type": "markdown",
   "metadata": {},
   "source": [
    "## 문서 군집화"
   ]
  },
  {
   "cell_type": "markdown",
   "metadata": {},
   "source": [
    "### 텍스트 읽어오기"
   ]
  },
  {
   "cell_type": "code",
   "execution_count": 98,
   "metadata": {},
   "outputs": [
    {
     "name": "stdout",
     "output_type": "stream",
     "text": [
      "                        filename  \\\n",
      "0     battery-life_ipod_nano_8gb   \n",
      "1  gas_mileage_toyota_camry_2007   \n",
      "2        room_holiday_inn_london   \n",
      "3    location_holiday_inn_london   \n",
      "4    staff_bestwestern_hotel_sfo   \n",
      "\n",
      "                                        opinion_text  \n",
      "0                                                ...  \n",
      "1                                                ...  \n",
      "2                                                ...  \n",
      "3                                                ...  \n",
      "4                                                ...  \n"
     ]
    }
   ],
   "source": [
    "import pandas as pd\n",
    "import glob ,os\n",
    "\n",
    "path = './data/OpinosisDataset1.0/topics'                     \n",
    "# path로 지정한 디렉토리 밑에 있는 모든 .data 파일들의 파일명을 리스트로 취합\n",
    "all_files = glob.glob(os.path.join(path, \"*.data\"))    \n",
    "filename_list = []\n",
    "opinion_text = []\n",
    "\n",
    "# 개별 파일들의 파일명은 filename_list 리스트로 취합, \n",
    "# 개별 파일들의 파일내용은 DataFrame로딩 후 다시 string으로 변환하여 opinion_text 리스트로 취합 \n",
    "for file_ in all_files:\n",
    "    # 개별 파일을 읽어서 DataFrame으로 생성 \n",
    "    df = pd.read_table(file_,index_col=None, header=0,encoding='latin1')\n",
    "    \n",
    "    # 절대경로로 주어진 file 명을 가공. 만일 Windows에서 수행시에는 아래 /를 \\\\ 변경. 맨 마지막 .data 확장자도 제거\n",
    "    filename_ = file_.split('/')[-1]\n",
    "    filename = filename_.split('.')[0]\n",
    "\n",
    "    #파일명 리스트와 파일내용 리스트에 파일명과 파일 내용을 추가. \n",
    "    filename_list.append(filename)\n",
    "    opinion_text.append(df.to_string())\n",
    "\n",
    "# 파일명 리스트와 파일내용 리스트를  DataFrame으로 생성\n",
    "document_df = pd.DataFrame({'filename':filename_list, 'opinion_text':opinion_text})\n",
    "print(document_df.head())"
   ]
  },
  {
   "cell_type": "markdown",
   "metadata": {},
   "source": [
    "### TF-IDF 로 벡터화"
   ]
  },
  {
   "cell_type": "code",
   "execution_count": 101,
   "metadata": {},
   "outputs": [],
   "source": [
    "from nltk.stem import WordNetLemmatizer\n",
    "import nltk\n",
    "import string\n",
    "\n",
    "remove_punct_dict = dict((ord(punct), None) for punct in string.punctuation)\n",
    "lemmar = WordNetLemmatizer()\n",
    "\n",
    "def LemTokens(tokens):\n",
    "    return [lemmar.lemmatize(token) for token in tokens]\n",
    "\n",
    "def LemNormalize(text):\n",
    "    return LemTokens(nltk.word_tokenize(text.lower().translate(remove_punct_dict)))\n",
    "\n",
    "from sklearn.feature_extraction.text import TfidfVectorizer\n",
    "\n",
    "tfidf_vect = TfidfVectorizer(tokenizer=LemNormalize, stop_words='english' , \\\n",
    "                             ngram_range=(1,2), min_df=0.05, max_df=0.85 )\n",
    "\n",
    "#opinion_text 컬럼값으로 feature vectorization 수행\n",
    "feature_vect = tfidf_vect.fit_transform(document_df['opinion_text'])"
   ]
  },
  {
   "cell_type": "markdown",
   "metadata": {},
   "source": [
    "### 군집 알고리즘 수행"
   ]
  },
  {
   "cell_type": "code",
   "execution_count": 102,
   "metadata": {},
   "outputs": [],
   "source": [
    "from sklearn.cluster import KMeans\n",
    "\n",
    "# 5개 집합으로 군집화 수행\n",
    "km_cluster = KMeans(n_clusters=5, max_iter=10000, random_state=0)\n",
    "km_cluster.fit(feature_vect)\n",
    "cluster_label = km_cluster.labels_\n",
    "cluster_centers = km_cluster.cluster_centers_"
   ]
  },
  {
   "cell_type": "code",
   "execution_count": 103,
   "metadata": {},
   "outputs": [
    {
     "data": {
      "text/html": [
       "<div>\n",
       "<style scoped>\n",
       "    .dataframe tbody tr th:only-of-type {\n",
       "        vertical-align: middle;\n",
       "    }\n",
       "\n",
       "    .dataframe tbody tr th {\n",
       "        vertical-align: top;\n",
       "    }\n",
       "\n",
       "    .dataframe thead th {\n",
       "        text-align: right;\n",
       "    }\n",
       "</style>\n",
       "<table border=\"1\" class=\"dataframe\">\n",
       "  <thead>\n",
       "    <tr style=\"text-align: right;\">\n",
       "      <th></th>\n",
       "      <th>filename</th>\n",
       "      <th>opinion_text</th>\n",
       "      <th>cluster_label</th>\n",
       "    </tr>\n",
       "  </thead>\n",
       "  <tbody>\n",
       "    <tr>\n",
       "      <th>0</th>\n",
       "      <td>battery-life_ipod_nano_8gb</td>\n",
       "      <td>...</td>\n",
       "      <td>3</td>\n",
       "    </tr>\n",
       "    <tr>\n",
       "      <th>1</th>\n",
       "      <td>gas_mileage_toyota_camry_2007</td>\n",
       "      <td>...</td>\n",
       "      <td>2</td>\n",
       "    </tr>\n",
       "    <tr>\n",
       "      <th>2</th>\n",
       "      <td>room_holiday_inn_london</td>\n",
       "      <td>...</td>\n",
       "      <td>0</td>\n",
       "    </tr>\n",
       "    <tr>\n",
       "      <th>3</th>\n",
       "      <td>location_holiday_inn_london</td>\n",
       "      <td>...</td>\n",
       "      <td>0</td>\n",
       "    </tr>\n",
       "    <tr>\n",
       "      <th>4</th>\n",
       "      <td>staff_bestwestern_hotel_sfo</td>\n",
       "      <td>...</td>\n",
       "      <td>0</td>\n",
       "    </tr>\n",
       "  </tbody>\n",
       "</table>\n",
       "</div>"
      ],
      "text/plain": [
       "                        filename  \\\n",
       "0     battery-life_ipod_nano_8gb   \n",
       "1  gas_mileage_toyota_camry_2007   \n",
       "2        room_holiday_inn_london   \n",
       "3    location_holiday_inn_london   \n",
       "4    staff_bestwestern_hotel_sfo   \n",
       "\n",
       "                                        opinion_text  cluster_label  \n",
       "0                                                ...              3  \n",
       "1                                                ...              2  \n",
       "2                                                ...              0  \n",
       "3                                                ...              0  \n",
       "4                                                ...              0  "
      ]
     },
     "execution_count": 103,
     "metadata": {},
     "output_type": "execute_result"
    }
   ],
   "source": [
    "document_df['cluster_label'] = cluster_label\n",
    "document_df.head()"
   ]
  },
  {
   "cell_type": "code",
   "execution_count": 104,
   "metadata": {},
   "outputs": [
    {
     "data": {
      "text/html": [
       "<div>\n",
       "<style scoped>\n",
       "    .dataframe tbody tr th:only-of-type {\n",
       "        vertical-align: middle;\n",
       "    }\n",
       "\n",
       "    .dataframe tbody tr th {\n",
       "        vertical-align: top;\n",
       "    }\n",
       "\n",
       "    .dataframe thead th {\n",
       "        text-align: right;\n",
       "    }\n",
       "</style>\n",
       "<table border=\"1\" class=\"dataframe\">\n",
       "  <thead>\n",
       "    <tr style=\"text-align: right;\">\n",
       "      <th></th>\n",
       "      <th>filename</th>\n",
       "      <th>opinion_text</th>\n",
       "      <th>cluster_label</th>\n",
       "    </tr>\n",
       "  </thead>\n",
       "  <tbody>\n",
       "    <tr>\n",
       "      <th>31</th>\n",
       "      <td>bathroom_bestwestern_hotel_sfo</td>\n",
       "      <td>...</td>\n",
       "      <td>0</td>\n",
       "    </tr>\n",
       "    <tr>\n",
       "      <th>17</th>\n",
       "      <td>food_holiday_inn_london</td>\n",
       "      <td>...</td>\n",
       "      <td>0</td>\n",
       "    </tr>\n",
       "    <tr>\n",
       "      <th>32</th>\n",
       "      <td>food_swissotel_chicago</td>\n",
       "      <td>...</td>\n",
       "      <td>0</td>\n",
       "    </tr>\n",
       "    <tr>\n",
       "      <th>49</th>\n",
       "      <td>free_bestwestern_hotel_sfo</td>\n",
       "      <td>...</td>\n",
       "      <td>0</td>\n",
       "    </tr>\n",
       "    <tr>\n",
       "      <th>39</th>\n",
       "      <td>location_bestwestern_hotel_sfo</td>\n",
       "      <td>...</td>\n",
       "      <td>0</td>\n",
       "    </tr>\n",
       "    <tr>\n",
       "      <th>3</th>\n",
       "      <td>location_holiday_inn_london</td>\n",
       "      <td>...</td>\n",
       "      <td>0</td>\n",
       "    </tr>\n",
       "    <tr>\n",
       "      <th>50</th>\n",
       "      <td>parking_bestwestern_hotel_sfo</td>\n",
       "      <td>...</td>\n",
       "      <td>0</td>\n",
       "    </tr>\n",
       "    <tr>\n",
       "      <th>28</th>\n",
       "      <td>price_holiday_inn_london</td>\n",
       "      <td>...</td>\n",
       "      <td>0</td>\n",
       "    </tr>\n",
       "    <tr>\n",
       "      <th>2</th>\n",
       "      <td>room_holiday_inn_london</td>\n",
       "      <td>...</td>\n",
       "      <td>0</td>\n",
       "    </tr>\n",
       "    <tr>\n",
       "      <th>46</th>\n",
       "      <td>rooms_bestwestern_hotel_sfo</td>\n",
       "      <td>...</td>\n",
       "      <td>0</td>\n",
       "    </tr>\n",
       "    <tr>\n",
       "      <th>30</th>\n",
       "      <td>rooms_swissotel_chicago</td>\n",
       "      <td>...</td>\n",
       "      <td>0</td>\n",
       "    </tr>\n",
       "    <tr>\n",
       "      <th>16</th>\n",
       "      <td>service_bestwestern_hotel_sfo</td>\n",
       "      <td>...</td>\n",
       "      <td>0</td>\n",
       "    </tr>\n",
       "    <tr>\n",
       "      <th>27</th>\n",
       "      <td>service_holiday_inn_london</td>\n",
       "      <td>...</td>\n",
       "      <td>0</td>\n",
       "    </tr>\n",
       "    <tr>\n",
       "      <th>13</th>\n",
       "      <td>service_swissotel_hotel_chicago</td>\n",
       "      <td>...</td>\n",
       "      <td>0</td>\n",
       "    </tr>\n",
       "    <tr>\n",
       "      <th>4</th>\n",
       "      <td>staff_bestwestern_hotel_sfo</td>\n",
       "      <td>...</td>\n",
       "      <td>0</td>\n",
       "    </tr>\n",
       "    <tr>\n",
       "      <th>20</th>\n",
       "      <td>staff_swissotel_chicago</td>\n",
       "      <td>...</td>\n",
       "      <td>0</td>\n",
       "    </tr>\n",
       "  </tbody>\n",
       "</table>\n",
       "</div>"
      ],
      "text/plain": [
       "                           filename  \\\n",
       "31   bathroom_bestwestern_hotel_sfo   \n",
       "17          food_holiday_inn_london   \n",
       "32           food_swissotel_chicago   \n",
       "49       free_bestwestern_hotel_sfo   \n",
       "39   location_bestwestern_hotel_sfo   \n",
       "3       location_holiday_inn_london   \n",
       "50    parking_bestwestern_hotel_sfo   \n",
       "28         price_holiday_inn_london   \n",
       "2           room_holiday_inn_london   \n",
       "46      rooms_bestwestern_hotel_sfo   \n",
       "30          rooms_swissotel_chicago   \n",
       "16    service_bestwestern_hotel_sfo   \n",
       "27       service_holiday_inn_london   \n",
       "13  service_swissotel_hotel_chicago   \n",
       "4       staff_bestwestern_hotel_sfo   \n",
       "20          staff_swissotel_chicago   \n",
       "\n",
       "                                         opinion_text  cluster_label  \n",
       "31                                                ...              0  \n",
       "17                                                ...              0  \n",
       "32                                                ...              0  \n",
       "49                                                ...              0  \n",
       "39                                                ...              0  \n",
       "3                                                 ...              0  \n",
       "50                                                ...              0  \n",
       "28                                                ...              0  \n",
       "2                                                 ...              0  \n",
       "46                                                ...              0  \n",
       "30                                                ...              0  \n",
       "16                                                ...              0  \n",
       "27                                                ...              0  \n",
       "13                                                ...              0  \n",
       "4                                                 ...              0  \n",
       "20                                                ...              0  "
      ]
     },
     "execution_count": 104,
     "metadata": {},
     "output_type": "execute_result"
    }
   ],
   "source": [
    "document_df[document_df['cluster_label']==0].sort_values(by='filename')"
   ]
  },
  {
   "cell_type": "code",
   "execution_count": 105,
   "metadata": {},
   "outputs": [
    {
     "data": {
      "text/html": [
       "<div>\n",
       "<style scoped>\n",
       "    .dataframe tbody tr th:only-of-type {\n",
       "        vertical-align: middle;\n",
       "    }\n",
       "\n",
       "    .dataframe tbody tr th {\n",
       "        vertical-align: top;\n",
       "    }\n",
       "\n",
       "    .dataframe thead th {\n",
       "        text-align: right;\n",
       "    }\n",
       "</style>\n",
       "<table border=\"1\" class=\"dataframe\">\n",
       "  <thead>\n",
       "    <tr style=\"text-align: right;\">\n",
       "      <th></th>\n",
       "      <th>filename</th>\n",
       "      <th>opinion_text</th>\n",
       "      <th>cluster_label</th>\n",
       "    </tr>\n",
       "  </thead>\n",
       "  <tbody>\n",
       "    <tr>\n",
       "      <th>33</th>\n",
       "      <td>accuracy_garmin_nuvi_255W_gps</td>\n",
       "      <td>...</td>\n",
       "      <td>1</td>\n",
       "    </tr>\n",
       "    <tr>\n",
       "      <th>34</th>\n",
       "      <td>directions_garmin_nuvi_255W_gps</td>\n",
       "      <td>...</td>\n",
       "      <td>1</td>\n",
       "    </tr>\n",
       "    <tr>\n",
       "      <th>48</th>\n",
       "      <td>display_garmin_nuvi_255W_gps</td>\n",
       "      <td>...</td>\n",
       "      <td>1</td>\n",
       "    </tr>\n",
       "    <tr>\n",
       "      <th>21</th>\n",
       "      <td>features_windows7</td>\n",
       "      <td>...</td>\n",
       "      <td>1</td>\n",
       "    </tr>\n",
       "    <tr>\n",
       "      <th>12</th>\n",
       "      <td>keyboard_netbook_1005ha</td>\n",
       "      <td>...</td>\n",
       "      <td>1</td>\n",
       "    </tr>\n",
       "    <tr>\n",
       "      <th>10</th>\n",
       "      <td>satellite_garmin_nuvi_255W_gps</td>\n",
       "      <td>...</td>\n",
       "      <td>1</td>\n",
       "    </tr>\n",
       "    <tr>\n",
       "      <th>8</th>\n",
       "      <td>screen_garmin_nuvi_255W_gps</td>\n",
       "      <td>...</td>\n",
       "      <td>1</td>\n",
       "    </tr>\n",
       "    <tr>\n",
       "      <th>25</th>\n",
       "      <td>screen_ipod_nano_8gb</td>\n",
       "      <td>...</td>\n",
       "      <td>1</td>\n",
       "    </tr>\n",
       "    <tr>\n",
       "      <th>37</th>\n",
       "      <td>screen_netbook_1005ha</td>\n",
       "      <td>...</td>\n",
       "      <td>1</td>\n",
       "    </tr>\n",
       "    <tr>\n",
       "      <th>7</th>\n",
       "      <td>size_asus_netbook_1005ha</td>\n",
       "      <td>...</td>\n",
       "      <td>1</td>\n",
       "    </tr>\n",
       "    <tr>\n",
       "      <th>6</th>\n",
       "      <td>speed_garmin_nuvi_255W_gps</td>\n",
       "      <td>...</td>\n",
       "      <td>1</td>\n",
       "    </tr>\n",
       "    <tr>\n",
       "      <th>40</th>\n",
       "      <td>speed_windows7</td>\n",
       "      <td>...</td>\n",
       "      <td>1</td>\n",
       "    </tr>\n",
       "    <tr>\n",
       "      <th>19</th>\n",
       "      <td>updates_garmin_nuvi_255W_gps</td>\n",
       "      <td>...</td>\n",
       "      <td>1</td>\n",
       "    </tr>\n",
       "    <tr>\n",
       "      <th>14</th>\n",
       "      <td>video_ipod_nano_8gb</td>\n",
       "      <td>...</td>\n",
       "      <td>1</td>\n",
       "    </tr>\n",
       "    <tr>\n",
       "      <th>5</th>\n",
       "      <td>voice_garmin_nuvi_255W_gps</td>\n",
       "      <td>...</td>\n",
       "      <td>1</td>\n",
       "    </tr>\n",
       "  </tbody>\n",
       "</table>\n",
       "</div>"
      ],
      "text/plain": [
       "                           filename  \\\n",
       "33    accuracy_garmin_nuvi_255W_gps   \n",
       "34  directions_garmin_nuvi_255W_gps   \n",
       "48     display_garmin_nuvi_255W_gps   \n",
       "21                features_windows7   \n",
       "12          keyboard_netbook_1005ha   \n",
       "10   satellite_garmin_nuvi_255W_gps   \n",
       "8       screen_garmin_nuvi_255W_gps   \n",
       "25             screen_ipod_nano_8gb   \n",
       "37            screen_netbook_1005ha   \n",
       "7          size_asus_netbook_1005ha   \n",
       "6        speed_garmin_nuvi_255W_gps   \n",
       "40                   speed_windows7   \n",
       "19     updates_garmin_nuvi_255W_gps   \n",
       "14              video_ipod_nano_8gb   \n",
       "5        voice_garmin_nuvi_255W_gps   \n",
       "\n",
       "                                         opinion_text  cluster_label  \n",
       "33                                                ...              1  \n",
       "34                                                ...              1  \n",
       "48                                                ...              1  \n",
       "21                                                ...              1  \n",
       "12                                                ...              1  \n",
       "10                                                ...              1  \n",
       "8                                                 ...              1  \n",
       "25                                                ...              1  \n",
       "37                                                ...              1  \n",
       "7                                                 ...              1  \n",
       "6                                                 ...              1  \n",
       "40                                                ...              1  \n",
       "19                                                ...              1  \n",
       "14                                                ...              1  \n",
       "5                                                 ...              1  "
      ]
     },
     "execution_count": 105,
     "metadata": {},
     "output_type": "execute_result"
    }
   ],
   "source": [
    "document_df[document_df['cluster_label']==1].sort_values(by='filename')"
   ]
  },
  {
   "cell_type": "code",
   "execution_count": 106,
   "metadata": {},
   "outputs": [
    {
     "data": {
      "text/html": [
       "<div>\n",
       "<style scoped>\n",
       "    .dataframe tbody tr th:only-of-type {\n",
       "        vertical-align: middle;\n",
       "    }\n",
       "\n",
       "    .dataframe tbody tr th {\n",
       "        vertical-align: top;\n",
       "    }\n",
       "\n",
       "    .dataframe thead th {\n",
       "        text-align: right;\n",
       "    }\n",
       "</style>\n",
       "<table border=\"1\" class=\"dataframe\">\n",
       "  <thead>\n",
       "    <tr style=\"text-align: right;\">\n",
       "      <th></th>\n",
       "      <th>filename</th>\n",
       "      <th>opinion_text</th>\n",
       "      <th>cluster_label</th>\n",
       "    </tr>\n",
       "  </thead>\n",
       "  <tbody>\n",
       "    <tr>\n",
       "      <th>18</th>\n",
       "      <td>comfort_honda_accord_2008</td>\n",
       "      <td>...</td>\n",
       "      <td>2</td>\n",
       "    </tr>\n",
       "    <tr>\n",
       "      <th>43</th>\n",
       "      <td>comfort_toyota_camry_2007</td>\n",
       "      <td>...</td>\n",
       "      <td>2</td>\n",
       "    </tr>\n",
       "    <tr>\n",
       "      <th>1</th>\n",
       "      <td>gas_mileage_toyota_camry_2007</td>\n",
       "      <td>...</td>\n",
       "      <td>2</td>\n",
       "    </tr>\n",
       "    <tr>\n",
       "      <th>45</th>\n",
       "      <td>interior_honda_accord_2008</td>\n",
       "      <td>...</td>\n",
       "      <td>2</td>\n",
       "    </tr>\n",
       "    <tr>\n",
       "      <th>22</th>\n",
       "      <td>interior_toyota_camry_2007</td>\n",
       "      <td>...</td>\n",
       "      <td>2</td>\n",
       "    </tr>\n",
       "    <tr>\n",
       "      <th>35</th>\n",
       "      <td>mileage_honda_accord_2008</td>\n",
       "      <td>...</td>\n",
       "      <td>2</td>\n",
       "    </tr>\n",
       "    <tr>\n",
       "      <th>47</th>\n",
       "      <td>performance_honda_accord_2008</td>\n",
       "      <td>...</td>\n",
       "      <td>2</td>\n",
       "    </tr>\n",
       "    <tr>\n",
       "      <th>42</th>\n",
       "      <td>quality_toyota_camry_2007</td>\n",
       "      <td>...</td>\n",
       "      <td>2</td>\n",
       "    </tr>\n",
       "    <tr>\n",
       "      <th>29</th>\n",
       "      <td>seats_honda_accord_2008</td>\n",
       "      <td>...</td>\n",
       "      <td>2</td>\n",
       "    </tr>\n",
       "    <tr>\n",
       "      <th>23</th>\n",
       "      <td>transmission_toyota_camry_2007</td>\n",
       "      <td>...</td>\n",
       "      <td>2</td>\n",
       "    </tr>\n",
       "  </tbody>\n",
       "</table>\n",
       "</div>"
      ],
      "text/plain": [
       "                          filename  \\\n",
       "18       comfort_honda_accord_2008   \n",
       "43       comfort_toyota_camry_2007   \n",
       "1    gas_mileage_toyota_camry_2007   \n",
       "45      interior_honda_accord_2008   \n",
       "22      interior_toyota_camry_2007   \n",
       "35       mileage_honda_accord_2008   \n",
       "47   performance_honda_accord_2008   \n",
       "42       quality_toyota_camry_2007   \n",
       "29         seats_honda_accord_2008   \n",
       "23  transmission_toyota_camry_2007   \n",
       "\n",
       "                                         opinion_text  cluster_label  \n",
       "18                                                ...              2  \n",
       "43                                                ...              2  \n",
       "1                                                 ...              2  \n",
       "45                                                ...              2  \n",
       "22                                                ...              2  \n",
       "35                                                ...              2  \n",
       "47                                                ...              2  \n",
       "42                                                ...              2  \n",
       "29                                                ...              2  \n",
       "23                                                ...              2  "
      ]
     },
     "execution_count": 106,
     "metadata": {},
     "output_type": "execute_result"
    }
   ],
   "source": [
    "document_df[document_df['cluster_label']==2].sort_values(by='filename')"
   ]
  },
  {
   "cell_type": "code",
   "execution_count": 107,
   "metadata": {},
   "outputs": [
    {
     "data": {
      "text/html": [
       "<div>\n",
       "<style scoped>\n",
       "    .dataframe tbody tr th:only-of-type {\n",
       "        vertical-align: middle;\n",
       "    }\n",
       "\n",
       "    .dataframe tbody tr th {\n",
       "        vertical-align: top;\n",
       "    }\n",
       "\n",
       "    .dataframe thead th {\n",
       "        text-align: right;\n",
       "    }\n",
       "</style>\n",
       "<table border=\"1\" class=\"dataframe\">\n",
       "  <thead>\n",
       "    <tr style=\"text-align: right;\">\n",
       "      <th></th>\n",
       "      <th>filename</th>\n",
       "      <th>opinion_text</th>\n",
       "      <th>cluster_label</th>\n",
       "    </tr>\n",
       "  </thead>\n",
       "  <tbody>\n",
       "    <tr>\n",
       "      <th>9</th>\n",
       "      <td>battery-life_amazon_kindle</td>\n",
       "      <td>...</td>\n",
       "      <td>3</td>\n",
       "    </tr>\n",
       "    <tr>\n",
       "      <th>0</th>\n",
       "      <td>battery-life_ipod_nano_8gb</td>\n",
       "      <td>...</td>\n",
       "      <td>3</td>\n",
       "    </tr>\n",
       "    <tr>\n",
       "      <th>11</th>\n",
       "      <td>battery-life_netbook_1005ha</td>\n",
       "      <td>...</td>\n",
       "      <td>3</td>\n",
       "    </tr>\n",
       "    <tr>\n",
       "      <th>15</th>\n",
       "      <td>performance_netbook_1005ha</td>\n",
       "      <td>...</td>\n",
       "      <td>3</td>\n",
       "    </tr>\n",
       "    <tr>\n",
       "      <th>24</th>\n",
       "      <td>sound_ipod_nano_8gb</td>\n",
       "      <td>headphone jack i got a clear case for it a...</td>\n",
       "      <td>3</td>\n",
       "    </tr>\n",
       "  </tbody>\n",
       "</table>\n",
       "</div>"
      ],
      "text/plain": [
       "                       filename  \\\n",
       "9    battery-life_amazon_kindle   \n",
       "0    battery-life_ipod_nano_8gb   \n",
       "11  battery-life_netbook_1005ha   \n",
       "15   performance_netbook_1005ha   \n",
       "24          sound_ipod_nano_8gb   \n",
       "\n",
       "                                         opinion_text  cluster_label  \n",
       "9                                                 ...              3  \n",
       "0                                                 ...              3  \n",
       "11                                                ...              3  \n",
       "15                                                ...              3  \n",
       "24      headphone jack i got a clear case for it a...              3  "
      ]
     },
     "execution_count": 107,
     "metadata": {},
     "output_type": "execute_result"
    }
   ],
   "source": [
    "document_df[document_df['cluster_label']==3].sort_values(by='filename')"
   ]
  },
  {
   "cell_type": "code",
   "execution_count": 108,
   "metadata": {},
   "outputs": [
    {
     "data": {
      "text/html": [
       "<div>\n",
       "<style scoped>\n",
       "    .dataframe tbody tr th:only-of-type {\n",
       "        vertical-align: middle;\n",
       "    }\n",
       "\n",
       "    .dataframe tbody tr th {\n",
       "        vertical-align: top;\n",
       "    }\n",
       "\n",
       "    .dataframe thead th {\n",
       "        text-align: right;\n",
       "    }\n",
       "</style>\n",
       "<table border=\"1\" class=\"dataframe\">\n",
       "  <thead>\n",
       "    <tr style=\"text-align: right;\">\n",
       "      <th></th>\n",
       "      <th>filename</th>\n",
       "      <th>opinion_text</th>\n",
       "      <th>cluster_label</th>\n",
       "    </tr>\n",
       "  </thead>\n",
       "  <tbody>\n",
       "    <tr>\n",
       "      <th>26</th>\n",
       "      <td>buttons_amazon_kindle</td>\n",
       "      <td>...</td>\n",
       "      <td>4</td>\n",
       "    </tr>\n",
       "    <tr>\n",
       "      <th>36</th>\n",
       "      <td>eyesight-issues_amazon_kindle</td>\n",
       "      <td>...</td>\n",
       "      <td>4</td>\n",
       "    </tr>\n",
       "    <tr>\n",
       "      <th>44</th>\n",
       "      <td>fonts_amazon_kindle</td>\n",
       "      <td>...</td>\n",
       "      <td>4</td>\n",
       "    </tr>\n",
       "    <tr>\n",
       "      <th>38</th>\n",
       "      <td>navigation_amazon_kindle</td>\n",
       "      <td>...</td>\n",
       "      <td>4</td>\n",
       "    </tr>\n",
       "    <tr>\n",
       "      <th>41</th>\n",
       "      <td>price_amazon_kindle</td>\n",
       "      <td>...</td>\n",
       "      <td>4</td>\n",
       "    </tr>\n",
       "  </tbody>\n",
       "</table>\n",
       "</div>"
      ],
      "text/plain": [
       "                         filename  \\\n",
       "26          buttons_amazon_kindle   \n",
       "36  eyesight-issues_amazon_kindle   \n",
       "44            fonts_amazon_kindle   \n",
       "38       navigation_amazon_kindle   \n",
       "41            price_amazon_kindle   \n",
       "\n",
       "                                         opinion_text  cluster_label  \n",
       "26                                                ...              4  \n",
       "36                                                ...              4  \n",
       "44                                                ...              4  \n",
       "38                                                ...              4  \n",
       "41                                                ...              4  "
      ]
     },
     "execution_count": 108,
     "metadata": {},
     "output_type": "execute_result"
    }
   ],
   "source": [
    "document_df[document_df['cluster_label']==4].sort_values(by='filename')"
   ]
  },
  {
   "cell_type": "markdown",
   "metadata": {},
   "source": [
    "### 3개의 군집으로 수행"
   ]
  },
  {
   "cell_type": "code",
   "execution_count": 109,
   "metadata": {},
   "outputs": [
    {
     "data": {
      "text/html": [
       "<div>\n",
       "<style scoped>\n",
       "    .dataframe tbody tr th:only-of-type {\n",
       "        vertical-align: middle;\n",
       "    }\n",
       "\n",
       "    .dataframe tbody tr th {\n",
       "        vertical-align: top;\n",
       "    }\n",
       "\n",
       "    .dataframe thead th {\n",
       "        text-align: right;\n",
       "    }\n",
       "</style>\n",
       "<table border=\"1\" class=\"dataframe\">\n",
       "  <thead>\n",
       "    <tr style=\"text-align: right;\">\n",
       "      <th></th>\n",
       "      <th>filename</th>\n",
       "      <th>opinion_text</th>\n",
       "      <th>cluster_label</th>\n",
       "    </tr>\n",
       "  </thead>\n",
       "  <tbody>\n",
       "    <tr>\n",
       "      <th>0</th>\n",
       "      <td>battery-life_ipod_nano_8gb</td>\n",
       "      <td>...</td>\n",
       "      <td>0</td>\n",
       "    </tr>\n",
       "    <tr>\n",
       "      <th>48</th>\n",
       "      <td>display_garmin_nuvi_255W_gps</td>\n",
       "      <td>...</td>\n",
       "      <td>0</td>\n",
       "    </tr>\n",
       "    <tr>\n",
       "      <th>44</th>\n",
       "      <td>fonts_amazon_kindle</td>\n",
       "      <td>...</td>\n",
       "      <td>0</td>\n",
       "    </tr>\n",
       "    <tr>\n",
       "      <th>41</th>\n",
       "      <td>price_amazon_kindle</td>\n",
       "      <td>...</td>\n",
       "      <td>0</td>\n",
       "    </tr>\n",
       "    <tr>\n",
       "      <th>40</th>\n",
       "      <td>speed_windows7</td>\n",
       "      <td>...</td>\n",
       "      <td>0</td>\n",
       "    </tr>\n",
       "    <tr>\n",
       "      <th>38</th>\n",
       "      <td>navigation_amazon_kindle</td>\n",
       "      <td>...</td>\n",
       "      <td>0</td>\n",
       "    </tr>\n",
       "    <tr>\n",
       "      <th>37</th>\n",
       "      <td>screen_netbook_1005ha</td>\n",
       "      <td>...</td>\n",
       "      <td>0</td>\n",
       "    </tr>\n",
       "    <tr>\n",
       "      <th>36</th>\n",
       "      <td>eyesight-issues_amazon_kindle</td>\n",
       "      <td>...</td>\n",
       "      <td>0</td>\n",
       "    </tr>\n",
       "    <tr>\n",
       "      <th>34</th>\n",
       "      <td>directions_garmin_nuvi_255W_gps</td>\n",
       "      <td>...</td>\n",
       "      <td>0</td>\n",
       "    </tr>\n",
       "    <tr>\n",
       "      <th>33</th>\n",
       "      <td>accuracy_garmin_nuvi_255W_gps</td>\n",
       "      <td>...</td>\n",
       "      <td>0</td>\n",
       "    </tr>\n",
       "    <tr>\n",
       "      <th>26</th>\n",
       "      <td>buttons_amazon_kindle</td>\n",
       "      <td>...</td>\n",
       "      <td>0</td>\n",
       "    </tr>\n",
       "    <tr>\n",
       "      <th>24</th>\n",
       "      <td>sound_ipod_nano_8gb</td>\n",
       "      <td>headphone jack i got a clear case for it a...</td>\n",
       "      <td>0</td>\n",
       "    </tr>\n",
       "    <tr>\n",
       "      <th>21</th>\n",
       "      <td>features_windows7</td>\n",
       "      <td>...</td>\n",
       "      <td>0</td>\n",
       "    </tr>\n",
       "    <tr>\n",
       "      <th>19</th>\n",
       "      <td>updates_garmin_nuvi_255W_gps</td>\n",
       "      <td>...</td>\n",
       "      <td>0</td>\n",
       "    </tr>\n",
       "    <tr>\n",
       "      <th>15</th>\n",
       "      <td>performance_netbook_1005ha</td>\n",
       "      <td>...</td>\n",
       "      <td>0</td>\n",
       "    </tr>\n",
       "    <tr>\n",
       "      <th>25</th>\n",
       "      <td>screen_ipod_nano_8gb</td>\n",
       "      <td>...</td>\n",
       "      <td>0</td>\n",
       "    </tr>\n",
       "    <tr>\n",
       "      <th>9</th>\n",
       "      <td>battery-life_amazon_kindle</td>\n",
       "      <td>...</td>\n",
       "      <td>0</td>\n",
       "    </tr>\n",
       "    <tr>\n",
       "      <th>7</th>\n",
       "      <td>size_asus_netbook_1005ha</td>\n",
       "      <td>...</td>\n",
       "      <td>0</td>\n",
       "    </tr>\n",
       "    <tr>\n",
       "      <th>8</th>\n",
       "      <td>screen_garmin_nuvi_255W_gps</td>\n",
       "      <td>...</td>\n",
       "      <td>0</td>\n",
       "    </tr>\n",
       "    <tr>\n",
       "      <th>14</th>\n",
       "      <td>video_ipod_nano_8gb</td>\n",
       "      <td>...</td>\n",
       "      <td>0</td>\n",
       "    </tr>\n",
       "    <tr>\n",
       "      <th>6</th>\n",
       "      <td>speed_garmin_nuvi_255W_gps</td>\n",
       "      <td>...</td>\n",
       "      <td>0</td>\n",
       "    </tr>\n",
       "    <tr>\n",
       "      <th>10</th>\n",
       "      <td>satellite_garmin_nuvi_255W_gps</td>\n",
       "      <td>...</td>\n",
       "      <td>0</td>\n",
       "    </tr>\n",
       "    <tr>\n",
       "      <th>11</th>\n",
       "      <td>battery-life_netbook_1005ha</td>\n",
       "      <td>...</td>\n",
       "      <td>0</td>\n",
       "    </tr>\n",
       "    <tr>\n",
       "      <th>5</th>\n",
       "      <td>voice_garmin_nuvi_255W_gps</td>\n",
       "      <td>...</td>\n",
       "      <td>0</td>\n",
       "    </tr>\n",
       "    <tr>\n",
       "      <th>12</th>\n",
       "      <td>keyboard_netbook_1005ha</td>\n",
       "      <td>...</td>\n",
       "      <td>0</td>\n",
       "    </tr>\n",
       "    <tr>\n",
       "      <th>22</th>\n",
       "      <td>interior_toyota_camry_2007</td>\n",
       "      <td>...</td>\n",
       "      <td>1</td>\n",
       "    </tr>\n",
       "    <tr>\n",
       "      <th>45</th>\n",
       "      <td>interior_honda_accord_2008</td>\n",
       "      <td>...</td>\n",
       "      <td>1</td>\n",
       "    </tr>\n",
       "    <tr>\n",
       "      <th>43</th>\n",
       "      <td>comfort_toyota_camry_2007</td>\n",
       "      <td>...</td>\n",
       "      <td>1</td>\n",
       "    </tr>\n",
       "    <tr>\n",
       "      <th>29</th>\n",
       "      <td>seats_honda_accord_2008</td>\n",
       "      <td>...</td>\n",
       "      <td>1</td>\n",
       "    </tr>\n",
       "    <tr>\n",
       "      <th>42</th>\n",
       "      <td>quality_toyota_camry_2007</td>\n",
       "      <td>...</td>\n",
       "      <td>1</td>\n",
       "    </tr>\n",
       "    <tr>\n",
       "      <th>47</th>\n",
       "      <td>performance_honda_accord_2008</td>\n",
       "      <td>...</td>\n",
       "      <td>1</td>\n",
       "    </tr>\n",
       "    <tr>\n",
       "      <th>18</th>\n",
       "      <td>comfort_honda_accord_2008</td>\n",
       "      <td>...</td>\n",
       "      <td>1</td>\n",
       "    </tr>\n",
       "    <tr>\n",
       "      <th>35</th>\n",
       "      <td>mileage_honda_accord_2008</td>\n",
       "      <td>...</td>\n",
       "      <td>1</td>\n",
       "    </tr>\n",
       "    <tr>\n",
       "      <th>1</th>\n",
       "      <td>gas_mileage_toyota_camry_2007</td>\n",
       "      <td>...</td>\n",
       "      <td>1</td>\n",
       "    </tr>\n",
       "    <tr>\n",
       "      <th>23</th>\n",
       "      <td>transmission_toyota_camry_2007</td>\n",
       "      <td>...</td>\n",
       "      <td>1</td>\n",
       "    </tr>\n",
       "    <tr>\n",
       "      <th>46</th>\n",
       "      <td>rooms_bestwestern_hotel_sfo</td>\n",
       "      <td>...</td>\n",
       "      <td>2</td>\n",
       "    </tr>\n",
       "    <tr>\n",
       "      <th>3</th>\n",
       "      <td>location_holiday_inn_london</td>\n",
       "      <td>...</td>\n",
       "      <td>2</td>\n",
       "    </tr>\n",
       "    <tr>\n",
       "      <th>4</th>\n",
       "      <td>staff_bestwestern_hotel_sfo</td>\n",
       "      <td>...</td>\n",
       "      <td>2</td>\n",
       "    </tr>\n",
       "    <tr>\n",
       "      <th>2</th>\n",
       "      <td>room_holiday_inn_london</td>\n",
       "      <td>...</td>\n",
       "      <td>2</td>\n",
       "    </tr>\n",
       "    <tr>\n",
       "      <th>16</th>\n",
       "      <td>service_bestwestern_hotel_sfo</td>\n",
       "      <td>...</td>\n",
       "      <td>2</td>\n",
       "    </tr>\n",
       "    <tr>\n",
       "      <th>32</th>\n",
       "      <td>food_swissotel_chicago</td>\n",
       "      <td>...</td>\n",
       "      <td>2</td>\n",
       "    </tr>\n",
       "    <tr>\n",
       "      <th>31</th>\n",
       "      <td>bathroom_bestwestern_hotel_sfo</td>\n",
       "      <td>...</td>\n",
       "      <td>2</td>\n",
       "    </tr>\n",
       "    <tr>\n",
       "      <th>30</th>\n",
       "      <td>rooms_swissotel_chicago</td>\n",
       "      <td>...</td>\n",
       "      <td>2</td>\n",
       "    </tr>\n",
       "    <tr>\n",
       "      <th>28</th>\n",
       "      <td>price_holiday_inn_london</td>\n",
       "      <td>...</td>\n",
       "      <td>2</td>\n",
       "    </tr>\n",
       "    <tr>\n",
       "      <th>27</th>\n",
       "      <td>service_holiday_inn_london</td>\n",
       "      <td>...</td>\n",
       "      <td>2</td>\n",
       "    </tr>\n",
       "    <tr>\n",
       "      <th>49</th>\n",
       "      <td>free_bestwestern_hotel_sfo</td>\n",
       "      <td>...</td>\n",
       "      <td>2</td>\n",
       "    </tr>\n",
       "    <tr>\n",
       "      <th>20</th>\n",
       "      <td>staff_swissotel_chicago</td>\n",
       "      <td>...</td>\n",
       "      <td>2</td>\n",
       "    </tr>\n",
       "    <tr>\n",
       "      <th>13</th>\n",
       "      <td>service_swissotel_hotel_chicago</td>\n",
       "      <td>...</td>\n",
       "      <td>2</td>\n",
       "    </tr>\n",
       "    <tr>\n",
       "      <th>17</th>\n",
       "      <td>food_holiday_inn_london</td>\n",
       "      <td>...</td>\n",
       "      <td>2</td>\n",
       "    </tr>\n",
       "    <tr>\n",
       "      <th>39</th>\n",
       "      <td>location_bestwestern_hotel_sfo</td>\n",
       "      <td>...</td>\n",
       "      <td>2</td>\n",
       "    </tr>\n",
       "    <tr>\n",
       "      <th>50</th>\n",
       "      <td>parking_bestwestern_hotel_sfo</td>\n",
       "      <td>...</td>\n",
       "      <td>2</td>\n",
       "    </tr>\n",
       "  </tbody>\n",
       "</table>\n",
       "</div>"
      ],
      "text/plain": [
       "                           filename  \\\n",
       "0        battery-life_ipod_nano_8gb   \n",
       "48     display_garmin_nuvi_255W_gps   \n",
       "44              fonts_amazon_kindle   \n",
       "41              price_amazon_kindle   \n",
       "40                   speed_windows7   \n",
       "38         navigation_amazon_kindle   \n",
       "37            screen_netbook_1005ha   \n",
       "36    eyesight-issues_amazon_kindle   \n",
       "34  directions_garmin_nuvi_255W_gps   \n",
       "33    accuracy_garmin_nuvi_255W_gps   \n",
       "26            buttons_amazon_kindle   \n",
       "24              sound_ipod_nano_8gb   \n",
       "21                features_windows7   \n",
       "19     updates_garmin_nuvi_255W_gps   \n",
       "15       performance_netbook_1005ha   \n",
       "25             screen_ipod_nano_8gb   \n",
       "9        battery-life_amazon_kindle   \n",
       "7          size_asus_netbook_1005ha   \n",
       "8       screen_garmin_nuvi_255W_gps   \n",
       "14              video_ipod_nano_8gb   \n",
       "6        speed_garmin_nuvi_255W_gps   \n",
       "10   satellite_garmin_nuvi_255W_gps   \n",
       "11      battery-life_netbook_1005ha   \n",
       "5        voice_garmin_nuvi_255W_gps   \n",
       "12          keyboard_netbook_1005ha   \n",
       "22       interior_toyota_camry_2007   \n",
       "45       interior_honda_accord_2008   \n",
       "43        comfort_toyota_camry_2007   \n",
       "29          seats_honda_accord_2008   \n",
       "42        quality_toyota_camry_2007   \n",
       "47    performance_honda_accord_2008   \n",
       "18        comfort_honda_accord_2008   \n",
       "35        mileage_honda_accord_2008   \n",
       "1     gas_mileage_toyota_camry_2007   \n",
       "23   transmission_toyota_camry_2007   \n",
       "46      rooms_bestwestern_hotel_sfo   \n",
       "3       location_holiday_inn_london   \n",
       "4       staff_bestwestern_hotel_sfo   \n",
       "2           room_holiday_inn_london   \n",
       "16    service_bestwestern_hotel_sfo   \n",
       "32           food_swissotel_chicago   \n",
       "31   bathroom_bestwestern_hotel_sfo   \n",
       "30          rooms_swissotel_chicago   \n",
       "28         price_holiday_inn_london   \n",
       "27       service_holiday_inn_london   \n",
       "49       free_bestwestern_hotel_sfo   \n",
       "20          staff_swissotel_chicago   \n",
       "13  service_swissotel_hotel_chicago   \n",
       "17          food_holiday_inn_london   \n",
       "39   location_bestwestern_hotel_sfo   \n",
       "50    parking_bestwestern_hotel_sfo   \n",
       "\n",
       "                                         opinion_text  cluster_label  \n",
       "0                                                 ...              0  \n",
       "48                                                ...              0  \n",
       "44                                                ...              0  \n",
       "41                                                ...              0  \n",
       "40                                                ...              0  \n",
       "38                                                ...              0  \n",
       "37                                                ...              0  \n",
       "36                                                ...              0  \n",
       "34                                                ...              0  \n",
       "33                                                ...              0  \n",
       "26                                                ...              0  \n",
       "24      headphone jack i got a clear case for it a...              0  \n",
       "21                                                ...              0  \n",
       "19                                                ...              0  \n",
       "15                                                ...              0  \n",
       "25                                                ...              0  \n",
       "9                                                 ...              0  \n",
       "7                                                 ...              0  \n",
       "8                                                 ...              0  \n",
       "14                                                ...              0  \n",
       "6                                                 ...              0  \n",
       "10                                                ...              0  \n",
       "11                                                ...              0  \n",
       "5                                                 ...              0  \n",
       "12                                                ...              0  \n",
       "22                                                ...              1  \n",
       "45                                                ...              1  \n",
       "43                                                ...              1  \n",
       "29                                                ...              1  \n",
       "42                                                ...              1  \n",
       "47                                                ...              1  \n",
       "18                                                ...              1  \n",
       "35                                                ...              1  \n",
       "1                                                 ...              1  \n",
       "23                                                ...              1  \n",
       "46                                                ...              2  \n",
       "3                                                 ...              2  \n",
       "4                                                 ...              2  \n",
       "2                                                 ...              2  \n",
       "16                                                ...              2  \n",
       "32                                                ...              2  \n",
       "31                                                ...              2  \n",
       "30                                                ...              2  \n",
       "28                                                ...              2  \n",
       "27                                                ...              2  \n",
       "49                                                ...              2  \n",
       "20                                                ...              2  \n",
       "13                                                ...              2  \n",
       "17                                                ...              2  \n",
       "39                                                ...              2  \n",
       "50                                                ...              2  "
      ]
     },
     "execution_count": 109,
     "metadata": {},
     "output_type": "execute_result"
    }
   ],
   "source": [
    "from sklearn.cluster import KMeans\n",
    "\n",
    "# 3개의 집합으로 군집화 \n",
    "km_cluster = KMeans(n_clusters=3, max_iter=10000, random_state=0)\n",
    "km_cluster.fit(feature_vect)\n",
    "cluster_label = km_cluster.labels_\n",
    "\n",
    "\n",
    "# 소속 클러스터를 cluster_label 컬럼으로 할당하고 cluster_label 값으로 정렬\n",
    "document_df['cluster_label'] = cluster_label\n",
    "document_df.sort_values(by='cluster_label')"
   ]
  },
  {
   "cell_type": "markdown",
   "metadata": {},
   "source": [
    "### 단어 피처들의 중심으로부터의 거리 확인"
   ]
  },
  {
   "cell_type": "code",
   "execution_count": 110,
   "metadata": {},
   "outputs": [
    {
     "name": "stdout",
     "output_type": "stream",
     "text": [
      "cluster_centers shape : (3, 4611)\n",
      "[[0.01005322 0.         0.         ... 0.00706287 0.         0.        ]\n",
      " [0.         0.00092551 0.         ... 0.         0.         0.        ]\n",
      " [0.         0.00099499 0.00174637 ... 0.         0.00183397 0.00144581]]\n"
     ]
    }
   ],
   "source": [
    "# 행은 개별 군집을 의미하며 열은 개별 피처를 의미\n",
    "cluster_centers = km_cluster.cluster_centers_\n",
    "print('cluster_centers shape :',cluster_centers.shape)\n",
    "print(cluster_centers)"
   ]
  },
  {
   "cell_type": "markdown",
   "metadata": {},
   "source": [
    "### 군집별 핵심 단어 추출"
   ]
  },
  {
   "cell_type": "code",
   "execution_count": 111,
   "metadata": {},
   "outputs": [],
   "source": [
    "# 군집별 top n 핵심단어, 그 단어의 중심 위치 상대값, 대상 파일명들을 반환함. \n",
    "def get_cluster_details(cluster_model, cluster_data, feature_names, clusters_num, top_n_features=10):\n",
    "    cluster_details = {}\n",
    "    \n",
    "    # cluster_centers array 의 값이 큰 순으로 정렬된 index 값을 반환\n",
    "    # 군집 중심점(centroid)별 할당된 word 피처들의 거리값이 큰 순으로 값을 구하기 위함.  \n",
    "    centroid_feature_ordered_ind = cluster_model.cluster_centers_.argsort()[:,::-1]\n",
    "    \n",
    "    #개별 군집별로 iteration하면서 핵심단어, 그 단어의 중심 위치 상대값, 대상 파일명 입력\n",
    "    for cluster_num in range(clusters_num):\n",
    "        # 개별 군집별 정보를 담을 데이터 초기화. \n",
    "        cluster_details[cluster_num] = {}\n",
    "        cluster_details[cluster_num]['cluster'] = cluster_num\n",
    "        \n",
    "        # cluster_centers_.argsort()[:,::-1] 로 구한 index 를 이용하여 top n 피처 단어를 구함. \n",
    "        top_feature_indexes = centroid_feature_ordered_ind[cluster_num, :top_n_features]\n",
    "        top_features = [ feature_names[ind] for ind in top_feature_indexes ]\n",
    "        \n",
    "        # top_feature_indexes를 이용해 해당 피처 단어의 중심 위치 상댓값 구함 \n",
    "        top_feature_values = cluster_model.cluster_centers_[cluster_num, top_feature_indexes].tolist()\n",
    "        \n",
    "        # cluster_details 딕셔너리 객체에 개별 군집별 핵심 단어와 중심위치 상대값, 그리고 해당 파일명 입력\n",
    "        cluster_details[cluster_num]['top_features'] = top_features\n",
    "        cluster_details[cluster_num]['top_features_value'] = top_feature_values\n",
    "        filenames = cluster_data[cluster_data['cluster_label'] == cluster_num]['filename']\n",
    "        filenames = filenames.values.tolist()\n",
    "        cluster_details[cluster_num]['filenames'] = filenames\n",
    "        \n",
    "    return cluster_details"
   ]
  },
  {
   "cell_type": "code",
   "execution_count": 112,
   "metadata": {},
   "outputs": [],
   "source": [
    "def print_cluster_details(cluster_details):\n",
    "    for cluster_num, cluster_detail in cluster_details.items():\n",
    "        print('####### Cluster {0}'.format(cluster_num))\n",
    "        print('Top features:', cluster_detail['top_features'])\n",
    "        print('Reviews 파일명 :',cluster_detail['filenames'][:7])\n",
    "        print('==================================================')"
   ]
  },
  {
   "cell_type": "code",
   "execution_count": 113,
   "metadata": {},
   "outputs": [
    {
     "name": "stdout",
     "output_type": "stream",
     "text": [
      "####### Cluster 0\n",
      "Top features: ['screen', 'battery', 'keyboard', 'battery life', 'life', 'kindle', 'direction', 'video', 'size', 'voice']\n",
      "Reviews 파일명 : ['battery-life_ipod_nano_8gb', 'voice_garmin_nuvi_255W_gps', 'speed_garmin_nuvi_255W_gps', 'size_asus_netbook_1005ha', 'screen_garmin_nuvi_255W_gps', 'battery-life_amazon_kindle', 'satellite_garmin_nuvi_255W_gps']\n",
      "==================================================\n",
      "####### Cluster 1\n",
      "Top features: ['interior', 'seat', 'mileage', 'comfortable', 'gas', 'gas mileage', 'transmission', 'car', 'performance', 'quality']\n",
      "Reviews 파일명 : ['gas_mileage_toyota_camry_2007', 'comfort_honda_accord_2008', 'interior_toyota_camry_2007', 'transmission_toyota_camry_2007', 'seats_honda_accord_2008', 'mileage_honda_accord_2008', 'quality_toyota_camry_2007']\n",
      "==================================================\n",
      "####### Cluster 2\n",
      "Top features: ['room', 'hotel', 'service', 'staff', 'food', 'location', 'bathroom', 'clean', 'price', 'parking']\n",
      "Reviews 파일명 : ['room_holiday_inn_london', 'location_holiday_inn_london', 'staff_bestwestern_hotel_sfo', 'service_swissotel_hotel_chicago', 'service_bestwestern_hotel_sfo', 'food_holiday_inn_london', 'staff_swissotel_chicago']\n",
      "==================================================\n"
     ]
    }
   ],
   "source": [
    "feature_names = tfidf_vect.get_feature_names()\n",
    "\n",
    "cluster_details = get_cluster_details(cluster_model=km_cluster, cluster_data=document_df,\\\n",
    "                                  feature_names=feature_names, clusters_num=3, top_n_features=10 )\n",
    "print_cluster_details(cluster_details)"
   ]
  },
  {
   "cell_type": "markdown",
   "metadata": {},
   "source": [
    "## 문장의 유사도 측정"
   ]
  },
  {
   "cell_type": "markdown",
   "metadata": {},
   "source": [
    "### 코사인 유사도를 측정해주는 함수"
   ]
  },
  {
   "cell_type": "code",
   "execution_count": 114,
   "metadata": {},
   "outputs": [],
   "source": [
    "import numpy as np\n",
    "\n",
    "def cos_similarity(v1, v2):\n",
    "    dot_product = np.dot(v1, v2)\n",
    "    l2_norm = (np.sqrt(sum(np.square(v1))) * np.sqrt(sum(np.square(v2))))\n",
    "    similarity = dot_product / l2_norm     \n",
    "    \n",
    "    return similarity"
   ]
  },
  {
   "cell_type": "markdown",
   "metadata": {},
   "source": [
    "### 유사도 측정을 위한 데이터 생성"
   ]
  },
  {
   "cell_type": "code",
   "execution_count": 115,
   "metadata": {},
   "outputs": [
    {
     "name": "stdout",
     "output_type": "stream",
     "text": [
      "(3, 18)\n"
     ]
    }
   ],
   "source": [
    "from sklearn.feature_extraction.text import TfidfVectorizer\n",
    "\n",
    "doc_list = ['if you take the blue pill, the story ends' ,\n",
    "            'if you take the red pill, you stay in Wonderland',\n",
    "            'if you take the red pill, I show you how deep the rabbit hole goes']\n",
    "\n",
    "tfidf_vect_simple = TfidfVectorizer()\n",
    "feature_vect_simple = tfidf_vect_simple.fit_transform(doc_list)\n",
    "print(feature_vect_simple.shape)"
   ]
  },
  {
   "cell_type": "code",
   "execution_count": 116,
   "metadata": {},
   "outputs": [
    {
     "name": "stdout",
     "output_type": "stream",
     "text": [
      "문장 1, 문장 2 Cosine 유사도: 0.402\n",
      "문장 1, 문장 3 Cosine 유사도: 0.404\n",
      "문장 2, 문장 3 Cosine 유사도: 0.456\n"
     ]
    }
   ],
   "source": [
    "# TFidfVectorizer로 transform()한 결과는 Sparse Matrix이므로 Dense Matrix로 변환. \n",
    "feature_vect_dense = feature_vect_simple.todense()\n",
    "\n",
    "#첫번째 문장과 두번째 문장의 feature vector  추출\n",
    "vect1 = np.array(feature_vect_dense[0]).reshape(-1,)\n",
    "vect2 = np.array(feature_vect_dense[1]).reshape(-1,)\n",
    "vect3 = np.array(feature_vect_dense[2]).reshape(-1,)\n",
    "\n",
    "#첫번째 문장과 두번째 문장의 feature vector로 두개 문장의 Cosine 유사도 추출\n",
    "similarity_simple = cos_similarity(vect1, vect2 )\n",
    "print('문장 1, 문장 2 Cosine 유사도: {0:.3f}'.format(similarity_simple))\n",
    "\n",
    "similarity_simple = cos_similarity(vect1, vect3 )\n",
    "print('문장 1, 문장 3 Cosine 유사도: {0:.3f}'.format(similarity_simple))\n",
    "\n",
    "similarity_simple = cos_similarity(vect2, vect3 )\n",
    "print('문장 2, 문장 3 Cosine 유사도: {0:.3f}'.format(similarity_simple))"
   ]
  },
  {
   "cell_type": "code",
   "execution_count": 117,
   "metadata": {},
   "outputs": [
    {
     "name": "stdout",
     "output_type": "stream",
     "text": [
      "[[1.         0.40207758 0.40425045]]\n"
     ]
    }
   ],
   "source": [
    "from sklearn.metrics.pairwise import cosine_similarity\n",
    "\n",
    "similarity_simple_pair = cosine_similarity(feature_vect_simple[0] , feature_vect_simple)\n",
    "print(similarity_simple_pair)"
   ]
  },
  {
   "cell_type": "code",
   "execution_count": 118,
   "metadata": {},
   "outputs": [
    {
     "name": "stdout",
     "output_type": "stream",
     "text": [
      "[[0.40207758 0.40425045]]\n"
     ]
    }
   ],
   "source": [
    "from sklearn.metrics.pairwise import cosine_similarity\n",
    "\n",
    "similarity_simple_pair = cosine_similarity(feature_vect_simple[0] , feature_vect_simple[1:])\n",
    "print(similarity_simple_pair)"
   ]
  },
  {
   "cell_type": "code",
   "execution_count": 119,
   "metadata": {},
   "outputs": [
    {
     "name": "stdout",
     "output_type": "stream",
     "text": [
      "[[1.         0.40207758 0.40425045]\n",
      " [0.40207758 1.         0.45647296]\n",
      " [0.40425045 0.45647296 1.        ]]\n",
      "shape: (3, 3)\n"
     ]
    }
   ],
   "source": [
    "similarity_simple_pair = cosine_similarity(feature_vect_simple , feature_vect_simple)\n",
    "print(similarity_simple_pair)\n",
    "print('shape:',similarity_simple_pair.shape)"
   ]
  },
  {
   "cell_type": "markdown",
   "metadata": {},
   "source": [
    "### 이전 리뷰 문서에서의 유사도 측정"
   ]
  },
  {
   "cell_type": "code",
   "execution_count": 120,
   "metadata": {},
   "outputs": [
    {
     "name": "stdout",
     "output_type": "stream",
     "text": [
      "호텔로 클러스터링 된 문서들의 DataFrame Index: Int64Index([1, 18, 22, 23, 29, 35, 42, 43, 45, 47], dtype='int64')\n",
      "##### 비교 기준 문서명  gas_mileage_toyota_camry_2007  와 타 문서 유사도######\n",
      "[[1.         0.15655631 0.0879083  0.08217817 0.06276647 0.96608144\n",
      "  0.14398794 0.27273923 0.05452321 0.20206332]]\n"
     ]
    }
   ],
   "source": [
    "km_cluster = KMeans(n_clusters=3, max_iter=10000, random_state=0)\n",
    "km_cluster.fit(feature_vect)\n",
    "cluster_label = km_cluster.labels_\n",
    "cluster_centers = km_cluster.cluster_centers_\n",
    "document_df['cluster_label'] = cluster_label\n",
    "\n",
    "from sklearn.metrics.pairwise import cosine_similarity\n",
    "\n",
    "# cluster_label=1인 데이터는 호텔로 클러스터링된 데이터임. DataFrame에서 해당 Index를 추출\n",
    "hotel_indexes = document_df[document_df['cluster_label']==1].index\n",
    "print('호텔로 클러스터링 된 문서들의 DataFrame Index:', hotel_indexes)\n",
    "\n",
    "# 호텔로 클러스터링된 데이터 중 첫번째 문서를 추출하여 파일명 표시.  \n",
    "comparison_docname = document_df.iloc[hotel_indexes[0]]['filename']\n",
    "print('##### 비교 기준 문서명 ',comparison_docname,' 와 타 문서 유사도######')\n",
    "\n",
    "''' document_df에서 추출한 Index 객체를 feature_vect로 입력하여 호텔 클러스터링된 feature_vect 추출 \n",
    "이를 이용하여 호텔로 클러스터링된 문서 중 첫번째 문서와 다른 문서간의 코사인 유사도 측정.'''\n",
    "similarity_pair = cosine_similarity(feature_vect[hotel_indexes[0]] , feature_vect[hotel_indexes])\n",
    "print(similarity_pair)"
   ]
  },
  {
   "cell_type": "markdown",
   "metadata": {},
   "source": [
    "### 문서의 유사도 시각화"
   ]
  },
  {
   "cell_type": "code",
   "execution_count": 121,
   "metadata": {},
   "outputs": [
    {
     "data": {
      "text/plain": [
       "Text(0.5, 1.0, 'gas_mileage_toyota_camry_2007')"
      ]
     },
     "execution_count": 121,
     "metadata": {},
     "output_type": "execute_result"
    },
    {
     "data": {
      "image/png": "[encoded data removed]",
      "text/plain": [
       "<Figure size 432x288 with 1 Axes>"
      ]
     },
     "metadata": {
      "needs_background": "light"
     },
     "output_type": "display_data"
    }
   ],
   "source": [
    "import seaborn as sns\n",
    "import numpy as np\n",
    "import matplotlib.pyplot as plt\n",
    "%matplotlib inline\n",
    "\n",
    "# argsort()를 이용하여 앞예제의 첫번째 문서와 타 문서간 유사도가 큰 순으로 정렬한 인덱스 반환하되 자기 자신은 제외. \n",
    "sorted_index = similarity_pair.argsort()[:,::-1]\n",
    "sorted_index = sorted_index[:, 1:]\n",
    "\n",
    "# 유사도가 큰 순으로 hotel_indexes를 추출하여 재 정렬. \n",
    "hotel_sorted_indexes = hotel_indexes[sorted_index.reshape(-1)]\n",
    "\n",
    "# 유사도가 큰 순으로 유사도 값을 재정렬하되 자기 자신은 제외\n",
    "hotel_1_sim_value = np.sort(similarity_pair.reshape(-1))[::-1]\n",
    "hotel_1_sim_value = hotel_1_sim_value[1:]\n",
    "\n",
    "# 유사도가 큰 순으로 정렬된 Index와 유사도값을 이용하여 파일명과 유사도값을 Seaborn 막대 그래프로 시각화\n",
    "hotel_1_sim_df = pd.DataFrame()\n",
    "hotel_1_sim_df['filename'] = document_df.iloc[hotel_sorted_indexes]['filename']\n",
    "hotel_1_sim_df['similarity'] = hotel_1_sim_value\n",
    "\n",
    "sns.barplot(x='similarity', y='filename',data=hotel_1_sim_df)\n",
    "plt.title(comparison_docname)"
   ]
  },
  {
   "cell_type": "markdown",
   "metadata": {},
   "source": [
    "## 한글 문장의 유사도 측정"
   ]
  },
  {
   "cell_type": "markdown",
   "metadata": {},
   "source": [
    "### 훈련 데이터 만들기"
   ]
  },
  {
   "cell_type": "code",
   "execution_count": 122,
   "metadata": {},
   "outputs": [
    {
     "name": "stdout",
     "output_type": "stream",
     "text": [
      "[['우리', '과일', '먹으로', '가자'], ['나', '는', '고기', '를', '좋아합니다'], ['나', '는', '공원', '에서', '산책', '하는', '것', '을', '싫어합니다'], ['안녕하세요', '반갑습니다', '그동안', '잘', '계셨어요']]\n"
     ]
    }
   ],
   "source": [
    "### 훈련 데이터 만들기\n",
    "from sklearn.feature_extraction.text import CountVectorizer\n",
    "from konlpy.tag import Twitter\n",
    "twitter = Twitter()\n",
    "vectorizer = CountVectorizer(min_df = 1)\n",
    "contents = ['우리 과일 먹으로 가자',\n",
    "                   '나는 고기를 좋아합니다',\n",
    "                   '나는 공원에서 산책하는 것을 싫어합니다',\n",
    "                   '안녕하세요 반갑습니다 그동안 잘 계셨어요']\n",
    "contents_tokens = [twitter.morphs(row) for row in contents]\n",
    "print(contents_tokens)"
   ]
  },
  {
   "cell_type": "code",
   "execution_count": 123,
   "metadata": {},
   "outputs": [
    {
     "name": "stdout",
     "output_type": "stream",
     "text": [
      "[' 우리 과일 먹으로 가자', ' 나 는 고기 를 좋아합니다', ' 나 는 공원 에서 산책 하는 것 을 싫어합니다', ' 안녕하세요 반갑습니다 그동안 잘 계셨어요']\n"
     ]
    }
   ],
   "source": [
    "contents_for_vectorize = []\n",
    "\n",
    "for content in contents_tokens:\n",
    "    sentence = ''\n",
    "    for word in content:\n",
    "        sentence = sentence + ' ' + word\n",
    "        \n",
    "    contents_for_vectorize.append(sentence)\n",
    "    \n",
    "print(contents_for_vectorize)"
   ]
  },
  {
   "cell_type": "code",
   "execution_count": 124,
   "metadata": {},
   "outputs": [
    {
     "name": "stdout",
     "output_type": "stream",
     "text": [
      "4 15\n",
      "['가자', '계셨어요', '고기', '공원', '과일', '그동안', '먹으로', '반갑습니다', '산책', '싫어합니다', '안녕하세요', '에서', '우리', '좋아합니다', '하는']\n",
      "[[1 0 0 0]\n",
      " [0 0 0 1]\n",
      " [0 1 0 0]\n",
      " [0 0 1 0]\n",
      " [1 0 0 0]\n",
      " [0 0 0 1]\n",
      " [1 0 0 0]\n",
      " [0 0 0 1]\n",
      " [0 0 1 0]\n",
      " [0 0 1 0]\n",
      " [0 0 0 1]\n",
      " [0 0 1 0]\n",
      " [1 0 0 0]\n",
      " [0 1 0 0]\n",
      " [0 0 1 0]]\n"
     ]
    }
   ],
   "source": [
    "### 훈련 데이터의 차원 확인\n",
    "X = vectorizer.fit_transform(contents_for_vectorize)\n",
    "num_samples, num_features = X.shape\n",
    "print(num_samples, num_features)\n",
    "\n",
    "### 훈련 데이터의 확인\n",
    "print(vectorizer.get_feature_names())\n",
    "\n",
    "### 훈련 데이터의 벡터 값 확인\n",
    "print(X.toarray().transpose())"
   ]
  },
  {
   "cell_type": "markdown",
   "metadata": {},
   "source": [
    "### 테스트 데이터 만들기"
   ]
  },
  {
   "cell_type": "code",
   "execution_count": 125,
   "metadata": {},
   "outputs": [
    {
     "name": "stdout",
     "output_type": "stream",
     "text": [
      "[' 우리 과 이 먹으로 갖']\n"
     ]
    }
   ],
   "source": [
    "### 테스트 데이터 확인\n",
    "new_post = ['우리 과이 먹으로 갖']\n",
    "new_post_tokens = [twitter.morphs(row) for row in new_post]\n",
    "\n",
    "new_post_for_vectorize = []\n",
    "\n",
    "for content in new_post_tokens:\n",
    "    sentence = ''\n",
    "    for word in content:\n",
    "        sentence = sentence + ' ' + word\n",
    "        \n",
    "    new_post_for_vectorize.append(sentence)\n",
    "    \n",
    "print(new_post_for_vectorize)\n"
   ]
  },
  {
   "cell_type": "code",
   "execution_count": 126,
   "metadata": {},
   "outputs": [
    {
     "name": "stdout",
     "output_type": "stream",
     "text": [
      "[[0 0 0 0 0 0 1 0 0 0 0 0 1 0 0]]\n"
     ]
    }
   ],
   "source": [
    "### 샘플 데이터 확인\n",
    "new_post_vec = vectorizer.transform(new_post_for_vectorize)\n",
    "print(new_post_vec.toarray())\n"
   ]
  },
  {
   "cell_type": "code",
   "execution_count": 127,
   "metadata": {},
   "outputs": [],
   "source": [
    "### 샘플 데이터와 훈련 데이터 거리 확인\n",
    "import scipy as sp\n",
    "\n",
    "#거리 구해주는 함수\n",
    "def dist_raw(v1, v2):\n",
    "    delta = v1 - v2\n",
    "    return sp.linalg.norm(delta.toarray())\n",
    "\n",
    "best_doc = None\n",
    "best_dist = 65535\n",
    "best_i = None"
   ]
  },
  {
   "cell_type": "code",
   "execution_count": 128,
   "metadata": {},
   "outputs": [
    {
     "name": "stdout",
     "output_type": "stream",
     "text": [
      "== 0 번째 문장과의 거리:1.41   : 우리 과일 먹으로 가자\n",
      "== 1 번째 문장과의 거리:2.00   : 나는 고기를 좋아합니다\n",
      "== 2 번째 문장과의 거리:2.65   : 나는 공원에서 산책하는 것을 싫어합니다\n",
      "== 3 번째 문장과의 거리:2.45   : 안녕하세요 반갑습니다 그동안 잘 계셨어요\n"
     ]
    }
   ],
   "source": [
    "for i in range(0, num_samples):\n",
    "    post_vec = X.getrow(i)\n",
    "    d = dist_raw(post_vec, new_post_vec)\n",
    "    \n",
    "    print(\"== %i 번째 문장과의 거리:%.2f   : %s\" %(i,d,contents[i]))\n",
    "    \n",
    "    if d<best_dist:\n",
    "        best_dist = d\n",
    "        best_i = i"
   ]
  },
  {
   "cell_type": "code",
   "execution_count": 129,
   "metadata": {},
   "outputs": [
    {
     "name": "stdout",
     "output_type": "stream",
     "text": [
      "가장 가까운 문장은 0번째 이고 거리는 1.41\n",
      "--> ['우리 과이 먹으로 갖']\n",
      "----> 우리 과일 먹으로 가자\n"
     ]
    }
   ],
   "source": [
    "### 가장 가까운 거리의 훈련 데이터 거리 확인\n",
    "print(\"가장 가까운 문장은 %i번째 이고 거리는 %.2f\" % (best_i, best_dist))\n",
    "print('-->', new_post)\n",
    "print('---->', contents[best_i])\n"
   ]
  },
  {
   "cell_type": "code",
   "execution_count": 130,
   "metadata": {},
   "outputs": [
    {
     "name": "stdout",
     "output_type": "stream",
     "text": [
      "[[1 0 0 0 1 0 1 0 0 0 0 0 1 0 0]]\n",
      "[[0 0 1 0 0 0 0 0 0 0 0 0 0 1 0]]\n",
      "[[0 0 0 1 0 0 0 0 1 1 0 1 0 0 1]]\n",
      "[[0 1 0 0 0 1 0 1 0 0 1 0 0 0 0]]\n",
      "---------------------\n",
      "[[0 0 0 0 0 0 1 0 0 0 0 0 1 0 0]]\n"
     ]
    }
   ],
   "source": [
    "### 훈련 데이터와의 벡터 값 확인\n",
    "for i in range(0,len(contents)):\n",
    "    print(X.getrow(i).toarray())\n",
    "    \n",
    "print('---------------------')\n",
    "print(new_post_vec.toarray())\n"
   ]
  },
  {
   "cell_type": "code",
   "execution_count": null,
   "metadata": {},
   "outputs": [],
   "source": []
  }
 ],
 "metadata": {
  "kernelspec": {
   "display_name": "Python 3",
   "language": "python",
   "name": "python3"
  },
  "language_info": {
   "codemirror_mode": {
    "name": "ipython",
    "version": 3
   },
   "file_extension": ".py",
   "mimetype": "text/x-python",
   "name": "python",
   "nbconvert_exporter": "python",
   "pygments_lexer": "ipython3",
   "version": "3.8.5"
  }
 },
 "nbformat": 4,
 "nbformat_minor": 4
}
