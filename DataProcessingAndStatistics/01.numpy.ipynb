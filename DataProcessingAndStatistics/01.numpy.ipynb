{
  "nbformat": 4,
  "nbformat_minor": 0,
  "metadata": {
    "kernelspec": {
      "display_name": "Python 3",
      "language": "python",
      "name": "python3"
    },
    "language_info": {
      "codemirror_mode": {
        "name": "ipython",
        "version": 3
      },
      "file_extension": ".py",
      "mimetype": "text/x-python",
      "name": "python",
      "nbconvert_exporter": "python",
      "pygments_lexer": "ipython3",
      "version": "3.8.5"
    },
    "colab": {
      "name": "1.numpy.ipynb",
      "provenance": []
    }
  },
  "cells": [
    {
      "cell_type": "markdown",
      "metadata": {
        "id": "piAMTR1-BOVp"
      },
      "source": [
        "# numpy"
      ]
    },
    {
      "cell_type": "markdown",
      "metadata": {
        "id": "p8NF-C5WBTvj"
      },
      "source": [
        "## 작업 시간 비교"
      ]
    },
    {
      "cell_type": "code",
      "metadata": {
        "colab": {
          "base_uri": "https://localhost:8080/"
        },
        "id": "mxRmKOiEBOVs",
        "outputId": "cf1fb192-6ae7-4583-9393-1d1e6d4f98bc"
      },
      "source": [
        "import numpy as np\n",
        "import datetime\n",
        "#list 생성\n",
        "li = range(1,1000000)\n",
        "#현재 시간 저장 및 출력\n",
        "s = datetime.datetime.now()\n",
        "print(\"리스트 작업 시작 시간:\", s)\n",
        "#li의 각 요소에 10을 곱하기\n",
        "for i in li:\n",
        "    i = i * 10\n",
        "s = datetime.datetime.now()\n",
        "print(\"리스트 작업 종료 시간:\", s)\n",
        "\n",
        "#ndarray 생성\n",
        "ar = np.arange(1,1000000)\n",
        "s = datetime.datetime.now()\n",
        "print(\"ndarray 작업 시작 시간:\", s)\n",
        "ar = ar * 10\n",
        "s = datetime.datetime.now()\n",
        "print(\"ndarray 작업 종료 시간:\", s)"
      ],
      "execution_count": 1,
      "outputs": [
        {
          "output_type": "stream",
          "name": "stdout",
          "text": [
            "리스트 작업 시작 시간: 2021-09-02 01:00:35.898469\n",
            "리스트 작업 종료 시간: 2021-09-02 01:00:36.115702\n",
            "ndarray 작업 시작 시간: 2021-09-02 01:00:36.121425\n",
            "ndarray 작업 종료 시간: 2021-09-02 01:00:36.130689\n"
          ]
        }
      ]
    },
    {
      "cell_type": "markdown",
      "metadata": {
        "id": "QnAsf0VCBOVu"
      },
      "source": [
        "<font size='3'>ndarray</font> \n",
        "- 배열을 생성하는 가장 기본적인 함수는 array() 함수\n",
        "- numpy.array(iterator객체 – 순차적인 객체) 형태로 생성하는데 데이터를 복제해서 생성\n",
        "- dtype 속성을 이용해서 데이터의 자료형을 명시할 수 있지만 설정하지 않으면 데이터의 자료형은 numpy가 추정해서 모두 동일한 자료형으로 생성\n",
        "- print 함수를 이용해서 변수의 이름을 출력하면 데이터 전부를 출력\n",
        "- 데이터의 자료형은 dtype 속성으로 확인 가능\n",
        "- ndim 속성은 배열의 차원\n",
        "- shape 속성은 각 차원의 크기를 저장한 정수 튜플\n",
        "- 배열이름[인덱스]를 이용해서 배열의 데이터 요소에 접근 가능\n",
        "- 2차원 이상인 경우는 [행인덱스, 열인덱스]로 접근\n"
      ]
    },
    {
      "cell_type": "markdown",
      "metadata": {
        "id": "OFe5eynuO9qI"
      },
      "source": [
        "##배열 생성 과 속성 확인"
      ]
    },
    {
      "cell_type": "code",
      "metadata": {
        "colab": {
          "base_uri": "https://localhost:8080/"
        },
        "id": "jqOUZrk0BOVv",
        "outputId": "ab1d9e5c-b028-42b0-a6b7-03da5d4d7181"
      },
      "source": [
        "import numpy\n",
        "#list를 이용해서 array 생성\n",
        "ar = numpy.array([1, 2, 3])\n",
        "\n",
        "##생성된 데이터의 자료형 확인\n",
        "print(type(ar)) \n",
        "\n",
        "#차원 확인 - 1차원 3개의 데이터로 구성\n",
        "print (ar.shape) \n",
        "\n",
        "#2차원 배열 만들기\n",
        "br = numpy.array([[1,2,3],[4,5,6]]) \n",
        "\n",
        "#배열 출력\n",
        "print(br)\n",
        "\n",
        "#배열의 차원 확인\n",
        "print (br.shape) \n",
        "\n",
        "#배열의 메모리 크기 확인\n",
        "print(br.nbytes)"
      ],
      "execution_count": 2,
      "outputs": [
        {
          "output_type": "stream",
          "name": "stdout",
          "text": [
            "<class 'numpy.ndarray'>\n",
            "(3,)\n",
            "[[1 2 3]\n",
            " [4 5 6]]\n",
            "(2, 3)\n",
            "48\n"
          ]
        }
      ]
    },
    {
      "cell_type": "markdown",
      "metadata": {
        "id": "UcdvARLsBOVv"
      },
      "source": [
        "<font size='3'>ndarray 생성</font> \n",
        "- 파이썬의 내장 함수인 range()와 유사하게 배열 객체를 만들어주는 함수는 arange()\n",
        "<br/>numpy.arange([start, ]stop, [step, ]dtype=None)\n",
        "\n",
        "- 시작점과 끝점을 균일 간격으로 나눈 값들을 이용해서 생성해주는 linspace()\n",
        "<br/>numpy.linspace(start, stop, num=50, endpoint=True, retstep=False, dtype=None, axis=0)\n"
      ]
    },
    {
      "cell_type": "code",
      "metadata": {
        "colab": {
          "base_uri": "https://localhost:8080/"
        },
        "id": "Mg9Jz4moBOVw",
        "outputId": "b6d5b5a5-731c-4c17-b764-a155ba0ce936"
      },
      "source": [
        "import numpy\n",
        "# 1차원 배얼 [0,1,2, ... ,9] 생성\n",
        "ar = numpy.arange(10)\n",
        "print(ar)\n",
        "print()\n",
        "\n",
        "# start, end, num-points\n",
        "ar = numpy.linspace(0, 1, 6)  \n",
        "print(ar)\n",
        "print()\n",
        "\n",
        "# start, end, num-points, 마지막 포인트는 제외\n",
        "ar = numpy.linspace(0, 1, 5, endpoint=False)\n",
        "print(ar)\n",
        "print()"
      ],
      "execution_count": 3,
      "outputs": [
        {
          "output_type": "stream",
          "name": "stdout",
          "text": [
            "[0 1 2 3 4 5 6 7 8 9]\n",
            "\n",
            "[0.  0.2 0.4 0.6 0.8 1. ]\n",
            "\n",
            "[0.  0.2 0.4 0.6 0.8]\n",
            "\n"
          ]
        }
      ]
    },
    {
      "cell_type": "markdown",
      "metadata": {
        "id": "wVF2mVWCBOVw"
      },
      "source": [
        "<font size='3'>특수 행렬 생성</font> \n",
        "- zeros(), ones() 라는 함수들은 각각 0과 1로 채원진 배열을 생성하는데 차수를 정수 혹은 튜플로 설정\n",
        "- zeros_like 나 ones_like 함수는 배열을 매개변수로 받아서 동일한 모양의 배열을 생성하는데 기존 데이터는 제거하고 0이나 1로 채움\n",
        "- empty 나 empty_like 함수는 값을 초기화하지 않는 배열을 생성\n",
        "- 대각행렬을 위한 eye() 함수와 diag() 함수도 존재\n",
        "- eye() 함수는 단위행렬을 생성\n",
        "- eye(N, M=, k=, dtype=): M은 열 수, k는 대각 위치(대각일 때가 0), dtype은 자료형\n",
        "- diag()는 주어진 정방행렬에서 대각요소만 뽑아내서 벡터를 생성"
      ]
    },
    {
      "cell_type": "code",
      "metadata": {
        "colab": {
          "base_uri": "https://localhost:8080/"
        },
        "id": "QYepWcSMBOVx",
        "outputId": "fc72e29d-8e99-48d9-ee11-8189d1abf5d6"
      },
      "source": [
        "import numpy\n",
        "b1 = numpy.ones(10) # 1로 채원진 10 크기의 (1차원) 배열 생성\n",
        "print(b1)\n",
        "print()\n",
        "\n",
        "b2 = numpy.zeros((5,5)) # 0으로 채원진 5x5 크기의 배열 생성\n",
        "print(b2)\n",
        "print()\n",
        "\n",
        "#2*2 단위 행렬 생성\n",
        "ar = numpy.eye(2, dtype=int)\n",
        "print(ar)\n",
        "print()\n",
        "\n",
        "#3*3 행렬을 만들고 가운데에서 대각선 방향으로 위쪽에 1을 채움\n",
        "ar = numpy.eye(3, k=1)\n",
        "print(ar)\n",
        "print()\n",
        "\n",
        "#3*4 행렬을 만들고 가운데에서 대각선 방향으로 위쪽에 1을 채움\n",
        "ar = numpy.eye(3, M=4, k=1)\n",
        "print(ar)\n",
        "print()\n",
        "\n",
        "#9개짜리 일차원 배열을 3*3행렬로 변환\n",
        "ar = numpy.arange(9).reshape((3,3))\n",
        "print(ar)\n",
        "print()\n",
        "\n",
        "br = numpy.diag(ar)\n",
        "print(br)\n",
        "print()\n",
        "\n",
        "#중앙의 대각선에서 위나 아래 한칸 이동해서 데이터를 가져와서 벡터를 생성\n",
        "cr = numpy.diag(ar,k=1)\n",
        "print(cr)\n",
        "print()\n",
        "\n",
        "dr = numpy.diag(ar, k=-1)\n",
        "print(dr)\n",
        "print()\n",
        "\n",
        "er = numpy.empty( (2,2) ) # 가비지 값으로 채원진 2x2 크기의 배열 생성\n",
        "print(er)"
      ],
      "execution_count": 4,
      "outputs": [
        {
          "output_type": "stream",
          "name": "stdout",
          "text": [
            "[1. 1. 1. 1. 1. 1. 1. 1. 1. 1.]\n",
            "\n",
            "[[0. 0. 0. 0. 0.]\n",
            " [0. 0. 0. 0. 0.]\n",
            " [0. 0. 0. 0. 0.]\n",
            " [0. 0. 0. 0. 0.]\n",
            " [0. 0. 0. 0. 0.]]\n",
            "\n",
            "[[1 0]\n",
            " [0 1]]\n",
            "\n",
            "[[0. 1. 0.]\n",
            " [0. 0. 1.]\n",
            " [0. 0. 0.]]\n",
            "\n",
            "[[0. 1. 0. 0.]\n",
            " [0. 0. 1. 0.]\n",
            " [0. 0. 0. 1.]]\n",
            "\n",
            "[[0 1 2]\n",
            " [3 4 5]\n",
            " [6 7 8]]\n",
            "\n",
            "[0 4 8]\n",
            "\n",
            "[1 5]\n",
            "\n",
            "[3 7]\n",
            "\n",
            "[[5.e-324 0.e+000]\n",
            " [0.e+000 5.e-324]]\n"
          ]
        }
      ]
    },
    {
      "cell_type": "markdown",
      "metadata": {
        "id": "HhcY8zg1BOVy"
      },
      "source": [
        "<font size='3'>ndarray의 자료형</font>\n",
        "- 배열을 생성할 때 dtype이라는 옵션을 이용해서 설정 가능\n",
        "<br/>numpy.array([xx, xx], dtype=numpy.Type)\n",
        "- dtype이라는 속성을 이용해서 확인 가능\n",
        "- 서로 다른 데이터 타입의 데이터를 이용해서 생성할 때 대입하면 형 변환을 해서 하나의 자료형 배열이 생성\n",
        "- 정수와 실수가 혼합되어 있다면 실수, 숫자와 문자열이 혼합되어 있다면 문자열로 생성\n",
        "- astype 함수를 이용해서 데이터의 타입을 변경한 배열을 생성할 수 있음\n",
        "- numpy의 자료형\n",
        "  <br/> 정수 자료형: int8, 16, 32, 64, uint8, uint16, uint32, uing64\n",
        "  <br/> 실수 자료형: float16, 32, 64, 128\n",
        "  <br/> 복소수 자료형: complex64, 128, 256\n",
        "  <br/> boolean: bool\n",
        "  <br/> 객체: object\n",
        "  <br/> 문자열: string_\n",
        "  <br/> 유니코드: unicode_"
      ]
    },
    {
      "cell_type": "code",
      "metadata": {
        "colab": {
          "base_uri": "https://localhost:8080/"
        },
        "id": "jky_mPyJBOVy",
        "outputId": "60a0c0d1-5c36-4aa4-cad2-970427a7388b"
      },
      "source": [
        "import numpy as np\n",
        "#정수로만 구성\n",
        "ar = np.array([1,2,3])\n",
        "print(\"타입 확인:\",ar.dtype);\n",
        "\n",
        "#문자열로만 구성\n",
        "ar = np.array(['12', '2' ,'3'])\n",
        "print(\"타입 확인:\",ar.dtype);\n",
        "\n",
        "#정수와 실수 혼합\n",
        "ar = np.array([3, 2.9, 4])\n",
        "print(\"타입 확인:\",ar.dtype);\n",
        "\n",
        "#문자열과 숫자 혼합\n",
        "ar = np.array([3, 2.9, '4'])\n",
        "print(\"타입 확인:\",ar.dtype);\n",
        "\n",
        "#문자열과 정수 혼합이지만 정수로 설정\n",
        "ar = np.array([3, 2, '4'], dtype=np.int32)\n",
        "print(\"타입 확인:\",ar.dtype);\n",
        "\n",
        "#실수 타입으로 변경\n",
        "ar = ar.astype(np.string_)\n",
        "print(\"타입 확인:\",ar.dtype);"
      ],
      "execution_count": 6,
      "outputs": [
        {
          "output_type": "stream",
          "name": "stdout",
          "text": [
            "타입 확인: int64\n",
            "타입 확인: <U2\n",
            "타입 확인: float64\n",
            "타입 확인: <U32\n",
            "타입 확인: int32\n",
            "타입 확인: |S11\n"
          ]
        }
      ]
    },
    {
      "cell_type": "markdown",
      "metadata": {
        "id": "GpdHItB_BOVz"
      },
      "source": [
        "<font size='3'>행렬 변환</font> \n",
        "- 배열은 reshape() 함수를 이용하여 각 차원의 개수를 튜플로 대입해서 다른 차원 또는 데이터의 개수를 조절해서 변경 가능 – 데이터를 동일하게 유지하면서 배열의 구조를 변경\n",
        "- reshape 함수에 -1을 대입하면 1차원 배열로 변환\n",
        "- flattern 함수를 이용하면 다차원 배열을 1차원으로 변환 가능\n",
        "- reshape는 데이터를 유지하지만 flattern은 새로운 배열을 리턴\n"
      ]
    },
    {
      "cell_type": "code",
      "metadata": {
        "colab": {
          "base_uri": "https://localhost:8080/"
        },
        "id": "NoclvaCgBOVz",
        "outputId": "857c35a7-ec62-4cb1-b0ad-db1645772812"
      },
      "source": [
        "import numpy\n",
        "# 1차원 배열 [0,1,2, ... ,9] 생성\n",
        "ar = numpy.arange(10)  \n",
        "print(ar)\n",
        "print()\n",
        "\n",
        "# 같은 요소를 가지고 2x5 배열로 변형\n",
        "ar = ar.reshape(2, 5)\n",
        "print(ar)\n",
        "print()"
      ],
      "execution_count": 7,
      "outputs": [
        {
          "output_type": "stream",
          "name": "stdout",
          "text": [
            "[0 1 2 3 4 5 6 7 8 9]\n",
            "\n",
            "[[0 1 2 3 4]\n",
            " [5 6 7 8 9]]\n",
            "\n"
          ]
        }
      ]
    },
    {
      "cell_type": "code",
      "metadata": {
        "id": "Ai00kh6KBOV0",
        "outputId": "99a31b13-4304-46cb-c24a-254ad903a2df"
      },
      "source": [
        "import numpy\n",
        "# 행렬을 생성\n",
        "matrix = np.array([[1, 2, 3],\n",
        "                   [4, 5, 6],\n",
        "                   [7, 8, 9]])\n",
        "\n",
        "#1차원으로 변환 - 모양만 변경\n",
        "ar = matrix.reshape(-1)\n",
        "print(ar)\n",
        "print()\n",
        "\n",
        "#1차원으로 변환 - 데이터를 복제\n",
        "br = matrix.flatten()\n",
        "print(br)\n",
        "print()\n",
        "\n",
        "#원본 데이터 변경\n",
        "matrix[0,0] = 100\n",
        "\n",
        "#원본이 변경되었으므로 같이 변경됨 \n",
        "print(ar)\n",
        "print()\n",
        "\n",
        "#복제를 했으므로 아무런 영향이 없음 \n",
        "print(br)"
      ],
      "execution_count": null,
      "outputs": [
        {
          "name": "stdout",
          "output_type": "stream",
          "text": [
            "[1 2 3 4 5 6 7 8 9]\n",
            "\n",
            "[1 2 3 4 5 6 7 8 9]\n",
            "\n",
            "[100   2   3   4   5   6   7   8   9]\n",
            "\n",
            "[1 2 3 4 5 6 7 8 9]\n"
          ]
        }
      ]
    },
    {
      "cell_type": "markdown",
      "metadata": {
        "id": "6Zq8bKuOK8AO"
      },
      "source": [
        "## 인덱싱\n",
        "1차원 배열의 인덱스는 list 와 유사하게 적용\n",
        "배열명[인덱스] 을 이용하면 배열에서 인덱스 번째 데이터를 리턴\n",
        "인덱스에 음수를 대입하면 뒤에서부터 리턴\n",
        "[시작 위치 : 종료 위치] 를 이용하면 시작 위치부터 종료 위치 앞까지 리턴\n",
        "[시작 위치:] 이면 시작 위치부터 끝까지\n",
        "[:종료 위치]: 처음부터 종료 위치까지\n",
        "[:] 는 전체\n",
        "2차원 이상의 배열에서 인덱스는 [행번호][열번호]의 형태로 입력해도 되지만 [행번호, 열번호]를 이용 가능\n",
        "2차원 이상의 배열에서 인덱스를 생략하면 생략된 인덱스 전체\n"
      ]
    },
    {
      "cell_type": "code",
      "metadata": {
        "id": "3GVpzMyrBOV0",
        "outputId": "f75428e2-7455-4cf5-9fa9-b5a2abdbcc9e"
      },
      "source": [
        "import numpy as np\n",
        "\n",
        "# 하나의 행을 갖는 배열 생성\n",
        "vector = np.array([1, 2, 3, 4, 5, 6])\n",
        "\n",
        "# 행렬을 만듭니다.\n",
        "matrix = np.array([[1, 2, 3],\n",
        "                   [4, 5, 6],\n",
        "                   [7, 8, 9]])\n",
        "\n",
        "# vector의 세 번째 원소를 선택합니다.\n",
        "print(vector[2])\n",
        "print()\n",
        "\n",
        "# matrix의 두 번째 행, 두 번째 열의 원소를 선택합니다.\n",
        "print(matrix[1,1])\n",
        "print()\n",
        "\n",
        "# 벡터에 있는 모든 원소를 선택합니다.\n",
        "print(vector[:])\n",
        "print()\n",
        "\n",
        "# 세 번째 원소를 포함하여 그 이전의 모든 원소를 선택합니다.\n",
        "print(vector[:3])\n",
        "print()\n",
        "\n",
        "# 세 번째 이후의 모든 원소를 선택합니다.\n",
        "print(vector[3:])\n",
        "print()\n",
        "\n",
        "# 마지막 원소를 선택합니다.\n",
        "print(vector[-1])\n",
        "print()\n",
        "\n",
        "# 행렬에서 첫 번째 두 개의 행과 모든 열을 선택합니다.\n",
        "print(matrix[:2,:])\n",
        "print()\n",
        "\n",
        "# 모든 행과 두 번째 열을 선택합니다.\n",
        "print(matrix[:,1:2])"
      ],
      "execution_count": null,
      "outputs": [
        {
          "name": "stdout",
          "output_type": "stream",
          "text": [
            "3\n",
            "\n",
            "5\n",
            "\n",
            "[1 2 3 4 5 6]\n",
            "\n",
            "[1 2 3]\n",
            "\n",
            "[4 5 6]\n",
            "\n",
            "6\n",
            "\n",
            "[[1 2 3]\n",
            " [4 5 6]]\n",
            "\n",
            "[[2]\n",
            " [5]\n",
            " [8]]\n"
          ]
        }
      ]
    },
    {
      "cell_type": "markdown",
      "metadata": {
        "id": "XkbMRkDALHZl"
      },
      "source": [
        "## 슬라이싱 – 인덱스를 이용해서 데이터 가져오기\n",
        "인덱스를 이용해서 가져온 결과는 copy가 되지 않고 링크만 전달\n",
        "복제를 하고자 하는 경우는 .copy()를 호출\n"
      ]
    },
    {
      "cell_type": "code",
      "metadata": {
        "id": "tva6PpQ2BOV1",
        "outputId": "8ca4d52c-2756-4c5e-87b2-215b6e768f38"
      },
      "source": [
        "import numpy\n",
        "ar = numpy.array([1,2,3,4,5])\n",
        "#복제된 데이터가 아니고 현재 데이터의 포인터만 가져옴\n",
        "br = ar[0:3]\n",
        "\n",
        "#복제된 데이터\n",
        "cr = ar[0:3].copy()\n",
        "\n",
        "#원본 데이터 변경\n",
        "ar[0]=10\n",
        "print(ar)\n",
        "print()\n",
        "\n",
        "#복제된 데이터가 아니므로 원본 데이터의 변경이 반영됨\n",
        "print(br)\n",
        "print()\n",
        "\n",
        "#복제된 데이터 이므로 반영되지 않음\n",
        "print(cr)"
      ],
      "execution_count": null,
      "outputs": [
        {
          "name": "stdout",
          "output_type": "stream",
          "text": [
            "[10  2  3  4  5]\n",
            "\n",
            "[10  2  3]\n",
            "\n",
            "[1 2 3]\n"
          ]
        }
      ]
    },
    {
      "cell_type": "markdown",
      "metadata": {
        "id": "65Fl6CEuLcuc"
      },
      "source": [
        "## Fancy Indexing\n",
        "인덱스에 리스트를 사용해서 배열로부터 Indexing 하는 것\n",
        "Fancy Indexing은 copy를 생성\n",
        "특정 순서로 다차원 배열의 행(row)과 열(column)을 Fancy Indexing\n",
        "특정 순서로 행(row)을 fancy indexing 한 후에 전체 행을 ＇:＇로 선택하고 특정 칼럼을 순서대로 배열을 사용해서 indexing을 한번 더 수행\n",
        "numpy.ix_ 함수를 사용해서 첫번째 매개변수인 배열1로 특정 행(row)을 지정하고 두번째 매개변수인 배열2로 특정 열(column)을 지정\n"
      ]
    },
    {
      "cell_type": "code",
      "metadata": {
        "colab": {
          "base_uri": "https://localhost:8080/"
        },
        "id": "0lMTUiFtBOV2",
        "outputId": "1907f8cf-aa5e-4d13-e9ac-7cb4107e0b4f"
      },
      "source": [
        "import numpy\n",
        "\n",
        "ar = numpy.empty((10, 5)) #gabage 값을 갖는 10행 5열의 배열을 생성\n",
        "for i in range(10):\n",
        "    ar[i] = i   #각 행의 모든 데이터를 i 값으로 채움\n",
        "print(ar)\n",
        "print()\n",
        "\n",
        "br = ar[[1,3,5,7]] #1,3,5,7 행만 선택\n",
        "print(br)\n",
        "print()\n",
        "\n",
        "cr = ar[[0,1], [3,4]] #[0,3],[1,4] 만 선택\n",
        "print(cr)\n",
        "print()\n",
        "\n",
        "dr = ar[[0,1]][:,[3,4]] #0번 행의 3번째와 4번째 1번 행의 3번째와 4번째 데이터 선택\n",
        "print(dr)\n",
        "print()\n",
        "\n",
        "#fancy 색인은 copy 이므로  ar의 내용이 변경되더라도 dr은 변경이 없음\n",
        "ar[0,3] = 100\n",
        "print(dr)"
      ],
      "execution_count": 8,
      "outputs": [
        {
          "output_type": "stream",
          "name": "stdout",
          "text": [
            "[[0. 0. 0. 0. 0.]\n",
            " [1. 1. 1. 1. 1.]\n",
            " [2. 2. 2. 2. 2.]\n",
            " [3. 3. 3. 3. 3.]\n",
            " [4. 4. 4. 4. 4.]\n",
            " [5. 5. 5. 5. 5.]\n",
            " [6. 6. 6. 6. 6.]\n",
            " [7. 7. 7. 7. 7.]\n",
            " [8. 8. 8. 8. 8.]\n",
            " [9. 9. 9. 9. 9.]]\n",
            "\n",
            "[[1. 1. 1. 1. 1.]\n",
            " [3. 3. 3. 3. 3.]\n",
            " [5. 5. 5. 5. 5.]\n",
            " [7. 7. 7. 7. 7.]]\n",
            "\n",
            "[0. 1.]\n",
            "\n",
            "[[0. 0.]\n",
            " [1. 1.]]\n",
            "\n",
            "[[0. 0.]\n",
            " [1. 1.]]\n"
          ]
        }
      ]
    },
    {
      "cell_type": "code",
      "metadata": {
        "colab": {
          "base_uri": "https://localhost:8080/"
        },
        "id": "mPfBJnuDpi2m",
        "outputId": "ae5e0d79-8cc4-447c-8a3d-93a00e1a077b"
      },
      "source": [
        "ar = numpy.empty((10, 5)) #gabage 값을 갖는 10행 5열의 배열을 생성\n",
        "for i in range(10):\n",
        "    ar[i] = i   #각 행의 모든 데이터를 i 값으로 채움\n",
        "#일차원 배열로 리턴\n",
        "print(ar[0])\n",
        "print()\n",
        "\n",
        "print(ar[0, :])\n",
        "print()\n",
        "\n",
        "#이차원 배열로 리턴\n",
        "print(ar[[0]])"
      ],
      "execution_count": 7,
      "outputs": [
        {
          "output_type": "stream",
          "name": "stdout",
          "text": [
            "[0. 0. 0. 0. 0.]\n",
            "\n",
            "[0. 0. 0. 0. 0.]\n",
            "\n",
            "[[0. 0. 0. 0. 0.]]\n"
          ]
        }
      ]
    },
    {
      "cell_type": "markdown",
      "metadata": {
        "id": "AWubahQuMB6t"
      },
      "source": [
        "## 불리언 색인\n",
        "배열에 조건 연산자를 사용하면 결과가 bool의 배열로 리턴\n",
        "인덱스에 bool 배열을 적용하면 결과가 True인 데이터만 리턴\n"
      ]
    },
    {
      "cell_type": "code",
      "metadata": {
        "colab": {
          "base_uri": "https://localhost:8080/"
        },
        "id": "uUlQu3uyL9jG",
        "outputId": "d4fb3da3-2be2-4e76-c805-c57128f979bc"
      },
      "source": [
        "import numpy\n",
        "ar = numpy.arange(20).reshape(5, 4)\n",
        "br = numpy.array(['A', \"B\", 'C', 'A', 'C'])\n",
        "print(br == 'A') #데이터가 A인 경우는 True 그렇지 않으면 False\n",
        "print()\n",
        "print(ar[br == 'A']) #True 인 행만 반환\n",
        "print()\n",
        "print(ar[br == 'A', 2]) #열을 2번째만 반환\n",
        "print()\n",
        "print(ar[br == 'A', 0:2]) #열을 0부터 2앞까지 반환\n",
        "print()\n",
        "#데이터 변환\n",
        "ar[br == 'A'] = 100\n",
        "print(ar)\n",
        "print()\n",
        "print( (br == 'A') | (br == 'B') )"
      ],
      "execution_count": 4,
      "outputs": [
        {
          "output_type": "stream",
          "name": "stdout",
          "text": [
            "[ True False False  True False]\n",
            "\n",
            "[[ 0  1  2  3]\n",
            " [12 13 14 15]]\n",
            "\n",
            "[ 2 14]\n",
            "\n",
            "[[ 0  1]\n",
            " [12 13]]\n",
            "\n",
            "[[100 100 100 100]\n",
            " [  4   5   6   7]\n",
            " [  8   9  10  11]\n",
            " [100 100 100 100]\n",
            " [ 16  17  18  19]]\n",
            "\n",
            "[ True  True False  True False]\n"
          ]
        }
      ]
    },
    {
      "cell_type": "code",
      "metadata": {
        "id": "Yr1fVDhYBOV2",
        "outputId": "7c01be97-18da-4849-ef37-1ad4420f27a0"
      },
      "source": [
        ""
      ],
      "execution_count": null,
      "outputs": [
        {
          "data": {
            "text/plain": [
              "array([[101, 102, 103],\n",
              "       [104, 105, 106],\n",
              "       [107, 108, 109]])"
            ]
          },
          "execution_count": 17,
          "metadata": {},
          "output_type": "execute_result"
        }
      ]
    },
    {
      "cell_type": "markdown",
      "metadata": {
        "id": "XWT4s6aCBOV3"
      },
      "source": [
        "<font size='3'>ndarray의 연산</font>\n",
        "- 배열과 Scala 데이터의 연산은 배열의 모든 요소에 Scala 데이터를 연산해서 결과를 리턴\n",
        "- 차원이 동일하고 차원의 크기가 같은 배열끼리의 연산은 동일한 위치의 데이터끼리 연산을 수행해서 결과를 리턴하는데 차원의 크기가 다르면 연산을 하지 못하고 에러\n",
        "- 차원이 다르면 브로드 캐스팅 연산을 수행 – 작은 차원의 데이터를 큰 차원의 모든 데이터와 연산 수행(배열에 차원을 추가하거나 반복해서 수행)"
      ]
    },
    {
      "cell_type": "code",
      "metadata": {
        "colab": {
          "base_uri": "https://localhost:8080/",
          "height": 317
        },
        "id": "JCvNs9IgBOV3",
        "outputId": "67bdeb01-3f64-447b-d991-a73801d1aaf6"
      },
      "source": [
        "import numpy\n",
        "ar = numpy.array([1,2,3])\n",
        "br = numpy.array([4,5,6])\n",
        "cr = numpy.array([[6,7,8], [10,20,30]])\n",
        "result = ar * 2 #배열의 모든 요소에 2를 곱한 결과\n",
        "print(result)\n",
        "print()\n",
        "\n",
        "result = ar + br; #배열 간의 덧셈: 동일한 위치간의 덧셈을 한 결과\n",
        "print(result)\n",
        "print()\n",
        "\n",
        "result = ar + cr #작은 차원인 ar 의 모든 데이터를 cr에 덧셈\n",
        "print(result)\n",
        "print()\n",
        "\n",
        "dr = numpy.array([1,2])\n",
        "result = ar + dr #차원은 1차원으로 같은데 데이터 개수가 달라서 에러"
      ],
      "execution_count": 11,
      "outputs": [
        {
          "output_type": "stream",
          "name": "stdout",
          "text": [
            "[2 4 6]\n",
            "\n",
            "[5 7 9]\n",
            "\n",
            "[[ 7  9 11]\n",
            " [11 22 33]]\n",
            "\n"
          ]
        },
        {
          "output_type": "error",
          "ename": "ValueError",
          "evalue": "ignored",
          "traceback": [
            "\u001b[0;31m---------------------------------------------------------------------------\u001b[0m",
            "\u001b[0;31mValueError\u001b[0m                                Traceback (most recent call last)",
            "\u001b[0;32m<ipython-input-11-b888c2768fc3>\u001b[0m in \u001b[0;36m<module>\u001b[0;34m()\u001b[0m\n\u001b[1;32m     16\u001b[0m \u001b[0;34m\u001b[0m\u001b[0m\n\u001b[1;32m     17\u001b[0m \u001b[0mdr\u001b[0m \u001b[0;34m=\u001b[0m \u001b[0mnumpy\u001b[0m\u001b[0;34m.\u001b[0m\u001b[0marray\u001b[0m\u001b[0;34m(\u001b[0m\u001b[0;34m[\u001b[0m\u001b[0;36m1\u001b[0m\u001b[0;34m,\u001b[0m\u001b[0;36m2\u001b[0m\u001b[0;34m]\u001b[0m\u001b[0;34m)\u001b[0m\u001b[0;34m\u001b[0m\u001b[0;34m\u001b[0m\u001b[0m\n\u001b[0;32m---> 18\u001b[0;31m \u001b[0mresult\u001b[0m \u001b[0;34m=\u001b[0m \u001b[0mar\u001b[0m \u001b[0;34m+\u001b[0m \u001b[0mdr\u001b[0m \u001b[0;31m#차원은 1차원으로 같은데 데이터 개수가 달라서 에러\u001b[0m\u001b[0;34m\u001b[0m\u001b[0;34m\u001b[0m\u001b[0m\n\u001b[0m",
            "\u001b[0;31mValueError\u001b[0m: operands could not be broadcast together with shapes (3,) (2,) "
          ]
        }
      ]
    },
    {
      "cell_type": "markdown",
      "metadata": {
        "id": "SaZttpy8qSpF"
      },
      "source": [
        "## 배열의 모든 요소에 동일한 함수 적용\n",
        "함수를 numpy의 vectorize 함수에 대입해서 벡터화 된 함수를 리턴받은 후 리턴 받은 함수에게 ndarray를 대입하면 모든 요소에게 동일한 함수를 적용한 후 결과를 리턴\n",
        "\n"
      ]
    },
    {
      "cell_type": "code",
      "metadata": {
        "colab": {
          "base_uri": "https://localhost:8080/"
        },
        "id": "u7l5RHvPpd1w",
        "outputId": "f1ea49f4-30a5-4de0-f898-c443baf033b7"
      },
      "source": [
        "#벡터화된 연산\n",
        "import numpy \n",
        "\n",
        "# 행렬을 만듭니다.\n",
        "matrix = numpy.array([[1, 2, 3],\n",
        "                   [4, 5, 6],\n",
        "                   [7, 8, 9]])\n",
        "\n",
        "# 100을 더하는 함수를 생성\n",
        "add_100 = lambda i: i + 100\n",
        "\n",
        "# 벡터화된 함수를 만듭니다.\n",
        "vectorized_add_100 = numpy.vectorize(add_100)\n",
        "\n",
        "# 행렬의 모든 원소에 함수를 적용합니다.\n",
        "vectorized_add_100(matrix)"
      ],
      "execution_count": 8,
      "outputs": [
        {
          "output_type": "execute_result",
          "data": {
            "text/plain": [
              "array([[101, 102, 103],\n",
              "       [104, 105, 106],\n",
              "       [107, 108, 109]])"
            ]
          },
          "metadata": {},
          "execution_count": 8
        }
      ]
    },
    {
      "cell_type": "markdown",
      "metadata": {
        "id": "pQ1vf5t-rMlm"
      },
      "source": [
        "## ndarray의 연산\n",
        "동일한 크기를 갖는 배열 간의 비교 연산(>, >=, <, <=, ==, !=)은 동일한 위치의 데이터를 비교해서 True 또는 False로 리턴해서 배열로 결과를 리턴 – numpy의 equal, not_equal, greater, greater_equal, less, less_equal 함수를 이용해도 가능\n",
        "동일한 크기를 갖는 배열 간의 할당 연산: Add AND (m += n), Subtract AND (m -= n), Multiply AND (m *= n), Divide AND (m /= n), Floor Division (m //= n), Modulus AND (m %= n), Exponent AND (m **= n)\n",
        "배열 간의 논리 연산\n",
        "0이나 None 인 데이터는 Fasle 나머지는 True로 간주\n",
        "\n",
        "numpy.logical_and(a, b) : 두 배열의 원소가 모두 True이면 True이고 그렇지 않으면 False\n",
        "numpy.logical_or(a, b) :  두 배열의 원소가 모두 False 이면 False 그렇지 않으면 True\n",
        "numpy.logical_xor(a, b) : 두 배열의 원소가 같으면 False 그렇지 않으면 True 반환\n",
        "소속 여부 판단 연산 : in, not in – 배열(혹은 리스트)에 특정 객체가 들어있으면 True를 반환, 존재하지 않으면 False를 반환\n"
      ]
    },
    {
      "cell_type": "code",
      "metadata": {
        "colab": {
          "base_uri": "https://localhost:8080/"
        },
        "id": "ULVTzMjgBOV3",
        "outputId": "d668e71c-ee82-49f6-f25d-603d11c17be5"
      },
      "source": [
        "import numpy\n",
        "ar = numpy.array([1,2,3])\n",
        "br = numpy.array([4,2,6])\n",
        "\n",
        "#각 요소가 같은지 비교\n",
        "print(numpy.equal(ar, br))\n",
        "print(ar == br)\n",
        "print()\n",
        "\n",
        "#각 요소가 다른지 비교\n",
        "print(numpy.not_equal(ar, br))\n",
        "print(ar != br)\n",
        "print()\n",
        "\n",
        "#ar의 요소가 큰지 확인\n",
        "print(numpy.greater(ar, br))\n",
        "print(numpy.greater_equal(ar, br))\n",
        "print()\n",
        "\n",
        "#ar의 요소가 작은지 확인\n",
        "print(numpy.less(ar, br))\n",
        "print(numpy.less_equal(ar, br))"
      ],
      "execution_count": 10,
      "outputs": [
        {
          "output_type": "stream",
          "name": "stdout",
          "text": [
            "[False  True False]\n",
            "[False  True False]\n",
            "\n",
            "[ True False  True]\n",
            "[ True False  True]\n",
            "\n",
            "[False False False]\n",
            "[False  True False]\n",
            "\n",
            "[ True False  True]\n",
            "[ True  True  True]\n"
          ]
        }
      ]
    },
    {
      "cell_type": "code",
      "metadata": {
        "id": "uZSopYv2BOV3",
        "outputId": "85e4f5d6-2946-437f-af8b-2f4cea77b0d2"
      },
      "source": [
        "import numpy\n",
        "ar = numpy.array([1,0,3])\n",
        "br = numpy.array([4,2,3])\n",
        "\n",
        "#논리 연산\n",
        "print(numpy.logical_and(ar, br))\n",
        "print(numpy.logical_or(ar, br))\n",
        "print(numpy.logical_xor(ar, br))\n",
        "print()\n",
        "\n",
        "#데이터의 소속 여부 확인\n",
        "print(1 in ar)\n",
        "print(2 in ar)"
      ],
      "execution_count": null,
      "outputs": [
        {
          "name": "stdout",
          "output_type": "stream",
          "text": [
            "[ True False  True]\n",
            "[ True  True  True]\n",
            "[False  True False]\n",
            "\n",
            "True\n",
            "False\n"
          ]
        }
      ]
    },
    {
      "cell_type": "markdown",
      "metadata": {
        "id": "jUAljTmksAOw"
      },
      "source": [
        "## 배열의 전치 와 축 변경\n",
        "배열의 전치는 T라는 이름의 특수한 속성이 있음\n",
        "transpose 라는 함수를 이용해서 전치할 수 있음"
      ]
    },
    {
      "cell_type": "code",
      "metadata": {
        "colab": {
          "base_uri": "https://localhost:8080/"
        },
        "id": "LI7TARTZsAgw",
        "outputId": "e28bf05f-9365-41d6-c499-35d032833adb"
      },
      "source": [
        "ar = numpy.arange(15).reshape((3, 5))\n",
        "print(ar)\n",
        "print()\n",
        "\n",
        "print(ar.T)\n",
        "print()\n",
        "\n",
        "print(ar.transpose(1,0))"
      ],
      "execution_count": 15,
      "outputs": [
        {
          "output_type": "stream",
          "name": "stdout",
          "text": [
            "[[ 0  1  2  3  4]\n",
            " [ 5  6  7  8  9]\n",
            " [10 11 12 13 14]]\n",
            "\n",
            "[[ 0  5 10]\n",
            " [ 1  6 11]\n",
            " [ 2  7 12]\n",
            " [ 3  8 13]\n",
            " [ 4  9 14]]\n",
            "\n",
            "[[ 0  5 10]\n",
            " [ 1  6 11]\n",
            " [ 2  7 12]\n",
            " [ 3  8 13]\n",
            " [ 4  9 14]]\n"
          ]
        }
      ]
    },
    {
      "cell_type": "markdown",
      "metadata": {
        "id": "nXTVhNfyBOV4"
      },
      "source": [
        "<font size='3'>난수 – numpy.random</font>\n",
        "- numpy는 효율적으로 무작위 샘플을 만들 수 있는 numpy.random 모듈을 제공\n",
        "- numpy.random.seed(seed=시드번호): 시드번호를 가지고 난수를 생성\n",
        "- permutation(): 정수를 입력하면 0부터 입력된 정수 이전 까지의 배열을 생성해서 숫자를 랜덤하게 배치해서 리턴하고 배열을 대입하면 배열의 데이터를 임의로 배치한 배열을 리턴\n",
        "- shuffle(): permutation과 거의 유사한 기능\n",
        "- rand() 함수는 균등 분포에서 표본 추출\n",
        "- randint(): 주어진 최소/최대 범위 안에서 난수를 추출하며 size를 이용해서 개수 지정 가능\n",
        "- normal(size=개수 또는 shape): 정규 분포에서 size를 생략하면 1개의 데이터만 리턴하고 개수를 입력하면 그 개수에 해당하는 데이터를 배열로 리턴하고 shape 형태를 입력하면 shape에 맞게 생성\n",
        "- binomial(n, p, size): 이항분포로부터의 무작위 추출 함수로 n은 0부터 나올 수 있는 숫자의 범위로 정수 p는 확률이고 size는 개수"
      ]
    },
    {
      "cell_type": "code",
      "metadata": {
        "colab": {
          "base_uri": "https://localhost:8080/"
        },
        "id": "9taObvWQBOV4",
        "outputId": "530f8d4b-3883-48f5-9f69-859216bb1e6e"
      },
      "source": [
        "import numpy\n",
        "print(numpy.random.normal(size=5)) #5개의 난수 생성 - 랜덤\n",
        "print()\n",
        "print(numpy.random.normal(size=(2, 3))) #2행 3열의 난수 생성\n",
        "print()\n",
        "numpy.random.seed(seed=42) #시드 설정\n",
        "print(numpy.random.normal(size=5)) #5개의 난수 생성 - 실행할 때마다 동일한 값"
      ],
      "execution_count": 17,
      "outputs": [
        {
          "output_type": "stream",
          "name": "stdout",
          "text": [
            "[ 0.51421884  0.22117967 -1.07004333 -0.18949583  0.25500144]\n",
            "\n",
            "[[-0.45802699  0.43516349 -0.58359505]\n",
            " [ 0.81684707  0.67272081 -0.10441114]]\n",
            "\n",
            "[ 0.49671415 -0.1382643   0.64768854  1.52302986 -0.23415337]\n"
          ]
        }
      ]
    },
    {
      "cell_type": "markdown",
      "metadata": {
        "id": "3ttc7LsZBOV4"
      },
      "source": [
        "<font size='3'>기본 통계 함수</font>\n",
        "- sum: 배열에 있는 모든 원소의 합을 계산해서 리턴\n",
        "- mean, median, std, var: 평균값, 중간값, 표준편차, 분산\n",
        "- percentile은 배열과 백분위 값을 받아서 백분위에 해당하는 데이터를 리턴\n",
        "- 2차원 이상의 배열에서 axis 옵션을 이용하면 행이나 열 단위로 계산이 가능"
      ]
    },
    {
      "cell_type": "code",
      "metadata": {
        "colab": {
          "base_uri": "https://localhost:8080/"
        },
        "id": "_Rt3Cp8XBOV4",
        "outputId": "573d1f2b-cfd0-45f0-d54f-975ef2616585"
      },
      "source": [
        "import numpy\n",
        "ar = numpy.array([1, 2, 4, 5, 5, 7, 9, 10, 13, 18, 21])\n",
        "print('배열의 합계:', numpy.sum(ar))\n",
        "print('배열의 평균:', numpy.mean(ar))\n",
        "print('배열의 중간값:', numpy.median(ar))\n",
        "print('배열의 표준편차:', numpy.std(ar))\n",
        "print('배열의 분산:', numpy.var(ar))\n",
        "print('배열에서 3/4에 해당하는 값:', numpy.percentile(ar, 75))"
      ],
      "execution_count": 18,
      "outputs": [
        {
          "output_type": "stream",
          "name": "stdout",
          "text": [
            "배열의 합계: 95\n",
            "배열의 평균: 8.636363636363637\n",
            "배열의 중간값: 7.0\n",
            "배열의 표준편차: 6.138888369503321\n",
            "배열의 분산: 37.68595041322314\n",
            "배열에서 3/4에 해당하는 값: 11.5\n"
          ]
        }
      ]
    },
    {
      "cell_type": "code",
      "metadata": {
        "colab": {
          "base_uri": "https://localhost:8080/"
        },
        "id": "S0haVMqjBOV4",
        "outputId": "d8149d5c-b11d-4f47-8ece-91ce00f07121"
      },
      "source": [
        "import numpy\n",
        "#print(help(numpy.sum))\n",
        "\n",
        "ar = numpy.array([[1, 2, 4, 5, 5], [7, 9, 10, 13, 18]])\n",
        "#배열 전체의 합계\n",
        "print(numpy.sum(ar))\n",
        "print('===============')\n",
        "#열 단위의 합계\n",
        "print(numpy.sum(ar, axis=0))\n",
        "print('===============')\n",
        "#행 단위의 합계\n",
        "print(numpy.sum(ar, axis=1))"
      ],
      "execution_count": 19,
      "outputs": [
        {
          "output_type": "stream",
          "name": "stdout",
          "text": [
            "74\n",
            "===============\n",
            "[ 8 11 14 18 23]\n",
            "===============\n",
            "[17 57]\n"
          ]
        }
      ]
    },
    {
      "cell_type": "code",
      "metadata": {
        "colab": {
          "base_uri": "https://localhost:8080/"
        },
        "id": "WjSiAzCtBOV5",
        "outputId": "6b2205db-a9dd-44e6-e92e-b437480f0000"
      },
      "source": [
        "import numpy\n",
        "\n",
        "# 행렬을 만듭니다.\n",
        "matrix = numpy.array([[1, 2, 3],\n",
        "                   [4, 5, 6],\n",
        "                   [7, 8, 9]])\n",
        "\n",
        "# 각 행에서 최댓값\n",
        "print(numpy.max(matrix, axis=1))\n",
        "print()\n",
        "\n",
        "#결과가 동일한 차원의 배열\n",
        "print(numpy.max(matrix, axis=1, keepdims=True))"
      ],
      "execution_count": 20,
      "outputs": [
        {
          "output_type": "stream",
          "name": "stdout",
          "text": [
            "[3 6 9]\n",
            "\n",
            "[[3]\n",
            " [6]\n",
            " [9]]\n"
          ]
        }
      ]
    },
    {
      "cell_type": "code",
      "metadata": {
        "colab": {
          "base_uri": "https://localhost:8080/"
        },
        "id": "NKMEnrQR0Myz",
        "outputId": "fbe5a9c6-5a09-4451-9521-e20a2cd20b70"
      },
      "source": [
        "ar = numpy.random.randn(100)\n",
        "print(ar)\n",
        "print()\n",
        "print((ar > 0).sum())"
      ],
      "execution_count": 29,
      "outputs": [
        {
          "output_type": "stream",
          "name": "stdout",
          "text": [
            "[ 0.40405086  1.8861859   0.17457781  0.25755039 -0.07444592 -1.91877122\n",
            " -0.02651388  0.06023021  2.46324211 -0.19236096  0.30154734 -0.03471177\n",
            " -1.16867804  1.14282281  0.75193303  0.79103195 -0.90938745  1.40279431\n",
            " -1.40185106  0.58685709  2.19045563 -0.99053633 -0.56629773  0.09965137\n",
            " -0.50347565 -1.55066343  0.06856297 -1.06230371  0.47359243 -0.91942423\n",
            "  1.54993441 -0.78325329 -0.32206152  0.81351722 -1.23086432  0.22745993\n",
            "  1.30714275 -1.60748323  0.18463386  0.25988279  0.78182287 -1.23695071\n",
            " -1.32045661  0.52194157  0.29698467  0.25049285  0.34644821 -0.68002472\n",
            "  0.2322537   0.29307247 -0.71435142  1.86577451  0.47383292 -1.1913035\n",
            "  0.65655361 -0.97468167  0.7870846   1.15859558 -0.82068232  0.96337613\n",
            "  0.41278093  0.82206016  1.89679298 -0.24538812 -0.75373616 -0.88951443\n",
            " -0.81581028 -0.07710171  0.34115197  0.2766908   0.82718325  0.01300189\n",
            "  1.45353408 -0.26465683  2.72016917  0.62566735 -0.85715756 -1.0708925\n",
            "  0.48247242 -0.22346279  0.71400049  0.47323762 -0.07282891 -0.84679372\n",
            " -1.51484722 -0.44651495  0.85639879  0.21409374 -1.24573878  0.17318093\n",
            "  0.38531738 -0.88385744  0.15372511  0.05820872 -1.1429703   0.35778736\n",
            "  0.56078453  1.08305124  1.05380205 -1.37766937]\n",
            "\n",
            "58\n"
          ]
        }
      ]
    },
    {
      "cell_type": "markdown",
      "metadata": {
        "id": "DbFFViEJBOV5"
      },
      "source": [
        "<font size='3'>배열 통계</font>\n",
        "- argmin, argmax: 최소값과 최대값의 인덱스\n",
        "- prod(): 2차원 배열의 경우 axis=0 이면 같은 열(column)의 방향으로 배열 원소를 곱하며 axis=1 이면 같은 행(row)의 방향으로 원소 간 곱\n",
        "- nanprod(): NaN (Not a Numbers) 을 ＇1＇(one)로 간주하고 배열 원소 간 곱\n",
        "- nansum(): NaN (Not a Numbers)을 '0'(zero)으로 간주하고 배열 원소 간 더하기\n",
        "- cumprod(): axis=0 이면 같은 행(column)의 위에서 아래 방향으로 배열 원소들을 누적(cumulative)으로 곱해 나가며, axis=1 이면 같은 열(row)에 있는 배열 원소 간에 왼쪽에서 오른쪽 방향으로 누적으로 곱\n",
        "- cumsum(): axis=0 이면 같은 행(column)의 위에서 아래 방향으로 배열 원소들을 누적(cumulative)으로 합해 나가며, axis=1 이면 같은 열(row)에 있는 배열 원소 간에 왼쪽에서 오른쪽 방향으로 누적으로 합\n",
        "- diff(): 배열 원소 간 n차 차분 구하기 – n 값은 기본값이 1로 설정되어 있어서 한 번 차분을 해서 리턴하고 2를 대입하면 차분의 차분을 리턴\n",
        "- 함수 들의 결과가 하나의 데이터로 리턴되는 경우 keepdims 옵션에  True를 설정하면 array로 리턴"
      ]
    },
    {
      "cell_type": "code",
      "metadata": {
        "colab": {
          "base_uri": "https://localhost:8080/"
        },
        "id": "a9kiZ0JlBOV5",
        "outputId": "40aefa8c-231a-404d-afc8-96bada639f94"
      },
      "source": [
        "import numpy\n",
        "b = numpy.array([1, 2, 3, 4])\n",
        "c = numpy.array([[1, 2], [3, 4]])\n",
        "print(numpy.prod(b)) # 1*2*3*4\n",
        "print(numpy.prod(c, axis=0))  # [1*3, 2*4]\n",
        "print(numpy.prod(c, axis=1))  # [1*2, 3*4]\n",
        "print(numpy.sum(b)) # [1+2+3+4]\n",
        "print(numpy.sum(b, keepdims=True))\n",
        "print(numpy.sum(c, axis=0))  # [1+3, 2+4]\n",
        "print(numpy.sum(c, axis=1) ) # [1+2, 3+4]"
      ],
      "execution_count": 21,
      "outputs": [
        {
          "output_type": "stream",
          "name": "stdout",
          "text": [
            "24\n",
            "[3 8]\n",
            "[ 2 12]\n",
            "10\n",
            "[10]\n",
            "[4 6]\n",
            "[3 7]\n"
          ]
        }
      ]
    },
    {
      "cell_type": "code",
      "metadata": {
        "colab": {
          "base_uri": "https://localhost:8080/"
        },
        "id": "9xy-N-ADBOV5",
        "outputId": "01348f02-8290-48e6-b044-b6b28aa055b0"
      },
      "source": [
        "import numpy\n",
        "b = numpy.array([1, 2, 3, 4])\n",
        "c = numpy.array([[1, 2], [3, 4]])\n",
        "print(numpy.cumprod(b))# [1, 1*2, 1*2*3, 1*2*3*4]\n",
        "print(numpy.cumprod(c, axis=0))  # [[1, 2], [1*3, 2*4]]\n",
        "print(numpy.cumprod(c, axis=1))  # [[1, 1*2], [3, 3*4]]\n",
        "print(numpy.cumsum(b))# [1, 1+2, 1+2+3, 1+2+3+4]\n",
        "print(numpy.cumsum(c, axis=0))  # [[1, 2], [1+3, 2+4]]\n",
        "print(numpy.cumsum(c, axis=1))  # [[1, 1+2], [3, 3+4]]"
      ],
      "execution_count": 22,
      "outputs": [
        {
          "output_type": "stream",
          "name": "stdout",
          "text": [
            "[ 1  2  6 24]\n",
            "[[1 2]\n",
            " [3 8]]\n",
            "[[ 1  2]\n",
            " [ 3 12]]\n",
            "[ 1  3  6 10]\n",
            "[[1 2]\n",
            " [4 6]]\n",
            "[[1 3]\n",
            " [3 7]]\n"
          ]
        }
      ]
    },
    {
      "cell_type": "code",
      "metadata": {
        "colab": {
          "base_uri": "https://localhost:8080/"
        },
        "id": "RzZNQU5OBOV5",
        "outputId": "ba90ade7-7520-48b3-d3aa-457cddbefb81"
      },
      "source": [
        "import numpy\n",
        "g = numpy.array([1, 2, 4, 10, 13, 20])\n",
        "print(numpy.diff(g))  # [2-1, 4-2, 10-4, 13-10, 20-13]\n",
        "print(numpy.diff(g, n=2))  # [2-1, 6-2, 3-6, 7-3]"
      ],
      "execution_count": 23,
      "outputs": [
        {
          "output_type": "stream",
          "name": "stdout",
          "text": [
            "[1 2 6 3 7]\n",
            "[ 1  4 -3  4]\n"
          ]
        }
      ]
    },
    {
      "cell_type": "markdown",
      "metadata": {
        "id": "4V9nT1PCBOV6"
      },
      "source": [
        "<font size='3'>소수 관련 함수</font>\n",
        "- numpy.around(a) : 0.5를 기준으로 올림 혹은 내림\n",
        "- numpy.round_(a, N) : N 소수점 자릿수까지 반올림\n",
        "- numpy.rint(a) : 가장 가까운 정수로 올림 혹은 내림\n",
        "- numpy.fix(a) : '0' 방향으로 가장 가까운 정수로 올림 혹은 내림\n",
        "- numpy.ceil(a) : 각 원소 값보다 크거나 같은 가장 작은 정수 값 (천장 값)으로 올림\n",
        "- numpy.floor(a) : 각 원소 값보다 작거나 같은 가장 큰 정수 값 (바닥 값)으로 내림\n",
        "- numpy.trunc(a) : 각 원소의 소수점 부분은 잘라버리고 정수 값만 남김"
      ]
    },
    {
      "cell_type": "code",
      "metadata": {
        "colab": {
          "base_uri": "https://localhost:8080/"
        },
        "id": "BDqrBAaTBOV6",
        "outputId": "9fff8013-8603-4c5d-b272-ab86e440d799"
      },
      "source": [
        "import numpy\n",
        "ar = numpy.array([-4.62, -2.19, 0, 1.57, 3.40, 4.06])\n",
        "print(numpy.around(ar))\n",
        "print(numpy.round_(ar, 1))\n",
        "print(numpy.rint(ar))\n",
        "print(numpy.fix(ar))\n",
        "print(numpy.ceil(ar))\n",
        "print(numpy.floor(ar))\n",
        "print(numpy.trunc(ar))"
      ],
      "execution_count": 24,
      "outputs": [
        {
          "output_type": "stream",
          "name": "stdout",
          "text": [
            "[-5. -2.  0.  2.  3.  4.]\n",
            "[-4.6 -2.2  0.   1.6  3.4  4.1]\n",
            "[-5. -2.  0.  2.  3.  4.]\n",
            "[-4. -2.  0.  1.  3.  4.]\n",
            "[-4. -2.  0.  2.  4.  5.]\n",
            "[-5. -3.  0.  1.  3.  4.]\n",
            "[-4. -2.  0.  1.  3.  4.]\n"
          ]
        }
      ]
    },
    {
      "cell_type": "markdown",
      "metadata": {
        "id": "un_QLth9BOV6"
      },
      "source": [
        "<font size='3'>None은 numpy.nan</font>\n",
        "\n",
        "<font size='3'>숫자 처리 함수</font>\n",
        "- numpy.abs(x), numpy.fabs(x): 배열 원소의 절대값 (absolute value)\n",
        "- numpy.sqrt(y): 배열 원소의 제곱근(Square Root)\n",
        "- numpy.square(y): 배열 원소의 제곱값 (square value) 범용 함수 \n",
        "- numpy.modf(z): 배열 원소의 정수와 소수점을 구분하여 2개의 배열 반환\n",
        "- numpy.sign(x): 열 원소의 부호 판별 함수 -> 1 (positive), 0(zero), -1(negative)\n",
        "\n",
        "<font size='3'>논리 함수</font>\n",
        "- numpy.isnan(x): NaN(Not a Number) 포함 여부 확인\n",
        "- numpy.isfinite(x): 유한수(finite number) 포함 여부 확인\n",
        "- numpy.isinf(x): 배열에 무한수(infinite number) 포함 여부 확인\n",
        "- numpy.logical_not(condition): 배열 원소가 조건을 만족하지 않는 경우 참 반환"
      ]
    },
    {
      "cell_type": "code",
      "metadata": {
        "colab": {
          "base_uri": "https://localhost:8080/"
        },
        "id": "u7DbMo3qBOV6",
        "outputId": "5167b02d-0c05-46bd-fc92-84ea10d5071d"
      },
      "source": [
        "import numpy\n",
        "ar = numpy.array([10, 1, 2, 3, 4, numpy.nan])\n",
        "print(numpy.isnan(ar)) #isnan을 이용해서 nan 데이터가 있는지 확인\n",
        "br = ar[numpy.logical_not(numpy.isnan(ar))] #nan 데이터를 제외하고 가져오기\n",
        "print(br)\n",
        "print(numpy.logical_not( br <= 2 )) #2보다 큰 데이터가 있는지 확인\n",
        "cr = br[numpy.logical_not( br <= 2 )] #2보다 큰 데이터 추출\n",
        "print(cr)"
      ],
      "execution_count": 25,
      "outputs": [
        {
          "output_type": "stream",
          "name": "stdout",
          "text": [
            "[False False False False False  True]\n",
            "[10.  1.  2.  3.  4.]\n",
            "[ True False False  True  True]\n",
            "[10.  3.  4.]\n"
          ]
        }
      ]
    },
    {
      "cell_type": "markdown",
      "metadata": {
        "id": "eRQq-dcKBOV6"
      },
      "source": [
        "<font size='3'>이항 함수: 배열 2개를 가지고 작업하는 함수</font>\n",
        "- add, subtract, multiply, divide, floor_divide(몫만 가져오기)\n",
        "- power(첫번째 배열의 데이터에 두번째 배열의 데이터만큼 제곱)\n",
        "- maximum, fmax(NaN 데이터 무시), minimum, fmin\n",
        "- mod\n",
        "- copysign(첫번째 배열의 데이터 부호를 두번째 배열의 데이터 부호로 변경)\n",
        "- greater, greater_equal, less, less_equal, equal, not_equal\n",
        "- logical_and, logical_or, logical_택\n",
        "\n",
        "<font size='3'>where(boolean 배열, True일 때 선택할 데이터, False일 때 선택할 데이터)</font>"
      ]
    },
    {
      "cell_type": "code",
      "metadata": {
        "colab": {
          "base_uri": "https://localhost:8080/"
        },
        "id": "gbv-Ee2NBOV6",
        "outputId": "8042e8af-b0b0-4e6a-fc7d-69c89026d725"
      },
      "source": [
        "import numpy\n",
        "ar = numpy.array([1, 2, 3, 4])\n",
        "br = numpy.array([5, 6, 7, 8])\n",
        "print(ar + br)\n",
        "print(numpy.add(ar, br))\n",
        "cond = [True, False, False, True]\n",
        "print(numpy.where(cond, ar, br))"
      ],
      "execution_count": 26,
      "outputs": [
        {
          "output_type": "stream",
          "name": "stdout",
          "text": [
            "[ 6  8 10 12]\n",
            "[ 6  8 10 12]\n",
            "[1 6 7 4]\n"
          ]
        }
      ]
    },
    {
      "cell_type": "markdown",
      "metadata": {
        "id": "HtwQLtqkBOV7"
      },
      "source": [
        "<font size='3'>집합 관련 함수</font>\n",
        "- unique(): 중복을 제거\n",
        "- intersect1d(): 교집합\n",
        "- union1d(): 합집합\n",
        "- in1d(): 데이터의 존재 여부를 boolean 배열로 리턴\n",
        "- setdiff1d(): 차집합\n",
        "- setxor1d(): 한쪽에만 있는 데이터의 집합 "
      ]
    },
    {
      "cell_type": "code",
      "metadata": {
        "colab": {
          "base_uri": "https://localhost:8080/"
        },
        "id": "xiI-wvNvBOV7",
        "outputId": "ffd5dc42-c1d8-4a73-fcc2-4cdee291ffca"
      },
      "source": [
        "import numpy\n",
        "ar = numpy.array([90, 40, 30, 78, 30])\n",
        "#중복 제거\n",
        "print(\"중복제거:\", numpy.unique(ar))\n",
        "br = numpy.array([30, 45, 76, 90])\n",
        "#교집합\n",
        "print('교집합:', numpy.intersect1d(ar, br))\n",
        "#합집합\n",
        "print('합집합:',numpy.union1d(ar, br))\n",
        "#소속여부\n",
        "print('소속여부:',numpy.in1d(ar, br))\n",
        "#차집합\n",
        "print('차집합',numpy.setdiff1d(ar, br))\n",
        "#한쪽에만 속한 데이터\n",
        "print(numpy.setxor1d(ar, br))"
      ],
      "execution_count": 30,
      "outputs": [
        {
          "output_type": "stream",
          "name": "stdout",
          "text": [
            "중복제거: [30 40 78 90]\n",
            "교집합: [30 90]\n",
            "합집합: [30 40 45 76 78 90]\n",
            "소속여부: [ True False  True False  True]\n",
            "차집합 [40 78]\n",
            "[40 45 76 78]\n"
          ]
        }
      ]
    },
    {
      "cell_type": "markdown",
      "metadata": {
        "id": "jMC-SHDo1Y9K"
      },
      "source": [
        "## 배열 함수\n",
        "numpy.concatenate: 여러 개의 배열을 한 개로 만들어주는 함수로 X축과 Y축 방향으로 합치는 두 가지 방법이 있으며 axis 라는 파라미터를 통해 제어함. \n",
        "- axis = 0: Y축 (세로 방향) 으로 연결\n",
        "- axis = 1: X축 (가로 방향) 으로 연결\n"
      ]
    },
    {
      "cell_type": "code",
      "metadata": {
        "colab": {
          "base_uri": "https://localhost:8080/"
        },
        "id": "h3pamEoN1ZNv",
        "outputId": "cc3876b0-7ccb-44a3-ce49-d3816ec482c1"
      },
      "source": [
        "import numpy\n",
        "ar = [1,2,3,4]\n",
        "br = [5,6,7,8]\n",
        "cr = numpy.concatenate((ar, br))\n",
        "print(cr)\n",
        "print()\n",
        "\n",
        "ar = numpy.array([[1, 2], [3, 4]])\n",
        "br = numpy.array([[5, 6], [7, 8]])\n",
        "cr = numpy.concatenate((ar, br), axis = 0)\n",
        "print(cr)\n",
        "print()\n",
        "\n",
        "cr = numpy.concatenate((ar, br), axis = 1)\n",
        "print(cr)\n"
      ],
      "execution_count": 32,
      "outputs": [
        {
          "output_type": "stream",
          "name": "stdout",
          "text": [
            "[1 2 3 4 5 6 7 8]\n",
            "\n",
            "[[1 2]\n",
            " [3 4]\n",
            " [5 6]\n",
            " [7 8]]\n",
            "\n",
            "[[1 2 5 6]\n",
            " [3 4 7 8]]\n"
          ]
        }
      ]
    },
    {
      "cell_type": "markdown",
      "metadata": {
        "id": "qvPxZCms2KTB"
      },
      "source": [
        "<font size='3'>ndarray.sort()</font>\n",
        "- 배열의 데이터를 정렬\n",
        "- numpy.sort()는 정렬한 결과를 리턴\n",
        "- axis 매개변수는 정렬할 축 번호"
      ]
    },
    {
      "cell_type": "code",
      "metadata": {
        "colab": {
          "base_uri": "https://localhost:8080/"
        },
        "id": "cB2am1Iw2Rax",
        "outputId": "e57c6a86-6a08-4aea-e56b-98e40ba08648"
      },
      "source": [
        "import numpy\n",
        "ar = numpy.array([90, 40, 30, 78])\n",
        "ar.sort()\n",
        "print(ar)\n",
        "print()\n",
        "\n",
        "br = numpy.sort(ar)\n",
        "print(br)\n",
        "print()\n",
        "\n",
        "# 내림차순\n",
        "cr = numpy.sort(ar)[::-1]\n",
        "print(cr)\n",
        "print()\n",
        "\n",
        "ar.sort(kind='mergesort')\n",
        "print(ar)\n",
        "print()\n",
        "\n",
        "ar = numpy.array([[90, 40, 50], [30, 78,27]])\n",
        "ar.sort(axis=0)\n",
        "print(ar)"
      ],
      "execution_count": 40,
      "outputs": [
        {
          "output_type": "stream",
          "name": "stdout",
          "text": [
            "[30 40 78 90]\n",
            "\n",
            "[30 40 78 90]\n",
            "\n",
            "[90 78 40 30]\n",
            "\n",
            "[30 40 78 90]\n",
            "\n",
            "[[30 40 27]\n",
            " [90 78 50]]\n"
          ]
        }
      ]
    },
    {
      "cell_type": "markdown",
      "metadata": {
        "id": "mBpF_pB-4_dd"
      },
      "source": [
        "## numpy.concatenate: 여러 개의 배열을 한 개로 만들어주는 함수로 X축과 Y축 방향으로 합치는 두 가지 방법이 있으며 axis 라는 파라미터를 통해 제어함. \n",
        "- axis = 0: Y축 (세로 방향) 으로 연결\n",
        "- axis = 1: X축 (가로 방향) 으로 연결\n"
      ]
    },
    {
      "cell_type": "code",
      "metadata": {
        "colab": {
          "base_uri": "https://localhost:8080/"
        },
        "id": "EIFp25ZQ4_6B",
        "outputId": "beff8389-d7bb-40f7-9261-dc84bf96c8dc"
      },
      "source": [
        "import numpy\n",
        "ar = [1,2,3,4]\n",
        "br = [5,6,7,8]\n",
        "cr = numpy.concatenate((ar, br))\n",
        "print(cr)\n",
        "print()\n",
        "\n",
        "ar = numpy.array([[1, 2], [3, 4]])\n",
        "br = numpy.array([[5, 6], [7, 8]])\n",
        "cr = numpy.concatenate((ar, br), axis = 0)\n",
        "print(cr)\n",
        "print()\n",
        "\n",
        "cr = numpy.concatenate((ar, br), axis = 1)\n",
        "print(cr)\n"
      ],
      "execution_count": 41,
      "outputs": [
        {
          "output_type": "stream",
          "name": "stdout",
          "text": [
            "[1 2 3 4 5 6 7 8]\n",
            "\n",
            "[[1 2]\n",
            " [3 4]\n",
            " [5 6]\n",
            " [7 8]]\n",
            "\n",
            "[[1 2 5 6]\n",
            " [3 4 7 8]]\n"
          ]
        }
      ]
    },
    {
      "cell_type": "markdown",
      "metadata": {
        "id": "zIh9RJjwBOV7"
      },
      "source": [
        "<font size='3'>numpy.split</font>\n",
        "- 배열을 여러 개로 분할해주는 함수\n",
        "- 나누는 방법은 X축, 그리고 Y축을 기준을 나누는 두 가지의 방법이 있으며 numpy.concatenate의 axis와 동일하게 작동 \n",
        "두 번째 파라미터에 숫자 N을 넣으면 배열을 N개의 동일한 크기의 배열들로 나누고 리스트를 넣는다면 리스트 안의 숫자들 번째 인덱스에서 배열을 나눔"
      ]
    },
    {
      "cell_type": "code",
      "metadata": {
        "id": "oV1HankkBOV7",
        "outputId": "ab217a88-aca3-470f-b4bc-874f3885546e"
      },
      "source": [
        "import numpy\n",
        "ar = numpy.array([[1, 2, 3, 4], [5, 6, 7, 8], [9, 10, 11, 12], [13 ,14 ,15, 16]])\n",
        "print(ar)\n",
        "print()\n",
        "splitY = numpy.split(ar, 2, axis = 0) #x축 방향으로 2개로 나눔\n",
        "print(splitY[0])\n",
        "print(splitY[1])\n",
        "print()\n",
        "splitX = numpy.split(ar, [2, 3], axis = 1) #2번째 앞까지 나누고 3번째 앞까지 나누고 나머지\n",
        "print(splitX[0])\n",
        "print(splitX[1])\n",
        "print(splitX[2])"
      ],
      "execution_count": null,
      "outputs": [
        {
          "name": "stdout",
          "output_type": "stream",
          "text": [
            "[[ 1  2  3  4]\n",
            " [ 5  6  7  8]\n",
            " [ 9 10 11 12]\n",
            " [13 14 15 16]]\n",
            "\n",
            "[[1 2 3 4]\n",
            " [5 6 7 8]]\n",
            "[[ 9 10 11 12]\n",
            " [13 14 15 16]]\n",
            "\n",
            "[[ 1  2]\n",
            " [ 5  6]\n",
            " [ 9 10]\n",
            " [13 14]]\n",
            "[[ 3]\n",
            " [ 7]\n",
            " [11]\n",
            " [15]]\n",
            "[[ 4]\n",
            " [ 8]\n",
            " [12]\n",
            " [16]]\n"
          ]
        }
      ]
    },
    {
      "cell_type": "code",
      "metadata": {
        "colab": {
          "base_uri": "https://localhost:8080/"
        },
        "id": "i2IA9MwiBOV7",
        "outputId": "e8aa7c7d-54ab-4309-e830-d26ed20a31a8"
      },
      "source": [
        "import numpy\n",
        "ar = numpy.array([90, 40, 30, 78])\n",
        "ar.sort()\n",
        "print(ar)\n",
        "br = numpy.sort(ar)\n",
        "print(br)\n",
        "\n",
        "ar = numpy.array([[90, 40, 50], [30, 78,27]])\n",
        "ar.sort(axis=0)\n",
        "print(ar)"
      ],
      "execution_count": 42,
      "outputs": [
        {
          "output_type": "stream",
          "name": "stdout",
          "text": [
            "[30 40 78 90]\n",
            "[30 40 78 90]\n",
            "[[30 40 27]\n",
            " [90 78 50]]\n"
          ]
        }
      ]
    },
    {
      "cell_type": "markdown",
      "metadata": {
        "id": "7lqZnXgyPPN9"
      },
      "source": [
        "## 배열의 결합"
      ]
    },
    {
      "cell_type": "code",
      "metadata": {
        "colab": {
          "base_uri": "https://localhost:8080/"
        },
        "id": "v-s2NJDMPT_O",
        "outputId": "38a0d63f-30ef-41f8-daf7-5dfa94c13f70"
      },
      "source": [
        "#hstack: 행의 수가 같은 두 개 이상의 배열을 옆으로 연결하여 열의 수가 더 많은 배열을 생성\n",
        "import numpy\n",
        "a1 = numpy.ones((2, 3))\n",
        "print(a1)\n",
        "print()\n",
        "\n",
        "a2 = numpy.zeros((2, 2))\n",
        "print(a2)\n",
        "print()\n",
        "\n",
        "print(numpy.hstack([a1, a2]))\n"
      ],
      "execution_count": 44,
      "outputs": [
        {
          "output_type": "stream",
          "name": "stdout",
          "text": [
            "[[1. 1. 1.]\n",
            " [1. 1. 1.]]\n",
            "\n",
            "[[0. 0.]\n",
            " [0. 0.]]\n",
            "\n",
            "[[1. 1. 1. 0. 0.]\n",
            " [1. 1. 1. 0. 0.]]\n"
          ]
        }
      ]
    },
    {
      "cell_type": "code",
      "metadata": {
        "colab": {
          "base_uri": "https://localhost:8080/"
        },
        "id": "NICoSwR3PWgv",
        "outputId": "6ae50669-3c34-4efa-f2b0-e89e724ee79e"
      },
      "source": [
        "#vstack: 열의 수가 같은 두 개 이상의 배열을 위아래로 연결하여 행의 수가 더 많은 배열 생성\n",
        "import numpy\n",
        "a1 = numpy.ones((2, 2))\n",
        "print(a1)\n",
        "print()\n",
        "\n",
        "a2 = numpy.zeros((2, 2))\n",
        "print(a2)\n",
        "print()\n",
        "\n",
        "print(numpy.vstack([a1, a2]))\n"
      ],
      "execution_count": 45,
      "outputs": [
        {
          "output_type": "stream",
          "name": "stdout",
          "text": [
            "[[1. 1.]\n",
            " [1. 1.]]\n",
            "\n",
            "[[0. 0.]\n",
            " [0. 0.]]\n",
            "\n",
            "[[1. 1.]\n",
            " [1. 1.]\n",
            " [0. 0.]\n",
            " [0. 0.]]\n"
          ]
        }
      ]
    },
    {
      "cell_type": "code",
      "metadata": {
        "colab": {
          "base_uri": "https://localhost:8080/"
        },
        "id": "gbY5L-WyPaok",
        "outputId": "d7809080-bf8d-4d0d-b46d-e0db14f00434"
      },
      "source": [
        "#dstack\n",
        "\n",
        "import numpy\n",
        "c1 = numpy.array(range(1,13,1))\n",
        "c2 = c1.reshape(3,4)\n",
        "print(c2)\n",
        "print()\n",
        "\n",
        "d1 = numpy.array(range(101,113,1))\n",
        "d2 = d1.reshape(3,4)\n",
        "print(d2)\n",
        "print()\n",
        "\n",
        "print(numpy.dstack([c2, d2]))"
      ],
      "execution_count": 46,
      "outputs": [
        {
          "output_type": "stream",
          "name": "stdout",
          "text": [
            "[[ 1  2  3  4]\n",
            " [ 5  6  7  8]\n",
            " [ 9 10 11 12]]\n",
            "\n",
            "[[101 102 103 104]\n",
            " [105 106 107 108]\n",
            " [109 110 111 112]]\n",
            "\n",
            "[[[  1 101]\n",
            "  [  2 102]\n",
            "  [  3 103]\n",
            "  [  4 104]]\n",
            "\n",
            " [[  5 105]\n",
            "  [  6 106]\n",
            "  [  7 107]\n",
            "  [  8 108]]\n",
            "\n",
            " [[  9 109]\n",
            "  [ 10 110]\n",
            "  [ 11 111]\n",
            "  [ 12 112]]]\n"
          ]
        }
      ]
    },
    {
      "cell_type": "code",
      "metadata": {
        "colab": {
          "base_uri": "https://localhost:8080/"
        },
        "id": "bfCATcvZP42-",
        "outputId": "5d0fa860-bc7c-4c56-d43a-4890c3052150"
      },
      "source": [
        "# stack\n",
        "print(numpy.stack([c2, d2]))"
      ],
      "execution_count": 47,
      "outputs": [
        {
          "output_type": "stream",
          "name": "stdout",
          "text": [
            "[[[  1   2   3   4]\n",
            "  [  5   6   7   8]\n",
            "  [  9  10  11  12]]\n",
            "\n",
            " [[101 102 103 104]\n",
            "  [105 106 107 108]\n",
            "  [109 110 111 112]]]\n"
          ]
        }
      ]
    },
    {
      "cell_type": "code",
      "metadata": {
        "colab": {
          "base_uri": "https://localhost:8080/"
        },
        "id": "PidMdluwQE9N",
        "outputId": "32ef2ef2-03a1-4640-a321-411e8c396b19"
      },
      "source": [
        "print(numpy.stack([c2, d2], axis=1))"
      ],
      "execution_count": 48,
      "outputs": [
        {
          "output_type": "stream",
          "name": "stdout",
          "text": [
            "[[[  1   2   3   4]\n",
            "  [101 102 103 104]]\n",
            "\n",
            " [[  5   6   7   8]\n",
            "  [105 106 107 108]]\n",
            "\n",
            " [[  9  10  11  12]\n",
            "  [109 110 111 112]]]\n"
          ]
        }
      ]
    },
    {
      "cell_type": "code",
      "metadata": {
        "colab": {
          "base_uri": "https://localhost:8080/"
        },
        "id": "1f2LGSEzQwIm",
        "outputId": "1f996cc9-33b5-463f-c0a2-11d0313e0b7d"
      },
      "source": [
        "# r_\n",
        "print(numpy.r_[numpy.array([1, 2, 3]), numpy.array([4, 5, 6])])\n"
      ],
      "execution_count": 49,
      "outputs": [
        {
          "output_type": "stream",
          "name": "stdout",
          "text": [
            "[1 2 3 4 5 6]\n"
          ]
        }
      ]
    },
    {
      "cell_type": "code",
      "metadata": {
        "colab": {
          "base_uri": "https://localhost:8080/"
        },
        "id": "5RsnDumrQ6uL",
        "outputId": "2d1d20b3-6c37-4363-c54f-5f8faed1db82"
      },
      "source": [
        "# c_\n",
        "print(numpy.c_[numpy.array([1, 2, 3]), numpy.array([4, 5, 6])])\n"
      ],
      "execution_count": 50,
      "outputs": [
        {
          "output_type": "stream",
          "name": "stdout",
          "text": [
            "[[1 4]\n",
            " [2 5]\n",
            " [3 6]]\n"
          ]
        }
      ]
    },
    {
      "cell_type": "code",
      "metadata": {
        "colab": {
          "base_uri": "https://localhost:8080/"
        },
        "id": "sBcwEbkcRFHQ",
        "outputId": "c9ef1a8c-f3d1-441a-b951-ce0fbc6b3df6"
      },
      "source": [
        "#tile\n",
        "a = numpy.array([[0, 1, 2], [3, 4, 5]])\n",
        "print(numpy.tile(a, 2))\n",
        "print()\n",
        "print(numpy.tile(a, (3, 2)))"
      ],
      "execution_count": 51,
      "outputs": [
        {
          "output_type": "stream",
          "name": "stdout",
          "text": [
            "[[0 1 2 0 1 2]\n",
            " [3 4 5 3 4 5]]\n",
            "\n",
            "[[0 1 2 0 1 2]\n",
            " [3 4 5 3 4 5]\n",
            " [0 1 2 0 1 2]\n",
            " [3 4 5 3 4 5]\n",
            " [0 1 2 0 1 2]\n",
            " [3 4 5 3 4 5]]\n"
          ]
        }
      ]
    },
    {
      "cell_type": "code",
      "metadata": {
        "id": "JsZO1vaGTL8N"
      },
      "source": [
        ""
      ],
      "execution_count": null,
      "outputs": []
    },
    {
      "cell_type": "markdown",
      "metadata": {
        "id": "FTp5TW3zTQdk"
      },
      "source": [
        "## 배열의 데이터 저장 과 가져오기"
      ]
    },
    {
      "cell_type": "code",
      "metadata": {
        "colab": {
          "base_uri": "https://localhost:8080/"
        },
        "id": "zW2p_ekvTR-w",
        "outputId": "ec5335ee-bc46-41cd-912b-7f9da7ec9868"
      },
      "source": [
        "ar = numpy.array([[0, 1, 2], [3, 4, 5]])\n",
        "#파일로 저장\n",
        "numpy.save('some_array.npy', ar)\n",
        "#파일에서 읽어오기\n",
        "print(numpy.load('some_array.npy'))\n",
        "print()\n",
        "\n",
        "br = numpy.arange(10)\n",
        "numpy.savez('array_archive.npz', ar=ar, br=br)\n",
        "print(numpy.load('array_archive.npz')['br'])"
      ],
      "execution_count": 55,
      "outputs": [
        {
          "output_type": "stream",
          "name": "stdout",
          "text": [
            "[[0 1 2]\n",
            " [3 4 5]]\n",
            "\n",
            "[0 1 2 3 4 5 6 7 8 9]\n"
          ]
        }
      ]
    }
  ]
}