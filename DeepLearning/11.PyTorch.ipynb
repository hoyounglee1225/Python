{
 "cells": [
  {
   "cell_type": "markdown",
   "id": "d2ade891-af03-45b5-9dae-cd26ee8b2795",
   "metadata": {},
   "source": [
    "# PyTorch"
   ]
  },
  {
   "cell_type": "markdown",
   "id": "ae08ea06-7295-4672-b8c1-ce96c90bea5a",
   "metadata": {},
   "source": [
    "## 설치 확인"
   ]
  },
  {
   "cell_type": "code",
   "execution_count": 2,
   "id": "c422ca17-96b4-4198-a479-9a80ca0d3ecd",
   "metadata": {},
   "outputs": [
    {
     "name": "stdout",
     "output_type": "stream",
     "text": [
      "tensor([[0.1326, 0.5426, 0.8211],\n",
      "        [0.9107, 0.6353, 0.7506],\n",
      "        [0.5483, 0.2484, 0.6876],\n",
      "        [0.2200, 0.7198, 0.1005],\n",
      "        [0.2028, 0.8544, 0.5923]])\n"
     ]
    }
   ],
   "source": [
    "import torch\n",
    "x = torch.rand(5, 3)\n",
    "print(x)"
   ]
  },
  {
   "cell_type": "markdown",
   "id": "8fd948c9-27bd-4b46-8df1-b0f91b337488",
   "metadata": {},
   "source": [
    "## 알아야 할 스킬"
   ]
  },
  {
   "cell_type": "markdown",
   "id": "e381ede5-8a4e-41cb-a4b1-e12af8ce4088",
   "metadata": {},
   "source": [
    "### 스칼라"
   ]
  },
  {
   "cell_type": "code",
   "execution_count": 4,
   "id": "18f71040-8487-4f12-8d0d-2fb2e9be265d",
   "metadata": {},
   "outputs": [
    {
     "name": "stdout",
     "output_type": "stream",
     "text": [
      "tensor([1.])\n",
      "tensor([3.])\n",
      "tensor([4.])\n",
      "tensor([4.])\n"
     ]
    }
   ],
   "source": [
    "scalar1 = torch.tensor([1.])\n",
    "print(scalar1)\n",
    "\n",
    "scalar2 = torch.tensor([3.])    \n",
    "print(scalar2)\n",
    "\n",
    "add_scalar = scalar1 + scalar2\n",
    "print(add_scalar)\n",
    "\n",
    "add_scalar = torch.add(scalar1, scalar2)\n",
    "print(add_scalar)"
   ]
  },
  {
   "cell_type": "markdown",
   "id": "06e79f1c-d694-47ab-89db-2e6a24b35536",
   "metadata": {},
   "source": [
    "### 벡터"
   ]
  },
  {
   "cell_type": "code",
   "execution_count": 5,
   "id": "7109ab10-5624-4b26-a8fe-b964f8518eb5",
   "metadata": {},
   "outputs": [
    {
     "name": "stdout",
     "output_type": "stream",
     "text": [
      "tensor([5., 7., 9.])\n",
      "tensor([5., 7., 9.])\n",
      "tensor(32.)\n"
     ]
    }
   ],
   "source": [
    "vector1 = torch.tensor([1., 2., 3.])\n",
    "vector2 = torch.tensor([4., 5., 6.])\n",
    "\n",
    "add_vector = vector1 + vector2\n",
    "print(add_vector)\n",
    "\n",
    "add_vector = torch.add(vector1, vector2)\n",
    "print(add_vector)\n",
    "\n",
    "result = torch.dot(vector1, vector2)\n",
    "print(result) #(1 * 4) +(2 * 5)十(3 * 6) = 4 + 10 + 18"
   ]
  },
  {
   "cell_type": "markdown",
   "id": "a143d0e5-cc69-4ad2-8c9d-6c24054d0f4a",
   "metadata": {},
   "source": [
    "### 행렬"
   ]
  },
  {
   "cell_type": "code",
   "execution_count": 6,
   "id": "28cf7129-af8d-4103-ac97-29dae4e14f69",
   "metadata": {},
   "outputs": [
    {
     "name": "stdout",
     "output_type": "stream",
     "text": [
      "tensor([[ 6.,  8.],\n",
      "        [10., 12.]])\n",
      "tensor([[ 6.,  8.],\n",
      "        [10., 12.]])\n",
      "tensor([[19., 22.],\n",
      "        [43., 50.]])\n"
     ]
    }
   ],
   "source": [
    "matrix1 = torch.tensor([[1., 2.], [3., 4.]])\n",
    "matrix2 = torch.tensor([[5., 6.], [7., 8.]])\n",
    "\n",
    "sum_matrix = matrix1 + matrix2\n",
    "print(sum_matrix)\n",
    "\n",
    "sum_matrix = torch.add(matrix1, matrix2)\n",
    "print(sum_matrix)\n",
    "\n",
    "result = torch.matmul(matrix1, matrix2)\n",
    "print(result)"
   ]
  },
  {
   "cell_type": "markdown",
   "id": "92bbdf32-66a5-44a2-b7a3-15ff0b92af9f",
   "metadata": {},
   "source": [
    "### 텐서"
   ]
  },
  {
   "cell_type": "code",
   "execution_count": 7,
   "id": "c0782307-1b12-4e5b-b2b5-88724aa1fe4e",
   "metadata": {},
   "outputs": [
    {
     "name": "stdout",
     "output_type": "stream",
     "text": [
      "tensor([[[10., 12.],\n",
      "         [14., 16.]],\n",
      "\n",
      "        [[18., 20.],\n",
      "         [22., 24.]]])\n",
      "tensor([[[10., 12.],\n",
      "         [14., 16.]],\n",
      "\n",
      "        [[18., 20.],\n",
      "         [22., 24.]]])\n",
      "tensor([[[ 31.,  34.],\n",
      "         [ 71.,  78.]],\n",
      "\n",
      "        [[155., 166.],\n",
      "         [211., 226.]]])\n"
     ]
    }
   ],
   "source": [
    "tensor1 = torch.tensor([[[1., 2.], [3., 4.]], [[5., 6.], [7., 8.]]])\n",
    "tensor2 = torch.tensor([[[9., 10.], [11., 12.]], [[13., 14.], [15., 16.]]])\n",
    "\n",
    "sum_tensor = tensor1 + tensor2\n",
    "print(sum_tensor)\n",
    "\n",
    "sum_tensor = torch.add(tensor1, tensor2)\n",
    "print(sum_tensor)\n",
    "\n",
    "result = torch.matmul(tensor1, tensor2)\n",
    "print(result)"
   ]
  },
  {
   "cell_type": "markdown",
   "id": "25e0de9c-fb7f-4d16-a593-c7038020645f",
   "metadata": {},
   "source": [
    "## AutoGrad"
   ]
  },
  {
   "cell_type": "code",
   "execution_count": 9,
   "id": "7bc06c2f-7934-4418-8a7f-46c8f8898ca5",
   "metadata": {},
   "outputs": [
    {
     "name": "stdout",
     "output_type": "stream",
     "text": [
      "Iteration:  100 \t Loss:  466.50201416015625\n",
      "Iteration:  200 \t Loss:  2.6096861362457275\n",
      "Iteration:  300 \t Loss:  0.025071628391742706\n",
      "Iteration:  400 \t Loss:  0.00048750650603324175\n",
      "Iteration:  500 \t Loss:  5.5513286497443914e-05\n"
     ]
    }
   ],
   "source": [
    "import torch\n",
    "\n",
    "if torch.cuda.is_available():\n",
    "    DEVICE = torch.device('cuda')\n",
    "else:\n",
    "    DEVICE = torch.device('cpu')\n",
    "\n",
    "BATCH_SIZE = 64\n",
    "INPUT_SIZE = 1000\n",
    "HIDDEN_SIZE = 100\n",
    "OUTPUT_SIZE = 10\n",
    "\n",
    "x = torch.randn(BATCH_SIZE, \n",
    "                INPUT_SIZE, \n",
    "                device = DEVICE, \n",
    "                dtype = torch.float, \n",
    "                requires_grad = False)  \n",
    "\n",
    "y = torch.randn(BATCH_SIZE, \n",
    "                OUTPUT_SIZE, \n",
    "                device = DEVICE,\n",
    "                dtype = torch.float, \n",
    "                requires_grad = False)  \n",
    "\n",
    "w1 = torch.randn(INPUT_SIZE, \n",
    "                 HIDDEN_SIZE, \n",
    "                 device = DEVICE, \n",
    "                 dtype = torch.float,\n",
    "                 requires_grad = True)  \n",
    "\n",
    "w2 = torch.randn(HIDDEN_SIZE,\n",
    "                 OUTPUT_SIZE, \n",
    "                 device = DEVICE,\n",
    "                 dtype = torch.float,\n",
    "                 requires_grad = True)  \n",
    "\n",
    "learning_rate = 1e-6                                           \n",
    "for t in range(1, 501):                                        \n",
    "    y_pred = x.mm(w1).clamp(min = 0).mm(w2)                    \n",
    "\n",
    "    loss = (y_pred - y).pow(2).sum()                          \n",
    "    if t % 100 == 0:\n",
    "        print(\"Iteration: \", t, \"\\t\", \"Loss: \", loss.item()) \n",
    "    loss.backward()                                           \n",
    "\n",
    "    with torch.no_grad():                                      \n",
    "        w1 -= learning_rate * w1.grad                          \n",
    "        w2 -= learning_rate * w2.grad                          \n",
    "\n",
    "        w1.grad.zero_()                                      \n",
    "        w2.grad.zero_()                                      "
   ]
  },
  {
   "cell_type": "markdown",
   "id": "d7dcebd6-ee33-4846-929b-1df279f42443",
   "metadata": {},
   "source": []
  },
  {
   "cell_type": "markdown",
   "id": "cde511b3-9fe2-4b0e-bbef-498b439acd7f",
   "metadata": {},
   "source": [
    "## 사람의 손글씨 데이터인 MNIST를 이용해 Multi Layer Perceptron 설계하기"
   ]
  },
  {
   "cell_type": "markdown",
   "id": "f545dd30-e640-4001-80da-13dc025ea886",
   "metadata": {},
   "source": [
    "### import"
   ]
  },
  {
   "cell_type": "code",
   "execution_count": 11,
   "id": "07c23479-689d-465c-893d-05dda43052d6",
   "metadata": {},
   "outputs": [],
   "source": [
    "import numpy as np\n",
    "import matplotlib.pyplot as plt\n",
    "\n",
    "#딥러닝 프레임워크 중 하나인 파이토치의 기본 모듈\n",
    "import torch\n",
    "#PyTorch Module 중 딥러닝 모델을 설계할 때 필요한 함수를 모아놓은 모듈\n",
    "import torch.nn as nn\n",
    "#torch.nn Module 중에서도 자주 이용되는 함수를 ‘F’로 지정\n",
    "import torch.nn.functional as F\n",
    "#컴퓨터 비전 연구 분야에서 자주 이용하는 ‘torchvision’ 모듈 내 ‘transforms’, ‘datasets’ 함수를 임포트\n",
    "from torchvision import transforms, datasets"
   ]
  },
  {
   "cell_type": "markdown",
   "id": "27190ab1-1a0f-4c17-a243-5bb213a99785",
   "metadata": {},
   "source": [
    "### 장비 확인"
   ]
  },
  {
   "cell_type": "code",
   "execution_count": 12,
   "id": "6a3ac3dc-2e2c-4aae-b5da-3a48b7bf1326",
   "metadata": {},
   "outputs": [
    {
     "name": "stdout",
     "output_type": "stream",
     "text": [
      "Using PyTorch version: 1.9.0  Device: cpu\n"
     ]
    }
   ],
   "source": [
    "if torch.cuda.is_available():\n",
    "    DEVICE = torch.device('cuda')\n",
    "else:\n",
    "    DEVICE = torch.device('cpu')\n",
    "\n",
    "print('Using PyTorch version:', torch.__version__, ' Device:', DEVICE)"
   ]
  },
  {
   "cell_type": "markdown",
   "id": "34c7b934-a2a2-4a32-ba56-4b52785a1946",
   "metadata": {},
   "source": [
    "### 데이터 가져오기"
   ]
  },
  {
   "cell_type": "code",
   "execution_count": 14,
   "id": "5d2c6d17-36cc-4009-a21d-5f7b576e586a",
   "metadata": {},
   "outputs": [],
   "source": [
    "BATCH_SIZE = 32\n",
    "EPOCHS = 10\n",
    "\n",
    "'''  MNIST 데이터 다운로드 (Train set, Test set 분리하기) '''\n",
    "train_dataset = datasets.MNIST(root = \"./data/MNIST\",\n",
    "                               train = True,\n",
    "                               download = True,\n",
    "                               transform = transforms.ToTensor())\n",
    "\n",
    "test_dataset = datasets.MNIST(root = \"./data/MNIST\",\n",
    "                              train = False,\n",
    "                              transform = transforms.ToTensor())\n",
    "\n",
    "train_loader = torch.utils.data.DataLoader(dataset = train_dataset,\n",
    "                                           batch_size = BATCH_SIZE,\n",
    "                                           shuffle = True)\n",
    "\n",
    "test_loader = torch.utils.data.DataLoader(dataset = test_dataset,\n",
    "                                          batch_size = BATCH_SIZE,\n",
    "                                          shuffle = False)"
   ]
  },
  {
   "cell_type": "markdown",
   "id": "021acc64-53e7-4692-a195-6e53c3c5bf8f",
   "metadata": {},
   "source": [
    "### 데이터 확인"
   ]
  },
  {
   "cell_type": "code",
   "execution_count": 15,
   "id": "7d7f8f83-e1d8-4bcb-ba14-c5b005c13b4c",
   "metadata": {},
   "outputs": [
    {
     "name": "stdout",
     "output_type": "stream",
     "text": [
      "X_train: torch.Size([32, 1, 28, 28]) type: torch.FloatTensor\n",
      "y_train: torch.Size([32]) type: torch.LongTensor\n"
     ]
    }
   ],
   "source": [
    "for (X_train, y_train) in train_loader:\n",
    "    print('X_train:', X_train.size(), 'type:', X_train.type())\n",
    "    print('y_train:', y_train.size(), 'type:', y_train.type())\n",
    "    break"
   ]
  },
  {
   "cell_type": "code",
   "execution_count": 16,
   "id": "b372b455-5e94-4748-9efc-a389c415d039",
   "metadata": {},
   "outputs": [
    {
     "data": {
      "image/png": "[encoded data removed]",
      "text/plain": [
       "<Figure size 720x72 with 10 Axes>"
      ]
     },
     "metadata": {
      "needs_background": "light"
     },
     "output_type": "display_data"
    }
   ],
   "source": [
    "pltsize = 1\n",
    "plt.figure(figsize=(10 * pltsize, pltsize))\n",
    "for i in range(10):\n",
    "    plt.subplot(1, 10, i + 1)\n",
    "    plt.axis('off')\n",
    "    plt.imshow(X_train[i, :, :, :].numpy().reshape(28, 28), cmap = \"gray_r\")\n",
    "    plt.title('Class: ' + str(y_train[i].item()))"
   ]
  },
  {
   "cell_type": "markdown",
   "id": "ef2b1a1f-2e38-4ff9-876c-ef57294b93e5",
   "metadata": {},
   "source": [
    "### 모델 설계"
   ]
  },
  {
   "cell_type": "code",
   "execution_count": 17,
   "id": "7a564355-6784-4057-9e09-8bb91503b7ac",
   "metadata": {},
   "outputs": [],
   "source": [
    "class Net(nn.Module):\n",
    "    def __init__(self):\n",
    "        super(Net, self).__init__()\n",
    "        self.fc1 = nn.Linear(28 * 28, 512)\n",
    "        self.fc2 = nn.Linear(512, 256)\n",
    "        self.fc3 = nn.Linear(256, 10)\n",
    "\n",
    "    def forward(self, x):\n",
    "        x = x.view(-1, 28 * 28)\n",
    "        x = self.fc1(x)\n",
    "        x = F.sigmoid(x)\n",
    "        x = self.fc2(x)\n",
    "        x = F.sigmoid(x)\n",
    "        x = self.fc3(x)\n",
    "        x = F.log_softmax(x, dim = 1)\n",
    "        return x"
   ]
  },
  {
   "cell_type": "markdown",
   "id": "c94bb387-d3e9-468c-a189-855811db9f67",
   "metadata": {},
   "source": [
    "### Optimizer, Objective Function 설정"
   ]
  },
  {
   "cell_type": "code",
   "execution_count": 18,
   "id": "73881074-8bdc-4122-bb0c-1685110ea3b4",
   "metadata": {},
   "outputs": [
    {
     "name": "stdout",
     "output_type": "stream",
     "text": [
      "Net(\n",
      "  (fc1): Linear(in_features=784, out_features=512, bias=True)\n",
      "  (fc2): Linear(in_features=512, out_features=256, bias=True)\n",
      "  (fc3): Linear(in_features=256, out_features=10, bias=True)\n",
      ")\n"
     ]
    }
   ],
   "source": [
    "model = Net().to(DEVICE)\n",
    "optimizer = torch.optim.SGD(model.parameters(), lr = 0.01, momentum = 0.5)\n",
    "criterion = nn.CrossEntropyLoss()\n",
    "\n",
    "print(model)"
   ]
  },
  {
   "cell_type": "markdown",
   "id": "b04e2f2f-4fdb-43a9-8d31-62d8abdc83f8",
   "metadata": {},
   "source": [
    "### MLP 모델 학습을 진행하며 학습 데이터에 대한 모델 성능을 확인하는 함수 정의 "
   ]
  },
  {
   "cell_type": "code",
   "execution_count": 19,
   "id": "dba14489-ad19-4cd5-aaa1-793229dd4689",
   "metadata": {},
   "outputs": [],
   "source": [
    "def train(model, train_loader, optimizer, log_interval):\n",
    "    model.train()\n",
    "    for batch_idx, (image, label) in enumerate(train_loader):\n",
    "        image = image.to(DEVICE)\n",
    "        label = label.to(DEVICE)\n",
    "        optimizer.zero_grad()\n",
    "        output = model(image)\n",
    "        loss = criterion(output, label)\n",
    "        loss.backward()\n",
    "        optimizer.step()\n",
    "\n",
    "        if batch_idx % log_interval == 0:\n",
    "            print(\"Train Epoch: {} [{}/{} ({:.0f}%)]\\tTrain Loss: {:.6f}\".format(\n",
    "                epoch, batch_idx * len(image), \n",
    "                len(train_loader.dataset), 100. * batch_idx / len(train_loader), \n",
    "                loss.item()))"
   ]
  },
  {
   "cell_type": "markdown",
   "id": "dbae9c84-9736-42c2-afb7-0b0b33a72b83",
   "metadata": {},
   "source": [
    "### 학습되는 과정 속에서 검증 데이터에 대한 모델 성능을 확인하는 함수 정의"
   ]
  },
  {
   "cell_type": "code",
   "execution_count": 20,
   "id": "b5294217-1a61-4c39-8f6d-cdfdb603fdc8",
   "metadata": {},
   "outputs": [],
   "source": [
    "def evaluate(model, test_loader):\n",
    "    model.eval()\n",
    "    test_loss = 0\n",
    "    correct = 0\n",
    "\n",
    "    with torch.no_grad():\n",
    "        for image, label in test_loader:\n",
    "            image = image.to(DEVICE)\n",
    "            label = label.to(DEVICE)\n",
    "            output = model(image)\n",
    "            test_loss += criterion(output, label).item()\n",
    "            prediction = output.max(1, keepdim = True)[1]\n",
    "            correct += prediction.eq(label.view_as(prediction)).sum().item()\n",
    "    \n",
    "    test_loss /= len(test_loader.dataset)\n",
    "    test_accuracy = 100. * correct / len(test_loader.dataset)\n",
    "    return test_loss, test_accuracy"
   ]
  },
  {
   "cell_type": "markdown",
   "id": "b342f3eb-1b9b-4e2e-96db-86e70fdbc185",
   "metadata": {},
   "source": [
    "### MLP 학습 실행하며 Train, Test set의 Loss 및 Test set Accuracy 확인하기"
   ]
  },
  {
   "cell_type": "code",
   "execution_count": 21,
   "id": "68175812-b5ae-4426-9746-591a95f4d2f6",
   "metadata": {},
   "outputs": [
    {
     "name": "stderr",
     "output_type": "stream",
     "text": [
      "/Users/adam/opt/anaconda3/lib/python3.8/site-packages/torch/nn/functional.py:1805: UserWarning: nn.functional.sigmoid is deprecated. Use torch.sigmoid instead.\n",
      "  warnings.warn(\"nn.functional.sigmoid is deprecated. Use torch.sigmoid instead.\")\n"
     ]
    },
    {
     "name": "stdout",
     "output_type": "stream",
     "text": [
      "Train Epoch: 1 [0/60000 (0%)]\tTrain Loss: 2.362509\n",
      "Train Epoch: 1 [6400/60000 (11%)]\tTrain Loss: 2.301513\n",
      "Train Epoch: 1 [12800/60000 (21%)]\tTrain Loss: 2.306078\n",
      "Train Epoch: 1 [19200/60000 (32%)]\tTrain Loss: 2.284310\n",
      "Train Epoch: 1 [25600/60000 (43%)]\tTrain Loss: 2.254467\n",
      "Train Epoch: 1 [32000/60000 (53%)]\tTrain Loss: 2.341054\n",
      "Train Epoch: 1 [38400/60000 (64%)]\tTrain Loss: 2.249018\n",
      "Train Epoch: 1 [44800/60000 (75%)]\tTrain Loss: 2.269433\n",
      "Train Epoch: 1 [51200/60000 (85%)]\tTrain Loss: 2.270044\n",
      "Train Epoch: 1 [57600/60000 (96%)]\tTrain Loss: 2.285470\n",
      "\n",
      "[EPOCH: 1], \tTest Loss: 0.0699, \tTest Accuracy: 19.09 % \n",
      "\n",
      "Train Epoch: 2 [0/60000 (0%)]\tTrain Loss: 2.236102\n",
      "Train Epoch: 2 [6400/60000 (11%)]\tTrain Loss: 2.203509\n",
      "Train Epoch: 2 [12800/60000 (21%)]\tTrain Loss: 2.190075\n",
      "Train Epoch: 2 [19200/60000 (32%)]\tTrain Loss: 2.113278\n",
      "Train Epoch: 2 [25600/60000 (43%)]\tTrain Loss: 2.036448\n",
      "Train Epoch: 2 [32000/60000 (53%)]\tTrain Loss: 1.752476\n",
      "Train Epoch: 2 [38400/60000 (64%)]\tTrain Loss: 1.818949\n",
      "Train Epoch: 2 [44800/60000 (75%)]\tTrain Loss: 1.574247\n",
      "Train Epoch: 2 [51200/60000 (85%)]\tTrain Loss: 1.470403\n",
      "Train Epoch: 2 [57600/60000 (96%)]\tTrain Loss: 1.416276\n",
      "\n",
      "[EPOCH: 2], \tTest Loss: 0.0412, \tTest Accuracy: 57.52 % \n",
      "\n",
      "Train Epoch: 3 [0/60000 (0%)]\tTrain Loss: 1.347609\n",
      "Train Epoch: 3 [6400/60000 (11%)]\tTrain Loss: 1.180214\n",
      "Train Epoch: 3 [12800/60000 (21%)]\tTrain Loss: 1.133158\n",
      "Train Epoch: 3 [19200/60000 (32%)]\tTrain Loss: 0.956358\n",
      "Train Epoch: 3 [25600/60000 (43%)]\tTrain Loss: 0.939475\n",
      "Train Epoch: 3 [32000/60000 (53%)]\tTrain Loss: 0.946796\n",
      "Train Epoch: 3 [38400/60000 (64%)]\tTrain Loss: 0.766571\n",
      "Train Epoch: 3 [44800/60000 (75%)]\tTrain Loss: 0.952336\n",
      "Train Epoch: 3 [51200/60000 (85%)]\tTrain Loss: 0.858876\n",
      "Train Epoch: 3 [57600/60000 (96%)]\tTrain Loss: 1.000415\n",
      "\n",
      "[EPOCH: 3], \tTest Loss: 0.0234, \tTest Accuracy: 77.55 % \n",
      "\n",
      "Train Epoch: 4 [0/60000 (0%)]\tTrain Loss: 0.844288\n",
      "Train Epoch: 4 [6400/60000 (11%)]\tTrain Loss: 0.598510\n",
      "Train Epoch: 4 [12800/60000 (21%)]\tTrain Loss: 0.554054\n",
      "Train Epoch: 4 [19200/60000 (32%)]\tTrain Loss: 0.841375\n",
      "Train Epoch: 4 [25600/60000 (43%)]\tTrain Loss: 0.992189\n",
      "Train Epoch: 4 [32000/60000 (53%)]\tTrain Loss: 0.582390\n",
      "Train Epoch: 4 [38400/60000 (64%)]\tTrain Loss: 0.586975\n",
      "Train Epoch: 4 [44800/60000 (75%)]\tTrain Loss: 0.598813\n",
      "Train Epoch: 4 [51200/60000 (85%)]\tTrain Loss: 0.688167\n",
      "Train Epoch: 4 [57600/60000 (96%)]\tTrain Loss: 0.550801\n",
      "\n",
      "[EPOCH: 4], \tTest Loss: 0.0174, \tTest Accuracy: 83.81 % \n",
      "\n",
      "Train Epoch: 5 [0/60000 (0%)]\tTrain Loss: 0.593958\n",
      "Train Epoch: 5 [6400/60000 (11%)]\tTrain Loss: 0.750736\n",
      "Train Epoch: 5 [12800/60000 (21%)]\tTrain Loss: 0.414985\n",
      "Train Epoch: 5 [19200/60000 (32%)]\tTrain Loss: 0.736941\n",
      "Train Epoch: 5 [25600/60000 (43%)]\tTrain Loss: 0.595543\n",
      "Train Epoch: 5 [32000/60000 (53%)]\tTrain Loss: 0.588800\n",
      "Train Epoch: 5 [38400/60000 (64%)]\tTrain Loss: 0.743296\n",
      "Train Epoch: 5 [44800/60000 (75%)]\tTrain Loss: 0.545482\n",
      "Train Epoch: 5 [51200/60000 (85%)]\tTrain Loss: 0.255854\n",
      "Train Epoch: 5 [57600/60000 (96%)]\tTrain Loss: 0.726016\n",
      "\n",
      "[EPOCH: 5], \tTest Loss: 0.0143, \tTest Accuracy: 86.65 % \n",
      "\n",
      "Train Epoch: 6 [0/60000 (0%)]\tTrain Loss: 0.314058\n",
      "Train Epoch: 6 [6400/60000 (11%)]\tTrain Loss: 0.560602\n",
      "Train Epoch: 6 [12800/60000 (21%)]\tTrain Loss: 0.216288\n",
      "Train Epoch: 6 [19200/60000 (32%)]\tTrain Loss: 0.420432\n",
      "Train Epoch: 6 [25600/60000 (43%)]\tTrain Loss: 0.316799\n",
      "Train Epoch: 6 [32000/60000 (53%)]\tTrain Loss: 0.478418\n",
      "Train Epoch: 6 [38400/60000 (64%)]\tTrain Loss: 0.387259\n",
      "Train Epoch: 6 [44800/60000 (75%)]\tTrain Loss: 0.865708\n",
      "Train Epoch: 6 [51200/60000 (85%)]\tTrain Loss: 0.423128\n",
      "Train Epoch: 6 [57600/60000 (96%)]\tTrain Loss: 0.559788\n",
      "\n",
      "[EPOCH: 6], \tTest Loss: 0.0127, \tTest Accuracy: 88.02 % \n",
      "\n",
      "Train Epoch: 7 [0/60000 (0%)]\tTrain Loss: 0.508837\n",
      "Train Epoch: 7 [6400/60000 (11%)]\tTrain Loss: 0.722708\n",
      "Train Epoch: 7 [12800/60000 (21%)]\tTrain Loss: 0.390632\n",
      "Train Epoch: 7 [19200/60000 (32%)]\tTrain Loss: 0.283712\n",
      "Train Epoch: 7 [25600/60000 (43%)]\tTrain Loss: 0.342000\n",
      "Train Epoch: 7 [32000/60000 (53%)]\tTrain Loss: 0.389088\n",
      "Train Epoch: 7 [38400/60000 (64%)]\tTrain Loss: 0.387545\n",
      "Train Epoch: 7 [44800/60000 (75%)]\tTrain Loss: 0.190941\n",
      "Train Epoch: 7 [51200/60000 (85%)]\tTrain Loss: 0.448617\n",
      "Train Epoch: 7 [57600/60000 (96%)]\tTrain Loss: 0.367021\n",
      "\n",
      "[EPOCH: 7], \tTest Loss: 0.0118, \tTest Accuracy: 88.96 % \n",
      "\n",
      "Train Epoch: 8 [0/60000 (0%)]\tTrain Loss: 0.359735\n",
      "Train Epoch: 8 [6400/60000 (11%)]\tTrain Loss: 0.445426\n",
      "Train Epoch: 8 [12800/60000 (21%)]\tTrain Loss: 0.210686\n",
      "Train Epoch: 8 [19200/60000 (32%)]\tTrain Loss: 0.260715\n",
      "Train Epoch: 8 [25600/60000 (43%)]\tTrain Loss: 0.705008\n",
      "Train Epoch: 8 [32000/60000 (53%)]\tTrain Loss: 0.408688\n",
      "Train Epoch: 8 [38400/60000 (64%)]\tTrain Loss: 0.996557\n",
      "Train Epoch: 8 [44800/60000 (75%)]\tTrain Loss: 0.755987\n",
      "Train Epoch: 8 [51200/60000 (85%)]\tTrain Loss: 0.184405\n",
      "Train Epoch: 8 [57600/60000 (96%)]\tTrain Loss: 0.140958\n",
      "\n",
      "[EPOCH: 8], \tTest Loss: 0.0113, \tTest Accuracy: 89.48 % \n",
      "\n",
      "Train Epoch: 9 [0/60000 (0%)]\tTrain Loss: 0.303964\n",
      "Train Epoch: 9 [6400/60000 (11%)]\tTrain Loss: 0.443505\n",
      "Train Epoch: 9 [12800/60000 (21%)]\tTrain Loss: 0.697022\n",
      "Train Epoch: 9 [19200/60000 (32%)]\tTrain Loss: 0.464722\n",
      "Train Epoch: 9 [25600/60000 (43%)]\tTrain Loss: 0.423793\n",
      "Train Epoch: 9 [32000/60000 (53%)]\tTrain Loss: 0.460786\n",
      "Train Epoch: 9 [38400/60000 (64%)]\tTrain Loss: 0.325596\n",
      "Train Epoch: 9 [44800/60000 (75%)]\tTrain Loss: 0.294977\n",
      "Train Epoch: 9 [51200/60000 (85%)]\tTrain Loss: 0.396935\n",
      "Train Epoch: 9 [57600/60000 (96%)]\tTrain Loss: 0.538988\n",
      "\n",
      "[EPOCH: 9], \tTest Loss: 0.0108, \tTest Accuracy: 90.06 % \n",
      "\n",
      "Train Epoch: 10 [0/60000 (0%)]\tTrain Loss: 0.204947\n",
      "Train Epoch: 10 [6400/60000 (11%)]\tTrain Loss: 0.390840\n",
      "Train Epoch: 10 [12800/60000 (21%)]\tTrain Loss: 0.383030\n",
      "Train Epoch: 10 [19200/60000 (32%)]\tTrain Loss: 0.281220\n",
      "Train Epoch: 10 [25600/60000 (43%)]\tTrain Loss: 0.637263\n",
      "Train Epoch: 10 [32000/60000 (53%)]\tTrain Loss: 0.417869\n",
      "Train Epoch: 10 [38400/60000 (64%)]\tTrain Loss: 0.259930\n",
      "Train Epoch: 10 [44800/60000 (75%)]\tTrain Loss: 0.314333\n",
      "Train Epoch: 10 [51200/60000 (85%)]\tTrain Loss: 0.189236\n",
      "Train Epoch: 10 [57600/60000 (96%)]\tTrain Loss: 0.958062\n",
      "\n",
      "[EPOCH: 10], \tTest Loss: 0.0104, \tTest Accuracy: 90.34 % \n",
      "\n"
     ]
    }
   ],
   "source": [
    "for epoch in range(1, EPOCHS + 1):\n",
    "    train(model, train_loader, optimizer, log_interval = 200)\n",
    "    test_loss, test_accuracy = evaluate(model, test_loader)\n",
    "    print(\"\\n[EPOCH: {}], \\tTest Loss: {:.4f}, \\tTest Accuracy: {:.2f} % \\n\".format(\n",
    "        epoch, test_loss, test_accuracy))"
   ]
  },
  {
   "cell_type": "code",
   "execution_count": null,
   "id": "90ec1cda-63bf-45aa-8ac1-57a2d3a953e0",
   "metadata": {},
   "outputs": [],
   "source": []
  }
 ],
 "metadata": {
  "kernelspec": {
   "display_name": "Python 3",
   "language": "python",
   "name": "python3"
  },
  "language_info": {
   "codemirror_mode": {
    "name": "ipython",
    "version": 3
   },
   "file_extension": ".py",
   "mimetype": "text/x-python",
   "name": "python",
   "nbconvert_exporter": "python",
   "pygments_lexer": "ipython3",
   "version": "3.8.8"
  }
 },
 "nbformat": 4,
 "nbformat_minor": 5
}
